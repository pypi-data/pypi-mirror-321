{
 "cells": [
  {
   "cell_type": "markdown",
   "metadata": {},
   "source": [
    "# 1. Quickstart"
   ]
  },
  {
   "cell_type": "markdown",
   "metadata": {},
   "source": [
    "## a) Instantiate Patched Client"
   ]
  },
  {
   "cell_type": "code",
   "execution_count": 1,
   "metadata": {},
   "outputs": [],
   "source": [
    "from rich.console import Console\n",
    "console = Console()\n",
    "\n",
    "import os\n",
    "# Replace this with your OpenAI API key if you want to use it\n",
    "if os.environ.get(\"OPENAI_API_KEY\") is None:\n",
    "    os.environ[\"OPENAI_API_KEY\"] = \"\"\n",
    "\n",
    "# Load and patch openai\n",
    "from openai import OpenAI\n",
    "openai_client = OpenAI()\n",
    "\n",
    "from gai.openai.patch import patch_chatcompletions\n",
    "openai_client = patch_chatcompletions(openai_client,file_path=\"../gai-data/src/gai/data/gai.localhost.yml\")\n",
    "\n",
    "import json\n"
   ]
  },
  {
   "cell_type": "markdown",
   "metadata": {},
   "source": [
    "---\n",
    "\n",
    "## b) Generate Completions"
   ]
  },
  {
   "cell_type": "markdown",
   "metadata": {},
   "source": [
    "### i) OpenAI"
   ]
  },
  {
   "cell_type": "code",
   "execution_count": 2,
   "metadata": {},
   "outputs": [
    {
     "data": {
      "text/html": [
       "<pre style=\"white-space:pre;overflow-x:auto;line-height:normal;font-family:Menlo,'DejaVu Sans Mono',consolas,'Courier New',monospace\"><span style=\"color: #ffff00; text-decoration-color: #ffff00\">Use GPT-4o create:</span>\n",
       "</pre>\n"
      ],
      "text/plain": [
       "\u001b[93mUse GPT-4o create:\u001b[0m\n"
      ]
     },
     "metadata": {},
     "output_type": "display_data"
    },
    {
     "data": {
      "text/html": [
       "<pre style=\"white-space:pre;overflow-x:auto;line-height:normal;font-family:Menlo,'DejaVu Sans Mono',consolas,'Courier New',monospace\"><span style=\"color: #c0c0c0; text-decoration-color: #c0c0c0; font-weight: bold\">ChatCompletion(</span><span style=\"color: #c0c0c0; text-decoration-color: #c0c0c0\">id</span><span style=\"color: #c0c0c0; text-decoration-color: #c0c0c0\">=</span><span style=\"color: #c0c0c0; text-decoration-color: #c0c0c0\">'chatcmpl-Aq6FtQLYTzsjmvJoLnyLse7rKsVmJ'</span><span style=\"color: #c0c0c0; text-decoration-color: #c0c0c0\">, </span><span style=\"color: #c0c0c0; text-decoration-color: #c0c0c0\">choices</span><span style=\"color: #c0c0c0; text-decoration-color: #c0c0c0\">=</span><span style=\"color: #c0c0c0; text-decoration-color: #c0c0c0; font-weight: bold\">[Choice(</span><span style=\"color: #c0c0c0; text-decoration-color: #c0c0c0\">finish_reason</span><span style=\"color: #c0c0c0; text-decoration-color: #c0c0c0\">=</span><span style=\"color: #c0c0c0; text-decoration-color: #c0c0c0\">'stop'</span><span style=\"color: #c0c0c0; text-decoration-color: #c0c0c0\">, </span><span style=\"color: #c0c0c0; text-decoration-color: #c0c0c0\">index</span><span style=\"color: #c0c0c0; text-decoration-color: #c0c0c0\">=</span><span style=\"color: #c0c0c0; text-decoration-color: #c0c0c0; font-weight: bold\">0</span><span style=\"color: #c0c0c0; text-decoration-color: #c0c0c0\">, </span>\n",
       "<span style=\"color: #c0c0c0; text-decoration-color: #c0c0c0\">logprobs</span><span style=\"color: #c0c0c0; text-decoration-color: #c0c0c0\">=</span><span style=\"color: #c0c0c0; text-decoration-color: #c0c0c0; font-style: italic\">None</span><span style=\"color: #c0c0c0; text-decoration-color: #c0c0c0\">, </span><span style=\"color: #c0c0c0; text-decoration-color: #c0c0c0\">message</span><span style=\"color: #c0c0c0; text-decoration-color: #c0c0c0\">=</span><span style=\"color: #c0c0c0; text-decoration-color: #c0c0c0; font-weight: bold\">ChatCompletionMessage</span><span style=\"color: #c0c0c0; text-decoration-color: #c0c0c0; font-weight: bold\">(</span><span style=\"color: #c0c0c0; text-decoration-color: #c0c0c0\">content</span><span style=\"color: #c0c0c0; text-decoration-color: #c0c0c0\">=</span><span style=\"color: #c0c0c0; text-decoration-color: #c0c0c0\">'Under the canopy of twinkling stars, the last dragon </span>\n",
       "<span style=\"color: #c0c0c0; text-decoration-color: #c0c0c0\">whispered its ancient secrets to the curious child who believed in magic.'</span><span style=\"color: #c0c0c0; text-decoration-color: #c0c0c0\">, </span><span style=\"color: #c0c0c0; text-decoration-color: #c0c0c0\">refusal</span><span style=\"color: #c0c0c0; text-decoration-color: #c0c0c0\">=</span><span style=\"color: #c0c0c0; text-decoration-color: #c0c0c0; font-style: italic\">None</span><span style=\"color: #c0c0c0; text-decoration-color: #c0c0c0\">, </span><span style=\"color: #c0c0c0; text-decoration-color: #c0c0c0\">role</span><span style=\"color: #c0c0c0; text-decoration-color: #c0c0c0\">=</span><span style=\"color: #c0c0c0; text-decoration-color: #c0c0c0\">'assistant'</span><span style=\"color: #c0c0c0; text-decoration-color: #c0c0c0\">, </span>\n",
       "<span style=\"color: #c0c0c0; text-decoration-color: #c0c0c0\">function_call</span><span style=\"color: #c0c0c0; text-decoration-color: #c0c0c0\">=</span><span style=\"color: #c0c0c0; text-decoration-color: #c0c0c0; font-style: italic\">None</span><span style=\"color: #c0c0c0; text-decoration-color: #c0c0c0\">, </span><span style=\"color: #c0c0c0; text-decoration-color: #c0c0c0\">tool_calls</span><span style=\"color: #c0c0c0; text-decoration-color: #c0c0c0\">=</span><span style=\"color: #c0c0c0; text-decoration-color: #c0c0c0; font-style: italic\">None</span><span style=\"color: #c0c0c0; text-decoration-color: #c0c0c0; font-weight: bold\">))]</span><span style=\"color: #c0c0c0; text-decoration-color: #c0c0c0\">, </span><span style=\"color: #c0c0c0; text-decoration-color: #c0c0c0\">created</span><span style=\"color: #c0c0c0; text-decoration-color: #c0c0c0\">=</span><span style=\"color: #c0c0c0; text-decoration-color: #c0c0c0; font-weight: bold\">1736980465</span><span style=\"color: #c0c0c0; text-decoration-color: #c0c0c0\">, </span><span style=\"color: #c0c0c0; text-decoration-color: #c0c0c0\">model</span><span style=\"color: #c0c0c0; text-decoration-color: #c0c0c0\">=</span><span style=\"color: #c0c0c0; text-decoration-color: #c0c0c0\">'gpt-4o-2024-08-06'</span><span style=\"color: #c0c0c0; text-decoration-color: #c0c0c0\">, </span><span style=\"color: #c0c0c0; text-decoration-color: #c0c0c0\">object</span><span style=\"color: #c0c0c0; text-decoration-color: #c0c0c0\">=</span><span style=\"color: #c0c0c0; text-decoration-color: #c0c0c0\">'chat.completion'</span><span style=\"color: #c0c0c0; text-decoration-color: #c0c0c0\">, </span>\n",
       "<span style=\"color: #c0c0c0; text-decoration-color: #c0c0c0\">service_tier</span><span style=\"color: #c0c0c0; text-decoration-color: #c0c0c0\">=</span><span style=\"color: #c0c0c0; text-decoration-color: #c0c0c0\">'default'</span><span style=\"color: #c0c0c0; text-decoration-color: #c0c0c0\">, </span><span style=\"color: #c0c0c0; text-decoration-color: #c0c0c0\">system_fingerprint</span><span style=\"color: #c0c0c0; text-decoration-color: #c0c0c0\">=</span><span style=\"color: #c0c0c0; text-decoration-color: #c0c0c0\">'fp_4691090a87'</span><span style=\"color: #c0c0c0; text-decoration-color: #c0c0c0\">, </span><span style=\"color: #c0c0c0; text-decoration-color: #c0c0c0\">usage</span><span style=\"color: #c0c0c0; text-decoration-color: #c0c0c0\">=</span><span style=\"color: #c0c0c0; text-decoration-color: #c0c0c0; font-weight: bold\">CompletionUsage</span><span style=\"color: #c0c0c0; text-decoration-color: #c0c0c0; font-weight: bold\">(</span><span style=\"color: #c0c0c0; text-decoration-color: #c0c0c0\">completion_tokens</span><span style=\"color: #c0c0c0; text-decoration-color: #c0c0c0\">=</span><span style=\"color: #c0c0c0; text-decoration-color: #c0c0c0; font-weight: bold\">26</span><span style=\"color: #c0c0c0; text-decoration-color: #c0c0c0\">, </span>\n",
       "<span style=\"color: #c0c0c0; text-decoration-color: #c0c0c0\">prompt_tokens</span><span style=\"color: #c0c0c0; text-decoration-color: #c0c0c0\">=</span><span style=\"color: #c0c0c0; text-decoration-color: #c0c0c0; font-weight: bold\">13</span><span style=\"color: #c0c0c0; text-decoration-color: #c0c0c0\">, </span><span style=\"color: #c0c0c0; text-decoration-color: #c0c0c0\">total_tokens</span><span style=\"color: #c0c0c0; text-decoration-color: #c0c0c0\">=</span><span style=\"color: #c0c0c0; text-decoration-color: #c0c0c0; font-weight: bold\">39</span><span style=\"color: #c0c0c0; text-decoration-color: #c0c0c0\">, </span><span style=\"color: #c0c0c0; text-decoration-color: #c0c0c0\">prompt_tokens_details</span><span style=\"color: #c0c0c0; text-decoration-color: #c0c0c0\">=</span><span style=\"color: #c0c0c0; text-decoration-color: #c0c0c0; font-weight: bold\">{</span><span style=\"color: #c0c0c0; text-decoration-color: #c0c0c0\">'cached_tokens'</span><span style=\"color: #c0c0c0; text-decoration-color: #c0c0c0\">: </span><span style=\"color: #c0c0c0; text-decoration-color: #c0c0c0; font-weight: bold\">0</span><span style=\"color: #c0c0c0; text-decoration-color: #c0c0c0\">, </span><span style=\"color: #c0c0c0; text-decoration-color: #c0c0c0\">'audio_tokens'</span><span style=\"color: #c0c0c0; text-decoration-color: #c0c0c0\">: </span><span style=\"color: #c0c0c0; text-decoration-color: #c0c0c0; font-weight: bold\">0</span><span style=\"color: #c0c0c0; text-decoration-color: #c0c0c0; font-weight: bold\">}</span><span style=\"color: #c0c0c0; text-decoration-color: #c0c0c0\">, </span>\n",
       "<span style=\"color: #c0c0c0; text-decoration-color: #c0c0c0\">completion_tokens_details</span><span style=\"color: #c0c0c0; text-decoration-color: #c0c0c0\">=</span><span style=\"color: #c0c0c0; text-decoration-color: #c0c0c0; font-weight: bold\">{</span><span style=\"color: #c0c0c0; text-decoration-color: #c0c0c0\">'reasoning_tokens'</span><span style=\"color: #c0c0c0; text-decoration-color: #c0c0c0\">: </span><span style=\"color: #c0c0c0; text-decoration-color: #c0c0c0; font-weight: bold\">0</span><span style=\"color: #c0c0c0; text-decoration-color: #c0c0c0\">, </span><span style=\"color: #c0c0c0; text-decoration-color: #c0c0c0\">'audio_tokens'</span><span style=\"color: #c0c0c0; text-decoration-color: #c0c0c0\">: </span><span style=\"color: #c0c0c0; text-decoration-color: #c0c0c0; font-weight: bold\">0</span><span style=\"color: #c0c0c0; text-decoration-color: #c0c0c0\">, </span><span style=\"color: #c0c0c0; text-decoration-color: #c0c0c0\">'accepted_prediction_tokens'</span><span style=\"color: #c0c0c0; text-decoration-color: #c0c0c0\">: </span><span style=\"color: #c0c0c0; text-decoration-color: #c0c0c0; font-weight: bold\">0</span><span style=\"color: #c0c0c0; text-decoration-color: #c0c0c0\">, </span>\n",
       "<span style=\"color: #c0c0c0; text-decoration-color: #c0c0c0\">'rejected_prediction_tokens'</span><span style=\"color: #c0c0c0; text-decoration-color: #c0c0c0\">: </span><span style=\"color: #c0c0c0; text-decoration-color: #c0c0c0; font-weight: bold\">0</span><span style=\"color: #c0c0c0; text-decoration-color: #c0c0c0; font-weight: bold\">})</span><span style=\"color: #c0c0c0; text-decoration-color: #c0c0c0\">, </span><span style=\"color: #c0c0c0; text-decoration-color: #c0c0c0\">extract</span><span style=\"color: #c0c0c0; text-decoration-color: #c0c0c0\">=</span><span style=\"color: #c0c0c0; text-decoration-color: #c0c0c0; font-weight: bold\">&lt;function</span><span style=\"color: #c0c0c0; text-decoration-color: #c0c0c0\"> attach_extractor.&lt;locals&gt;.&lt;lambda&gt; at </span><span style=\"color: #c0c0c0; text-decoration-color: #c0c0c0; font-weight: bold\">0x7ff29be48280</span><span style=\"color: #c0c0c0; text-decoration-color: #c0c0c0; font-weight: bold\">&gt;)</span>\n",
       "</pre>\n"
      ],
      "text/plain": [
       "\u001b[1;37mChatCompletion\u001b[0m\u001b[1;37m(\u001b[0m\u001b[37mid\u001b[0m\u001b[37m=\u001b[0m\u001b[37m'chatcmpl-Aq6FtQLYTzsjmvJoLnyLse7rKsVmJ'\u001b[0m\u001b[37m, \u001b[0m\u001b[37mchoices\u001b[0m\u001b[37m=\u001b[0m\u001b[1;37m[\u001b[0m\u001b[1;37mChoice\u001b[0m\u001b[1;37m(\u001b[0m\u001b[37mfinish_reason\u001b[0m\u001b[37m=\u001b[0m\u001b[37m'stop'\u001b[0m\u001b[37m, \u001b[0m\u001b[37mindex\u001b[0m\u001b[37m=\u001b[0m\u001b[1;37m0\u001b[0m\u001b[37m, \u001b[0m\n",
       "\u001b[37mlogprobs\u001b[0m\u001b[37m=\u001b[0m\u001b[3;37mNone\u001b[0m\u001b[37m, \u001b[0m\u001b[37mmessage\u001b[0m\u001b[37m=\u001b[0m\u001b[1;37mChatCompletionMessage\u001b[0m\u001b[1;37m(\u001b[0m\u001b[37mcontent\u001b[0m\u001b[37m=\u001b[0m\u001b[37m'Under the canopy of twinkling stars, the last dragon \u001b[0m\n",
       "\u001b[37mwhispered its ancient secrets to the curious child who believed in magic.'\u001b[0m\u001b[37m, \u001b[0m\u001b[37mrefusal\u001b[0m\u001b[37m=\u001b[0m\u001b[3;37mNone\u001b[0m\u001b[37m, \u001b[0m\u001b[37mrole\u001b[0m\u001b[37m=\u001b[0m\u001b[37m'assistant'\u001b[0m\u001b[37m, \u001b[0m\n",
       "\u001b[37mfunction_call\u001b[0m\u001b[37m=\u001b[0m\u001b[3;37mNone\u001b[0m\u001b[37m, \u001b[0m\u001b[37mtool_calls\u001b[0m\u001b[37m=\u001b[0m\u001b[3;37mNone\u001b[0m\u001b[1;37m)\u001b[0m\u001b[1;37m)\u001b[0m\u001b[1;37m]\u001b[0m\u001b[37m, \u001b[0m\u001b[37mcreated\u001b[0m\u001b[37m=\u001b[0m\u001b[1;37m1736980465\u001b[0m\u001b[37m, \u001b[0m\u001b[37mmodel\u001b[0m\u001b[37m=\u001b[0m\u001b[37m'gpt-4o-2024-08-06'\u001b[0m\u001b[37m, \u001b[0m\u001b[37mobject\u001b[0m\u001b[37m=\u001b[0m\u001b[37m'chat.completion'\u001b[0m\u001b[37m, \u001b[0m\n",
       "\u001b[37mservice_tier\u001b[0m\u001b[37m=\u001b[0m\u001b[37m'default'\u001b[0m\u001b[37m, \u001b[0m\u001b[37msystem_fingerprint\u001b[0m\u001b[37m=\u001b[0m\u001b[37m'fp_4691090a87'\u001b[0m\u001b[37m, \u001b[0m\u001b[37musage\u001b[0m\u001b[37m=\u001b[0m\u001b[1;37mCompletionUsage\u001b[0m\u001b[1;37m(\u001b[0m\u001b[37mcompletion_tokens\u001b[0m\u001b[37m=\u001b[0m\u001b[1;37m26\u001b[0m\u001b[37m, \u001b[0m\n",
       "\u001b[37mprompt_tokens\u001b[0m\u001b[37m=\u001b[0m\u001b[1;37m13\u001b[0m\u001b[37m, \u001b[0m\u001b[37mtotal_tokens\u001b[0m\u001b[37m=\u001b[0m\u001b[1;37m39\u001b[0m\u001b[37m, \u001b[0m\u001b[37mprompt_tokens_details\u001b[0m\u001b[37m=\u001b[0m\u001b[1;37m{\u001b[0m\u001b[37m'cached_tokens'\u001b[0m\u001b[37m: \u001b[0m\u001b[1;37m0\u001b[0m\u001b[37m, \u001b[0m\u001b[37m'audio_tokens'\u001b[0m\u001b[37m: \u001b[0m\u001b[1;37m0\u001b[0m\u001b[1;37m}\u001b[0m\u001b[37m, \u001b[0m\n",
       "\u001b[37mcompletion_tokens_details\u001b[0m\u001b[37m=\u001b[0m\u001b[1;37m{\u001b[0m\u001b[37m'reasoning_tokens'\u001b[0m\u001b[37m: \u001b[0m\u001b[1;37m0\u001b[0m\u001b[37m, \u001b[0m\u001b[37m'audio_tokens'\u001b[0m\u001b[37m: \u001b[0m\u001b[1;37m0\u001b[0m\u001b[37m, \u001b[0m\u001b[37m'accepted_prediction_tokens'\u001b[0m\u001b[37m: \u001b[0m\u001b[1;37m0\u001b[0m\u001b[37m, \u001b[0m\n",
       "\u001b[37m'rejected_prediction_tokens'\u001b[0m\u001b[37m: \u001b[0m\u001b[1;37m0\u001b[0m\u001b[1;37m}\u001b[0m\u001b[1;37m)\u001b[0m\u001b[37m, \u001b[0m\u001b[37mextract\u001b[0m\u001b[37m=\u001b[0m\u001b[1;37m<\u001b[0m\u001b[1;37mfunction\u001b[0m\u001b[37m attach_extractor.<locals>.<lambda> at \u001b[0m\u001b[1;37m0x7ff29be48280\u001b[0m\u001b[1;37m>\u001b[0m\u001b[1;37m)\u001b[0m\n"
      ]
     },
     "metadata": {},
     "output_type": "display_data"
    },
    {
     "data": {
      "text/html": [
       "<pre style=\"white-space:pre;overflow-x:auto;line-height:normal;font-family:Menlo,'DejaVu Sans Mono',consolas,'Courier New',monospace\"><span style=\"color: #808000; text-decoration-color: #808000; font-style: italic\">extract:</span>\n",
       "</pre>\n"
      ],
      "text/plain": [
       "\u001b[3;33mextract:\u001b[0m\n"
      ]
     },
     "metadata": {},
     "output_type": "display_data"
    },
    {
     "data": {
      "text/html": [
       "<pre style=\"white-space:pre;overflow-x:auto;line-height:normal;font-family:Menlo,'DejaVu Sans Mono',consolas,'Courier New',monospace\"><span style=\"color: #808000; text-decoration-color: #808000; font-weight: bold; font-style: italic\">{</span><span style=\"color: #808000; text-decoration-color: #808000; font-style: italic\">'type'</span><span style=\"color: #808000; text-decoration-color: #808000; font-style: italic\">: </span><span style=\"color: #808000; text-decoration-color: #808000; font-style: italic\">'content'</span><span style=\"color: #808000; text-decoration-color: #808000; font-style: italic\">, </span><span style=\"color: #808000; text-decoration-color: #808000; font-style: italic\">'content'</span><span style=\"color: #808000; text-decoration-color: #808000; font-style: italic\">: </span><span style=\"color: #808000; text-decoration-color: #808000; font-style: italic\">'Under the canopy of twinkling stars, the last dragon whispered its ancient secrets </span>\n",
       "<span style=\"color: #808000; text-decoration-color: #808000; font-style: italic\">to the curious child who believed in magic.'</span><span style=\"color: #808000; text-decoration-color: #808000; font-weight: bold; font-style: italic\">}</span>\n",
       "</pre>\n"
      ],
      "text/plain": [
       "\u001b[1;3;33m{\u001b[0m\u001b[3;33m'type'\u001b[0m\u001b[3;33m: \u001b[0m\u001b[3;33m'content'\u001b[0m\u001b[3;33m, \u001b[0m\u001b[3;33m'content'\u001b[0m\u001b[3;33m: \u001b[0m\u001b[3;33m'Under the canopy of twinkling stars, the last dragon whispered its ancient secrets \u001b[0m\n",
       "\u001b[3;33mto the curious child who believed in magic.'\u001b[0m\u001b[1;3;33m}\u001b[0m\n"
      ]
     },
     "metadata": {},
     "output_type": "display_data"
    }
   ],
   "source": [
    "console.print(\"[bright_yellow]Use GPT-4o create:[/]\")\n",
    "response=openai_client.chat.completions.create(model=\"gpt-4o\",messages=[{\"role\":\"user\",\"content\":\"Tell me a one sentence story\"}])\n",
    "console.print(f\"[white]{response}[/]\")\n",
    "console.print(\"[yellow italic]extract:[/]\")\n",
    "console.print(f\"[yellow italic]{response.extract()}[/]\")"
   ]
  },
  {
   "cell_type": "markdown",
   "metadata": {},
   "source": [
    "### ii) Use Ollama"
   ]
  },
  {
   "cell_type": "code",
   "execution_count": 3,
   "metadata": {},
   "outputs": [
    {
     "data": {
      "text/html": [
       "<pre style=\"white-space:pre;overflow-x:auto;line-height:normal;font-family:Menlo,'DejaVu Sans Mono',consolas,'Courier New',monospace\"><span style=\"color: #00ffff; text-decoration-color: #00ffff\">Use Ollama:</span>\n",
       "</pre>\n"
      ],
      "text/plain": [
       "\u001b[96mUse Ollama:\u001b[0m\n"
      ]
     },
     "metadata": {},
     "output_type": "display_data"
    },
    {
     "data": {
      "text/html": [
       "<pre style=\"white-space:pre;overflow-x:auto;line-height:normal;font-family:Menlo,'DejaVu Sans Mono',consolas,'Courier New',monospace\"><span style=\"color: #c0c0c0; text-decoration-color: #c0c0c0; font-weight: bold\">ChatCompletion(</span><span style=\"color: #c0c0c0; text-decoration-color: #c0c0c0\">id</span><span style=\"color: #c0c0c0; text-decoration-color: #c0c0c0\">=</span><span style=\"color: #c0c0c0; text-decoration-color: #c0c0c0\">'chatcmpl-c57d07e9-571d-44f7-b5a3-557cc08221a7'</span><span style=\"color: #c0c0c0; text-decoration-color: #c0c0c0\">, </span><span style=\"color: #c0c0c0; text-decoration-color: #c0c0c0\">choices</span><span style=\"color: #c0c0c0; text-decoration-color: #c0c0c0\">=</span><span style=\"color: #c0c0c0; text-decoration-color: #c0c0c0; font-weight: bold\">[Choice(</span><span style=\"color: #c0c0c0; text-decoration-color: #c0c0c0\">finish_reason</span><span style=\"color: #c0c0c0; text-decoration-color: #c0c0c0\">=</span><span style=\"color: #c0c0c0; text-decoration-color: #c0c0c0\">'stop'</span><span style=\"color: #c0c0c0; text-decoration-color: #c0c0c0\">, </span><span style=\"color: #c0c0c0; text-decoration-color: #c0c0c0\">index</span><span style=\"color: #c0c0c0; text-decoration-color: #c0c0c0\">=</span><span style=\"color: #c0c0c0; text-decoration-color: #c0c0c0; font-weight: bold\">0</span><span style=\"color: #c0c0c0; text-decoration-color: #c0c0c0\">, </span>\n",
       "<span style=\"color: #c0c0c0; text-decoration-color: #c0c0c0\">logprobs</span><span style=\"color: #c0c0c0; text-decoration-color: #c0c0c0\">=</span><span style=\"color: #c0c0c0; text-decoration-color: #c0c0c0; font-style: italic\">None</span><span style=\"color: #c0c0c0; text-decoration-color: #c0c0c0\">, </span><span style=\"color: #c0c0c0; text-decoration-color: #c0c0c0\">message</span><span style=\"color: #c0c0c0; text-decoration-color: #c0c0c0\">=</span><span style=\"color: #c0c0c0; text-decoration-color: #c0c0c0; font-weight: bold\">ChatCompletionMessage</span><span style=\"color: #c0c0c0; text-decoration-color: #c0c0c0; font-weight: bold\">(</span><span style=\"color: #c0c0c0; text-decoration-color: #c0c0c0\">content</span><span style=\"color: #c0c0c0; text-decoration-color: #c0c0c0\">=</span><span style=\"color: #c0c0c0; text-decoration-color: #c0c0c0\">'As the last rays of sunlight faded from the small café, an </span>\n",
       "<span style=\"color: #c0c0c0; text-decoration-color: #c0c0c0\">elderly woman with a kind face and a mysterious past began to whisper secrets to the barista, who had no idea that </span>\n",
       "<span style=\"color: #c0c0c0; text-decoration-color: #c0c0c0\">his ordinary life was about to take an extraordinary turn.'</span><span style=\"color: #c0c0c0; text-decoration-color: #c0c0c0\">, </span><span style=\"color: #c0c0c0; text-decoration-color: #c0c0c0\">refusal</span><span style=\"color: #c0c0c0; text-decoration-color: #c0c0c0\">=</span><span style=\"color: #c0c0c0; text-decoration-color: #c0c0c0; font-style: italic\">None</span><span style=\"color: #c0c0c0; text-decoration-color: #c0c0c0\">, </span><span style=\"color: #c0c0c0; text-decoration-color: #c0c0c0\">role</span><span style=\"color: #c0c0c0; text-decoration-color: #c0c0c0\">=</span><span style=\"color: #c0c0c0; text-decoration-color: #c0c0c0\">'assistant'</span><span style=\"color: #c0c0c0; text-decoration-color: #c0c0c0\">, </span><span style=\"color: #c0c0c0; text-decoration-color: #c0c0c0\">function_call</span><span style=\"color: #c0c0c0; text-decoration-color: #c0c0c0\">=</span><span style=\"color: #c0c0c0; text-decoration-color: #c0c0c0; font-style: italic\">None</span><span style=\"color: #c0c0c0; text-decoration-color: #c0c0c0\">, </span>\n",
       "<span style=\"color: #c0c0c0; text-decoration-color: #c0c0c0\">tool_calls</span><span style=\"color: #c0c0c0; text-decoration-color: #c0c0c0\">=</span><span style=\"color: #c0c0c0; text-decoration-color: #c0c0c0; font-style: italic\">None</span><span style=\"color: #c0c0c0; text-decoration-color: #c0c0c0; font-weight: bold\">))]</span><span style=\"color: #c0c0c0; text-decoration-color: #c0c0c0\">, </span><span style=\"color: #c0c0c0; text-decoration-color: #c0c0c0\">created</span><span style=\"color: #c0c0c0; text-decoration-color: #c0c0c0\">=</span><span style=\"color: #c0c0c0; text-decoration-color: #c0c0c0; font-weight: bold\">1736980470</span><span style=\"color: #c0c0c0; text-decoration-color: #c0c0c0\">, </span><span style=\"color: #c0c0c0; text-decoration-color: #c0c0c0\">model</span><span style=\"color: #c0c0c0; text-decoration-color: #c0c0c0\">=</span><span style=\"color: #c0c0c0; text-decoration-color: #c0c0c0\">'ollama'</span><span style=\"color: #c0c0c0; text-decoration-color: #c0c0c0\">, </span><span style=\"color: #c0c0c0; text-decoration-color: #c0c0c0\">object</span><span style=\"color: #c0c0c0; text-decoration-color: #c0c0c0\">=</span><span style=\"color: #c0c0c0; text-decoration-color: #c0c0c0\">'chat.completion'</span><span style=\"color: #c0c0c0; text-decoration-color: #c0c0c0\">, </span><span style=\"color: #c0c0c0; text-decoration-color: #c0c0c0\">service_tier</span><span style=\"color: #c0c0c0; text-decoration-color: #c0c0c0\">=</span><span style=\"color: #c0c0c0; text-decoration-color: #c0c0c0; font-style: italic\">None</span><span style=\"color: #c0c0c0; text-decoration-color: #c0c0c0\">, </span>\n",
       "<span style=\"color: #c0c0c0; text-decoration-color: #c0c0c0\">system_fingerprint</span><span style=\"color: #c0c0c0; text-decoration-color: #c0c0c0\">=</span><span style=\"color: #c0c0c0; text-decoration-color: #c0c0c0; font-style: italic\">None</span><span style=\"color: #c0c0c0; text-decoration-color: #c0c0c0\">, </span><span style=\"color: #c0c0c0; text-decoration-color: #c0c0c0\">usage</span><span style=\"color: #c0c0c0; text-decoration-color: #c0c0c0\">=</span><span style=\"color: #c0c0c0; text-decoration-color: #c0c0c0; font-weight: bold\">CompletionUsage</span><span style=\"color: #c0c0c0; text-decoration-color: #c0c0c0; font-weight: bold\">(</span><span style=\"color: #c0c0c0; text-decoration-color: #c0c0c0\">completion_tokens</span><span style=\"color: #c0c0c0; text-decoration-color: #c0c0c0\">=</span><span style=\"color: #c0c0c0; text-decoration-color: #c0c0c0; font-weight: bold\">49</span><span style=\"color: #c0c0c0; text-decoration-color: #c0c0c0\">, </span><span style=\"color: #c0c0c0; text-decoration-color: #c0c0c0\">prompt_tokens</span><span style=\"color: #c0c0c0; text-decoration-color: #c0c0c0\">=</span><span style=\"color: #c0c0c0; text-decoration-color: #c0c0c0; font-weight: bold\">16</span><span style=\"color: #c0c0c0; text-decoration-color: #c0c0c0\">, </span><span style=\"color: #c0c0c0; text-decoration-color: #c0c0c0\">total_tokens</span><span style=\"color: #c0c0c0; text-decoration-color: #c0c0c0\">=</span><span style=\"color: #c0c0c0; text-decoration-color: #c0c0c0; font-weight: bold\">65</span><span style=\"color: #c0c0c0; text-decoration-color: #c0c0c0; font-weight: bold\">)</span><span style=\"color: #c0c0c0; text-decoration-color: #c0c0c0\">, </span>\n",
       "<span style=\"color: #c0c0c0; text-decoration-color: #c0c0c0\">extract</span><span style=\"color: #c0c0c0; text-decoration-color: #c0c0c0\">=</span><span style=\"color: #c0c0c0; text-decoration-color: #c0c0c0; font-weight: bold\">&lt;function</span><span style=\"color: #c0c0c0; text-decoration-color: #c0c0c0\"> attach_extractor.&lt;locals&gt;.&lt;lambda&gt; at </span><span style=\"color: #c0c0c0; text-decoration-color: #c0c0c0; font-weight: bold\">0x7ff2b0542290</span><span style=\"color: #c0c0c0; text-decoration-color: #c0c0c0; font-weight: bold\">&gt;)</span>\n",
       "</pre>\n"
      ],
      "text/plain": [
       "\u001b[1;37mChatCompletion\u001b[0m\u001b[1;37m(\u001b[0m\u001b[37mid\u001b[0m\u001b[37m=\u001b[0m\u001b[37m'chatcmpl-c57d07e9-571d-44f7-b5a3-557cc08221a7'\u001b[0m\u001b[37m, \u001b[0m\u001b[37mchoices\u001b[0m\u001b[37m=\u001b[0m\u001b[1;37m[\u001b[0m\u001b[1;37mChoice\u001b[0m\u001b[1;37m(\u001b[0m\u001b[37mfinish_reason\u001b[0m\u001b[37m=\u001b[0m\u001b[37m'stop'\u001b[0m\u001b[37m, \u001b[0m\u001b[37mindex\u001b[0m\u001b[37m=\u001b[0m\u001b[1;37m0\u001b[0m\u001b[37m, \u001b[0m\n",
       "\u001b[37mlogprobs\u001b[0m\u001b[37m=\u001b[0m\u001b[3;37mNone\u001b[0m\u001b[37m, \u001b[0m\u001b[37mmessage\u001b[0m\u001b[37m=\u001b[0m\u001b[1;37mChatCompletionMessage\u001b[0m\u001b[1;37m(\u001b[0m\u001b[37mcontent\u001b[0m\u001b[37m=\u001b[0m\u001b[37m'As the last rays of sunlight faded from the small café, an \u001b[0m\n",
       "\u001b[37melderly woman with a kind face and a mysterious past began to whisper secrets to the barista, who had no idea that \u001b[0m\n",
       "\u001b[37mhis ordinary life was about to take an extraordinary turn.'\u001b[0m\u001b[37m, \u001b[0m\u001b[37mrefusal\u001b[0m\u001b[37m=\u001b[0m\u001b[3;37mNone\u001b[0m\u001b[37m, \u001b[0m\u001b[37mrole\u001b[0m\u001b[37m=\u001b[0m\u001b[37m'assistant'\u001b[0m\u001b[37m, \u001b[0m\u001b[37mfunction_call\u001b[0m\u001b[37m=\u001b[0m\u001b[3;37mNone\u001b[0m\u001b[37m, \u001b[0m\n",
       "\u001b[37mtool_calls\u001b[0m\u001b[37m=\u001b[0m\u001b[3;37mNone\u001b[0m\u001b[1;37m)\u001b[0m\u001b[1;37m)\u001b[0m\u001b[1;37m]\u001b[0m\u001b[37m, \u001b[0m\u001b[37mcreated\u001b[0m\u001b[37m=\u001b[0m\u001b[1;37m1736980470\u001b[0m\u001b[37m, \u001b[0m\u001b[37mmodel\u001b[0m\u001b[37m=\u001b[0m\u001b[37m'ollama'\u001b[0m\u001b[37m, \u001b[0m\u001b[37mobject\u001b[0m\u001b[37m=\u001b[0m\u001b[37m'chat.completion'\u001b[0m\u001b[37m, \u001b[0m\u001b[37mservice_tier\u001b[0m\u001b[37m=\u001b[0m\u001b[3;37mNone\u001b[0m\u001b[37m, \u001b[0m\n",
       "\u001b[37msystem_fingerprint\u001b[0m\u001b[37m=\u001b[0m\u001b[3;37mNone\u001b[0m\u001b[37m, \u001b[0m\u001b[37musage\u001b[0m\u001b[37m=\u001b[0m\u001b[1;37mCompletionUsage\u001b[0m\u001b[1;37m(\u001b[0m\u001b[37mcompletion_tokens\u001b[0m\u001b[37m=\u001b[0m\u001b[1;37m49\u001b[0m\u001b[37m, \u001b[0m\u001b[37mprompt_tokens\u001b[0m\u001b[37m=\u001b[0m\u001b[1;37m16\u001b[0m\u001b[37m, \u001b[0m\u001b[37mtotal_tokens\u001b[0m\u001b[37m=\u001b[0m\u001b[1;37m65\u001b[0m\u001b[1;37m)\u001b[0m\u001b[37m, \u001b[0m\n",
       "\u001b[37mextract\u001b[0m\u001b[37m=\u001b[0m\u001b[1;37m<\u001b[0m\u001b[1;37mfunction\u001b[0m\u001b[37m attach_extractor.<locals>.<lambda> at \u001b[0m\u001b[1;37m0x7ff2b0542290\u001b[0m\u001b[1;37m>\u001b[0m\u001b[1;37m)\u001b[0m\n"
      ]
     },
     "metadata": {},
     "output_type": "display_data"
    },
    {
     "data": {
      "text/html": [
       "<pre style=\"white-space:pre;overflow-x:auto;line-height:normal;font-family:Menlo,'DejaVu Sans Mono',consolas,'Courier New',monospace\"><span style=\"color: #008080; text-decoration-color: #008080; font-style: italic\">extract:</span>\n",
       "</pre>\n"
      ],
      "text/plain": [
       "\u001b[3;36mextract:\u001b[0m\n"
      ]
     },
     "metadata": {},
     "output_type": "display_data"
    },
    {
     "data": {
      "text/html": [
       "<pre style=\"white-space:pre;overflow-x:auto;line-height:normal;font-family:Menlo,'DejaVu Sans Mono',consolas,'Courier New',monospace\"><span style=\"color: #008080; text-decoration-color: #008080; font-weight: bold; font-style: italic\">{</span><span style=\"color: #008080; text-decoration-color: #008080; font-style: italic\">'type'</span><span style=\"color: #008080; text-decoration-color: #008080; font-style: italic\">: </span><span style=\"color: #008080; text-decoration-color: #008080; font-style: italic\">'content'</span><span style=\"color: #008080; text-decoration-color: #008080; font-style: italic\">, </span><span style=\"color: #008080; text-decoration-color: #008080; font-style: italic\">'content'</span><span style=\"color: #008080; text-decoration-color: #008080; font-style: italic\">: </span><span style=\"color: #008080; text-decoration-color: #008080; font-style: italic\">'As the last rays of sunlight faded from the small café, an elderly woman with a </span>\n",
       "<span style=\"color: #008080; text-decoration-color: #008080; font-style: italic\">kind face and a mysterious past began to whisper secrets to the barista, who had no idea that his ordinary life was</span>\n",
       "<span style=\"color: #008080; text-decoration-color: #008080; font-style: italic\">about to take an extraordinary turn.'</span><span style=\"color: #008080; text-decoration-color: #008080; font-weight: bold; font-style: italic\">}</span>\n",
       "</pre>\n"
      ],
      "text/plain": [
       "\u001b[1;3;36m{\u001b[0m\u001b[3;36m'type'\u001b[0m\u001b[3;36m: \u001b[0m\u001b[3;36m'content'\u001b[0m\u001b[3;36m, \u001b[0m\u001b[3;36m'content'\u001b[0m\u001b[3;36m: \u001b[0m\u001b[3;36m'As the last rays of sunlight faded from the small café, an elderly woman with a \u001b[0m\n",
       "\u001b[3;36mkind face and a mysterious past began to whisper secrets to the barista, who had no idea that his ordinary life was\u001b[0m\n",
       "\u001b[3;36mabout to take an extraordinary turn.'\u001b[0m\u001b[1;3;36m}\u001b[0m\n"
      ]
     },
     "metadata": {},
     "output_type": "display_data"
    }
   ],
   "source": [
    "# Use ollama\n",
    "console.print(\"[bright_cyan]Use Ollama:[/]\")\n",
    "response=openai_client.chat.completions.create(model=\"llama3.1\",messages=[{\"role\":\"user\",\"content\":\"Tell me a one sentence story\"}])\n",
    "console.print(f\"[white]{response}[/]\")\n",
    "console.print(\"[cyan italic]extract:[/]\")\n",
    "console.print(f\"[cyan italic]{response.extract()}[/]\")"
   ]
  },
  {
   "cell_type": "markdown",
   "metadata": {},
   "source": [
    "### iii) TTT"
   ]
  },
  {
   "cell_type": "code",
   "execution_count": 5,
   "metadata": {},
   "outputs": [
    {
     "data": {
      "text/html": [
       "<pre style=\"white-space:pre;overflow-x:auto;line-height:normal;font-family:Menlo,'DejaVu Sans Mono',consolas,'Courier New',monospace\"><span style=\"color: #ff00ff; text-decoration-color: #ff00ff\">Use TTT:</span>\n",
       "</pre>\n"
      ],
      "text/plain": [
       "\u001b[95mUse TTT:\u001b[0m\n"
      ]
     },
     "metadata": {},
     "output_type": "display_data"
    },
    {
     "data": {
      "text/html": [
       "<pre style=\"white-space:pre;overflow-x:auto;line-height:normal;font-family:Menlo,'DejaVu Sans Mono',consolas,'Courier New',monospace\"><span style=\"color: #c0c0c0; text-decoration-color: #c0c0c0; font-weight: bold; font-style: italic\">ChatCompletion(</span><span style=\"color: #c0c0c0; text-decoration-color: #c0c0c0; font-style: italic\">id=</span><span style=\"color: #c0c0c0; text-decoration-color: #c0c0c0; font-style: italic\">'chatcmpl-12aad008-293d-4c59-ba03-87f76d28628e'</span><span style=\"color: #c0c0c0; text-decoration-color: #c0c0c0; font-style: italic\">, choices=</span><span style=\"color: #c0c0c0; text-decoration-color: #c0c0c0; font-weight: bold; font-style: italic\">[Choice(</span><span style=\"color: #c0c0c0; text-decoration-color: #c0c0c0; font-style: italic\">finish_reason=</span><span style=\"color: #c0c0c0; text-decoration-color: #c0c0c0; font-style: italic\">'stop'</span><span style=\"color: #c0c0c0; text-decoration-color: #c0c0c0; font-style: italic\">, index=</span><span style=\"color: #c0c0c0; text-decoration-color: #c0c0c0; font-weight: bold; font-style: italic\">0</span><span style=\"color: #c0c0c0; text-decoration-color: #c0c0c0; font-style: italic\">, </span>\n",
       "<span style=\"color: #c0c0c0; text-decoration-color: #c0c0c0; font-style: italic\">logprobs=None, message=</span><span style=\"color: #c0c0c0; text-decoration-color: #c0c0c0; font-weight: bold; font-style: italic\">ChatCompletionMessage(</span><span style=\"color: #c0c0c0; text-decoration-color: #c0c0c0; font-style: italic\">content=</span><span style=\"color: #c0c0c0; text-decoration-color: #c0c0c0; font-style: italic\">\"An old man found a precious gem while walking his dog on the </span>\n",
       "<span style=\"color: #c0c0c0; text-decoration-color: #c0c0c0; font-style: italic\">beach, which turned out to be the key to his family's hidden fortune.\"</span><span style=\"color: #c0c0c0; text-decoration-color: #c0c0c0; font-style: italic\">, refusal=None, role=</span><span style=\"color: #c0c0c0; text-decoration-color: #c0c0c0; font-style: italic\">'assistant'</span><span style=\"color: #c0c0c0; text-decoration-color: #c0c0c0; font-style: italic\">, </span>\n",
       "<span style=\"color: #c0c0c0; text-decoration-color: #c0c0c0; font-style: italic\">function_call=None, tool_calls=None, audio=None</span><span style=\"color: #c0c0c0; text-decoration-color: #c0c0c0; font-weight: bold; font-style: italic\">))]</span><span style=\"color: #c0c0c0; text-decoration-color: #c0c0c0; font-style: italic\">, created=</span><span style=\"color: #c0c0c0; text-decoration-color: #c0c0c0; font-weight: bold; font-style: italic\">1736980525</span><span style=\"color: #c0c0c0; text-decoration-color: #c0c0c0; font-style: italic\">, model=</span><span style=\"color: #c0c0c0; text-decoration-color: #c0c0c0; font-style: italic\">'llamacpp'</span><span style=\"color: #c0c0c0; text-decoration-color: #c0c0c0; font-style: italic\">, object=</span><span style=\"color: #c0c0c0; text-decoration-color: #c0c0c0; font-style: italic\">'chat.completion'</span><span style=\"color: #c0c0c0; text-decoration-color: #c0c0c0; font-style: italic\">,</span>\n",
       "<span style=\"color: #c0c0c0; text-decoration-color: #c0c0c0; font-style: italic\">service_tier=None, system_fingerprint=None, usage=</span><span style=\"color: #c0c0c0; text-decoration-color: #c0c0c0; font-weight: bold; font-style: italic\">CompletionUsage(</span><span style=\"color: #c0c0c0; text-decoration-color: #c0c0c0; font-style: italic\">completion_tokens=</span><span style=\"color: #c0c0c0; text-decoration-color: #c0c0c0; font-weight: bold; font-style: italic\">30</span><span style=\"color: #c0c0c0; text-decoration-color: #c0c0c0; font-style: italic\">, prompt_tokens=</span><span style=\"color: #c0c0c0; text-decoration-color: #c0c0c0; font-weight: bold; font-style: italic\">21</span><span style=\"color: #c0c0c0; text-decoration-color: #c0c0c0; font-style: italic\">, </span>\n",
       "<span style=\"color: #c0c0c0; text-decoration-color: #c0c0c0; font-style: italic\">total_tokens=</span><span style=\"color: #c0c0c0; text-decoration-color: #c0c0c0; font-weight: bold; font-style: italic\">51</span><span style=\"color: #c0c0c0; text-decoration-color: #c0c0c0; font-style: italic\">, completion_tokens_details=None, prompt_tokens_details=None</span><span style=\"color: #c0c0c0; text-decoration-color: #c0c0c0; font-weight: bold; font-style: italic\">)</span><span style=\"color: #c0c0c0; text-decoration-color: #c0c0c0; font-style: italic\">, extract=</span><span style=\"color: #c0c0c0; text-decoration-color: #c0c0c0; font-weight: bold; font-style: italic\">&lt;function</span><span style=\"color: #c0c0c0; text-decoration-color: #c0c0c0; font-style: italic\"> </span>\n",
       "<span style=\"color: #c0c0c0; text-decoration-color: #c0c0c0; font-style: italic\">attach_extractor.&lt;locals&gt;.&lt;lambda&gt; at </span><span style=\"color: #c0c0c0; text-decoration-color: #c0c0c0; font-weight: bold; font-style: italic\">0x7ff29b5d2cb0&gt;)</span>\n",
       "</pre>\n"
      ],
      "text/plain": [
       "\u001b[1;3;37mChatCompletion\u001b[0m\u001b[1;3;37m(\u001b[0m\u001b[3;37mid\u001b[0m\u001b[3;37m=\u001b[0m\u001b[3;37m'chatcmpl-12aad008-293d-4c59-ba03-87f76d28628e'\u001b[0m\u001b[3;37m, \u001b[0m\u001b[3;37mchoices\u001b[0m\u001b[3;37m=\u001b[0m\u001b[1;3;37m[\u001b[0m\u001b[1;3;37mChoice\u001b[0m\u001b[1;3;37m(\u001b[0m\u001b[3;37mfinish_reason\u001b[0m\u001b[3;37m=\u001b[0m\u001b[3;37m'stop'\u001b[0m\u001b[3;37m, \u001b[0m\u001b[3;37mindex\u001b[0m\u001b[3;37m=\u001b[0m\u001b[1;3;37m0\u001b[0m\u001b[3;37m, \u001b[0m\n",
       "\u001b[3;37mlogprobs\u001b[0m\u001b[3;37m=\u001b[0m\u001b[3;37mNone\u001b[0m\u001b[3;37m, \u001b[0m\u001b[3;37mmessage\u001b[0m\u001b[3;37m=\u001b[0m\u001b[1;3;37mChatCompletionMessage\u001b[0m\u001b[1;3;37m(\u001b[0m\u001b[3;37mcontent\u001b[0m\u001b[3;37m=\u001b[0m\u001b[3;37m\"An\u001b[0m\u001b[3;37m old man found a precious gem while walking his dog on the \u001b[0m\n",
       "\u001b[3;37mbeach, which turned out to be the key to his family's hidden fortune.\"\u001b[0m\u001b[3;37m, \u001b[0m\u001b[3;37mrefusal\u001b[0m\u001b[3;37m=\u001b[0m\u001b[3;37mNone\u001b[0m\u001b[3;37m, \u001b[0m\u001b[3;37mrole\u001b[0m\u001b[3;37m=\u001b[0m\u001b[3;37m'assistant'\u001b[0m\u001b[3;37m, \u001b[0m\n",
       "\u001b[3;37mfunction_call\u001b[0m\u001b[3;37m=\u001b[0m\u001b[3;37mNone\u001b[0m\u001b[3;37m, \u001b[0m\u001b[3;37mtool_calls\u001b[0m\u001b[3;37m=\u001b[0m\u001b[3;37mNone\u001b[0m\u001b[3;37m, \u001b[0m\u001b[3;37maudio\u001b[0m\u001b[3;37m=\u001b[0m\u001b[3;37mNone\u001b[0m\u001b[1;3;37m)\u001b[0m\u001b[1;3;37m)\u001b[0m\u001b[1;3;37m]\u001b[0m\u001b[3;37m, \u001b[0m\u001b[3;37mcreated\u001b[0m\u001b[3;37m=\u001b[0m\u001b[1;3;37m1736980525\u001b[0m\u001b[3;37m, \u001b[0m\u001b[3;37mmodel\u001b[0m\u001b[3;37m=\u001b[0m\u001b[3;37m'llamacpp'\u001b[0m\u001b[3;37m, \u001b[0m\u001b[3;37mobject\u001b[0m\u001b[3;37m=\u001b[0m\u001b[3;37m'chat.completion'\u001b[0m\u001b[3;37m,\u001b[0m\n",
       "\u001b[3;37mservice_tier\u001b[0m\u001b[3;37m=\u001b[0m\u001b[3;37mNone\u001b[0m\u001b[3;37m, \u001b[0m\u001b[3;37msystem_fingerprint\u001b[0m\u001b[3;37m=\u001b[0m\u001b[3;37mNone\u001b[0m\u001b[3;37m, \u001b[0m\u001b[3;37musage\u001b[0m\u001b[3;37m=\u001b[0m\u001b[1;3;37mCompletionUsage\u001b[0m\u001b[1;3;37m(\u001b[0m\u001b[3;37mcompletion_tokens\u001b[0m\u001b[3;37m=\u001b[0m\u001b[1;3;37m30\u001b[0m\u001b[3;37m, \u001b[0m\u001b[3;37mprompt_tokens\u001b[0m\u001b[3;37m=\u001b[0m\u001b[1;3;37m21\u001b[0m\u001b[3;37m, \u001b[0m\n",
       "\u001b[3;37mtotal_tokens\u001b[0m\u001b[3;37m=\u001b[0m\u001b[1;3;37m51\u001b[0m\u001b[3;37m, \u001b[0m\u001b[3;37mcompletion_tokens_details\u001b[0m\u001b[3;37m=\u001b[0m\u001b[3;37mNone\u001b[0m\u001b[3;37m, \u001b[0m\u001b[3;37mprompt_tokens_details\u001b[0m\u001b[3;37m=\u001b[0m\u001b[3;37mNone\u001b[0m\u001b[1;3;37m)\u001b[0m\u001b[3;37m, \u001b[0m\u001b[3;37mextract\u001b[0m\u001b[3;37m=\u001b[0m\u001b[1;3;37m<\u001b[0m\u001b[1;3;37mfunction\u001b[0m\u001b[3;37m \u001b[0m\n",
       "\u001b[3;37mattach_extractor.<locals>.<lambda> at \u001b[0m\u001b[1;3;37m0x7ff29b5d2cb0\u001b[0m\u001b[1;3;37m>\u001b[0m\u001b[1;3;37m)\u001b[0m\n"
      ]
     },
     "metadata": {},
     "output_type": "display_data"
    },
    {
     "data": {
      "text/html": [
       "<pre style=\"white-space:pre;overflow-x:auto;line-height:normal;font-family:Menlo,'DejaVu Sans Mono',consolas,'Courier New',monospace\"><span style=\"color: #800080; text-decoration-color: #800080; font-style: italic\">extract:</span>\n",
       "</pre>\n"
      ],
      "text/plain": [
       "\u001b[3;35mextract:\u001b[0m\n"
      ]
     },
     "metadata": {},
     "output_type": "display_data"
    },
    {
     "data": {
      "text/html": [
       "<pre style=\"white-space:pre;overflow-x:auto;line-height:normal;font-family:Menlo,'DejaVu Sans Mono',consolas,'Courier New',monospace\"><span style=\"color: #800080; text-decoration-color: #800080; font-weight: bold; font-style: italic\">{</span><span style=\"color: #800080; text-decoration-color: #800080; font-style: italic\">'type'</span><span style=\"color: #800080; text-decoration-color: #800080; font-style: italic\">: </span><span style=\"color: #800080; text-decoration-color: #800080; font-style: italic\">'content'</span><span style=\"color: #800080; text-decoration-color: #800080; font-style: italic\">, </span><span style=\"color: #800080; text-decoration-color: #800080; font-style: italic\">'content'</span><span style=\"color: #800080; text-decoration-color: #800080; font-style: italic\">: </span><span style=\"color: #800080; text-decoration-color: #800080; font-style: italic\">\"An old man found a precious gem while walking his dog on the beach, which turned </span>\n",
       "<span style=\"color: #800080; text-decoration-color: #800080; font-style: italic\">out to be the key to his family's hidden fortune.\"</span><span style=\"color: #800080; text-decoration-color: #800080; font-weight: bold; font-style: italic\">}</span>\n",
       "</pre>\n"
      ],
      "text/plain": [
       "\u001b[1;3;35m{\u001b[0m\u001b[3;35m'type'\u001b[0m\u001b[3;35m: \u001b[0m\u001b[3;35m'content'\u001b[0m\u001b[3;35m, \u001b[0m\u001b[3;35m'content'\u001b[0m\u001b[3;35m: \u001b[0m\u001b[3;35m\"An old man found a precious gem while walking his dog on the beach, which turned \u001b[0m\n",
       "\u001b[3;35mout to be the key to his family's hidden fortune.\"\u001b[0m\u001b[1;3;35m}\u001b[0m\n"
      ]
     },
     "metadata": {},
     "output_type": "display_data"
    }
   ],
   "source": [
    "console.print(\"[bright_magenta]Use TTT:[/]\")\n",
    "response=openai_client.chat.completions.create(model=\"ttt-llamacpp-dolphin\",messages=[{\"role\":\"user\",\"content\":\"Tell me a one sentence story\"}])\n",
    "console.print(f\"[white italic]{response}[/]\")\n",
    "console.print(\"[magenta italic]extract:[/]\")\n",
    "console.print(f\"[magenta italic]{response.extract()}[/]\")"
   ]
  },
  {
   "cell_type": "markdown",
   "metadata": {},
   "source": [
    "---\n",
    "\n",
    "## c) Stream Completions"
   ]
  },
  {
   "cell_type": "markdown",
   "metadata": {},
   "source": [
    "### i) OpenAI"
   ]
  },
  {
   "cell_type": "code",
   "execution_count": 2,
   "metadata": {},
   "outputs": [
    {
     "data": {
      "text/html": [
       "<pre style=\"white-space:pre;overflow-x:auto;line-height:normal;font-family:Menlo,'DejaVu Sans Mono',consolas,'Courier New',monospace\"><span style=\"color: #ffff00; text-decoration-color: #ffff00\">Use GPT-4o:</span>\n",
       "</pre>\n"
      ],
      "text/plain": [
       "\u001b[93mUse GPT-4o:\u001b[0m\n"
      ]
     },
     "metadata": {},
     "output_type": "display_data"
    },
    {
     "name": "stdout",
     "output_type": "stream",
     "text": [
      "In a world where music had the power to heal wounds, a young girl named Lyra played her violin beneath the moonlit sky, mending the hearts of everyone who listened."
     ]
    }
   ],
   "source": [
    "console.print(\"[bright_yellow]Use GPT-4o:[/]\")\n",
    "response=openai_client.chat.completions.create(model=\"gpt-4o\",messages=[{\"role\":\"user\",\"content\":\"Tell me a one sentence story\"}],stream=True)\n",
    "for chunk in response:\n",
    "    chunk = chunk.extract()\n",
    "    if chunk and type(chunk) is str:\n",
    "        print(chunk,end=\"\",flush=True)\n"
   ]
  },
  {
   "cell_type": "markdown",
   "metadata": {},
   "source": [
    "### ii) Ollama"
   ]
  },
  {
   "cell_type": "code",
   "execution_count": 6,
   "metadata": {},
   "outputs": [
    {
     "data": {
      "text/html": [
       "<pre style=\"white-space:pre;overflow-x:auto;line-height:normal;font-family:Menlo,'DejaVu Sans Mono',consolas,'Courier New',monospace\"><span style=\"color: #00ffff; text-decoration-color: #00ffff\">Use Ollama:</span>\n",
       "</pre>\n"
      ],
      "text/plain": [
       "\u001b[96mUse Ollama:\u001b[0m\n"
      ]
     },
     "metadata": {},
     "output_type": "display_data"
    },
    {
     "name": "stdout",
     "output_type": "stream",
     "text": [
      "As she rummaged through the attic of her grandparents' old mansion, Emily stumbled upon an antique music box with a faded label that read \"For my dearest, play me when I'm gone.\""
     ]
    }
   ],
   "source": [
    "# Use ollama\n",
    "console.print(\"[bright_cyan]Use Ollama:[/]\")\n",
    "response=openai_client.chat.completions.create(model=\"llama3.1\",messages=[{\"role\":\"user\",\"content\":\"Tell me a one sentence story\"}],stream=True)\n",
    "for chunk in response:\n",
    "    if not hasattr(chunk,\"extract\"):\n",
    "        continue\n",
    "    chunk = chunk.extract()\n",
    "    if chunk and type(chunk) is str:\n",
    "        print(chunk,end=\"\",flush=True)\n"
   ]
  },
  {
   "cell_type": "markdown",
   "metadata": {},
   "source": [
    "### iii) TTT"
   ]
  },
  {
   "cell_type": "code",
   "execution_count": 7,
   "metadata": {},
   "outputs": [
    {
     "data": {
      "text/html": [
       "<pre style=\"white-space:pre;overflow-x:auto;line-height:normal;font-family:Menlo,'DejaVu Sans Mono',consolas,'Courier New',monospace\"><span style=\"color: #ffff00; text-decoration-color: #ffff00\">Use LlamaCPP:</span>\n",
       "</pre>\n"
      ],
      "text/plain": [
       "\u001b[93mUse LlamaCPP:\u001b[0m\n"
      ]
     },
     "metadata": {},
     "output_type": "display_data"
    },
    {
     "name": "stdout",
     "output_type": "stream",
     "text": [
      "The tiny, forgotten town of Pemberley bloomed with newfound prosperity when a long-lost treasure map was discovered in the attic of the town's oldest resident."
     ]
    }
   ],
   "source": [
    "# Use exllama\n",
    "console.print(\"[bright_yellow]Use LlamaCPP:[/]\")\n",
    "response=openai_client.chat.completions.create(model=\"ttt-llamacpp-dolphin\",messages=[{\"role\":\"user\",\"content\":\"Tell me a one sentence story\"}],stream=True)\n",
    "for chunk in response:\n",
    "    chunk = chunk.extract()\n",
    "    if chunk and type(chunk) is str:\n",
    "            print(chunk,end=\"\",flush=True)"
   ]
  },
  {
   "cell_type": "markdown",
   "metadata": {},
   "source": [
    "---\n",
    "\n",
    "## d) Create Tool Call\n",
    "\n",
    "### i) OpenAI"
   ]
  },
  {
   "cell_type": "code",
   "execution_count": 2,
   "metadata": {},
   "outputs": [
    {
     "data": {
      "text/html": [
       "<pre style=\"white-space:pre;overflow-x:auto;line-height:normal;font-family:Menlo,'DejaVu Sans Mono',consolas,'Courier New',monospace\"><span style=\"color: #ffff00; text-decoration-color: #ffff00\">Use GPT-4o:</span>\n",
       "</pre>\n"
      ],
      "text/plain": [
       "\u001b[93mUse GPT-4o:\u001b[0m\n"
      ]
     },
     "metadata": {},
     "output_type": "display_data"
    },
    {
     "data": {
      "text/html": [
       "<pre style=\"white-space:pre;overflow-x:auto;line-height:normal;font-family:Menlo,'DejaVu Sans Mono',consolas,'Courier New',monospace\"><span style=\"color: #808000; text-decoration-color: #808000; font-weight: bold; font-style: italic\">{</span>\n",
       "<span style=\"color: #808000; text-decoration-color: #808000; font-style: italic\">  </span><span style=\"color: #808000; text-decoration-color: #808000; font-style: italic\">\"type\"</span><span style=\"color: #808000; text-decoration-color: #808000; font-style: italic\">: </span><span style=\"color: #808000; text-decoration-color: #808000; font-style: italic\">\"function\"</span><span style=\"color: #808000; text-decoration-color: #808000; font-style: italic\">,</span>\n",
       "<span style=\"color: #808000; text-decoration-color: #808000; font-style: italic\">  </span><span style=\"color: #808000; text-decoration-color: #808000; font-style: italic\">\"name\"</span><span style=\"color: #808000; text-decoration-color: #808000; font-style: italic\">: </span><span style=\"color: #808000; text-decoration-color: #808000; font-style: italic\">\"google\"</span><span style=\"color: #808000; text-decoration-color: #808000; font-style: italic\">,</span>\n",
       "<span style=\"color: #808000; text-decoration-color: #808000; font-style: italic\">  </span><span style=\"color: #808000; text-decoration-color: #808000; font-style: italic\">\"arguments\"</span><span style=\"color: #808000; text-decoration-color: #808000; font-style: italic\">: </span><span style=\"color: #808000; text-decoration-color: #808000; font-style: italic\">\"{\\\"search_query\\\":\\\"current time in Singapore\\\"}\"</span>\n",
       "<span style=\"color: #808000; text-decoration-color: #808000; font-weight: bold; font-style: italic\">}</span>\n",
       "</pre>\n"
      ],
      "text/plain": [
       "\u001b[1;3;33m{\u001b[0m\n",
       "\u001b[3;33m  \u001b[0m\u001b[3;33m\"type\"\u001b[0m\u001b[3;33m: \u001b[0m\u001b[3;33m\"function\"\u001b[0m\u001b[3;33m,\u001b[0m\n",
       "\u001b[3;33m  \u001b[0m\u001b[3;33m\"name\"\u001b[0m\u001b[3;33m: \u001b[0m\u001b[3;33m\"google\"\u001b[0m\u001b[3;33m,\u001b[0m\n",
       "\u001b[3;33m  \u001b[0m\u001b[3;33m\"arguments\"\u001b[0m\u001b[3;33m: \u001b[0m\u001b[3;33m\"\u001b[0m\u001b[3;33m{\u001b[0m\u001b[3;33m\\\"search_query\\\":\\\"current time in Singapore\\\"\u001b[0m\u001b[3;33m}\u001b[0m\u001b[3;33m\"\u001b[0m\n",
       "\u001b[1;3;33m}\u001b[0m\n"
      ]
     },
     "metadata": {},
     "output_type": "display_data"
    }
   ],
   "source": [
    "# Use openai\n",
    "import json\n",
    "\n",
    "console.print(\"[bright_yellow]Use GPT-4o:[/]\")\n",
    "response = openai_client.chat.completions.create(\n",
    "    model=\"gpt-4o\",\n",
    "    messages=[{\"role\": \"user\", \"content\": \"What is the current time in Singapore?\"}],\n",
    "    tools=[\n",
    "        {\n",
    "            \"type\": \"function\",\n",
    "            \"function\": {\n",
    "                \"name\": \"google\",\n",
    "                \"description\": \"The 'google' function is a powerful tool that allows the AI to gather external information from the internet using Google search. It can be invoked when the AI needs to answer a question or provide information that requires up-to-date, comprehensive, and diverse sources which are not inherently known by the AI. For instance, it can be used to find current date, current news, weather updates, latest sports scores, trending topics, specific facts, or even the current date and time. The usage of this tool should be considered when the user's query implies or explicitly requests recent or wide-ranging data, or when the AI's inherent knowledge base may not have the required or most current information. The 'search_query' parameter should be a concise and accurate representation of the information needed.\",\n",
    "                \"parameters\": {\n",
    "                    \"type\": \"object\",\n",
    "                    \"properties\": {\n",
    "                        \"search_query\": {\n",
    "                            \"type\": \"string\",\n",
    "                            \"description\": \"The search query to search google with. For example, to find the current date or time, use 'current date' or 'current time' respectively.\"\n",
    "                        }\n",
    "                    },\n",
    "                    \"required\": [\"search_query\"]\n",
    "                }\n",
    "            }\n",
    "        }\n",
    "    ],\n",
    "    tool_choice=\"required\"\n",
    ")\n",
    "console.print(f\"[yellow italic]{json.dumps(response.extract(),indent=2)}[/]\")\n",
    "\n"
   ]
  },
  {
   "cell_type": "markdown",
   "metadata": {},
   "source": [
    "### ii) Ollama"
   ]
  },
  {
   "cell_type": "code",
   "execution_count": 2,
   "metadata": {},
   "outputs": [
    {
     "data": {
      "text/html": [
       "<pre style=\"white-space:pre;overflow-x:auto;line-height:normal;font-family:Menlo,'DejaVu Sans Mono',consolas,'Courier New',monospace\"><span style=\"color: #ffff00; text-decoration-color: #ffff00\">Use Ollama:</span>\n",
       "</pre>\n"
      ],
      "text/plain": [
       "\u001b[93mUse Ollama:\u001b[0m\n"
      ]
     },
     "metadata": {},
     "output_type": "display_data"
    },
    {
     "data": {
      "text/html": [
       "<pre style=\"white-space:pre;overflow-x:auto;line-height:normal;font-family:Menlo,'DejaVu Sans Mono',consolas,'Courier New',monospace\"><span style=\"color: #808000; text-decoration-color: #808000; font-weight: bold; font-style: italic\">{</span>\n",
       "<span style=\"color: #808000; text-decoration-color: #808000; font-style: italic\">  </span><span style=\"color: #808000; text-decoration-color: #808000; font-style: italic\">\"type\"</span><span style=\"color: #808000; text-decoration-color: #808000; font-style: italic\">: </span><span style=\"color: #808000; text-decoration-color: #808000; font-style: italic\">\"function\"</span><span style=\"color: #808000; text-decoration-color: #808000; font-style: italic\">,</span>\n",
       "<span style=\"color: #808000; text-decoration-color: #808000; font-style: italic\">  </span><span style=\"color: #808000; text-decoration-color: #808000; font-style: italic\">\"name\"</span><span style=\"color: #808000; text-decoration-color: #808000; font-style: italic\">: </span><span style=\"color: #808000; text-decoration-color: #808000; font-style: italic\">\"google\"</span><span style=\"color: #808000; text-decoration-color: #808000; font-style: italic\">,</span>\n",
       "<span style=\"color: #808000; text-decoration-color: #808000; font-style: italic\">  </span><span style=\"color: #808000; text-decoration-color: #808000; font-style: italic\">\"arguments\"</span><span style=\"color: #808000; text-decoration-color: #808000; font-style: italic\">: </span><span style=\"color: #808000; text-decoration-color: #808000; font-style: italic\">\"{\\\"search_query\\\": \\\"current time in Singapore\\\"}\"</span>\n",
       "<span style=\"color: #808000; text-decoration-color: #808000; font-weight: bold; font-style: italic\">}</span>\n",
       "</pre>\n"
      ],
      "text/plain": [
       "\u001b[1;3;33m{\u001b[0m\n",
       "\u001b[3;33m  \u001b[0m\u001b[3;33m\"type\"\u001b[0m\u001b[3;33m: \u001b[0m\u001b[3;33m\"function\"\u001b[0m\u001b[3;33m,\u001b[0m\n",
       "\u001b[3;33m  \u001b[0m\u001b[3;33m\"name\"\u001b[0m\u001b[3;33m: \u001b[0m\u001b[3;33m\"google\"\u001b[0m\u001b[3;33m,\u001b[0m\n",
       "\u001b[3;33m  \u001b[0m\u001b[3;33m\"arguments\"\u001b[0m\u001b[3;33m: \u001b[0m\u001b[3;33m\"\u001b[0m\u001b[3;33m{\u001b[0m\u001b[3;33m\\\"search_query\\\": \\\"current time in Singapore\\\"\u001b[0m\u001b[3;33m}\u001b[0m\u001b[3;33m\"\u001b[0m\n",
       "\u001b[1;3;33m}\u001b[0m\n"
      ]
     },
     "metadata": {},
     "output_type": "display_data"
    }
   ],
   "source": [
    "# Use openai\n",
    "import json\n",
    "# Use exllama\n",
    "console.print(\"[bright_yellow]Use Ollama:[/]\")\n",
    "response = openai_client.chat.completions.create(\n",
    "    model=\"llama3.1\",\n",
    "    messages=[{\"role\": \"user\", \"content\": \"What is the current time in Singapore?\"}],\n",
    "    tools=[\n",
    "        {\n",
    "            \"type\": \"function\",\n",
    "            \"function\": {\n",
    "                \"name\": \"google\",\n",
    "                \"description\": \"The 'google' function is a powerful tool that allows the AI to gather external information from the internet using Google search. It can be invoked when the AI needs to answer a question or provide information that requires up-to-date, comprehensive, and diverse sources which are not inherently known by the AI. For instance, it can be used to find current date, current news, weather updates, latest sports scores, trending topics, specific facts, or even the current date and time. The usage of this tool should be considered when the user's query implies or explicitly requests recent or wide-ranging data, or when the AI's inherent knowledge base may not have the required or most current information. The 'search_query' parameter should be a concise and accurate representation of the information needed.\",\n",
    "                \"parameters\": {\n",
    "                    \"type\": \"object\",\n",
    "                    \"properties\": {\n",
    "                        \"search_query\": {\n",
    "                            \"type\": \"string\",\n",
    "                            \"description\": \"The search query to search google with. For example, to find the current date or time, use 'current date' or 'current time' respectively.\"\n",
    "                        }\n",
    "                    },\n",
    "                    \"required\": [\"search_query\"]\n",
    "                }\n",
    "            }\n",
    "        }\n",
    "    ],\n",
    "    tool_choice=\"required\",\n",
    ")\n",
    "import json\n",
    "console.print(f\"[yellow italic]{json.dumps(response.extract(),indent=2)}[/]\")\n"
   ]
  },
  {
   "cell_type": "markdown",
   "metadata": {},
   "source": [
    "### iii) TTT"
   ]
  },
  {
   "cell_type": "code",
   "execution_count": 3,
   "metadata": {},
   "outputs": [
    {
     "data": {
      "text/html": [
       "<pre style=\"white-space:pre;overflow-x:auto;line-height:normal;font-family:Menlo,'DejaVu Sans Mono',consolas,'Courier New',monospace\"><span style=\"color: #ff00ff; text-decoration-color: #ff00ff\">Use LlamaCPP:</span>\n",
       "</pre>\n"
      ],
      "text/plain": [
       "\u001b[95mUse LlamaCPP:\u001b[0m\n"
      ]
     },
     "metadata": {},
     "output_type": "display_data"
    },
    {
     "data": {
      "text/html": [
       "<pre style=\"white-space:pre;overflow-x:auto;line-height:normal;font-family:Menlo,'DejaVu Sans Mono',consolas,'Courier New',monospace\"><span style=\"color: #800080; text-decoration-color: #800080; font-weight: bold; font-style: italic\">{</span>\n",
       "<span style=\"color: #800080; text-decoration-color: #800080; font-style: italic\">  </span><span style=\"color: #800080; text-decoration-color: #800080; font-style: italic\">\"type\"</span><span style=\"color: #800080; text-decoration-color: #800080; font-style: italic\">: </span><span style=\"color: #800080; text-decoration-color: #800080; font-style: italic\">\"function\"</span><span style=\"color: #800080; text-decoration-color: #800080; font-style: italic\">,</span>\n",
       "<span style=\"color: #800080; text-decoration-color: #800080; font-style: italic\">  </span><span style=\"color: #800080; text-decoration-color: #800080; font-style: italic\">\"name\"</span><span style=\"color: #800080; text-decoration-color: #800080; font-style: italic\">: </span><span style=\"color: #800080; text-decoration-color: #800080; font-style: italic\">\"google\"</span><span style=\"color: #800080; text-decoration-color: #800080; font-style: italic\">,</span>\n",
       "<span style=\"color: #800080; text-decoration-color: #800080; font-style: italic\">  </span><span style=\"color: #800080; text-decoration-color: #800080; font-style: italic\">\"arguments\"</span><span style=\"color: #800080; text-decoration-color: #800080; font-style: italic\">: </span><span style=\"color: #800080; text-decoration-color: #800080; font-style: italic\">\"{\\\"search_query\\\": \\\"current time in Singapore\\\"}\"</span>\n",
       "<span style=\"color: #800080; text-decoration-color: #800080; font-weight: bold; font-style: italic\">}</span>\n",
       "</pre>\n"
      ],
      "text/plain": [
       "\u001b[1;3;35m{\u001b[0m\n",
       "\u001b[3;35m  \u001b[0m\u001b[3;35m\"type\"\u001b[0m\u001b[3;35m: \u001b[0m\u001b[3;35m\"function\"\u001b[0m\u001b[3;35m,\u001b[0m\n",
       "\u001b[3;35m  \u001b[0m\u001b[3;35m\"name\"\u001b[0m\u001b[3;35m: \u001b[0m\u001b[3;35m\"google\"\u001b[0m\u001b[3;35m,\u001b[0m\n",
       "\u001b[3;35m  \u001b[0m\u001b[3;35m\"arguments\"\u001b[0m\u001b[3;35m: \u001b[0m\u001b[3;35m\"\u001b[0m\u001b[3;35m{\u001b[0m\u001b[3;35m\\\"search_query\\\": \\\"current time in Singapore\\\"\u001b[0m\u001b[3;35m}\u001b[0m\u001b[3;35m\"\u001b[0m\n",
       "\u001b[1;3;35m}\u001b[0m\n"
      ]
     },
     "metadata": {},
     "output_type": "display_data"
    }
   ],
   "source": [
    "# Use openai\n",
    "import json\n",
    "# Use exllama\n",
    "console.print(\"[bright_magenta]Use LlamaCPP:[/]\")\n",
    "response = openai_client.chat.completions.create(\n",
    "    model=\"ttt-llamacpp-dolphin\",\n",
    "    messages=[{\"role\": \"user\", \"content\": \"What is the current time in Singapore?\"},\n",
    "              {\"role\": \"assistant\",\"content\":\"\"}],\n",
    "    tools=[\n",
    "        {\n",
    "            \"type\": \"function\",\n",
    "            \"function\": {\n",
    "                \"name\": \"google\",\n",
    "                \"description\": \"The 'google' function is a powerful tool that allows the AI to gather external information from the internet using Google search. It can be invoked when the AI needs to answer a question or provide information that requires up-to-date, comprehensive, and diverse sources which are not inherently known by the AI. For instance, it can be used to find current date, current news, weather updates, latest sports scores, trending topics, specific facts, or even the current date and time. The usage of this tool should be considered when the user's query implies or explicitly requests recent or wide-ranging data, or when the AI's inherent knowledge base may not have the required or most current information. The 'search_query' parameter should be a concise and accurate representation of the information needed.\",\n",
    "                \"parameters\": {\n",
    "                    \"type\": \"object\",\n",
    "                    \"properties\": {\n",
    "                        \"search_query\": {\n",
    "                            \"type\": \"string\",\n",
    "                            \"description\": \"The search query to search google with. For example, to find the current date or time, use 'current date' or 'current time' respectively.\"\n",
    "                        }\n",
    "                    },\n",
    "                    \"required\": [\"search_query\"]\n",
    "                }\n",
    "            }\n",
    "        }\n",
    "    ],\n",
    "    tool_choice=\"required\",\n",
    ")\n",
    "import json\n",
    "console.print(f\"[magenta italic]{json.dumps(response.extract(),indent=2)}[/]\")\n"
   ]
  },
  {
   "cell_type": "markdown",
   "metadata": {},
   "source": [
    "---\n",
    "## e) Structured Output\n",
    "\n",
    "### i) OpenAI"
   ]
  },
  {
   "cell_type": "code",
   "execution_count": 2,
   "metadata": {},
   "outputs": [
    {
     "name": "stderr",
     "output_type": "stream",
     "text": [
      "/tmp/ipykernel_1619242/2418591311.py:8: PydanticDeprecatedSince20: The `schema` method is deprecated; use `model_json_schema` instead. Deprecated in Pydantic V2.0 to be removed in V3.0. See Pydantic V2 Migration Guide at https://errors.pydantic.dev/2.10/migration/\n",
      "  response_model = Book.schema()\n"
     ]
    },
    {
     "data": {
      "text/html": [
       "<pre style=\"white-space:pre;overflow-x:auto;line-height:normal;font-family:Menlo,'DejaVu Sans Mono',consolas,'Courier New',monospace\"><span style=\"color: #ffff00; text-decoration-color: #ffff00\">Use GPT-4o:</span>\n",
       "</pre>\n"
      ],
      "text/plain": [
       "\u001b[93mUse GPT-4o:\u001b[0m\n"
      ]
     },
     "metadata": {},
     "output_type": "display_data"
    },
    {
     "data": {
      "text/html": [
       "<pre style=\"white-space:pre;overflow-x:auto;line-height:normal;font-family:Menlo,'DejaVu Sans Mono',consolas,'Courier New',monospace\"><span style=\"color: #808000; text-decoration-color: #808000; font-weight: bold; font-style: italic\">{</span>\n",
       "<span style=\"color: #808000; text-decoration-color: #808000; font-style: italic\">  </span><span style=\"color: #808000; text-decoration-color: #808000; font-style: italic\">\"type\"</span><span style=\"color: #808000; text-decoration-color: #808000; font-style: italic\">: </span><span style=\"color: #808000; text-decoration-color: #808000; font-style: italic\">\"content\"</span><span style=\"color: #808000; text-decoration-color: #808000; font-style: italic\">,</span>\n",
       "<span style=\"color: #808000; text-decoration-color: #808000; font-style: italic\">  </span><span style=\"color: #808000; text-decoration-color: #808000; font-style: italic\">\"content\"</span><span style=\"color: #808000; text-decoration-color: #808000; font-style: italic\">: </span><span style=\"color: #808000; text-decoration-color: #808000; font-style: italic\">\"{\\\"title\\\":\\\"Foundation\\\",\\\"summary\\\":\\\"Set against the backdrop of a vast galactic empire in </span>\n",
       "<span style=\"color: #808000; text-decoration-color: #808000; font-style: italic\">decline, \\\\\\\"Foundation\\\\\\\" explores the efforts of Hari Seldon, a psychohistorian whose science combines </span>\n",
       "<span style=\"color: #808000; text-decoration-color: #808000; font-style: italic\">psychology and statistical mathematics to predict large-scale events of the future. Foreseeing the inevitable fall </span>\n",
       "<span style=\"color: #808000; text-decoration-color: #808000; font-style: italic\">of the empire and a subsequent dark age, Seldon establishes the Foundation: a select group of scientists and </span>\n",
       "<span style=\"color: #808000; text-decoration-color: #808000; font-style: italic\">scholars charged with preserving and expanding the collective knowledge of humankind.\\\\n\\\\nThrough a series of </span>\n",
       "<span style=\"color: #808000; text-decoration-color: #808000; font-style: italic\">stories, each a complete tale within the broader saga, Asimov charts the challenges and developments of the </span>\n",
       "<span style=\"color: #808000; text-decoration-color: #808000; font-style: italic\">Foundation as it struggles to influence the course of history, curtail the looming dark age, and ultimately rebuild</span>\n",
       "<span style=\"color: #808000; text-decoration-color: #808000; font-style: italic\">civilization. The narrative explores themes of determinism, knowledge as power, and the potential for humanity to </span>\n",
       "<span style=\"color: #808000; text-decoration-color: #808000; font-style: italic\">transcend its present condition.\\\",\\\"author\\\":\\\"Isaac Asimov\\\",\\\"published_year\\\":1951}\"</span>\n",
       "<span style=\"color: #808000; text-decoration-color: #808000; font-weight: bold; font-style: italic\">}</span>\n",
       "</pre>\n"
      ],
      "text/plain": [
       "\u001b[1;3;33m{\u001b[0m\n",
       "\u001b[3;33m  \u001b[0m\u001b[3;33m\"type\"\u001b[0m\u001b[3;33m: \u001b[0m\u001b[3;33m\"content\"\u001b[0m\u001b[3;33m,\u001b[0m\n",
       "\u001b[3;33m  \u001b[0m\u001b[3;33m\"content\"\u001b[0m\u001b[3;33m: \u001b[0m\u001b[3;33m\"\u001b[0m\u001b[3;33m{\u001b[0m\u001b[3;33m\\\"title\\\":\\\"Foundation\\\",\\\"summary\\\":\\\"Set against the backdrop of a vast galactic empire in \u001b[0m\n",
       "\u001b[3;33mdecline, \\\\\\\"Foundation\\\\\\\" explores the efforts of Hari Seldon, a psychohistorian whose science combines \u001b[0m\n",
       "\u001b[3;33mpsychology and statistical mathematics to predict large-scale events of the future. Foreseeing the inevitable fall \u001b[0m\n",
       "\u001b[3;33mof the empire and a subsequent dark age, Seldon establishes the Foundation: a select group of scientists and \u001b[0m\n",
       "\u001b[3;33mscholars charged with preserving and expanding the collective knowledge of humankind.\\\\n\\\\nThrough a series of \u001b[0m\n",
       "\u001b[3;33mstories, each a complete tale within the broader saga, Asimov charts the challenges and developments of the \u001b[0m\n",
       "\u001b[3;33mFoundation as it struggles to influence the course of history, curtail the looming dark age, and ultimately rebuild\u001b[0m\n",
       "\u001b[3;33mcivilization. The narrative explores themes of determinism, knowledge as power, and the potential for humanity to \u001b[0m\n",
       "\u001b[3;33mtranscend its present condition.\\\",\\\"author\\\":\\\"Isaac Asimov\\\",\\\"published_year\\\":1951\u001b[0m\u001b[3;33m}\u001b[0m\u001b[3;33m\"\u001b[0m\n",
       "\u001b[1;3;33m}\u001b[0m\n"
      ]
     },
     "metadata": {},
     "output_type": "display_data"
    }
   ],
   "source": [
    "import json\n",
    "from pydantic import BaseModel\n",
    "class Book(BaseModel):\n",
    "    title: str\n",
    "    summary: str\n",
    "    author: str\n",
    "    published_year: int\n",
    "response_model = Book.schema()\n",
    "\n",
    "data = \"\"\"Foundation is a science fiction novel by American writer\n",
    "        Isaac Asimov. It is the first published in his Foundation Trilogy (later\n",
    "        expanded into the Foundation series). Foundation is a cycle of five\n",
    "        interrelated short stories, first published as a single book by Gnome Press\n",
    "        in 1951. Collectively they tell the early story of the Foundation,\n",
    "        an institute founded by psychohistorian Hari Seldon to preserve the best\n",
    "        of galactic civilization after the collapse of the Galactic Empire.\"\"\"\n",
    "\n",
    "console.print(\"[bright_yellow]Use GPT-4o:[/]\")\n",
    "\n",
    "response = openai_client.beta.chat.completions.parse(\n",
    "    model=\"gpt-4o\",\n",
    "    response_format=Book,\n",
    "    messages=[{\"role\": \"user\", \"content\": data}]\n",
    ")\n",
    "console.print(f\"[yellow italic]{json.dumps(response.extract(), indent=2)}[/]\")\n"
   ]
  },
  {
   "cell_type": "markdown",
   "metadata": {},
   "source": [
    "## Ollama"
   ]
  },
  {
   "cell_type": "code",
   "execution_count": 2,
   "metadata": {},
   "outputs": [
    {
     "data": {
      "text/html": [
       "<pre style=\"white-space:pre;overflow-x:auto;line-height:normal;font-family:Menlo,'DejaVu Sans Mono',consolas,'Courier New',monospace\"><span style=\"color: #00ffff; text-decoration-color: #00ffff\">Use Ollama:</span>\n",
       "</pre>\n"
      ],
      "text/plain": [
       "\u001b[96mUse Ollama:\u001b[0m\n"
      ]
     },
     "metadata": {},
     "output_type": "display_data"
    },
    {
     "data": {
      "text/html": [
       "<pre style=\"white-space:pre;overflow-x:auto;line-height:normal;font-family:Menlo,'DejaVu Sans Mono',consolas,'Courier New',monospace\"><span style=\"color: #008080; text-decoration-color: #008080; font-weight: bold; font-style: italic\">{</span>\n",
       "<span style=\"color: #008080; text-decoration-color: #008080; font-style: italic\">  </span><span style=\"color: #008080; text-decoration-color: #008080; font-style: italic\">\"type\"</span><span style=\"color: #008080; text-decoration-color: #008080; font-style: italic\">: </span><span style=\"color: #008080; text-decoration-color: #008080; font-style: italic\">\"content\"</span><span style=\"color: #008080; text-decoration-color: #008080; font-style: italic\">,</span>\n",
       "<span style=\"color: #008080; text-decoration-color: #008080; font-style: italic\">  </span><span style=\"color: #008080; text-decoration-color: #008080; font-style: italic\">\"content\"</span><span style=\"color: #008080; text-decoration-color: #008080; font-style: italic\">: </span><span style=\"color: #008080; text-decoration-color: #008080; font-style: italic\">\"{ \\\"title\\\": \\\"Foundation\\\", \\\"summary\\\": \\\"The first novel in Isaac Asimov's epic science fiction </span>\n",
       "<span style=\"color: #008080; text-decoration-color: #008080; font-style: italic\">series, published in 1951 as a single book collecting five interrelated short stories. The story follows the early </span>\n",
       "<span style=\"color: #008080; text-decoration-color: #008080; font-style: italic\">history of the Foundation, an institute founded by Hari Seldon to preserve knowledge after the collapse of the </span>\n",
       "<span style=\"color: #008080; text-decoration-color: #008080; font-style: italic\">Galactic Empire.\\\", \\\"author\\\": \\\"Isaac Asimov\\\" , \\\"published_year\\\": 1951 }\"</span>\n",
       "<span style=\"color: #008080; text-decoration-color: #008080; font-weight: bold; font-style: italic\">}</span>\n",
       "</pre>\n"
      ],
      "text/plain": [
       "\u001b[1;3;36m{\u001b[0m\n",
       "\u001b[3;36m  \u001b[0m\u001b[3;36m\"type\"\u001b[0m\u001b[3;36m: \u001b[0m\u001b[3;36m\"content\"\u001b[0m\u001b[3;36m,\u001b[0m\n",
       "\u001b[3;36m  \u001b[0m\u001b[3;36m\"content\"\u001b[0m\u001b[3;36m: \u001b[0m\u001b[3;36m\"\u001b[0m\u001b[3;36m{\u001b[0m\u001b[3;36m \\\"title\\\": \\\"Foundation\\\", \\\"summary\\\": \\\"The first novel in Isaac Asimov's epic science fiction \u001b[0m\n",
       "\u001b[3;36mseries, published in 1951 as a single book collecting five interrelated short stories. The story follows the early \u001b[0m\n",
       "\u001b[3;36mhistory of the Foundation, an institute founded by Hari Seldon to preserve knowledge after the collapse of the \u001b[0m\n",
       "\u001b[3;36mGalactic Empire.\\\", \\\"author\\\": \\\"Isaac Asimov\\\" , \\\"published_year\\\": 1951 \u001b[0m\u001b[3;36m}\u001b[0m\u001b[3;36m\"\u001b[0m\n",
       "\u001b[1;3;36m}\u001b[0m\n"
      ]
     },
     "metadata": {},
     "output_type": "display_data"
    }
   ],
   "source": [
    "import json\n",
    "from pydantic import BaseModel\n",
    "class Book(BaseModel):\n",
    "    title: str\n",
    "    summary: str\n",
    "    author: str\n",
    "    published_year: int\n",
    "response_model = Book.model_json_schema()\n",
    "\n",
    "data = \"\"\"Foundation is a science fiction novel by American writer\n",
    "        Isaac Asimov. It is the first published in his Foundation Trilogy (later\n",
    "        expanded into the Foundation series). Foundation is a cycle of five\n",
    "        interrelated short stories, first published as a single book by Gnome Press\n",
    "        in 1951. Collectively they tell the early story of the Foundation,\n",
    "        an institute founded by psychohistorian Hari Seldon to preserve the best\n",
    "        of galactic civilization after the collapse of the Galactic Empire.\"\"\"\n",
    "\n",
    "# Use exllama\n",
    "console.print(\"[bright_cyan]Use Ollama:[/]\")\n",
    "response = openai_client.beta.chat.completions.parse(\n",
    "    model=\"llama3.1\",\n",
    "    response_format=Book,\n",
    "    messages=[{\"role\": \"user\", \"content\": data}],\n",
    "    timeout=60\n",
    ")\n",
    "import json\n",
    "console.print(f\"[cyan italic]{json.dumps(response.extract(), indent=2)}[/]\")\n"
   ]
  },
  {
   "cell_type": "markdown",
   "metadata": {},
   "source": [
    "## TTT"
   ]
  },
  {
   "cell_type": "code",
   "execution_count": 3,
   "metadata": {},
   "outputs": [
    {
     "data": {
      "text/html": [
       "<pre style=\"white-space:pre;overflow-x:auto;line-height:normal;font-family:Menlo,'DejaVu Sans Mono',consolas,'Courier New',monospace\"><span style=\"color: #ff00ff; text-decoration-color: #ff00ff\">Use LlamaCPP:</span>\n",
       "</pre>\n"
      ],
      "text/plain": [
       "\u001b[95mUse LlamaCPP:\u001b[0m\n"
      ]
     },
     "metadata": {},
     "output_type": "display_data"
    },
    {
     "data": {
      "text/html": [
       "<pre style=\"white-space:pre;overflow-x:auto;line-height:normal;font-family:Menlo,'DejaVu Sans Mono',consolas,'Courier New',monospace\"><span style=\"color: #800080; text-decoration-color: #800080; font-weight: bold; font-style: italic\">{</span>\n",
       "<span style=\"color: #800080; text-decoration-color: #800080; font-style: italic\">  </span><span style=\"color: #800080; text-decoration-color: #800080; font-style: italic\">\"type\"</span><span style=\"color: #800080; text-decoration-color: #800080; font-style: italic\">: </span><span style=\"color: #800080; text-decoration-color: #800080; font-style: italic\">\"content\"</span><span style=\"color: #800080; text-decoration-color: #800080; font-style: italic\">,</span>\n",
       "<span style=\"color: #800080; text-decoration-color: #800080; font-style: italic\">  </span><span style=\"color: #800080; text-decoration-color: #800080; font-style: italic\">\"content\"</span><span style=\"color: #800080; text-decoration-color: #800080; font-style: italic\">: </span><span style=\"color: #800080; text-decoration-color: #800080; font-style: italic\">\"{ \\\"title\\\": \\\"Foundation\\\", \\\"summary\\\": \\\"Foundation is a science fiction novel by American writer </span>\n",
       "<span style=\"color: #800080; text-decoration-color: #800080; font-style: italic\">Isaac Asimov. It is the first published in his Foundation Trilogy (later expanded into the Foundation series). </span>\n",
       "<span style=\"color: #800080; text-decoration-color: #800080; font-style: italic\">Foundation is a cycle of five interrelated short stories, first published as a single book by Gnome Press in 1951. </span>\n",
       "<span style=\"color: #800080; text-decoration-color: #800080; font-style: italic\">Collectively they tell the early story of the Foundation, an institute founded by psychohistorian Hari Seldon to </span>\n",
       "<span style=\"color: #800080; text-decoration-color: #800080; font-style: italic\">preserve the best of galactic civilization after the collapse of the Galactic Empire.\\\" ,\\\"author\\\": \\\"Isaac </span>\n",
       "<span style=\"color: #800080; text-decoration-color: #800080; font-style: italic\">Asimov\\\" ,\\\"published_year\\\": 1951 }\"</span>\n",
       "<span style=\"color: #800080; text-decoration-color: #800080; font-weight: bold; font-style: italic\">}</span>\n",
       "</pre>\n"
      ],
      "text/plain": [
       "\u001b[1;3;35m{\u001b[0m\n",
       "\u001b[3;35m  \u001b[0m\u001b[3;35m\"type\"\u001b[0m\u001b[3;35m: \u001b[0m\u001b[3;35m\"content\"\u001b[0m\u001b[3;35m,\u001b[0m\n",
       "\u001b[3;35m  \u001b[0m\u001b[3;35m\"content\"\u001b[0m\u001b[3;35m: \u001b[0m\u001b[3;35m\"\u001b[0m\u001b[3;35m{\u001b[0m\u001b[3;35m \\\"title\\\": \\\"Foundation\\\", \\\"summary\\\": \\\"Foundation is a science fiction novel by American writer \u001b[0m\n",
       "\u001b[3;35mIsaac Asimov. It is the first published in his Foundation Trilogy \u001b[0m\u001b[3;35m(\u001b[0m\u001b[3;35mlater expanded into the Foundation series\u001b[0m\u001b[3;35m)\u001b[0m\u001b[3;35m. \u001b[0m\n",
       "\u001b[3;35mFoundation is a cycle of five interrelated short stories, first published as a single book by Gnome Press in 1951. \u001b[0m\n",
       "\u001b[3;35mCollectively they tell the early story of the Foundation, an institute founded by psychohistorian Hari Seldon to \u001b[0m\n",
       "\u001b[3;35mpreserve the best of galactic civilization after the collapse of the Galactic Empire.\\\" ,\\\"author\\\": \\\"Isaac \u001b[0m\n",
       "\u001b[3;35mAsimov\\\" ,\\\"published_year\\\": 1951 \u001b[0m\u001b[3;35m}\u001b[0m\u001b[3;35m\"\u001b[0m\n",
       "\u001b[1;3;35m}\u001b[0m\n"
      ]
     },
     "metadata": {},
     "output_type": "display_data"
    }
   ],
   "source": [
    "import json\n",
    "from pydantic import BaseModel\n",
    "class Book(BaseModel):\n",
    "    title: str\n",
    "    summary: str\n",
    "    author: str\n",
    "    published_year: int\n",
    "response_model = Book.model_json_schema()\n",
    "\n",
    "data = \"\"\"Foundation is a science fiction novel by American writer\n",
    "        Isaac Asimov. It is the first published in his Foundation Trilogy (later\n",
    "        expanded into the Foundation series). Foundation is a cycle of five\n",
    "        interrelated short stories, first published as a single book by Gnome Press\n",
    "        in 1951. Collectively they tell the early story of the Foundation,\n",
    "        an institute founded by psychohistorian Hari Seldon to preserve the best\n",
    "        of galactic civilization after the collapse of the Galactic Empire.\"\"\"\n",
    "\n",
    "# Use exllama\n",
    "console.print(\"[bright_magenta]Use LlamaCPP:[/]\")\n",
    "response = openai_client.beta.chat.completions.parse(\n",
    "    model=\"ttt-llamacpp-dolphin\",\n",
    "    response_format=Book,\n",
    "    messages=[{\"role\": \"user\", \"content\": data}],\n",
    "    timeout=60\n",
    ")\n",
    "import json\n",
    "console.print(f\"[magenta italic]{json.dumps(response.extract(), indent=2)}[/]\")\n"
   ]
  }
 ],
 "metadata": {
  "kernelspec": {
   "display_name": ".venv",
   "language": "python",
   "name": "python3"
  },
  "language_info": {
   "codemirror_mode": {
    "name": "ipython",
    "version": 3
   },
   "file_extension": ".py",
   "mimetype": "text/x-python",
   "name": "python",
   "nbconvert_exporter": "python",
   "pygments_lexer": "ipython3",
   "version": "3.10.12"
  }
 },
 "nbformat": 4,
 "nbformat_minor": 2
}
