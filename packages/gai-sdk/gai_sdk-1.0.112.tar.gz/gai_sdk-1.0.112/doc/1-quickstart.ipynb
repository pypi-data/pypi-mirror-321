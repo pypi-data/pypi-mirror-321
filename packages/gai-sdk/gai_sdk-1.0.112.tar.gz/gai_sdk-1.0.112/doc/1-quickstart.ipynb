{
 "cells": [
  {
   "cell_type": "markdown",
   "metadata": {},
   "source": [
    "# 1. Quickstart"
   ]
  },
  {
   "cell_type": "markdown",
   "metadata": {},
   "source": [
    "Run the following to check if the container is running:\n",
    "\n",
    "```$ docker ps --format \"table {{.Image}}\\t{{.Names}}\\t{{.Status}}\" | grep gai-ttt```\n",
    "\n",
    "Once it is started, the status will look like this:\n",
    "\n",
    "```gai-ttt:latest   gai-ttt   Up 2 minutes```\n",
    "\n",
    "Otherwise, run `gai docker start`.\n",
    "\n"
   ]
  },
  {
   "cell_type": "markdown",
   "metadata": {},
   "source": [
    "a) Patch OpenAI Client"
   ]
  },
  {
   "cell_type": "code",
   "execution_count": 3,
   "metadata": {},
   "outputs": [],
   "source": [
    "from rich.console import Console\n",
    "console = Console()\n",
    "\n",
    "import os\n",
    "# Replace this with your OpenAI API key if you want to use it\n",
    "if os.environ.get(\"OPENAI_API_KEY\") is None:\n",
    "    os.environ[\"OPENAI_API_KEY\"] = \"\"\n",
    "\n",
    "# Load and patch openai\n",
    "from openai import OpenAI\n",
    "openai_client = OpenAI()\n",
    "\n",
    "from gai.openai.patch import patch_chatcompletions\n",
    "openai_client = patch_chatcompletions(openai_client)\n",
    "\n",
    "import json\n"
   ]
  },
  {
   "cell_type": "markdown",
   "metadata": {},
   "source": [
    "b) Create Completions"
   ]
  },
  {
   "cell_type": "code",
   "execution_count": 2,
   "metadata": {},
   "outputs": [
    {
     "data": {
      "text/html": [
       "<pre style=\"white-space:pre;overflow-x:auto;line-height:normal;font-family:Menlo,'DejaVu Sans Mono',consolas,'Courier New',monospace\"><span style=\"color: #808000; text-decoration-color: #808000\">Use GPT-4o create:</span>\n",
       "</pre>\n"
      ],
      "text/plain": [
       "\u001b[33mUse GPT-4o create:\u001b[0m\n"
      ]
     },
     "metadata": {},
     "output_type": "display_data"
    },
    {
     "data": {
      "text/html": [
       "<pre style=\"white-space:pre;overflow-x:auto;line-height:normal;font-family:Menlo,'DejaVu Sans Mono',consolas,'Courier New',monospace\"><span style=\"color: #c0c0c0; text-decoration-color: #c0c0c0; font-weight: bold\">ChatCompletion(</span><span style=\"color: #c0c0c0; text-decoration-color: #c0c0c0\">id</span><span style=\"color: #c0c0c0; text-decoration-color: #c0c0c0\">=</span><span style=\"color: #c0c0c0; text-decoration-color: #c0c0c0\">'chatcmpl-Aplaaaq5499SoGwMrO7p6g1zF7neo'</span><span style=\"color: #c0c0c0; text-decoration-color: #c0c0c0\">, </span><span style=\"color: #c0c0c0; text-decoration-color: #c0c0c0\">choices</span><span style=\"color: #c0c0c0; text-decoration-color: #c0c0c0\">=</span><span style=\"color: #c0c0c0; text-decoration-color: #c0c0c0; font-weight: bold\">[Choice(</span><span style=\"color: #c0c0c0; text-decoration-color: #c0c0c0\">finish_reason</span><span style=\"color: #c0c0c0; text-decoration-color: #c0c0c0\">=</span><span style=\"color: #c0c0c0; text-decoration-color: #c0c0c0\">'stop'</span><span style=\"color: #c0c0c0; text-decoration-color: #c0c0c0\">, </span><span style=\"color: #c0c0c0; text-decoration-color: #c0c0c0\">index</span><span style=\"color: #c0c0c0; text-decoration-color: #c0c0c0\">=</span><span style=\"color: #c0c0c0; text-decoration-color: #c0c0c0; font-weight: bold\">0</span><span style=\"color: #c0c0c0; text-decoration-color: #c0c0c0\">, </span>\n",
       "<span style=\"color: #c0c0c0; text-decoration-color: #c0c0c0\">logprobs</span><span style=\"color: #c0c0c0; text-decoration-color: #c0c0c0\">=</span><span style=\"color: #c0c0c0; text-decoration-color: #c0c0c0; font-style: italic\">None</span><span style=\"color: #c0c0c0; text-decoration-color: #c0c0c0\">, </span><span style=\"color: #c0c0c0; text-decoration-color: #c0c0c0\">message</span><span style=\"color: #c0c0c0; text-decoration-color: #c0c0c0\">=</span><span style=\"color: #c0c0c0; text-decoration-color: #c0c0c0; font-weight: bold\">ChatCompletionMessage</span><span style=\"color: #c0c0c0; text-decoration-color: #c0c0c0; font-weight: bold\">(</span><span style=\"color: #c0c0c0; text-decoration-color: #c0c0c0\">content</span><span style=\"color: #c0c0c0; text-decoration-color: #c0c0c0\">=</span><span style=\"color: #c0c0c0; text-decoration-color: #c0c0c0\">'In a world where dreams were traded like currency, young </span>\n",
       "<span style=\"color: #c0c0c0; text-decoration-color: #c0c0c0\">Elara discovered that her most cherished dream had the power to reshape reality.'</span><span style=\"color: #c0c0c0; text-decoration-color: #c0c0c0\">, </span><span style=\"color: #c0c0c0; text-decoration-color: #c0c0c0\">refusal</span><span style=\"color: #c0c0c0; text-decoration-color: #c0c0c0\">=</span><span style=\"color: #c0c0c0; text-decoration-color: #c0c0c0; font-style: italic\">None</span><span style=\"color: #c0c0c0; text-decoration-color: #c0c0c0\">, </span><span style=\"color: #c0c0c0; text-decoration-color: #c0c0c0\">role</span><span style=\"color: #c0c0c0; text-decoration-color: #c0c0c0\">=</span><span style=\"color: #c0c0c0; text-decoration-color: #c0c0c0\">'assistant'</span><span style=\"color: #c0c0c0; text-decoration-color: #c0c0c0\">, </span>\n",
       "<span style=\"color: #c0c0c0; text-decoration-color: #c0c0c0\">function_call</span><span style=\"color: #c0c0c0; text-decoration-color: #c0c0c0\">=</span><span style=\"color: #c0c0c0; text-decoration-color: #c0c0c0; font-style: italic\">None</span><span style=\"color: #c0c0c0; text-decoration-color: #c0c0c0\">, </span><span style=\"color: #c0c0c0; text-decoration-color: #c0c0c0\">tool_calls</span><span style=\"color: #c0c0c0; text-decoration-color: #c0c0c0\">=</span><span style=\"color: #c0c0c0; text-decoration-color: #c0c0c0; font-style: italic\">None</span><span style=\"color: #c0c0c0; text-decoration-color: #c0c0c0; font-weight: bold\">))]</span><span style=\"color: #c0c0c0; text-decoration-color: #c0c0c0\">, </span><span style=\"color: #c0c0c0; text-decoration-color: #c0c0c0\">created</span><span style=\"color: #c0c0c0; text-decoration-color: #c0c0c0\">=</span><span style=\"color: #c0c0c0; text-decoration-color: #c0c0c0; font-weight: bold\">1736901024</span><span style=\"color: #c0c0c0; text-decoration-color: #c0c0c0\">, </span><span style=\"color: #c0c0c0; text-decoration-color: #c0c0c0\">model</span><span style=\"color: #c0c0c0; text-decoration-color: #c0c0c0\">=</span><span style=\"color: #c0c0c0; text-decoration-color: #c0c0c0\">'gpt-4o-2024-08-06'</span><span style=\"color: #c0c0c0; text-decoration-color: #c0c0c0\">, </span><span style=\"color: #c0c0c0; text-decoration-color: #c0c0c0\">object</span><span style=\"color: #c0c0c0; text-decoration-color: #c0c0c0\">=</span><span style=\"color: #c0c0c0; text-decoration-color: #c0c0c0\">'chat.completion'</span><span style=\"color: #c0c0c0; text-decoration-color: #c0c0c0\">, </span>\n",
       "<span style=\"color: #c0c0c0; text-decoration-color: #c0c0c0\">service_tier</span><span style=\"color: #c0c0c0; text-decoration-color: #c0c0c0\">=</span><span style=\"color: #c0c0c0; text-decoration-color: #c0c0c0\">'default'</span><span style=\"color: #c0c0c0; text-decoration-color: #c0c0c0\">, </span><span style=\"color: #c0c0c0; text-decoration-color: #c0c0c0\">system_fingerprint</span><span style=\"color: #c0c0c0; text-decoration-color: #c0c0c0\">=</span><span style=\"color: #c0c0c0; text-decoration-color: #c0c0c0\">'fp_4691090a87'</span><span style=\"color: #c0c0c0; text-decoration-color: #c0c0c0\">, </span><span style=\"color: #c0c0c0; text-decoration-color: #c0c0c0\">usage</span><span style=\"color: #c0c0c0; text-decoration-color: #c0c0c0\">=</span><span style=\"color: #c0c0c0; text-decoration-color: #c0c0c0; font-weight: bold\">CompletionUsage</span><span style=\"color: #c0c0c0; text-decoration-color: #c0c0c0; font-weight: bold\">(</span><span style=\"color: #c0c0c0; text-decoration-color: #c0c0c0\">completion_tokens</span><span style=\"color: #c0c0c0; text-decoration-color: #c0c0c0\">=</span><span style=\"color: #c0c0c0; text-decoration-color: #c0c0c0; font-weight: bold\">27</span><span style=\"color: #c0c0c0; text-decoration-color: #c0c0c0\">, </span>\n",
       "<span style=\"color: #c0c0c0; text-decoration-color: #c0c0c0\">prompt_tokens</span><span style=\"color: #c0c0c0; text-decoration-color: #c0c0c0\">=</span><span style=\"color: #c0c0c0; text-decoration-color: #c0c0c0; font-weight: bold\">13</span><span style=\"color: #c0c0c0; text-decoration-color: #c0c0c0\">, </span><span style=\"color: #c0c0c0; text-decoration-color: #c0c0c0\">total_tokens</span><span style=\"color: #c0c0c0; text-decoration-color: #c0c0c0\">=</span><span style=\"color: #c0c0c0; text-decoration-color: #c0c0c0; font-weight: bold\">40</span><span style=\"color: #c0c0c0; text-decoration-color: #c0c0c0\">, </span><span style=\"color: #c0c0c0; text-decoration-color: #c0c0c0\">prompt_tokens_details</span><span style=\"color: #c0c0c0; text-decoration-color: #c0c0c0\">=</span><span style=\"color: #c0c0c0; text-decoration-color: #c0c0c0; font-weight: bold\">{</span><span style=\"color: #c0c0c0; text-decoration-color: #c0c0c0\">'cached_tokens'</span><span style=\"color: #c0c0c0; text-decoration-color: #c0c0c0\">: </span><span style=\"color: #c0c0c0; text-decoration-color: #c0c0c0; font-weight: bold\">0</span><span style=\"color: #c0c0c0; text-decoration-color: #c0c0c0\">, </span><span style=\"color: #c0c0c0; text-decoration-color: #c0c0c0\">'audio_tokens'</span><span style=\"color: #c0c0c0; text-decoration-color: #c0c0c0\">: </span><span style=\"color: #c0c0c0; text-decoration-color: #c0c0c0; font-weight: bold\">0</span><span style=\"color: #c0c0c0; text-decoration-color: #c0c0c0; font-weight: bold\">}</span><span style=\"color: #c0c0c0; text-decoration-color: #c0c0c0\">, </span>\n",
       "<span style=\"color: #c0c0c0; text-decoration-color: #c0c0c0\">completion_tokens_details</span><span style=\"color: #c0c0c0; text-decoration-color: #c0c0c0\">=</span><span style=\"color: #c0c0c0; text-decoration-color: #c0c0c0; font-weight: bold\">{</span><span style=\"color: #c0c0c0; text-decoration-color: #c0c0c0\">'reasoning_tokens'</span><span style=\"color: #c0c0c0; text-decoration-color: #c0c0c0\">: </span><span style=\"color: #c0c0c0; text-decoration-color: #c0c0c0; font-weight: bold\">0</span><span style=\"color: #c0c0c0; text-decoration-color: #c0c0c0\">, </span><span style=\"color: #c0c0c0; text-decoration-color: #c0c0c0\">'audio_tokens'</span><span style=\"color: #c0c0c0; text-decoration-color: #c0c0c0\">: </span><span style=\"color: #c0c0c0; text-decoration-color: #c0c0c0; font-weight: bold\">0</span><span style=\"color: #c0c0c0; text-decoration-color: #c0c0c0\">, </span><span style=\"color: #c0c0c0; text-decoration-color: #c0c0c0\">'accepted_prediction_tokens'</span><span style=\"color: #c0c0c0; text-decoration-color: #c0c0c0\">: </span><span style=\"color: #c0c0c0; text-decoration-color: #c0c0c0; font-weight: bold\">0</span><span style=\"color: #c0c0c0; text-decoration-color: #c0c0c0\">, </span>\n",
       "<span style=\"color: #c0c0c0; text-decoration-color: #c0c0c0\">'rejected_prediction_tokens'</span><span style=\"color: #c0c0c0; text-decoration-color: #c0c0c0\">: </span><span style=\"color: #c0c0c0; text-decoration-color: #c0c0c0; font-weight: bold\">0</span><span style=\"color: #c0c0c0; text-decoration-color: #c0c0c0; font-weight: bold\">})</span><span style=\"color: #c0c0c0; text-decoration-color: #c0c0c0\">, </span><span style=\"color: #c0c0c0; text-decoration-color: #c0c0c0\">extract</span><span style=\"color: #c0c0c0; text-decoration-color: #c0c0c0\">=</span><span style=\"color: #c0c0c0; text-decoration-color: #c0c0c0; font-weight: bold\">&lt;function</span><span style=\"color: #c0c0c0; text-decoration-color: #c0c0c0\"> attach_extractor.&lt;locals&gt;.&lt;lambda&gt; at </span><span style=\"color: #c0c0c0; text-decoration-color: #c0c0c0; font-weight: bold\">0x7fdea19c3a30</span><span style=\"color: #c0c0c0; text-decoration-color: #c0c0c0; font-weight: bold\">&gt;)</span>\n",
       "</pre>\n"
      ],
      "text/plain": [
       "\u001b[1;37mChatCompletion\u001b[0m\u001b[1;37m(\u001b[0m\u001b[37mid\u001b[0m\u001b[37m=\u001b[0m\u001b[37m'chatcmpl-Aplaaaq5499SoGwMrO7p6g1zF7neo'\u001b[0m\u001b[37m, \u001b[0m\u001b[37mchoices\u001b[0m\u001b[37m=\u001b[0m\u001b[1;37m[\u001b[0m\u001b[1;37mChoice\u001b[0m\u001b[1;37m(\u001b[0m\u001b[37mfinish_reason\u001b[0m\u001b[37m=\u001b[0m\u001b[37m'stop'\u001b[0m\u001b[37m, \u001b[0m\u001b[37mindex\u001b[0m\u001b[37m=\u001b[0m\u001b[1;37m0\u001b[0m\u001b[37m, \u001b[0m\n",
       "\u001b[37mlogprobs\u001b[0m\u001b[37m=\u001b[0m\u001b[3;37mNone\u001b[0m\u001b[37m, \u001b[0m\u001b[37mmessage\u001b[0m\u001b[37m=\u001b[0m\u001b[1;37mChatCompletionMessage\u001b[0m\u001b[1;37m(\u001b[0m\u001b[37mcontent\u001b[0m\u001b[37m=\u001b[0m\u001b[37m'In a world where dreams were traded like currency, young \u001b[0m\n",
       "\u001b[37mElara discovered that her most cherished dream had the power to reshape reality.'\u001b[0m\u001b[37m, \u001b[0m\u001b[37mrefusal\u001b[0m\u001b[37m=\u001b[0m\u001b[3;37mNone\u001b[0m\u001b[37m, \u001b[0m\u001b[37mrole\u001b[0m\u001b[37m=\u001b[0m\u001b[37m'assistant'\u001b[0m\u001b[37m, \u001b[0m\n",
       "\u001b[37mfunction_call\u001b[0m\u001b[37m=\u001b[0m\u001b[3;37mNone\u001b[0m\u001b[37m, \u001b[0m\u001b[37mtool_calls\u001b[0m\u001b[37m=\u001b[0m\u001b[3;37mNone\u001b[0m\u001b[1;37m)\u001b[0m\u001b[1;37m)\u001b[0m\u001b[1;37m]\u001b[0m\u001b[37m, \u001b[0m\u001b[37mcreated\u001b[0m\u001b[37m=\u001b[0m\u001b[1;37m1736901024\u001b[0m\u001b[37m, \u001b[0m\u001b[37mmodel\u001b[0m\u001b[37m=\u001b[0m\u001b[37m'gpt-4o-2024-08-06'\u001b[0m\u001b[37m, \u001b[0m\u001b[37mobject\u001b[0m\u001b[37m=\u001b[0m\u001b[37m'chat.completion'\u001b[0m\u001b[37m, \u001b[0m\n",
       "\u001b[37mservice_tier\u001b[0m\u001b[37m=\u001b[0m\u001b[37m'default'\u001b[0m\u001b[37m, \u001b[0m\u001b[37msystem_fingerprint\u001b[0m\u001b[37m=\u001b[0m\u001b[37m'fp_4691090a87'\u001b[0m\u001b[37m, \u001b[0m\u001b[37musage\u001b[0m\u001b[37m=\u001b[0m\u001b[1;37mCompletionUsage\u001b[0m\u001b[1;37m(\u001b[0m\u001b[37mcompletion_tokens\u001b[0m\u001b[37m=\u001b[0m\u001b[1;37m27\u001b[0m\u001b[37m, \u001b[0m\n",
       "\u001b[37mprompt_tokens\u001b[0m\u001b[37m=\u001b[0m\u001b[1;37m13\u001b[0m\u001b[37m, \u001b[0m\u001b[37mtotal_tokens\u001b[0m\u001b[37m=\u001b[0m\u001b[1;37m40\u001b[0m\u001b[37m, \u001b[0m\u001b[37mprompt_tokens_details\u001b[0m\u001b[37m=\u001b[0m\u001b[1;37m{\u001b[0m\u001b[37m'cached_tokens'\u001b[0m\u001b[37m: \u001b[0m\u001b[1;37m0\u001b[0m\u001b[37m, \u001b[0m\u001b[37m'audio_tokens'\u001b[0m\u001b[37m: \u001b[0m\u001b[1;37m0\u001b[0m\u001b[1;37m}\u001b[0m\u001b[37m, \u001b[0m\n",
       "\u001b[37mcompletion_tokens_details\u001b[0m\u001b[37m=\u001b[0m\u001b[1;37m{\u001b[0m\u001b[37m'reasoning_tokens'\u001b[0m\u001b[37m: \u001b[0m\u001b[1;37m0\u001b[0m\u001b[37m, \u001b[0m\u001b[37m'audio_tokens'\u001b[0m\u001b[37m: \u001b[0m\u001b[1;37m0\u001b[0m\u001b[37m, \u001b[0m\u001b[37m'accepted_prediction_tokens'\u001b[0m\u001b[37m: \u001b[0m\u001b[1;37m0\u001b[0m\u001b[37m, \u001b[0m\n",
       "\u001b[37m'rejected_prediction_tokens'\u001b[0m\u001b[37m: \u001b[0m\u001b[1;37m0\u001b[0m\u001b[1;37m}\u001b[0m\u001b[1;37m)\u001b[0m\u001b[37m, \u001b[0m\u001b[37mextract\u001b[0m\u001b[37m=\u001b[0m\u001b[1;37m<\u001b[0m\u001b[1;37mfunction\u001b[0m\u001b[37m attach_extractor.<locals>.<lambda> at \u001b[0m\u001b[1;37m0x7fdea19c3a30\u001b[0m\u001b[1;37m>\u001b[0m\u001b[1;37m)\u001b[0m\n"
      ]
     },
     "metadata": {},
     "output_type": "display_data"
    },
    {
     "data": {
      "text/html": [
       "<pre style=\"white-space:pre;overflow-x:auto;line-height:normal;font-family:Menlo,'DejaVu Sans Mono',consolas,'Courier New',monospace\"><span style=\"color: #808000; text-decoration-color: #808000\">extract:</span>\n",
       "</pre>\n"
      ],
      "text/plain": [
       "\u001b[33mextract:\u001b[0m\n"
      ]
     },
     "metadata": {},
     "output_type": "display_data"
    },
    {
     "data": {
      "text/html": [
       "<pre style=\"white-space:pre;overflow-x:auto;line-height:normal;font-family:Menlo,'DejaVu Sans Mono',consolas,'Courier New',monospace\"><span style=\"color: #808000; text-decoration-color: #808000; font-weight: bold\">{</span><span style=\"color: #808000; text-decoration-color: #808000\">'type'</span><span style=\"color: #808000; text-decoration-color: #808000\">: </span><span style=\"color: #808000; text-decoration-color: #808000\">'content'</span><span style=\"color: #808000; text-decoration-color: #808000\">, </span><span style=\"color: #808000; text-decoration-color: #808000\">'content'</span><span style=\"color: #808000; text-decoration-color: #808000\">: </span><span style=\"color: #808000; text-decoration-color: #808000\">'In a world where dreams were traded like currency, young Elara discovered that her </span>\n",
       "<span style=\"color: #808000; text-decoration-color: #808000\">most cherished dream had the power to reshape reality.'</span><span style=\"color: #808000; text-decoration-color: #808000; font-weight: bold\">}</span>\n",
       "</pre>\n"
      ],
      "text/plain": [
       "\u001b[1;33m{\u001b[0m\u001b[33m'type'\u001b[0m\u001b[33m: \u001b[0m\u001b[33m'content'\u001b[0m\u001b[33m, \u001b[0m\u001b[33m'content'\u001b[0m\u001b[33m: \u001b[0m\u001b[33m'In a world where dreams were traded like currency, young Elara discovered that her \u001b[0m\n",
       "\u001b[33mmost cherished dream had the power to reshape reality.'\u001b[0m\u001b[1;33m}\u001b[0m\n"
      ]
     },
     "metadata": {},
     "output_type": "display_data"
    },
    {
     "data": {
      "text/html": [
       "<pre style=\"white-space:pre;overflow-x:auto;line-height:normal;font-family:Menlo,'DejaVu Sans Mono',consolas,'Courier New',monospace\"><span style=\"color: #ffff00; text-decoration-color: #ffff00\">Use LlamaCPP:</span>\n",
       "</pre>\n"
      ],
      "text/plain": [
       "\u001b[93mUse LlamaCPP:\u001b[0m\n"
      ]
     },
     "metadata": {},
     "output_type": "display_data"
    },
    {
     "data": {
      "text/html": [
       "<pre style=\"white-space:pre;overflow-x:auto;line-height:normal;font-family:Menlo,'DejaVu Sans Mono',consolas,'Courier New',monospace\"><span style=\"color: #ffffff; text-decoration-color: #ffffff; font-weight: bold; font-style: italic\">ChatCompletion(</span><span style=\"color: #ffffff; text-decoration-color: #ffffff; font-style: italic\">id=</span><span style=\"color: #ffffff; text-decoration-color: #ffffff; font-style: italic\">'chatcmpl-86ca481e-117d-4191-97b8-17dde31369b6'</span><span style=\"color: #ffffff; text-decoration-color: #ffffff; font-style: italic\">, choices=</span><span style=\"color: #ffffff; text-decoration-color: #ffffff; font-weight: bold; font-style: italic\">[Choice(</span><span style=\"color: #ffffff; text-decoration-color: #ffffff; font-style: italic\">finish_reason=</span><span style=\"color: #ffffff; text-decoration-color: #ffffff; font-style: italic\">'stop'</span><span style=\"color: #ffffff; text-decoration-color: #ffffff; font-style: italic\">, index=</span><span style=\"color: #ffffff; text-decoration-color: #ffffff; font-weight: bold; font-style: italic\">0</span><span style=\"color: #ffffff; text-decoration-color: #ffffff; font-style: italic\">, </span>\n",
       "<span style=\"color: #ffffff; text-decoration-color: #ffffff; font-style: italic\">logprobs=None, message=</span><span style=\"color: #ffffff; text-decoration-color: #ffffff; font-weight: bold; font-style: italic\">ChatCompletionMessage(</span><span style=\"color: #ffffff; text-decoration-color: #ffffff; font-style: italic\">content=</span><span style=\"color: #ffffff; text-decoration-color: #ffffff; font-style: italic\">'The old man found a rare diamond in his backyard, changing </span>\n",
       "<span style=\"color: #ffffff; text-decoration-color: #ffffff; font-style: italic\">his life forever.'</span><span style=\"color: #ffffff; text-decoration-color: #ffffff; font-style: italic\">, refusal=None, role=</span><span style=\"color: #ffffff; text-decoration-color: #ffffff; font-style: italic\">'assistant'</span><span style=\"color: #ffffff; text-decoration-color: #ffffff; font-style: italic\">, function_call=None, tool_calls=None, audio=None</span><span style=\"color: #ffffff; text-decoration-color: #ffffff; font-weight: bold; font-style: italic\">))]</span><span style=\"color: #ffffff; text-decoration-color: #ffffff; font-style: italic\">, </span>\n",
       "<span style=\"color: #ffffff; text-decoration-color: #ffffff; font-style: italic\">created=</span><span style=\"color: #ffffff; text-decoration-color: #ffffff; font-weight: bold; font-style: italic\">1736901030</span><span style=\"color: #ffffff; text-decoration-color: #ffffff; font-style: italic\">, model=</span><span style=\"color: #ffffff; text-decoration-color: #ffffff; font-style: italic\">'llamacpp'</span><span style=\"color: #ffffff; text-decoration-color: #ffffff; font-style: italic\">, object=</span><span style=\"color: #ffffff; text-decoration-color: #ffffff; font-style: italic\">'chat.completion'</span><span style=\"color: #ffffff; text-decoration-color: #ffffff; font-style: italic\">, service_tier=None, system_fingerprint=None, </span>\n",
       "<span style=\"color: #ffffff; text-decoration-color: #ffffff; font-style: italic\">usage=</span><span style=\"color: #ffffff; text-decoration-color: #ffffff; font-weight: bold; font-style: italic\">CompletionUsage(</span><span style=\"color: #ffffff; text-decoration-color: #ffffff; font-style: italic\">completion_tokens=</span><span style=\"color: #ffffff; text-decoration-color: #ffffff; font-weight: bold; font-style: italic\">17</span><span style=\"color: #ffffff; text-decoration-color: #ffffff; font-style: italic\">, prompt_tokens=</span><span style=\"color: #ffffff; text-decoration-color: #ffffff; font-weight: bold; font-style: italic\">21</span><span style=\"color: #ffffff; text-decoration-color: #ffffff; font-style: italic\">, total_tokens=</span><span style=\"color: #ffffff; text-decoration-color: #ffffff; font-weight: bold; font-style: italic\">38</span><span style=\"color: #ffffff; text-decoration-color: #ffffff; font-style: italic\">, completion_tokens_details=None, </span>\n",
       "<span style=\"color: #ffffff; text-decoration-color: #ffffff; font-style: italic\">prompt_tokens_details=None</span><span style=\"color: #ffffff; text-decoration-color: #ffffff; font-weight: bold; font-style: italic\">)</span><span style=\"color: #ffffff; text-decoration-color: #ffffff; font-style: italic\">, extract=</span><span style=\"color: #ffffff; text-decoration-color: #ffffff; font-weight: bold; font-style: italic\">&lt;function</span><span style=\"color: #ffffff; text-decoration-color: #ffffff; font-style: italic\"> attach_extractor.&lt;locals&gt;.&lt;lambda&gt; at </span><span style=\"color: #ffffff; text-decoration-color: #ffffff; font-weight: bold; font-style: italic\">0x7fdea1f36e60&gt;)</span>\n",
       "</pre>\n"
      ],
      "text/plain": [
       "\u001b[1;3;97mChatCompletion\u001b[0m\u001b[1;3;97m(\u001b[0m\u001b[3;97mid\u001b[0m\u001b[3;97m=\u001b[0m\u001b[3;97m'chatcmpl-86ca481e-117d-4191-97b8-17dde31369b6'\u001b[0m\u001b[3;97m, \u001b[0m\u001b[3;97mchoices\u001b[0m\u001b[3;97m=\u001b[0m\u001b[1;3;97m[\u001b[0m\u001b[1;3;97mChoice\u001b[0m\u001b[1;3;97m(\u001b[0m\u001b[3;97mfinish_reason\u001b[0m\u001b[3;97m=\u001b[0m\u001b[3;97m'stop'\u001b[0m\u001b[3;97m, \u001b[0m\u001b[3;97mindex\u001b[0m\u001b[3;97m=\u001b[0m\u001b[1;3;97m0\u001b[0m\u001b[3;97m, \u001b[0m\n",
       "\u001b[3;97mlogprobs\u001b[0m\u001b[3;97m=\u001b[0m\u001b[3;97mNone\u001b[0m\u001b[3;97m, \u001b[0m\u001b[3;97mmessage\u001b[0m\u001b[3;97m=\u001b[0m\u001b[1;3;97mChatCompletionMessage\u001b[0m\u001b[1;3;97m(\u001b[0m\u001b[3;97mcontent\u001b[0m\u001b[3;97m=\u001b[0m\u001b[3;97m'The old man found a rare diamond in his backyard, changing \u001b[0m\n",
       "\u001b[3;97mhis life forever.'\u001b[0m\u001b[3;97m, \u001b[0m\u001b[3;97mrefusal\u001b[0m\u001b[3;97m=\u001b[0m\u001b[3;97mNone\u001b[0m\u001b[3;97m, \u001b[0m\u001b[3;97mrole\u001b[0m\u001b[3;97m=\u001b[0m\u001b[3;97m'assistant'\u001b[0m\u001b[3;97m, \u001b[0m\u001b[3;97mfunction_call\u001b[0m\u001b[3;97m=\u001b[0m\u001b[3;97mNone\u001b[0m\u001b[3;97m, \u001b[0m\u001b[3;97mtool_calls\u001b[0m\u001b[3;97m=\u001b[0m\u001b[3;97mNone\u001b[0m\u001b[3;97m, \u001b[0m\u001b[3;97maudio\u001b[0m\u001b[3;97m=\u001b[0m\u001b[3;97mNone\u001b[0m\u001b[1;3;97m)\u001b[0m\u001b[1;3;97m)\u001b[0m\u001b[1;3;97m]\u001b[0m\u001b[3;97m, \u001b[0m\n",
       "\u001b[3;97mcreated\u001b[0m\u001b[3;97m=\u001b[0m\u001b[1;3;97m1736901030\u001b[0m\u001b[3;97m, \u001b[0m\u001b[3;97mmodel\u001b[0m\u001b[3;97m=\u001b[0m\u001b[3;97m'llamacpp'\u001b[0m\u001b[3;97m, \u001b[0m\u001b[3;97mobject\u001b[0m\u001b[3;97m=\u001b[0m\u001b[3;97m'chat.completion'\u001b[0m\u001b[3;97m, \u001b[0m\u001b[3;97mservice_tier\u001b[0m\u001b[3;97m=\u001b[0m\u001b[3;97mNone\u001b[0m\u001b[3;97m, \u001b[0m\u001b[3;97msystem_fingerprint\u001b[0m\u001b[3;97m=\u001b[0m\u001b[3;97mNone\u001b[0m\u001b[3;97m, \u001b[0m\n",
       "\u001b[3;97musage\u001b[0m\u001b[3;97m=\u001b[0m\u001b[1;3;97mCompletionUsage\u001b[0m\u001b[1;3;97m(\u001b[0m\u001b[3;97mcompletion_tokens\u001b[0m\u001b[3;97m=\u001b[0m\u001b[1;3;97m17\u001b[0m\u001b[3;97m, \u001b[0m\u001b[3;97mprompt_tokens\u001b[0m\u001b[3;97m=\u001b[0m\u001b[1;3;97m21\u001b[0m\u001b[3;97m, \u001b[0m\u001b[3;97mtotal_tokens\u001b[0m\u001b[3;97m=\u001b[0m\u001b[1;3;97m38\u001b[0m\u001b[3;97m, \u001b[0m\u001b[3;97mcompletion_tokens_details\u001b[0m\u001b[3;97m=\u001b[0m\u001b[3;97mNone\u001b[0m\u001b[3;97m, \u001b[0m\n",
       "\u001b[3;97mprompt_tokens_details\u001b[0m\u001b[3;97m=\u001b[0m\u001b[3;97mNone\u001b[0m\u001b[1;3;97m)\u001b[0m\u001b[3;97m, \u001b[0m\u001b[3;97mextract\u001b[0m\u001b[3;97m=\u001b[0m\u001b[1;3;97m<\u001b[0m\u001b[1;3;97mfunction\u001b[0m\u001b[3;97m attach_extractor.<locals>.<lambda> at \u001b[0m\u001b[1;3;97m0x7fdea1f36e60\u001b[0m\u001b[1;3;97m>\u001b[0m\u001b[1;3;97m)\u001b[0m\n"
      ]
     },
     "metadata": {},
     "output_type": "display_data"
    },
    {
     "data": {
      "text/html": [
       "<pre style=\"white-space:pre;overflow-x:auto;line-height:normal;font-family:Menlo,'DejaVu Sans Mono',consolas,'Courier New',monospace\"><span style=\"color: #ffff00; text-decoration-color: #ffff00; font-style: italic\">extract:</span>\n",
       "</pre>\n"
      ],
      "text/plain": [
       "\u001b[3;93mextract:\u001b[0m\n"
      ]
     },
     "metadata": {},
     "output_type": "display_data"
    },
    {
     "data": {
      "text/html": [
       "<pre style=\"white-space:pre;overflow-x:auto;line-height:normal;font-family:Menlo,'DejaVu Sans Mono',consolas,'Courier New',monospace\"><span style=\"color: #ffff00; text-decoration-color: #ffff00; font-weight: bold; font-style: italic\">{</span><span style=\"color: #ffff00; text-decoration-color: #ffff00; font-style: italic\">'type'</span><span style=\"color: #ffff00; text-decoration-color: #ffff00; font-style: italic\">: </span><span style=\"color: #ffff00; text-decoration-color: #ffff00; font-style: italic\">'content'</span><span style=\"color: #ffff00; text-decoration-color: #ffff00; font-style: italic\">, </span><span style=\"color: #ffff00; text-decoration-color: #ffff00; font-style: italic\">'content'</span><span style=\"color: #ffff00; text-decoration-color: #ffff00; font-style: italic\">: </span><span style=\"color: #ffff00; text-decoration-color: #ffff00; font-style: italic\">'The old man found a rare diamond in his backyard, changing his life forever.'</span><span style=\"color: #ffff00; text-decoration-color: #ffff00; font-weight: bold; font-style: italic\">}</span>\n",
       "</pre>\n"
      ],
      "text/plain": [
       "\u001b[1;3;93m{\u001b[0m\u001b[3;93m'type'\u001b[0m\u001b[3;93m: \u001b[0m\u001b[3;93m'content'\u001b[0m\u001b[3;93m, \u001b[0m\u001b[3;93m'content'\u001b[0m\u001b[3;93m: \u001b[0m\u001b[3;93m'The old man found a rare diamond in his backyard, changing his life forever.'\u001b[0m\u001b[1;3;93m}\u001b[0m\n"
      ]
     },
     "metadata": {},
     "output_type": "display_data"
    }
   ],
   "source": [
    "# Use openai\n",
    "if os.environ.get(\"OPENAI_API_KEY\"):\n",
    "    console.print(\"[yellow]Use GPT-4o create:[/]\")\n",
    "    response=openai_client.chat.completions.create(model=\"gpt-4o\",messages=[{\"role\":\"user\",\"content\":\"Tell me a one sentence story\"}])\n",
    "    console.print(f\"[white]{response}[/]\")\n",
    "    console.print(\"[yellow]extract:[/]\")\n",
    "    console.print(f\"[yellow]{response.extract()}[/]\")\n",
    "\n",
    "# Use LlamaCPP\n",
    "console.print(\"[bright_yellow]Use LlamaCPP:[/]\")\n",
    "response=openai_client.chat.completions.create(model=\"ttt-llamacpp-dolphin\",messages=[{\"role\":\"user\",\"content\":\"Tell me a one sentence story\"}])\n",
    "console.print(f\"[bright_white italic]{response}[/]\")\n",
    "console.print(\"[bright_yellow italic]extract:[/]\")\n",
    "console.print(f\"[bright_yellow italic]{response.extract()}[/]\")"
   ]
  },
  {
   "cell_type": "markdown",
   "metadata": {},
   "source": [
    "c) Stream Completions"
   ]
  },
  {
   "cell_type": "code",
   "execution_count": 3,
   "metadata": {},
   "outputs": [
    {
     "data": {
      "text/html": [
       "<pre style=\"white-space:pre;overflow-x:auto;line-height:normal;font-family:Menlo,'DejaVu Sans Mono',consolas,'Courier New',monospace\"><span style=\"color: #808000; text-decoration-color: #808000\">Use GPT-4o:</span>\n",
       "</pre>\n"
      ],
      "text/plain": [
       "\u001b[33mUse GPT-4o:\u001b[0m\n"
      ]
     },
     "metadata": {},
     "output_type": "display_data"
    },
    {
     "name": "stdout",
     "output_type": "stream",
     "text": [
      "Beneath the whispering pines, a forgotten diary revealed secrets that forever changed the destiny of the small mountain town.\n"
     ]
    },
    {
     "data": {
      "text/html": [
       "<pre style=\"white-space:pre;overflow-x:auto;line-height:normal;font-family:Menlo,'DejaVu Sans Mono',consolas,'Courier New',monospace\"><span style=\"color: #ffff00; text-decoration-color: #ffff00\">Use LlamaCPP:</span>\n",
       "</pre>\n"
      ],
      "text/plain": [
       "\u001b[93mUse LlamaCPP:\u001b[0m\n"
      ]
     },
     "metadata": {},
     "output_type": "display_data"
    },
    {
     "name": "stdout",
     "output_type": "stream",
     "text": [
      "An old man found a lost puppy and decided to adopt it, bringing joy and companionship to both their lives."
     ]
    }
   ],
   "source": [
    "# Use openai\n",
    "if os.environ.get(\"OPENAI_API_KEY\"):\n",
    "    console.print(\"[yellow]Use GPT-4o:[/]\")\n",
    "    response=openai_client.chat.completions.create(model=\"gpt-4o\",messages=[{\"role\":\"user\",\"content\":\"Tell me a one sentence story\"}],stream=True)\n",
    "    for chunk in response:\n",
    "        chunk = chunk.extract()\n",
    "        if chunk and type(chunk) is str:\n",
    "            print(chunk,end=\"\",flush=True)\n",
    "print()\n",
    "# Use exllama\n",
    "console.print(\"[bright_yellow]Use LlamaCPP:[/]\")\n",
    "response=openai_client.chat.completions.create(model=\"ttt-llamacpp-dolphin\",messages=[{\"role\":\"user\",\"content\":\"Tell me a one sentence story\"}],stream=True)\n",
    "for chunk in response:\n",
    "    chunk = chunk.extract()\n",
    "    if chunk and type(chunk) is str:\n",
    "            print(chunk,end=\"\",flush=True)\n",
    "\n"
   ]
  },
  {
   "cell_type": "markdown",
   "metadata": {},
   "source": [
    "d) Create Tool Call"
   ]
  },
  {
   "cell_type": "code",
   "execution_count": 4,
   "metadata": {},
   "outputs": [
    {
     "data": {
      "text/html": [
       "<pre style=\"white-space:pre;overflow-x:auto;line-height:normal;font-family:Menlo,'DejaVu Sans Mono',consolas,'Courier New',monospace\"><span style=\"color: #808000; text-decoration-color: #808000\">Use GPT-4o:</span>\n",
       "</pre>\n"
      ],
      "text/plain": [
       "\u001b[33mUse GPT-4o:\u001b[0m\n"
      ]
     },
     "metadata": {},
     "output_type": "display_data"
    },
    {
     "data": {
      "text/html": [
       "<pre style=\"white-space:pre;overflow-x:auto;line-height:normal;font-family:Menlo,'DejaVu Sans Mono',consolas,'Courier New',monospace\"><span style=\"color: #808000; text-decoration-color: #808000; font-weight: bold; font-style: italic\">{</span>\n",
       "<span style=\"color: #808000; text-decoration-color: #808000; font-style: italic\">  </span><span style=\"color: #808000; text-decoration-color: #808000; font-style: italic\">\"type\"</span><span style=\"color: #808000; text-decoration-color: #808000; font-style: italic\">: </span><span style=\"color: #808000; text-decoration-color: #808000; font-style: italic\">\"function\"</span><span style=\"color: #808000; text-decoration-color: #808000; font-style: italic\">,</span>\n",
       "<span style=\"color: #808000; text-decoration-color: #808000; font-style: italic\">  </span><span style=\"color: #808000; text-decoration-color: #808000; font-style: italic\">\"name\"</span><span style=\"color: #808000; text-decoration-color: #808000; font-style: italic\">: </span><span style=\"color: #808000; text-decoration-color: #808000; font-style: italic\">\"google\"</span><span style=\"color: #808000; text-decoration-color: #808000; font-style: italic\">,</span>\n",
       "<span style=\"color: #808000; text-decoration-color: #808000; font-style: italic\">  </span><span style=\"color: #808000; text-decoration-color: #808000; font-style: italic\">\"arguments\"</span><span style=\"color: #808000; text-decoration-color: #808000; font-style: italic\">: </span><span style=\"color: #808000; text-decoration-color: #808000; font-style: italic\">\"{\\\"search_query\\\":\\\"current time in Singapore\\\"}\"</span>\n",
       "<span style=\"color: #808000; text-decoration-color: #808000; font-weight: bold; font-style: italic\">}</span>\n",
       "</pre>\n"
      ],
      "text/plain": [
       "\u001b[1;3;33m{\u001b[0m\n",
       "\u001b[3;33m  \u001b[0m\u001b[3;33m\"type\"\u001b[0m\u001b[3;33m: \u001b[0m\u001b[3;33m\"function\"\u001b[0m\u001b[3;33m,\u001b[0m\n",
       "\u001b[3;33m  \u001b[0m\u001b[3;33m\"name\"\u001b[0m\u001b[3;33m: \u001b[0m\u001b[3;33m\"google\"\u001b[0m\u001b[3;33m,\u001b[0m\n",
       "\u001b[3;33m  \u001b[0m\u001b[3;33m\"arguments\"\u001b[0m\u001b[3;33m: \u001b[0m\u001b[3;33m\"\u001b[0m\u001b[3;33m{\u001b[0m\u001b[3;33m\\\"search_query\\\":\\\"current time in Singapore\\\"\u001b[0m\u001b[3;33m}\u001b[0m\u001b[3;33m\"\u001b[0m\n",
       "\u001b[1;3;33m}\u001b[0m\n"
      ]
     },
     "metadata": {},
     "output_type": "display_data"
    },
    {
     "name": "stdout",
     "output_type": "stream",
     "text": [
      "\n"
     ]
    },
    {
     "data": {
      "text/html": [
       "<pre style=\"white-space:pre;overflow-x:auto;line-height:normal;font-family:Menlo,'DejaVu Sans Mono',consolas,'Courier New',monospace\"><span style=\"color: #ffff00; text-decoration-color: #ffff00\">Use LlamaCPP:</span>\n",
       "</pre>\n"
      ],
      "text/plain": [
       "\u001b[93mUse LlamaCPP:\u001b[0m\n"
      ]
     },
     "metadata": {},
     "output_type": "display_data"
    },
    {
     "data": {
      "text/html": [
       "<pre style=\"white-space:pre;overflow-x:auto;line-height:normal;font-family:Menlo,'DejaVu Sans Mono',consolas,'Courier New',monospace\"><span style=\"color: #ffff00; text-decoration-color: #ffff00; font-weight: bold; font-style: italic\">{</span>\n",
       "<span style=\"color: #ffff00; text-decoration-color: #ffff00; font-style: italic\">  </span><span style=\"color: #ffff00; text-decoration-color: #ffff00; font-style: italic\">\"type\"</span><span style=\"color: #ffff00; text-decoration-color: #ffff00; font-style: italic\">: </span><span style=\"color: #ffff00; text-decoration-color: #ffff00; font-style: italic\">\"function\"</span><span style=\"color: #ffff00; text-decoration-color: #ffff00; font-style: italic\">,</span>\n",
       "<span style=\"color: #ffff00; text-decoration-color: #ffff00; font-style: italic\">  </span><span style=\"color: #ffff00; text-decoration-color: #ffff00; font-style: italic\">\"name\"</span><span style=\"color: #ffff00; text-decoration-color: #ffff00; font-style: italic\">: </span><span style=\"color: #ffff00; text-decoration-color: #ffff00; font-style: italic\">\"google\"</span><span style=\"color: #ffff00; text-decoration-color: #ffff00; font-style: italic\">,</span>\n",
       "<span style=\"color: #ffff00; text-decoration-color: #ffff00; font-style: italic\">  </span><span style=\"color: #ffff00; text-decoration-color: #ffff00; font-style: italic\">\"arguments\"</span><span style=\"color: #ffff00; text-decoration-color: #ffff00; font-style: italic\">: </span><span style=\"color: #ffff00; text-decoration-color: #ffff00; font-style: italic\">\"{\\\"search_query\\\": \\\"current time in Singapore\\\"}\"</span>\n",
       "<span style=\"color: #ffff00; text-decoration-color: #ffff00; font-weight: bold; font-style: italic\">}</span>\n",
       "</pre>\n"
      ],
      "text/plain": [
       "\u001b[1;3;93m{\u001b[0m\n",
       "\u001b[3;93m  \u001b[0m\u001b[3;93m\"type\"\u001b[0m\u001b[3;93m: \u001b[0m\u001b[3;93m\"function\"\u001b[0m\u001b[3;93m,\u001b[0m\n",
       "\u001b[3;93m  \u001b[0m\u001b[3;93m\"name\"\u001b[0m\u001b[3;93m: \u001b[0m\u001b[3;93m\"google\"\u001b[0m\u001b[3;93m,\u001b[0m\n",
       "\u001b[3;93m  \u001b[0m\u001b[3;93m\"arguments\"\u001b[0m\u001b[3;93m: \u001b[0m\u001b[3;93m\"\u001b[0m\u001b[3;93m{\u001b[0m\u001b[3;93m\\\"search_query\\\": \\\"current time in Singapore\\\"\u001b[0m\u001b[3;93m}\u001b[0m\u001b[3;93m\"\u001b[0m\n",
       "\u001b[1;3;93m}\u001b[0m\n"
      ]
     },
     "metadata": {},
     "output_type": "display_data"
    }
   ],
   "source": [
    "# Use openai\n",
    "import json\n",
    "if os.environ.get(\"OPENAI_API_KEY\"):\n",
    "    console.print(\"[yellow]Use GPT-4o:[/]\")\n",
    "    response = openai_client.chat.completions.create(\n",
    "        model=\"gpt-4o\",\n",
    "        messages=[{\"role\": \"user\", \"content\": \"What is the current time in Singapore?\"}],\n",
    "        tools=[\n",
    "            {\n",
    "                \"type\": \"function\",\n",
    "                \"function\": {\n",
    "                    \"name\": \"google\",\n",
    "                    \"description\": \"The 'google' function is a powerful tool that allows the AI to gather external information from the internet using Google search. It can be invoked when the AI needs to answer a question or provide information that requires up-to-date, comprehensive, and diverse sources which are not inherently known by the AI. For instance, it can be used to find current date, current news, weather updates, latest sports scores, trending topics, specific facts, or even the current date and time. The usage of this tool should be considered when the user's query implies or explicitly requests recent or wide-ranging data, or when the AI's inherent knowledge base may not have the required or most current information. The 'search_query' parameter should be a concise and accurate representation of the information needed.\",\n",
    "                    \"parameters\": {\n",
    "                        \"type\": \"object\",\n",
    "                        \"properties\": {\n",
    "                            \"search_query\": {\n",
    "                                \"type\": \"string\",\n",
    "                                \"description\": \"The search query to search google with. For example, to find the current date or time, use 'current date' or 'current time' respectively.\"\n",
    "                            }\n",
    "                        },\n",
    "                        \"required\": [\"search_query\"]\n",
    "                    }\n",
    "                }\n",
    "            }\n",
    "        ],\n",
    "        tool_choice=\"required\"\n",
    "    )\n",
    "    console.print(f\"[yellow italic]{json.dumps(response.extract(),indent=2)}[/]\")\n",
    "    print()\n",
    "\n",
    "# Use exllama\n",
    "console.print(\"[bright_yellow]Use LlamaCPP:[/]\")\n",
    "response = openai_client.chat.completions.create(\n",
    "    model=\"ttt-llamacpp-dolphin\",\n",
    "    messages=[{\"role\": \"user\", \"content\": \"What is the current time in Singapore?\"},\n",
    "              {\"role\": \"assistant\",\"content\":\"\"}],\n",
    "    tools=[\n",
    "        {\n",
    "            \"type\": \"function\",\n",
    "            \"function\": {\n",
    "                \"name\": \"google\",\n",
    "                \"description\": \"The 'google' function is a powerful tool that allows the AI to gather external information from the internet using Google search. It can be invoked when the AI needs to answer a question or provide information that requires up-to-date, comprehensive, and diverse sources which are not inherently known by the AI. For instance, it can be used to find current date, current news, weather updates, latest sports scores, trending topics, specific facts, or even the current date and time. The usage of this tool should be considered when the user's query implies or explicitly requests recent or wide-ranging data, or when the AI's inherent knowledge base may not have the required or most current information. The 'search_query' parameter should be a concise and accurate representation of the information needed.\",\n",
    "                \"parameters\": {\n",
    "                    \"type\": \"object\",\n",
    "                    \"properties\": {\n",
    "                        \"search_query\": {\n",
    "                            \"type\": \"string\",\n",
    "                            \"description\": \"The search query to search google with. For example, to find the current date or time, use 'current date' or 'current time' respectively.\"\n",
    "                        }\n",
    "                    },\n",
    "                    \"required\": [\"search_query\"]\n",
    "                }\n",
    "            }\n",
    "        }\n",
    "    ],\n",
    "    tool_choice=\"required\",\n",
    ")\n",
    "import json\n",
    "console.print(f\"[bright_yellow italic]{json.dumps(response.extract(),indent=2)}[/]\")\n"
   ]
  },
  {
   "cell_type": "markdown",
   "metadata": {},
   "source": [
    "e) Structured Output"
   ]
  },
  {
   "cell_type": "code",
   "execution_count": 4,
   "metadata": {},
   "outputs": [
    {
     "data": {
      "text/html": [
       "<pre style=\"white-space:pre;overflow-x:auto;line-height:normal;font-family:Menlo,'DejaVu Sans Mono',consolas,'Courier New',monospace\"><span style=\"color: #808000; text-decoration-color: #808000\">Use GPT-4o:</span>\n",
       "</pre>\n"
      ],
      "text/plain": [
       "\u001b[33mUse GPT-4o:\u001b[0m\n"
      ]
     },
     "metadata": {},
     "output_type": "display_data"
    },
    {
     "data": {
      "text/html": [
       "<pre style=\"white-space:pre;overflow-x:auto;line-height:normal;font-family:Menlo,'DejaVu Sans Mono',consolas,'Courier New',monospace\"><span style=\"color: #808000; text-decoration-color: #808000; font-weight: bold; font-style: italic\">{</span>\n",
       "<span style=\"color: #808000; text-decoration-color: #808000; font-style: italic\">  </span><span style=\"color: #808000; text-decoration-color: #808000; font-style: italic\">\"type\"</span><span style=\"color: #808000; text-decoration-color: #808000; font-style: italic\">: </span><span style=\"color: #808000; text-decoration-color: #808000; font-style: italic\">\"content\"</span><span style=\"color: #808000; text-decoration-color: #808000; font-style: italic\">,</span>\n",
       "<span style=\"color: #808000; text-decoration-color: #808000; font-style: italic\">  </span><span style=\"color: #808000; text-decoration-color: #808000; font-style: italic\">\"content\"</span><span style=\"color: #808000; text-decoration-color: #808000; font-style: italic\">: </span><span style=\"color: #808000; text-decoration-color: #808000; font-style: italic\">\"{\\\"title\\\":\\\"Foundation\\\",\\\"summary\\\":\\\"Set in a decaying Galactic Empire, \\\\\\\"Foundation\\\\\\\" follows</span>\n",
       "<span style=\"color: #808000; text-decoration-color: #808000; font-style: italic\">the visionary psychohistorian Hari Seldon who foresees its inevitable fall. He devises a scientific discipline </span>\n",
       "<span style=\"color: #808000; text-decoration-color: #808000; font-style: italic\">known as \\\\\\\"psychohistory\\\\\\\" to predict social trends and statistically forecast the future outcomes of large </span>\n",
       "<span style=\"color: #808000; text-decoration-color: #808000; font-style: italic\">populations. Seldon creates the Foundation, a group of exceptional individuals tasked with preserving the knowledge</span>\n",
       "<span style=\"color: #808000; text-decoration-color: #808000; font-style: italic\">of civilization in order to shorten the impending dark age following the empire's collapse.  \\\\n\\\\nAs the empire's </span>\n",
       "<span style=\"color: #808000; text-decoration-color: #808000; font-style: italic\">influence wanes and chaos ensues, central themes of knowledge, power, and adaptability permeate the narrative. The </span>\n",
       "<span style=\"color: #808000; text-decoration-color: #808000; font-style: italic\">book consists of five interconnected short stories, exploring how the Foundation evolves over generations in </span>\n",
       "<span style=\"color: #808000; text-decoration-color: #808000; font-style: italic\">response to challenges, threats, and their mission to create a better future. Each segment showcases the ingenuity,</span>\n",
       "<span style=\"color: #808000; text-decoration-color: #808000; font-style: italic\">resilience, and conflicts faced by the guardians of civilization, as they strive to maintain order amidst turmoil. </span>\n",
       "<span style=\"color: #808000; text-decoration-color: #808000; font-style: italic\">\\\\n\\\\nThrough these stories, Asimov delves into the intricacies of human behavior, politics, and the concept of </span>\n",
       "<span style=\"color: #808000; text-decoration-color: #808000; font-style: italic\">predicting historical outcomes, all wrapped seamlessly in a riveting and meticulously constructed universe. As the </span>\n",
       "<span style=\"color: #808000; text-decoration-color: #808000; font-style: italic\">story unfolds, the reader is invited to reflect on the interplay between fate, free will, and the role of science </span>\n",
       "<span style=\"color: #808000; text-decoration-color: #808000; font-style: italic\">and innovation in shaping destiny.\\\",\\\"author\\\":\\\"Isaac Asimov\\\",\\\"published_year\\\":1951}\"</span>\n",
       "<span style=\"color: #808000; text-decoration-color: #808000; font-weight: bold; font-style: italic\">}</span>\n",
       "</pre>\n"
      ],
      "text/plain": [
       "\u001b[1;3;33m{\u001b[0m\n",
       "\u001b[3;33m  \u001b[0m\u001b[3;33m\"type\"\u001b[0m\u001b[3;33m: \u001b[0m\u001b[3;33m\"content\"\u001b[0m\u001b[3;33m,\u001b[0m\n",
       "\u001b[3;33m  \u001b[0m\u001b[3;33m\"content\"\u001b[0m\u001b[3;33m: \u001b[0m\u001b[3;33m\"\u001b[0m\u001b[3;33m{\u001b[0m\u001b[3;33m\\\"title\\\":\\\"Foundation\\\",\\\"summary\\\":\\\"Set in a decaying Galactic Empire, \\\\\\\"Foundation\\\\\\\" follows\u001b[0m\n",
       "\u001b[3;33mthe visionary psychohistorian Hari Seldon who foresees its inevitable fall. He devises a scientific discipline \u001b[0m\n",
       "\u001b[3;33mknown as \\\\\\\"psychohistory\\\\\\\" to predict social trends and statistically forecast the future outcomes of large \u001b[0m\n",
       "\u001b[3;33mpopulations. Seldon creates the Foundation, a group of exceptional individuals tasked with preserving the knowledge\u001b[0m\n",
       "\u001b[3;33mof civilization in order to shorten the impending dark age following the empire's collapse.  \\\\n\\\\nAs the empire's \u001b[0m\n",
       "\u001b[3;33minfluence wanes and chaos ensues, central themes of knowledge, power, and adaptability permeate the narrative. The \u001b[0m\n",
       "\u001b[3;33mbook consists of five interconnected short stories, exploring how the Foundation evolves over generations in \u001b[0m\n",
       "\u001b[3;33mresponse to challenges, threats, and their mission to create a better future. Each segment showcases the ingenuity,\u001b[0m\n",
       "\u001b[3;33mresilience, and conflicts faced by the guardians of civilization, as they strive to maintain order amidst turmoil. \u001b[0m\n",
       "\u001b[3;33m\\\\n\\\\nThrough these stories, Asimov delves into the intricacies of human behavior, politics, and the concept of \u001b[0m\n",
       "\u001b[3;33mpredicting historical outcomes, all wrapped seamlessly in a riveting and meticulously constructed universe. As the \u001b[0m\n",
       "\u001b[3;33mstory unfolds, the reader is invited to reflect on the interplay between fate, free will, and the role of science \u001b[0m\n",
       "\u001b[3;33mand innovation in shaping destiny.\\\",\\\"author\\\":\\\"Isaac Asimov\\\",\\\"published_year\\\":1951\u001b[0m\u001b[3;33m}\u001b[0m\u001b[3;33m\"\u001b[0m\n",
       "\u001b[1;3;33m}\u001b[0m\n"
      ]
     },
     "metadata": {},
     "output_type": "display_data"
    },
    {
     "name": "stdout",
     "output_type": "stream",
     "text": [
      "\n"
     ]
    },
    {
     "data": {
      "text/html": [
       "<pre style=\"white-space:pre;overflow-x:auto;line-height:normal;font-family:Menlo,'DejaVu Sans Mono',consolas,'Courier New',monospace\"><span style=\"color: #ffff00; text-decoration-color: #ffff00\">Use LlamaCPP:</span>\n",
       "</pre>\n"
      ],
      "text/plain": [
       "\u001b[93mUse LlamaCPP:\u001b[0m\n"
      ]
     },
     "metadata": {},
     "output_type": "display_data"
    },
    {
     "data": {
      "text/html": [
       "<pre style=\"white-space:pre;overflow-x:auto;line-height:normal;font-family:Menlo,'DejaVu Sans Mono',consolas,'Courier New',monospace\"><span style=\"color: #808000; text-decoration-color: #808000; font-weight: bold; font-style: italic\">{</span>\n",
       "<span style=\"color: #808000; text-decoration-color: #808000; font-style: italic\">  </span><span style=\"color: #808000; text-decoration-color: #808000; font-style: italic\">\"type\"</span><span style=\"color: #808000; text-decoration-color: #808000; font-style: italic\">: </span><span style=\"color: #808000; text-decoration-color: #808000; font-style: italic\">\"content\"</span><span style=\"color: #808000; text-decoration-color: #808000; font-style: italic\">,</span>\n",
       "<span style=\"color: #808000; text-decoration-color: #808000; font-style: italic\">  </span><span style=\"color: #808000; text-decoration-color: #808000; font-style: italic\">\"content\"</span><span style=\"color: #808000; text-decoration-color: #808000; font-style: italic\">: </span><span style=\"color: #808000; text-decoration-color: #808000; font-style: italic\">\"{\\\"title\\\":\\\"Foundation\\\",\\\"summary\\\":\\\"Set in a future Galactic Empire, the novel introduces readers</span>\n",
       "<span style=\"color: #808000; text-decoration-color: #808000; font-style: italic\">to Hari Seldon, a psychohistorian who has developed a scientific method to predict the future by analyzing mass </span>\n",
       "<span style=\"color: #808000; text-decoration-color: #808000; font-style: italic\">human behavior. Seldon foresees the imminent fall of the Empire, which will lead to a dark age lasting thousands of</span>\n",
       "<span style=\"color: #808000; text-decoration-color: #808000; font-style: italic\">years. To shorten this period of turmoil, Seldon establishes the Foundation, a collective of the Empire's greatest </span>\n",
       "<span style=\"color: #808000; text-decoration-color: #808000; font-style: italic\">minds tasked with preserving and advancing knowledge and culture. The story unfolds in five interconnected </span>\n",
       "<span style=\"color: #808000; text-decoration-color: #808000; font-style: italic\">segments, documenting pivotal events that lead to the establishment, survival, and expansion of the Foundation. </span>\n",
       "<span style=\"color: #808000; text-decoration-color: #808000; font-style: italic\">Each section presents challenges faced by the Foundation, showcasing political intrigue, scientific innovation, and</span>\n",
       "<span style=\"color: #808000; text-decoration-color: #808000; font-style: italic\">the battle between free will and deterministic fate.\\\",\\\"author\\\":\\\"Isaac Asimov\\\",\\\"published_year\\\":1951}\"</span>\n",
       "<span style=\"color: #808000; text-decoration-color: #808000; font-weight: bold; font-style: italic\">}</span>\n",
       "</pre>\n"
      ],
      "text/plain": [
       "\u001b[1;3;33m{\u001b[0m\n",
       "\u001b[3;33m  \u001b[0m\u001b[3;33m\"type\"\u001b[0m\u001b[3;33m: \u001b[0m\u001b[3;33m\"content\"\u001b[0m\u001b[3;33m,\u001b[0m\n",
       "\u001b[3;33m  \u001b[0m\u001b[3;33m\"content\"\u001b[0m\u001b[3;33m: \u001b[0m\u001b[3;33m\"\u001b[0m\u001b[3;33m{\u001b[0m\u001b[3;33m\\\"title\\\":\\\"Foundation\\\",\\\"summary\\\":\\\"Set in a future Galactic Empire, the novel introduces readers\u001b[0m\n",
       "\u001b[3;33mto Hari Seldon, a psychohistorian who has developed a scientific method to predict the future by analyzing mass \u001b[0m\n",
       "\u001b[3;33mhuman behavior. Seldon foresees the imminent fall of the Empire, which will lead to a dark age lasting thousands of\u001b[0m\n",
       "\u001b[3;33myears. To shorten this period of turmoil, Seldon establishes the Foundation, a collective of the Empire's greatest \u001b[0m\n",
       "\u001b[3;33mminds tasked with preserving and advancing knowledge and culture. The story unfolds in five interconnected \u001b[0m\n",
       "\u001b[3;33msegments, documenting pivotal events that lead to the establishment, survival, and expansion of the Foundation. \u001b[0m\n",
       "\u001b[3;33mEach section presents challenges faced by the Foundation, showcasing political intrigue, scientific innovation, and\u001b[0m\n",
       "\u001b[3;33mthe battle between free will and deterministic fate.\\\",\\\"author\\\":\\\"Isaac Asimov\\\",\\\"published_year\\\":1951\u001b[0m\u001b[3;33m}\u001b[0m\u001b[3;33m\"\u001b[0m\n",
       "\u001b[1;3;33m}\u001b[0m\n"
      ]
     },
     "metadata": {},
     "output_type": "display_data"
    }
   ],
   "source": [
    "import json\n",
    "from pydantic import BaseModel\n",
    "class Book(BaseModel):\n",
    "    title: str\n",
    "    summary: str\n",
    "    author: str\n",
    "    published_year: int\n",
    "response_model = Book.schema()\n",
    "\n",
    "data = \"\"\"Foundation is a science fiction novel by American writer\n",
    "        Isaac Asimov. It is the first published in his Foundation Trilogy (later\n",
    "        expanded into the Foundation series). Foundation is a cycle of five\n",
    "        interrelated short stories, first published as a single book by Gnome Press\n",
    "        in 1951. Collectively they tell the early story of the Foundation,\n",
    "        an institute founded by psychohistorian Hari Seldon to preserve the best\n",
    "        of galactic civilization after the collapse of the Galactic Empire.\"\"\"\n",
    "\n",
    "# Use openai\n",
    "if os.environ.get(\"OPENAI_API_KEY\"):\n",
    "\n",
    "    console.print(\"[yellow]Use GPT-4o:[/]\")\n",
    "\n",
    "    response = openai_client.beta.chat.completions.parse(\n",
    "        model=\"gpt-4o\",\n",
    "        response_format=Book,\n",
    "        messages=[{\"role\": \"user\", \"content\": data}]\n",
    "    )\n",
    "    console.print(f\"[yellow italic]{json.dumps(response.extract(), indent=2)}[/]\")\n",
    "    print()\n",
    "\n",
    "# Use exllama\n",
    "console.print(\"[bright_yellow]Use LlamaCPP:[/]\")\n",
    "response = openai_client.beta.chat.completions.parse(\n",
    "    model=\"gpt-4o\",\n",
    "    response_format=Book,\n",
    "    messages=[{\"role\": \"user\", \"content\": data}],\n",
    "    timeout=60\n",
    ")\n",
    "import json\n",
    "console.print(f\"[yellow italic]{json.dumps(response.extract(), indent=2)}[/]\")\n",
    "\n",
    "\n",
    "# response = openai_client.chat.completions.create(\n",
    "#     model=\"ttt-llamacpp-dolphin\",\n",
    "#     response_format=Book,\n",
    "#     messages=[{\"role\": \"user\", \"content\": data}],\n",
    "#     timeout=60\n",
    "# )\n",
    "# import json\n",
    "# console.print(f\"[bright_yellow italic]{json.dumps(response.extract(), indent=2)}[/]\")\n"
   ]
  }
 ],
 "metadata": {
  "kernelspec": {
   "display_name": ".venv",
   "language": "python",
   "name": "python3"
  },
  "language_info": {
   "codemirror_mode": {
    "name": "ipython",
    "version": 3
   },
   "file_extension": ".py",
   "mimetype": "text/x-python",
   "name": "python",
   "nbconvert_exporter": "python",
   "pygments_lexer": "ipython3",
   "version": "3.10.12"
  }
 },
 "nbformat": 4,
 "nbformat_minor": 2
}
