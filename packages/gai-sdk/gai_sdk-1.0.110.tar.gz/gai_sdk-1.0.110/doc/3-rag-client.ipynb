{
    "cells": [
        {
            "cell_type": "markdown",
            "metadata": {},
            "source": [
                "# RAG(Retrieval-Augmented-Generation) Client\n",
                "\n",
                "## 1. Download Model\n",
                "\n",
                "```bash\n",
                "gai pull instructor-sentencepiece\n",
                "```\n",
                "\n",
                "## 2. Start RAG Service\n",
                "\n",
                "* Go to /gai\n",
                "\n",
                "* Open docker-compose.yml\n",
                "\n",
                "* Make sure that the following section is not commented.\n",
                "\n",
                "```yaml\n",
                "    gai-rag-svr:\n",
                "        image: kakkoii1337/gai-rag-svr:1.0.17\n",
                "        container_name: gai-rag-svr\n",
                "        ...\n",
                "```\n",
                "\n",
                "* Run the command:\n",
                "\n",
                "```sh\n",
                "docker-compose up\n",
                "```\n",
                "\n"
            ]
        },
        {
            "cell_type": "markdown",
            "metadata": {},
            "source": [
                "## Example 1: Ask about a Web Page"
            ]
        },
        {
            "cell_type": "markdown",
            "metadata": {},
            "source": [
                "### Step 1: Scrape text from the web for testing\n",
                "\n",
                "Scrape a speech from the web and save it to a file."
            ]
        },
        {
            "cell_type": "code",
            "execution_count": 2,
            "metadata": {},
            "outputs": [],
            "source": [
                "import os\n",
                "os.environ[\"LOG_LEVEL\"]=\"INFO\"\n",
                "from gai.lib.tools.scraper import Scraper\n",
                "scraper=Scraper()\n",
                "text,links = scraper.scrape(\"https://www.pmo.gov.sg/Newsroom/national-day-rally-2023\")\n",
                "import tempfile\n",
                "with tempfile.NamedTemporaryFile(mode=\"w\", delete=False) as f:\n",
                "    f.write(text)\n",
                "    file_path = f.name"
            ]
        },
        {
            "cell_type": "markdown",
            "metadata": {},
            "source": [
                "### Step 2: Index the file"
            ]
        },
        {
            "cell_type": "code",
            "execution_count": 3,
            "metadata": {},
            "outputs": [],
            "source": [
                "# Load RAG client\n",
                "from gai.rag.client.rag_client_async import RagClientAsync\n",
                "rag = RagClientAsync({\n",
                "        \"type\": \"rag\",\n",
                "        \"url\": \"http://localhost:12036/gen/v1/rag\",\n",
                "        \"ws_url\": \"ws://localhost:12036/gen/v1/rag/index-file/ws\"\n",
                "})\n",
                "\n",
                "# Create callback\n",
                "import json\n",
                "async def async_callback(text):\n",
                "    jsoned = json.loads(text)\n",
                "    print(f\"async_callback: {jsoned}\")\n",
                "\n",
                "# Index the sample speech\n",
                "result = await rag.index_document_async(\n",
                "    collection_name=\"demo\",\n",
                "    file_path=file_path,\n",
                "    file_type=\"txt\",\n",
                "    title=\"2023 National Day Rally Speech\",\n",
                "    source=\"https://www.pmo.gov.sg/Newsroom/national-day-rally-2023\",\n",
                "    async_callback=async_callback,\n",
                ")\n"
            ]
        },
        {
            "cell_type": "markdown",
            "metadata": {},
            "source": [
                "### Step 3. Asking a question"
            ]
        },
        {
            "cell_type": "code",
            "execution_count": 4,
            "metadata": {},
            "outputs": [
                {
                    "name": "stdout",
                    "output_type": "stream",
                    "text": [
                        "{'documents': 'and the Merdeka Generation; “Seniors”, because you will soon retire, or maybe you have recently retired. Young Seniors are in a unique position today. Compared to the Pioneer and Merdeka Generations, you have benefited more from Singapore’s growth, and generally done better in life. But compared to workers younger than you, in their 30s and 40s today, you have generally earned less over your lifetimes. You have also had less time to benefit from improvements to the CPF system, and so have built up less retirement savings. Young Seniors are also in a particularly sandwiched phase of your lives. You have to shoulder the responsibility of caring for both the young and old in your families. Your kids may be young adults, but often are not yet fully independent and still live in the same household. Many of you Young Seniors also have elderly parents at home, who may be beset with the infirmities of old age. You have to shuttle them to medical appointments and hospital visits, plus attend', 'metadatas': {'Abstract': '', 'ChunkGroupId': '72ec0531-d8d8-4eb0-aa59-c7e859ab3fe8', 'DocumentId': 'F5q0Xq9WTANXAuKfCj-DRvEDkRmx1e7kJniKwOuV8Ec', 'Keywords': '', 'PublishedDate': '', 'Source': 'https://www.pmo.gov.sg/Newsroom/national-day-rally-2023', 'Title': '2023 National Day Rally Speech'}, 'distances': 0.11369931697845459, 'ids': 'dcedb2e7-c3ac-450e-a5ca-e3b46fbb7faf'}\n"
                    ]
                }
            ],
            "source": [
                "# Load RAG client\n",
                "from gai.rag.client.rag_client_async import RagClientAsync\n",
                "rag = RagClientAsync({\n",
                "        \"type\": \"rag\",\n",
                "        \"url\": \"http://localhost:12036/gen/v1/rag\",\n",
                "        \"ws_url\": \"ws://localhost:12036/gen/v1/rag/index-file/ws\"\n",
                "})\n",
                "\n",
                "# Retrieve from query\n",
                "results = await rag.retrieve_async(\n",
                "    collection_name=\"demo\",\n",
                "    query_texts=\"Who are the young seniors?\",\n",
                "    n_results=1\n",
                ")\n",
                "for result in results:\n",
                "    print(result)\n"
            ]
        },
        {
            "cell_type": "markdown",
            "metadata": {},
            "source": [
                "### 3. List Collections"
            ]
        },
        {
            "cell_type": "code",
            "execution_count": 5,
            "metadata": {},
            "outputs": [
                {
                    "data": {
                        "text/plain": [
                            "{'collections': ['demo']}"
                        ]
                    },
                    "execution_count": 5,
                    "metadata": {},
                    "output_type": "execute_result"
                }
            ],
            "source": [
                "# Load RAG client\n",
                "from gai.rag.client.rag_client_async import RagClientAsync\n",
                "rag = RagClientAsync({\n",
                "        \"type\": \"rag\",\n",
                "        \"url\": \"http://localhost:12036/gen/v1/rag\",\n",
                "        \"ws_url\": \"ws://localhost:12036/gen/v1/rag/index-file/ws\"\n",
                "})\n",
                "\n",
                "await rag.list_collections_async()"
            ]
        },
        {
            "cell_type": "markdown",
            "metadata": {},
            "source": [
                "### 4. List Document Headers"
            ]
        },
        {
            "cell_type": "code",
            "execution_count": 6,
            "metadata": {},
            "outputs": [
                {
                    "data": {
                        "text/plain": [
                            "[IndexedDocPydantic(Id='F5q0Xq9WTANXAuKfCj-DRvEDkRmx1e7kJniKwOuV8Ec', CollectionName='demo', ByteSize=44190, FileName='tmphfvm6wkb', FileType='txt', File=None, Source='https://www.pmo.gov.sg/Newsroom/national-day-rally-2023', Abstract=None, Authors='', Title='2023 National Day Rally Speech', Publisher='', PublishedDate=None, Comments='', Keywords='', CreatedAt=datetime.datetime(2024, 12, 18, 14, 48, 42, 800804), UpdatedAt=datetime.datetime(2024, 12, 18, 14, 48, 42, 800810), IsActive=True, ChunkGroups=[IndexedDocChunkGroupPydantic(Id='72ec0531-d8d8-4eb0-aa59-c7e859ab3fe8', DocumentId='F5q0Xq9WTANXAuKfCj-DRvEDkRmx1e7kJniKwOuV8Ec', SplitAlgo='recursive_split', ChunkCount=49, ChunkSize=1000, Overlap=100, IsActive=True, ChunksDir='/tmp/chunks/2178654ed97a4b3f9041471431c62088')])]"
                        ]
                    },
                    "execution_count": 6,
                    "metadata": {},
                    "output_type": "execute_result"
                }
            ],
            "source": [
                "docs = await rag.list_documents_async(collection_name=\"demo\")\n",
                "docs"
            ]
        },
        {
            "cell_type": "markdown",
            "metadata": {},
            "source": [
                "### 5. Download File"
            ]
        },
        {
            "cell_type": "code",
            "execution_count": 7,
            "metadata": {},
            "outputs": [],
            "source": [
                "await rag.get_document_file_async(collection_name=\"demo\",document_id=docs[0].Id)"
            ]
        },
        {
            "cell_type": "markdown",
            "metadata": {},
            "source": [
                "---\n",
                "\n",
                "## Appendix: Multi-Step Indexing\n",
                "\n",
                "This achieves the same outcome as step 2 but broken down into multiple steps for ease of debugging. For this demo, we shall use a PDF file.\n",
                "\n",
                "### Step 0: Setup"
            ]
        },
        {
            "cell_type": "code",
            "execution_count": 8,
            "metadata": {},
            "outputs": [],
            "source": [
                "import os\n",
                "from gai.rag.client.rag_client_async import RagClientAsync\n",
                "\n",
                "rag = RagClientAsync({\n",
                "    \"type\": \"rag\",\n",
                "    \"url\": \"http://localhost:12036/gen/v1/rag\",\n",
                "    \"ws_url\": \"ws://localhost:12036/gen/v1/rag/index-file/ws\",\n",
                "})\n"
            ]
        },
        {
            "cell_type": "markdown",
            "metadata": {},
            "source": [
                "### Step 1: Create header"
            ]
        },
        {
            "cell_type": "code",
            "execution_count": 9,
            "metadata": {},
            "outputs": [
                {
                    "data": {
                        "text/plain": [
                            "IndexedDocPydantic(Id='Mm1GAmuGfs3VoA2sit0njabQGAZ75eyfszIkAxGY5e4', CollectionName='demo', ByteSize=633805, FileName='ReAct-2210.03629.pdf', FileType='.pdf', File=None, Source='https://arxiv.org/abs/2210.03629', Abstract=None, Authors='', Title='ReAct: Synergizing Reasoning and Acting in Language Models', Publisher='', PublishedDate=None, Comments='', Keywords='', CreatedAt=datetime.datetime(2024, 12, 18, 14, 49, 34, 954703), UpdatedAt=datetime.datetime(2024, 12, 18, 14, 49, 34, 954711), IsActive=True, ChunkGroups=[])"
                        ]
                    },
                    "execution_count": 9,
                    "metadata": {},
                    "output_type": "execute_result"
                }
            ],
            "source": [
                "here = os.path.dirname(__name__)\n",
                "file_path=os.path.join(here,\"ReAct-2210.03629.pdf\")\n",
                "doc_header = await rag.step_header_async(\n",
                "    collection_name=\"demo\",\n",
                "    file_path=file_path,\n",
                "    title=\"ReAct: Synergizing Reasoning and Acting in Language Models\",\n",
                "    source=\"https://arxiv.org/abs/2210.03629\",\n",
                ")\n",
                "doc_header"
            ]
        },
        {
            "cell_type": "markdown",
            "metadata": {},
            "source": [
                "### Step 2: Split Document"
            ]
        },
        {
            "cell_type": "code",
            "execution_count": 10,
            "metadata": {},
            "outputs": [
                {
                    "data": {
                        "text/plain": [
                            "IndexedDocChunkGroupPydantic(Id='e73a0b4b-aa71-4e55-96c1-d9cf9f1a148a', DocumentId='Mm1GAmuGfs3VoA2sit0njabQGAZ75eyfszIkAxGY5e4', SplitAlgo='recursive_split', ChunkCount=114, ChunkSize=1000, Overlap=100, IsActive=True, ChunksDir='/tmp/chunks/9c6016d17e4245fcae89057c7ff41bd2')"
                        ]
                    },
                    "execution_count": 10,
                    "metadata": {},
                    "output_type": "execute_result"
                }
            ],
            "source": [
                "chunkgroup = await rag.step_split_async(\n",
                "    collection_name=\"demo\",\n",
                "    document_id=doc_header.Id,\n",
                "    chunk_size=1000,\n",
                "    chunk_overlap=100\n",
                ")\n",
                "chunkgroup"
            ]
        },
        {
            "cell_type": "markdown",
            "metadata": {},
            "source": [
                "### Step 3: Index Chunks"
            ]
        },
        {
            "cell_type": "code",
            "execution_count": 11,
            "metadata": {},
            "outputs": [
                {
                    "name": "stdout",
                    "output_type": "stream",
                    "text": [
                        "async_callback: {'progress': 0}\n",
                        "async_callback: {'progress': 1}\n",
                        "async_callback: {'progress': 2}\n",
                        "async_callback: {'progress': 3}\n",
                        "async_callback: {'progress': 4}\n",
                        "async_callback: {'progress': 5}\n",
                        "async_callback: {'progress': 6}\n",
                        "async_callback: {'progress': 7}\n",
                        "async_callback: {'progress': 7}\n",
                        "async_callback: {'progress': 8}\n",
                        "async_callback: {'progress': 9}\n",
                        "async_callback: {'progress': 10}\n",
                        "async_callback: {'progress': 11}\n",
                        "async_callback: {'progress': 12}\n",
                        "async_callback: {'progress': 13}\n",
                        "async_callback: {'progress': 14}\n",
                        "async_callback: {'progress': 14}\n",
                        "async_callback: {'progress': 15}\n",
                        "async_callback: {'progress': 16}\n",
                        "async_callback: {'progress': 17}\n",
                        "async_callback: {'progress': 18}\n",
                        "async_callback: {'progress': 19}\n",
                        "async_callback: {'progress': 20}\n",
                        "async_callback: {'progress': 21}\n",
                        "async_callback: {'progress': 21}\n",
                        "async_callback: {'progress': 22}\n",
                        "async_callback: {'progress': 23}\n",
                        "async_callback: {'progress': 24}\n",
                        "async_callback: {'progress': 25}\n",
                        "async_callback: {'progress': 26}\n",
                        "async_callback: {'progress': 27}\n",
                        "async_callback: {'progress': 28}\n",
                        "async_callback: {'progress': 28}\n",
                        "async_callback: {'progress': 29}\n",
                        "async_callback: {'progress': 30}\n",
                        "async_callback: {'progress': 31}\n",
                        "async_callback: {'progress': 32}\n",
                        "async_callback: {'progress': 33}\n",
                        "async_callback: {'progress': 34}\n",
                        "async_callback: {'progress': 35}\n",
                        "async_callback: {'progress': 35}\n",
                        "async_callback: {'progress': 36}\n",
                        "async_callback: {'progress': 37}\n",
                        "async_callback: {'progress': 38}\n",
                        "async_callback: {'progress': 39}\n",
                        "async_callback: {'progress': 40}\n",
                        "async_callback: {'progress': 41}\n",
                        "async_callback: {'progress': 42}\n",
                        "async_callback: {'progress': 42}\n",
                        "async_callback: {'progress': 43}\n",
                        "async_callback: {'progress': 44}\n",
                        "async_callback: {'progress': 45}\n",
                        "async_callback: {'progress': 46}\n",
                        "async_callback: {'progress': 47}\n",
                        "async_callback: {'progress': 48}\n",
                        "async_callback: {'progress': 49}\n",
                        "async_callback: {'progress': 50}\n",
                        "async_callback: {'progress': 50}\n",
                        "async_callback: {'progress': 51}\n",
                        "async_callback: {'progress': 52}\n",
                        "async_callback: {'progress': 53}\n",
                        "async_callback: {'progress': 54}\n",
                        "async_callback: {'progress': 55}\n",
                        "async_callback: {'progress': 56}\n",
                        "async_callback: {'progress': 57}\n",
                        "async_callback: {'progress': 57}\n",
                        "async_callback: {'progress': 58}\n",
                        "async_callback: {'progress': 59}\n",
                        "async_callback: {'progress': 60}\n",
                        "async_callback: {'progress': 61}\n",
                        "async_callback: {'progress': 62}\n",
                        "async_callback: {'progress': 63}\n",
                        "async_callback: {'progress': 64}\n",
                        "async_callback: {'progress': 64}\n",
                        "async_callback: {'progress': 65}\n",
                        "async_callback: {'progress': 66}\n",
                        "async_callback: {'progress': 67}\n",
                        "async_callback: {'progress': 68}\n",
                        "async_callback: {'progress': 69}\n",
                        "async_callback: {'progress': 70}\n",
                        "async_callback: {'progress': 71}\n",
                        "async_callback: {'progress': 71}\n",
                        "async_callback: {'progress': 72}\n",
                        "async_callback: {'progress': 73}\n",
                        "async_callback: {'progress': 74}\n",
                        "async_callback: {'progress': 75}\n",
                        "async_callback: {'progress': 76}\n",
                        "async_callback: {'progress': 77}\n",
                        "async_callback: {'progress': 78}\n",
                        "async_callback: {'progress': 78}\n",
                        "async_callback: {'progress': 79}\n",
                        "async_callback: {'progress': 80}\n",
                        "async_callback: {'progress': 81}\n",
                        "async_callback: {'progress': 82}\n",
                        "async_callback: {'progress': 83}\n",
                        "async_callback: {'progress': 84}\n",
                        "async_callback: {'progress': 85}\n",
                        "async_callback: {'progress': 85}\n",
                        "async_callback: {'progress': 86}\n",
                        "async_callback: {'progress': 87}\n",
                        "async_callback: {'progress': 88}\n",
                        "async_callback: {'progress': 89}\n",
                        "async_callback: {'progress': 90}\n",
                        "async_callback: {'progress': 91}\n",
                        "async_callback: {'progress': 92}\n",
                        "async_callback: {'progress': 92}\n",
                        "async_callback: {'progress': 93}\n",
                        "async_callback: {'progress': 94}\n",
                        "async_callback: {'progress': 95}\n",
                        "async_callback: {'progress': 96}\n",
                        "async_callback: {'progress': 97}\n",
                        "async_callback: {'progress': 98}\n",
                        "async_callback: {'progress': 99}\n",
                        "async_callback: {'progress': 100}\n"
                    ]
                },
                {
                    "data": {
                        "text/plain": [
                            "IndexedDocChunkIdsPydantic(DocumentId='Mm1GAmuGfs3VoA2sit0njabQGAZ75eyfszIkAxGY5e4', ChunkgroupId='e73a0b4b-aa71-4e55-96c1-d9cf9f1a148a', ChunkIds=['7c1033ae-e78b-4577-8683-561973c39fa5', '331dfac4-a4aa-42a4-80a3-18168e905457', '33e214e1-c02e-4853-b08f-555fcd32c322', '334eff67-8839-4c56-bb91-4601eaa2c481', '54603927-d461-4507-a82f-f5497097873f', '04c2bf17-e735-438d-89c9-5c3596e755d4', '685b63f1-a7db-438c-b1ad-2292c2981e6f', '11557f61-06a1-4079-95a6-c823820f0d27', 'd2d4184f-16e4-4a95-9379-6f3b69efbacd', 'd3d6eb42-c7fc-4492-a1a6-4129ff518937', '2c65949c-c7e4-438a-8c52-197692d1784e', '6620b473-d4dd-4cfa-889a-a628199949c5', '59bddd8f-2407-4b0f-8846-f6d79eba373d', '6318e9ad-17c2-4714-b867-2bfd401c5774', '479a397c-76e8-4181-b23b-d5c4e3933e95', 'c80c6e7e-29f7-4a12-8e67-61d378026fe3', '8a7353e7-c736-4dcd-aa7e-f458220eecad', '00054956-d99b-44a1-a866-ae12f696fb04', '528e0c6f-3424-4fe6-beee-5bccee7d30bd', 'a8156a93-92ae-46f4-a39a-ad801c14b772', 'f2574ac3-0959-459d-8e3c-86340b920946', '99dff46f-1535-4b30-beb1-670815f4c094', '4d0c14de-92a6-4d6a-8819-a030cccea823', '38436a09-6617-4f1e-9536-899ffed6cf4d', '4d31642d-09b5-42fd-b84c-f903471b3c19', 'e38d6854-7048-4f88-9cb1-3d32e22f0d5c', '8b0891a0-ec4a-4b87-afd0-064f94003ed2', '50460caa-127b-49d3-8e93-5bebe2c034c8', '26caaac8-fe29-4c0d-bbd6-735fdfbacc97', '6f6e1ba3-95cd-4d84-af55-71675847b6f5', 'd512172b-b10a-4d73-83ca-dbbbac83d011', 'df87d7d5-915d-44a0-aa8f-8331a5e25027', '3c1537e5-e471-4819-9b0f-da55b7050200', '30d01ebe-13bd-4005-81c6-c9d8df44dbca', '0134ee8a-36aa-4c32-8e9b-1d50ce9b6c82', '2d652d45-81cf-4fbd-b7aa-75c35ccae0ad', 'da8298d1-f0aa-483b-a83f-a2c117bc6046', '3435716e-45b2-4101-b0de-b7f6cb4b2332', 'b9f89b12-4bd1-4dac-8872-c7ef5639fb3f', '5e82b37c-c11a-4ed9-9a7b-85c4a89cd5da', 'f05b3bcf-1cc4-47d9-ad83-0b4a0d8a5179', 'cef611cd-5aac-4e29-969d-146d7205e0d1', 'c2788885-4293-432b-b162-3bbf99341469', '2ea12190-7229-4c8e-b56d-5c1faf2394f5', 'a1b9b3b8-c4f8-442b-aa4d-966250573e14', '8e460b40-7fb7-4585-8d40-9bc25a0ab5d9', '7317f76d-5d99-4cb3-963e-83b03128fdd0', '2fc0de3d-700c-47eb-93b3-4d7306fa111d', 'c41df732-2b01-497d-a6ab-cf6547297a30', '61761b83-dc13-4458-970d-6e6c1f136eaa', '49fcbdbb-9039-4364-bb98-a523d14bc55e', 'fbbcf951-0846-4259-97b2-e8787309d987', '6ae407a0-3393-4eb7-a335-54db9a70c210', 'fee90a07-9c89-4b6e-934e-538bf743a2dd', 'b7939563-1ee4-4922-a032-5e0c6e0edffb', '670c07f4-be28-4739-8740-dfadcd3bd41f', '4b3d8fcf-3fd8-41cf-8b2f-3b3c7f108f1f', '55a1b35d-e478-46e8-a2cd-829ab372e678', 'daf184ea-f71e-42f0-b000-f2d2d4f26ade', '5dd212fa-43f5-4e69-8fd2-3ec285ca2a8d', '4650a8d2-c70c-498a-bb08-5dfaafaef014', 'a525eb1c-ae91-4a64-a476-2a48d3d218a6', '10b8011a-e85b-4880-9b2b-a909fa4ab019', '0ab7b277-93cc-4cdc-a243-199626e1ae3a', '760f7727-b2c1-4f88-85ad-227ac24ea319', 'aff2cd0d-41f7-4c29-9565-4f6252b94b85', '164191e3-343f-447c-bd8d-8a6376461d4c', '5cf9380d-1bbf-492a-819e-373081a733de', '60e711dc-e344-4340-b4ca-176e7d6afe02', '483d80c8-be08-4700-bf1a-9a9639849338', '8be6f163-699e-46fc-803d-5f21dea0feb3', 'e895cfe7-04e2-43a8-a8d9-c091cf72dabf', '7fe0294b-502f-4874-9ace-670d250f03fb', '335f7c65-286d-412f-9b93-894617baf256', 'd533b378-4803-46ae-bd3e-023dc626aeb6', 'acb1f378-ecbd-4d74-b0d4-fdc298ef2f64', '94daba78-e848-4c35-b906-61a8a55793a7', 'c39712de-15b4-45e2-94f1-e9acb2fc8058', 'de216c3b-8e63-4707-8110-d527f9677f90', '3cc5c71c-984d-4472-9583-d0f5b7a61b6f', 'c4d95698-705e-46da-95ed-06afc4c468b1', '18e68441-135b-4de1-8479-c8f8c4978fbe', 'c1c63a80-0cef-4c48-849d-83593d2a8148', 'd1ac7b39-36aa-4e26-869b-4e66daddc8b4', '4f5dca8a-d7c0-4aeb-9420-b53b614de9b4', 'c997b216-fe79-498c-b45c-c9ad67f65bf0', 'b256d96f-6219-40a5-987f-15d2c9d017fe', '3e94901c-e0f8-4380-aa1c-1b72b40d43e6', '6ba33b57-9703-4700-bddf-257190baa503', 'd5d2e7cf-f96e-4067-aed5-559526a19b62', '46d194eb-bcee-4a6f-9cb9-4c6cf5fb8543', 'c3261391-e598-4b9b-ad31-b0771b56fd65', 'e65bb790-bced-402a-9369-1301ee0ecdab', '04bed432-0e0a-4458-8b3a-478af1c5594e', 'e5415765-ab00-4f9e-b4c6-1c204f31f1e5', '908944f4-a936-4642-ad28-f26b8afe1281', 'b3a1630d-6828-400b-8b1d-20797432e191', '0a275c73-ea35-426f-82bb-829f074ddfe1', 'b5d4b616-aac1-4824-b32f-2a8a58ae0772', '5ae75fe9-4e44-443a-9932-c52e035daa0d', '171b7d94-9b6e-48da-a6a4-10d5d4a27398', '7b42e297-6791-46ae-bc13-c02eeb31721b', '772378e0-d9e0-4f7c-895e-30290a54c28a', '5d763d0e-e90a-4285-815a-76338039f0e7', '40e00082-39a3-43ee-b20e-3b7c3f6d9d73', 'fe552e38-5878-4896-873b-a5f5ead49ee5', 'bce8dce3-900a-4de9-9613-d30b43709d49', 'cc913b62-d946-4bd8-ab28-bab2b7409597', '8022c7f0-8125-495e-aa80-b4686fc7f280', '14457fc4-363a-45c2-8380-c4ad063febd1', 'afe58645-cd7f-4b26-97f8-197ba98ad299', '793b75fa-84ca-42c8-9841-c79823046e77', 'afed72e4-113e-4dc6-b15d-878f56724d77', 'f6b35f39-3fb9-4242-8ddb-98cfae149ec8'])"
                        ]
                    },
                    "execution_count": 11,
                    "metadata": {},
                    "output_type": "execute_result"
                },
                {
                    "name": "stderr",
                    "output_type": "stream",
                    "text": [
                        "\u001b[43m\u001b[30mWARNING \u001b[0m \u001b[33mStatusListener.listen: Server disconnected.\u001b[0m\n"
                    ]
                }
            ],
            "source": [
                "# Create callback\n",
                "import json\n",
                "async def async_callback(text):\n",
                "    jsoned = json.loads(text)\n",
                "    print(f\"async_callback: {jsoned}\")\n",
                "\n",
                "# Spin off listener\n",
                "from gai.lib.common.StatusListener import StatusListener\n",
                "ws_url = f\"ws://localhost:12036/gen/v1/rag/index-file/ws/demo\"\n",
                "listener = StatusListener(ws_url)\n",
                "import asyncio\n",
                "listen_task=asyncio.create_task(listener.listen(async_callback))\n",
                "\n",
                "result = await rag.step_index_async(\n",
                "    collection_name=\"demo\",\n",
                "    document_id=chunkgroup.DocumentId,\n",
                "    chunkgroup_id=chunkgroup.Id,\n",
                "    async_callback=async_callback\n",
                ")\n",
                "result\n"
            ]
        }
    ],
    "metadata": {
        "kernelspec": {
            "display_name": ".venv",
            "language": "python",
            "name": "python3"
        },
        "language_info": {
            "codemirror_mode": {
                "name": "ipython",
                "version": 3
            },
            "file_extension": ".py",
            "mimetype": "text/x-python",
            "name": "python",
            "nbconvert_exporter": "python",
            "pygments_lexer": "ipython3",
            "version": "3.10.12"
        }
    },
    "nbformat": 4,
    "nbformat_minor": 2
}
