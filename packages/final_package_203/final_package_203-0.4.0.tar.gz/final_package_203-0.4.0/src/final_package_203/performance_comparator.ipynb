{
 "cells": [
  {
   "metadata": {},
   "cell_type": "markdown",
   "source": "# Goal is to compare performances of EW basket with Optimized basket",
   "id": "5aa0af2cc71df22a"
  },
  {
   "cell_type": "code",
   "id": "initial_id",
   "metadata": {
    "collapsed": true,
    "ExecuteTime": {
     "end_time": "2025-01-17T22:19:16.463864Z",
     "start_time": "2025-01-17T22:19:09.570802Z"
    }
   },
   "source": [
    "from class_basket import StockPortfolio, StockDataFetcher\n",
    "import matplotlib.pyplot as plt\n",
    "import matplotlib.dates as mdates\n",
    "import os\n",
    "import pandas as pd\n",
    "\n",
    "name_bt=\"Backtest\"\n",
    "N = 3  # Number of assets\n",
    "VT = 0.2  # Volatility target (example)\n",
    "start_date = '2023-11-15'\n",
    "end_date = '2025-01-16'\n",
    "\n",
    "# COV_mat = np.zeros((N, N, data.shape[0]), dtype=float)  # covariance matrix\n",
    "portfolio = StockPortfolio(N, start_date, end_date, VT)\n",
    "BT, tickers = portfolio.run_optimization()\n",
    "BT.index=pd.to_datetime(BT.index)\n",
    "BT"
   ],
   "outputs": [
    {
     "name": "stderr",
     "output_type": "stream",
     "text": [
      "ERROR:yfinance:$RBOT-WT: possibly delisted; no price data found  (1d 2023-11-15 -> 2025-01-16)\n"
     ]
    },
    {
     "name": "stdout",
     "output_type": "stream",
     "text": [
      "Current valid tickers: {'LLOBF', 'BCHG'}\n",
      "Current valid tickers: {'LLOBF', 'DIAX', 'BCHG'}\n"
     ]
    },
    {
     "data": {
      "text/plain": [
       "            Index Level\n",
       "Date                   \n",
       "2024-03-19   100.000000\n",
       "2024-03-20   102.433972\n",
       "2024-03-21   102.920856\n",
       "2024-03-22   102.866902\n",
       "2024-03-25   104.049310\n",
       "...                 ...\n",
       "2025-01-08   145.489223\n",
       "2025-01-10   144.057762\n",
       "2025-01-13   142.124587\n",
       "2025-01-14   141.528505\n",
       "2025-01-15   142.690116\n",
       "\n",
       "[208 rows x 1 columns]"
      ],
      "text/html": [
       "<div>\n",
       "<style scoped>\n",
       "    .dataframe tbody tr th:only-of-type {\n",
       "        vertical-align: middle;\n",
       "    }\n",
       "\n",
       "    .dataframe tbody tr th {\n",
       "        vertical-align: top;\n",
       "    }\n",
       "\n",
       "    .dataframe thead th {\n",
       "        text-align: right;\n",
       "    }\n",
       "</style>\n",
       "<table border=\"1\" class=\"dataframe\">\n",
       "  <thead>\n",
       "    <tr style=\"text-align: right;\">\n",
       "      <th></th>\n",
       "      <th>Index Level</th>\n",
       "    </tr>\n",
       "    <tr>\n",
       "      <th>Date</th>\n",
       "      <th></th>\n",
       "    </tr>\n",
       "  </thead>\n",
       "  <tbody>\n",
       "    <tr>\n",
       "      <th>2024-03-19</th>\n",
       "      <td>100.000000</td>\n",
       "    </tr>\n",
       "    <tr>\n",
       "      <th>2024-03-20</th>\n",
       "      <td>102.433972</td>\n",
       "    </tr>\n",
       "    <tr>\n",
       "      <th>2024-03-21</th>\n",
       "      <td>102.920856</td>\n",
       "    </tr>\n",
       "    <tr>\n",
       "      <th>2024-03-22</th>\n",
       "      <td>102.866902</td>\n",
       "    </tr>\n",
       "    <tr>\n",
       "      <th>2024-03-25</th>\n",
       "      <td>104.049310</td>\n",
       "    </tr>\n",
       "    <tr>\n",
       "      <th>...</th>\n",
       "      <td>...</td>\n",
       "    </tr>\n",
       "    <tr>\n",
       "      <th>2025-01-08</th>\n",
       "      <td>145.489223</td>\n",
       "    </tr>\n",
       "    <tr>\n",
       "      <th>2025-01-10</th>\n",
       "      <td>144.057762</td>\n",
       "    </tr>\n",
       "    <tr>\n",
       "      <th>2025-01-13</th>\n",
       "      <td>142.124587</td>\n",
       "    </tr>\n",
       "    <tr>\n",
       "      <th>2025-01-14</th>\n",
       "      <td>141.528505</td>\n",
       "    </tr>\n",
       "    <tr>\n",
       "      <th>2025-01-15</th>\n",
       "      <td>142.690116</td>\n",
       "    </tr>\n",
       "  </tbody>\n",
       "</table>\n",
       "<p>208 rows × 1 columns</p>\n",
       "</div>"
      ]
     },
     "execution_count": 1,
     "metadata": {},
     "output_type": "execute_result"
    }
   ],
   "execution_count": 1
  },
  {
   "metadata": {
    "ExecuteTime": {
     "end_time": "2025-01-17T22:27:05.876426Z",
     "start_time": "2025-01-17T22:27:05.096605Z"
    }
   },
   "cell_type": "code",
   "source": [
    "from class_basket import Equally_weighted, StockDataFetcher\n",
    "import matplotlib.pyplot as plt\n",
    "import matplotlib.dates as mdates\n",
    "import os\n",
    "\n",
    "df_equally_weighted, _ = Equally_weighted(N, start_date, end_date,tickers=None).compute_equally_weighted_basket()\n",
    "df_equally_weighted.index=pd.to_datetime(df_equally_weighted.index.strftime('%Y-%m-%d'))\n",
    "print(\"Equally Weighted Basket:\\n\", df_equally_weighted.head())\n"
   ],
   "id": "fc34f7e542fa9255",
   "outputs": [
    {
     "name": "stderr",
     "output_type": "stream",
     "text": [
      "ERROR:yfinance:$MOBXW: possibly delisted; no price data found  (1d 2023-11-15 -> 2025-01-16)\n",
      "ERROR:yfinance:$RDW-WT: possibly delisted; no price data found  (1d 2023-11-15 -> 2025-01-16)\n"
     ]
    },
    {
     "name": "stdout",
     "output_type": "stream",
     "text": [
      "Current valid tickers: {'ENSV'}\n",
      "Current valid tickers: {'UNG', 'LNZA', 'ENSV'}\n",
      "Equally Weighted Basket:\n",
      "             Equally Weighted\n",
      "Date                        \n",
      "2023-11-15        100.000000\n",
      "2023-11-16         99.119918\n",
      "2023-11-17         97.904374\n",
      "2023-11-20         97.374731\n",
      "2023-11-21         98.193400\n"
     ]
    }
   ],
   "execution_count": 10
  },
  {
   "metadata": {},
   "cell_type": "code",
   "source": "BT.index",
   "id": "aaab7d236f59593f",
   "outputs": [],
   "execution_count": null
  },
  {
   "metadata": {
    "ExecuteTime": {
     "end_time": "2025-01-17T22:27:10.506585Z",
     "start_time": "2025-01-17T22:27:10.497323Z"
    }
   },
   "cell_type": "code",
   "source": "df=pd.concat([BT,df_equally_weighted], axis=1)",
   "id": "dd24278a8952eb6f",
   "outputs": [],
   "execution_count": 11
  },
  {
   "metadata": {
    "ExecuteTime": {
     "end_time": "2025-01-17T22:28:11.815291Z",
     "start_time": "2025-01-17T22:28:11.803871Z"
    }
   },
   "cell_type": "code",
   "source": "df.tail()",
   "id": "ffe06331df634364",
   "outputs": [
    {
     "data": {
      "text/plain": [
       "            Index Level  Equally Weighted\n",
       "Date                                     \n",
       "2025-01-08   145.489223         48.061086\n",
       "2025-01-10   144.057762         46.275905\n",
       "2025-01-13   142.124587         43.304072\n",
       "2025-01-14   141.528505         43.049764\n",
       "2025-01-15   142.690116         43.623086"
      ],
      "text/html": [
       "<div>\n",
       "<style scoped>\n",
       "    .dataframe tbody tr th:only-of-type {\n",
       "        vertical-align: middle;\n",
       "    }\n",
       "\n",
       "    .dataframe tbody tr th {\n",
       "        vertical-align: top;\n",
       "    }\n",
       "\n",
       "    .dataframe thead th {\n",
       "        text-align: right;\n",
       "    }\n",
       "</style>\n",
       "<table border=\"1\" class=\"dataframe\">\n",
       "  <thead>\n",
       "    <tr style=\"text-align: right;\">\n",
       "      <th></th>\n",
       "      <th>Index Level</th>\n",
       "      <th>Equally Weighted</th>\n",
       "    </tr>\n",
       "    <tr>\n",
       "      <th>Date</th>\n",
       "      <th></th>\n",
       "      <th></th>\n",
       "    </tr>\n",
       "  </thead>\n",
       "  <tbody>\n",
       "    <tr>\n",
       "      <th>2025-01-08</th>\n",
       "      <td>145.489223</td>\n",
       "      <td>48.061086</td>\n",
       "    </tr>\n",
       "    <tr>\n",
       "      <th>2025-01-10</th>\n",
       "      <td>144.057762</td>\n",
       "      <td>46.275905</td>\n",
       "    </tr>\n",
       "    <tr>\n",
       "      <th>2025-01-13</th>\n",
       "      <td>142.124587</td>\n",
       "      <td>43.304072</td>\n",
       "    </tr>\n",
       "    <tr>\n",
       "      <th>2025-01-14</th>\n",
       "      <td>141.528505</td>\n",
       "      <td>43.049764</td>\n",
       "    </tr>\n",
       "    <tr>\n",
       "      <th>2025-01-15</th>\n",
       "      <td>142.690116</td>\n",
       "      <td>43.623086</td>\n",
       "    </tr>\n",
       "  </tbody>\n",
       "</table>\n",
       "</div>"
      ]
     },
     "execution_count": 14,
     "metadata": {},
     "output_type": "execute_result"
    }
   ],
   "execution_count": 14
  },
  {
   "metadata": {
    "ExecuteTime": {
     "end_time": "2025-01-17T22:27:42.954592Z",
     "start_time": "2025-01-17T22:27:42.687710Z"
    }
   },
   "cell_type": "code",
   "source": [
    "\n",
    "# Ensure the index is a DatetimeIndex\n",
    "df.index = pd.to_datetime(df.index)\n",
    "\n",
    "# Create the plot\n",
    "plt.figure(figsize=(12, 6))\n",
    "\n",
    "plt.plot(df.index, df.iloc[:, 0], label=df.columns[0], linestyle='-', marker='o')  # First column (BT)\n",
    "plt.plot(df.index, df.iloc[:, 1], label=df.columns[1], linestyle='-', marker='s')  # Second column (Equally Weighted)\n",
    "\n",
    "# Formatting\n",
    "plt.xlabel(\"Date\")\n",
    "plt.ylabel(\"Index Level\")\n",
    "plt.title(\"Comparison of Backtest (BT) and Equally Weighted Basket\")\n",
    "plt.legend()\n",
    "plt.grid(True)\n",
    "\n",
    "# Improve x-axis readability\n",
    "plt.gca().xaxis.set_major_formatter(mdates.DateFormatter('%Y-%m-%d'))\n",
    "plt.gca().xaxis.set_major_locator(mdates.AutoDateLocator())\n",
    "plt.xticks(rotation=45)\n",
    "\n",
    "# Show the plot\n",
    "plt.show()"
   ],
   "id": "80f483f3eec2ded3",
   "outputs": [
    {
     "data": {
      "text/plain": [
       "<Figure size 1200x600 with 1 Axes>"
      ],
      "image/png": "[encoded data removed]"
     },
     "metadata": {},
     "output_type": "display_data"
    }
   ],
   "execution_count": 13
  },
  {
   "metadata": {
    "ExecuteTime": {
     "end_time": "2025-01-17T22:36:38.711086Z",
     "start_time": "2025-01-17T22:36:38.699088Z"
    }
   },
   "cell_type": "code",
   "source": [
    "from stats import Stats\n",
    "\n",
    "print(\"Optimized Basket Stats:\", Stats(BT.dropna()).summary())\n",
    "df_equally_weighted_temp=df_equally_weighted.copy()\n",
    "df_equally_weighted_temp.columns=['Index Level']\n",
    "print(\"Equally Weighted Basket Stats:\", Stats(df_equally_weighted_temp).summary())"
   ],
   "id": "d2d6ac0c8a183097",
   "outputs": [
    {
     "name": "stdout",
     "output_type": "stream",
     "text": [
      "Optimized Basket Stats:                           Value\n",
      "Annualized Return      0.345340\n",
      "Annualized Volatility  0.216322\n",
      "Sharpe Ratio           1.503962\n",
      "Max Drawdown          -0.092201\n",
      "Equally Weighted Basket Stats:                           Value\n",
      "Annualized Return     -0.387123\n",
      "Annualized Volatility  0.549143\n",
      "Sharpe Ratio          -0.741378\n",
      "Max Drawdown          -0.652556\n"
     ]
    }
   ],
   "execution_count": 30
  }
 ],
 "metadata": {
  "kernelspec": {
   "display_name": "Python 3",
   "language": "python",
   "name": "python3"
  },
  "language_info": {
   "codemirror_mode": {
    "name": "ipython",
    "version": 2
   },
   "file_extension": ".py",
   "mimetype": "text/x-python",
   "name": "python",
   "nbconvert_exporter": "python",
   "pygments_lexer": "ipython2",
   "version": "2.7.6"
  }
 },
 "nbformat": 4,
 "nbformat_minor": 5
}
