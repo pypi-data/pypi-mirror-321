{
 "cells": [
  {
   "cell_type": "code",
   "execution_count": 1,
   "id": "943f6703-af72-4874-9ca3-71c29ac724e8",
   "metadata": {},
   "outputs": [],
   "source": [
    "%load_ext autoreload\n",
    "%autoreload 2"
   ]
  },
  {
   "cell_type": "code",
   "execution_count": 2,
   "id": "856a6bad-23a3-40e8-8c8e-db71766af6f8",
   "metadata": {},
   "outputs": [],
   "source": [
    "import warnings\n",
    "warnings.filterwarnings(\"ignore\")"
   ]
  },
  {
   "cell_type": "code",
   "execution_count": 3,
   "id": "5cbda924-cf2b-47c5-b24c-36b1a0610c32",
   "metadata": {},
   "outputs": [],
   "source": [
    "import graphcompass as gc"
   ]
  },
  {
   "cell_type": "code",
   "execution_count": 5,
   "id": "d3836e4d-24fb-4401-94e4-c674d158a073",
   "metadata": {},
   "outputs": [],
   "source": [
    "adata = gc.datasets.mibitof_breast_cancer()"
   ]
  },
  {
   "cell_type": "code",
   "execution_count": 10,
   "id": "2fc81340-29aa-4aad-a767-f7aec653cc10",
   "metadata": {},
   "outputs": [],
   "source": [
    "num_iterations=[1,3,5]"
   ]
  },
  {
   "cell_type": "code",
   "execution_count": 11,
   "id": "bee65baa-d6b8-480c-b771-6cc4d04f11f8",
   "metadata": {},
   "outputs": [],
   "source": [
    "dict_interation_results = {}"
   ]
  },
  {
   "cell_type": "code",
   "execution_count": 12,
   "id": "6cea23a3-2c14-49c2-a556-90223b420f74",
   "metadata": {},
   "outputs": [],
   "source": [
    "# define library_key and cluster_key for computing spatial graphs using `squidpy.gr.spatial_neighbors`\n",
    "\n",
    "library_key=\"Point_Num\"\n",
    "cluster_key=\"phenotype\"\n",
    "# define necessary params\n",
    "condition_key=\"Status\" # key in adata.obs where conditions are stored\n",
    "control_group=\"normal\" # reference group\n",
    "metric_key=\"wasserstein_distance\" \n",
    "method=\"wl_kernel\""
   ]
  },
  {
   "cell_type": "code",
   "execution_count": null,
   "id": "73d9148f-8312-4e02-a17f-9b50e3ebdd21",
   "metadata": {},
   "outputs": [],
   "source": []
  },
  {
   "cell_type": "code",
   "execution_count": null,
   "id": "be78ca93-5f60-415c-aed2-da483d03195d",
   "metadata": {},
   "outputs": [],
   "source": [
    "compute_spatial_graphs=False\n",
    "for i, n in enumerate(num_iterations):\n",
    "    dict_interation_results[n] = {}\n",
    "    if i == 0:\n",
    "        compute_spatial_graphs=True\n",
    "    gc.tl.wlkernel.compare_conditions(\n",
    "       adata=adata,\n",
    "       library_key=library_key,\n",
    "       cluster_key=cluster_key,\n",
    "       compute_spatial_graphs=compute_spatial_graphs,\n",
    "       num_iterations=n,\n",
    "       kwargs_spatial_neighbors={\n",
    "            'coord_type': 'generic',\n",
    "            'delaunay': True,  \n",
    "       }  \n",
    "    )\n",
    "    dict_interation_results[n][\"adata\"] = adata\n",
    "    df = gc.pl.wlkernel.compare_conditions(\n",
    "        adata=adata,\n",
    "        library_key=library_key,\n",
    "        condition_key=condition_key,\n",
    "        control_group=control_group,\n",
    "        metric_key=metric_key,\n",
    "        method=method,\n",
    "        figsize=(3,5),\n",
    "        dpi=100,\n",
    "        #save=\"figures/mibitof_wwlkerenl.pdf\"\n",
    "    )\n",
    "    dict_interation_results[n][\"df_to_plot\"] = df"
   ]
  }
 ],
 "metadata": {
  "kernelspec": {
   "display_name": "Python 3 (ipykernel)",
   "language": "python",
   "name": "python3"
  },
  "language_info": {
   "codemirror_mode": {
    "name": "ipython",
    "version": 3
   },
   "file_extension": ".py",
   "mimetype": "text/x-python",
   "name": "python",
   "nbconvert_exporter": "python",
   "pygments_lexer": "ipython3",
   "version": "3.10.0"
  }
 },
 "nbformat": 4,
 "nbformat_minor": 5
}
