{
 "cells": [
  {
   "cell_type": "code",
   "execution_count": 1,
   "id": "5dac5e2f-3c9a-425b-8f5b-0d2a4ccba148",
   "metadata": {},
   "outputs": [],
   "source": [
    "import scanpy as sc\n",
    "import anndata"
   ]
  },
  {
   "cell_type": "code",
   "execution_count": 2,
   "id": "a9b75f1a-8ed2-4bfc-af54-b257f7c8d9d2",
   "metadata": {},
   "outputs": [
    {
     "name": "stderr",
     "output_type": "stream",
     "text": [
      "/Users/mayar.ali/opt/anaconda3/envs/graphcompass_dev/lib/python3.10/site-packages/anndata/_core/anndata.py:183: ImplicitModificationWarning: Transforming to str index.\n",
      "  warnings.warn(\"Transforming to str index.\", ImplicitModificationWarning)\n",
      "/Users/mayar.ali/opt/anaconda3/envs/graphcompass_dev/lib/python3.10/site-packages/anndata/_core/anndata.py:1906: UserWarning: Observation names are not unique. To make them unique, call `.obs_names_make_unique`.\n",
      "  utils.warn_names_duplicates(\"obs\")\n"
     ]
    }
   ],
   "source": [
    "adata_breast_cancer = sc.read_h5ad(\"/Volumes/My Passport /phd/hackathon/spatialde/data/mibitof_breast_cancer/adata_processed.h5ad\")"
   ]
  },
  {
   "cell_type": "code",
   "execution_count": 3,
   "id": "7c2b2aa7-885a-454f-b0ec-87ff7f66cc43",
   "metadata": {},
   "outputs": [
    {
     "data": {
      "text/plain": [
       "AnnData object with n_obs × n_vars = 69672 × 59\n",
       "    obs: 'event', 'Point_Num', 'CohortNumber', 'Tissue_Type', 'Status', 'Tissue', 'sublineage', 'phenotype', 'compartment', 'celllineage', 'sublineage_code', 'phenotype_code', 'compartment_code', 'celllineage_code', 'manual_gating_cellineage', 'manual_gating_subineage', 'manual_gating_phenotype', 'innerduct_mask', 'distal_mask', 'stroma_mask', 'periph_mask', 'epi_mask', 'duct_mask', 'myoep_mask', 'ERstatus', 'HER2status', 'ARstatus', 'Ki67status', 'pS6status', 'GLUT1status', 'HIF1astatus', 'COX2status', 'CD36status', 'CD44status', 'PD1status', 'PDL1status', 'IDO1status', 'GZMBstatus', 'ECADstatus', 'MMP9status', 'VIMstatus', 'FAPstatus', 'HLADRstatus', 'CD3status', 'SMAstatus', 'COLIstatus', 'CK5status', 'CK7status', 'P63status', 'myoep_dist_label', 'myoep_dist_MinDist', 'myoep_dist_MaxDist', 'myoep_dist_MedDist', 'myoep_dist_MeanDist', 'celltype_code', 'myoep_dist_MinDist1', 'Neighbor_dist_TUMOR', 'Neighbor_dist_MYOEP', 'Neighbor_dist_FIBROBLAST', 'Neighbor_dist_ENDO', 'Neighbor_dist_MONODC', 'Neighbor_dist_MONO', 'Neighbor_dist_MACS', 'Neighbor_dist_DC', 'Neighbor_dist_APC', 'Neighbor_dist_MAST', 'Neighbor_dist_CD8T', 'Neighbor_dist_CD4T', 'Neighbor_dist_BCELL', 'Neighbor_dist_TCELL', 'Neighbor_dist_NEUT', 'Neighbor_dist_IMMUNEOTHER', 'K10_cluster', 'duct_edge_mask', 'duct_mid_mask', 'duct_core_mask', 'labels_id', 'batch'\n",
       "    uns: 'compartment_colors', 'spatial'\n",
       "    obsm: 'spatial'"
      ]
     },
     "execution_count": 3,
     "metadata": {},
     "output_type": "execute_result"
    }
   ],
   "source": [
    "adata_breast_cancer"
   ]
  },
  {
   "cell_type": "code",
   "execution_count": 23,
   "id": "8e36056d-bb85-4b9f-954a-8f5848b672c1",
   "metadata": {},
   "outputs": [
    {
     "name": "stderr",
     "output_type": "stream",
     "text": [
      "/Users/mayar.ali/opt/anaconda3/envs/graphcompass_dev/lib/python3.10/site-packages/anndata/_core/anndata.py:1906: UserWarning: Observation names are not unique. To make them unique, call `.obs_names_make_unique`.\n",
      "  utils.warn_names_duplicates(\"obs\")\n"
     ]
    }
   ],
   "source": [
    "adata_heart = sc.read_h5ad(\"/Volumes/My Passport /phd/hackathon/spatialde/data/visium_heart/adata_processed_graphs.h5ad\")"
   ]
  },
  {
   "cell_type": "code",
   "execution_count": 24,
   "id": "d1ba1b30-c028-452a-98cd-be17e0ab4989",
   "metadata": {},
   "outputs": [
    {
     "data": {
      "text/plain": [
       "AnnData object with n_obs × n_vars = 88456 × 11669\n",
       "    obs: 'n_counts', 'n_genes', 'percent.mt', 'Adipocyte', 'Cardiomyocyte', 'Endothelial', 'Fibroblast', 'Lymphoid', 'Mast', 'Myeloid', 'Neuronal', 'Pericyte', 'Cycling.cells', 'vSMCs', 'cell_type_original', 'assay_ontology_term_id', 'cell_type_ontology_term_id', 'development_stage_ontology_term_id', 'disease_ontology_term_id', 'ethnicity_ontology_term_id', 'is_primary_data', 'organism_ontology_term_id', 'sex_ontology_term_id', 'tissue_ontology_term_id', 'cell_type', 'assay', 'disease', 'organism', 'sex', 'tissue', 'ethnicity', 'development_stage', 'sample'\n",
       "    var: 'feature_biotype', 'feature_is_filtered', 'feature_name', 'feature_reference'\n",
       "    uns: 'cell_type_original_sample_nhood_enrichment', 'pairwise_similarities', 'spatial_neighbors'\n",
       "    obsm: 'X_pca', 'X_spatial', 'X_umap', 'spatial'\n",
       "    obsp: 'spatial_connectivities', 'spatial_distances'"
      ]
     },
     "execution_count": 24,
     "metadata": {},
     "output_type": "execute_result"
    }
   ],
   "source": [
    "adata_heart"
   ]
  },
  {
   "cell_type": "code",
   "execution_count": 27,
   "id": "01c7c4d1-d709-4daf-94e1-214d14f00460",
   "metadata": {},
   "outputs": [
    {
     "data": {
      "text/plain": [
       "AAACAAGTATCTCCCA-1    control_P1\n",
       "AAACAATCTACTAGCA-1    control_P1\n",
       "AAACACCAATAACTGC-1    control_P1\n",
       "AAACAGAGCGACTCCT-1    control_P1\n",
       "AAACAGCTTTCAGAAG-1    control_P1\n",
       "                         ...    \n",
       "TTGTTGTGTGTCAAGA-1         RZ_P9\n",
       "TTGTTTCACATCCAGG-1         RZ_P9\n",
       "TTGTTTCATTAGTCTA-1         RZ_P9\n",
       "TTGTTTCCATACAACT-1         RZ_P9\n",
       "TTGTTTGTATTACACG-1         RZ_P9\n",
       "Name: sample, Length: 88456, dtype: category\n",
       "Categories (27, object): ['FZ_GT_P19', 'FZ_GT_P4', 'FZ_P14', 'FZ_P18', ..., 'control_P1', 'control_P17', 'control_P7', 'control_P8']"
      ]
     },
     "execution_count": 27,
     "metadata": {},
     "output_type": "execute_result"
    }
   ],
   "source": [
    "adata_heart.obs[\"sample\"]\n"
   ]
  },
  {
   "cell_type": "code",
   "execution_count": 30,
   "id": "7ba5a3b1-664d-4e6a-8e43-5ed964e9dc1f",
   "metadata": {},
   "outputs": [
    {
     "data": {
      "text/plain": [
       "AnnData object with n_obs × n_vars = 29042 × 25785\n",
       "    obs: 'CellID', 'spatial_leiden_e30_s8', 'Batch', 'cell_id', 'seurat_clusters', 'inj_uninj', 'D_V', 'inj_M_L', 'Annotation'\n",
       "    var: 'Gene'\n",
       "    uns: 'Annotation_colors', 'Injury_10DPI_rep1_SS200000147BL_B5', 'Injury_10DPI_rep2_SS200000147BL_B2', 'Injury_10DPI_rep4_SS200000147BL_B3', 'angle_dict'\n",
       "    obsm: 'X_pca', 'X_spatial', 'spatial'\n",
       "    layers: 'counts'"
      ]
     },
     "execution_count": 30,
     "metadata": {},
     "output_type": "execute_result"
    }
   ],
   "source": [
    "adata_10DPIs"
   ]
  },
  {
   "cell_type": "code",
   "execution_count": 31,
   "id": "e56532fa-48ff-445d-b165-c5ce7fc6861b",
   "metadata": {},
   "outputs": [
    {
     "ename": "KeyError",
     "evalue": "'pairwise_similarities'",
     "output_type": "error",
     "traceback": [
      "\u001b[0;31m---------------------------------------------------------------------------\u001b[0m",
      "\u001b[0;31mKeyError\u001b[0m                                  Traceback (most recent call last)",
      "Cell \u001b[0;32mIn[31], line 1\u001b[0m\n\u001b[0;32m----> 1\u001b[0m \u001b[38;5;28;01mdel\u001b[39;00m adata_heart\u001b[38;5;241m.\u001b[39muns[\u001b[38;5;124m'\u001b[39m\u001b[38;5;124mpairwise_similarities\u001b[39m\u001b[38;5;124m'\u001b[39m]\n\u001b[1;32m      2\u001b[0m \u001b[38;5;28;01mdel\u001b[39;00m adata_heart\u001b[38;5;241m.\u001b[39muns[\u001b[38;5;124m'\u001b[39m\u001b[38;5;124mcell_type_original_sample_nhood_enrichment\u001b[39m\u001b[38;5;124m'\u001b[39m]\n\u001b[1;32m      3\u001b[0m \u001b[38;5;28;01mdel\u001b[39;00m adata_heart\u001b[38;5;241m.\u001b[39muns[\u001b[38;5;124m'\u001b[39m\u001b[38;5;124mspatial_neighbors\u001b[39m\u001b[38;5;124m'\u001b[39m]\n",
      "\u001b[0;31mKeyError\u001b[0m: 'pairwise_similarities'"
     ]
    }
   ],
   "source": [
    "del adata_heart.uns['pairwise_similarities']\n",
    "del adata_heart.uns['cell_type_original_sample_nhood_enrichment']\n",
    "del adata_heart.uns['spatial_neighbors']\n"
   ]
  },
  {
   "cell_type": "code",
   "execution_count": 32,
   "id": "aa7af242-0ecd-45f7-9455-583a8bafe95b",
   "metadata": {},
   "outputs": [],
   "source": [
    "del adata_heart.obsp[\"spatial_connectivities\"]\n",
    "del adata_heart.obsp['spatial_distances']"
   ]
  },
  {
   "cell_type": "code",
   "execution_count": 39,
   "id": "194a6d3d-1d94-4704-8c49-5e967798a64b",
   "metadata": {},
   "outputs": [
    {
     "data": {
      "text/plain": [
       "AAACAAGTATCTCCCA-1    control\n",
       "AAACAATCTACTAGCA-1    control\n",
       "AAACACCAATAACTGC-1    control\n",
       "AAACAGAGCGACTCCT-1    control\n",
       "AAACAGCTTTCAGAAG-1    control\n",
       "                       ...   \n",
       "TTGTTGTGTGTCAAGA-1         RZ\n",
       "TTGTTTCACATCCAGG-1         RZ\n",
       "TTGTTTCATTAGTCTA-1         RZ\n",
       "TTGTTTCCATACAACT-1         RZ\n",
       "TTGTTTGTATTACACG-1         RZ\n",
       "Name: sample, Length: 88456, dtype: object"
      ]
     },
     "execution_count": 39,
     "metadata": {},
     "output_type": "execute_result"
    }
   ],
   "source": [
    "adata_heart.obs[\"sample\"].str.split('_P').str[0]"
   ]
  },
  {
   "cell_type": "code",
   "execution_count": 40,
   "id": "f1a1be29-3998-4117-a125-0733e817af3c",
   "metadata": {},
   "outputs": [],
   "source": [
    "adata_heart.obs[\"condition\"] = adata_heart.obs[\"sample\"].str.split('_P').str[0]"
   ]
  },
  {
   "cell_type": "code",
   "execution_count": 41,
   "id": "4f62f6a7-c2ff-40cd-a1ac-db972211e917",
   "metadata": {},
   "outputs": [],
   "source": [
    "adata_heart.obs[\"condition\"] = adata_heart.obs[\"condition\"].astype('category')"
   ]
  },
  {
   "cell_type": "code",
   "execution_count": 70,
   "id": "6d460a3b-6f23-491c-8578-01979e05ca3b",
   "metadata": {},
   "outputs": [
    {
     "data": {
      "text/plain": [
       "AnnData object with n_obs × n_vars = 88456 × 11669\n",
       "    obs: 'n_counts', 'n_genes', 'percent.mt', 'Adipocyte', 'Cardiomyocyte', 'Endothelial', 'Fibroblast', 'Lymphoid', 'Mast', 'Myeloid', 'Neuronal', 'Pericyte', 'Cycling.cells', 'vSMCs', 'cell_type_original', 'assay_ontology_term_id', 'cell_type_ontology_term_id', 'development_stage_ontology_term_id', 'disease_ontology_term_id', 'ethnicity_ontology_term_id', 'is_primary_data', 'organism_ontology_term_id', 'sex_ontology_term_id', 'tissue_ontology_term_id', 'cell_type', 'assay', 'disease', 'organism', 'sex', 'tissue', 'ethnicity', 'development_stage', 'sample', 'condition'\n",
       "    var: 'feature_biotype', 'feature_is_filtered', 'feature_name', 'feature_reference'\n",
       "    obsm: 'X_pca', 'X_spatial', 'X_umap', 'spatial'"
      ]
     },
     "execution_count": 70,
     "metadata": {},
     "output_type": "execute_result"
    }
   ],
   "source": [
    "adata_heart\n"
   ]
  },
  {
   "cell_type": "code",
   "execution_count": 71,
   "id": "c932e0b3-2704-40b1-b423-4f0ea28fe0f5",
   "metadata": {},
   "outputs": [],
   "source": [
    "adata_heart.write_h5ad(\"/Volumes/My Passport /phd/hackathon/spatialde/data/to_upload/visium_heart.h5ad\")"
   ]
  },
  {
   "cell_type": "code",
   "execution_count": 19,
   "id": "4f1e68a9-0173-4e74-9547-0dff6f8569a5",
   "metadata": {},
   "outputs": [],
   "source": [
    "adata_breast_cancer.write_h5ad(\"/Volumes/My Passport /phd/hackathon/spatialde/data/to_upload/mibitof_breast_cancer.h5ad\")"
   ]
  },
  {
   "cell_type": "code",
   "execution_count": 44,
   "id": "7e114fc9-d746-47b3-8cfa-c4098bdc1a0f",
   "metadata": {
    "scrolled": true
   },
   "outputs": [
    {
     "name": "stderr",
     "output_type": "stream",
     "text": [
      "/Users/mayar.ali/opt/anaconda3/envs/graphcompass_dev/lib/python3.10/site-packages/anndata/_core/anndata.py:1906: UserWarning: Observation names are not unique. To make them unique, call `.obs_names_make_unique`.\n",
      "  utils.warn_names_duplicates(\"obs\")\n",
      "/Users/mayar.ali/opt/anaconda3/envs/graphcompass_dev/lib/python3.10/site-packages/anndata/_core/anndata.py:1906: UserWarning: Observation names are not unique. To make them unique, call `.obs_names_make_unique`.\n",
      "  utils.warn_names_duplicates(\"obs\")\n",
      "/Users/mayar.ali/opt/anaconda3/envs/graphcompass_dev/lib/python3.10/site-packages/anndata/_core/anndata.py:1906: UserWarning: Observation names are not unique. To make them unique, call `.obs_names_make_unique`.\n",
      "  utils.warn_names_duplicates(\"obs\")\n",
      "/Users/mayar.ali/opt/anaconda3/envs/graphcompass_dev/lib/python3.10/site-packages/anndata/_core/anndata.py:1906: UserWarning: Observation names are not unique. To make them unique, call `.obs_names_make_unique`.\n",
      "  utils.warn_names_duplicates(\"obs\")\n",
      "/Users/mayar.ali/opt/anaconda3/envs/graphcompass_dev/lib/python3.10/site-packages/anndata/_core/anndata.py:1906: UserWarning: Observation names are not unique. To make them unique, call `.obs_names_make_unique`.\n",
      "  utils.warn_names_duplicates(\"obs\")\n"
     ]
    }
   ],
   "source": [
    "# regeneratiob\n",
    "adata_10DPIs = sc.read_h5ad(\"/Volumes/My Passport /phd/hackathon/spatialde/data/development_stereoseq/10DPIs.h5ad\")\n",
    "adata_10DPIs.obs[\"condition\"] = \"Injury 10DPI\"\n",
    "\n",
    "adata_15DPIs = sc.read_h5ad(\"/Volumes/My Passport /phd/hackathon/spatialde/data/development_stereoseq/15DPIs.h5ad\")\n",
    "adata_15DPIs.obs[\"condition\"] = \"Injury 15DPI\"\n",
    "adata_20DPIs = sc.read_h5ad(\"/Volumes/My Passport /phd/hackathon/spatialde/data/development_stereoseq/20DPIs.h5ad\")\n",
    "adata_20DPIs.obs[\"condition\"] = \"Injury 20DPI\"\n",
    "adata_2DPIs = sc.read_h5ad(\"/Volumes/My Passport /phd/hackathon/spatialde/data/development_stereoseq/2DPIs.h5ad\")\n",
    "adata_2DPIs.obs[\"condition\"] = \"Injury 2DPI\"\n",
    "adata_5DPIs = sc.read_h5ad(\"/Volumes/My Passport /phd/hackathon/spatialde/data/development_stereoseq/5DPIs.h5ad\")\n",
    "adata_5DPIs.obs[\"condition\"] = \"Injury 5DPI\""
   ]
  },
  {
   "cell_type": "code",
   "execution_count": 45,
   "id": "e31e9c49-b725-4466-8bb1-9025b92063ec",
   "metadata": {},
   "outputs": [],
   "source": [
    "adata_60DPIs = sc.read_h5ad(\"/Volumes/My Passport /phd/hackathon/spatialde/data/development_stereoseq/60DPI.h5ad\")\n",
    "adata_60DPIs.obs[\"condition\"] = \"Injury 60DPI\"\n",
    "adata_30DPIs = sc.read_h5ad(\"/Volumes/My Passport /phd/hackathon/spatialde/data/development_stereoseq/30DPI.h5ad\")\n",
    "adata_30DPIs.obs[\"condition\"] = \"Injury 30DPI\"\n",
    "\n",
    "# development\n",
    "adata_Adult = sc.read_h5ad(\"/Volumes/My Passport /phd/hackathon/spatialde/data/development_stereoseq/Adult.h5ad\")\n",
    "adata_Adult.obs[\"condition\"] = \"Adult\"\n",
    "adata_Stage44 = sc.read_h5ad(\"/Volumes/My Passport /phd/hackathon/spatialde/data/development_stereoseq/Stage44.h5ad\")\n",
    "adata_Stage44.obs[\"condition\"] = \"Stage44\"\n",
    "adata_Stage54 = sc.read_h5ad(\"/Volumes/My Passport /phd/hackathon/spatialde/data/development_stereoseq/Stage54.h5ad\")\n",
    "adata_Stage54.obs[\"condition\"] = \"Stage54\"\n",
    "adata_Stage57 = sc.read_h5ad(\"/Volumes/My Passport /phd/hackathon/spatialde/data/development_stereoseq/Stage57.h5ad\")\n",
    "adata_Stage57.obs[\"condition\"] = \"Stage57\""
   ]
  },
  {
   "cell_type": "code",
   "execution_count": 58,
   "id": "2ee1ef0b-453c-472b-9231-2d3bdbfce156",
   "metadata": {},
   "outputs": [
    {
     "data": {
      "text/html": [
       "<div>\n",
       "<style scoped>\n",
       "    .dataframe tbody tr th:only-of-type {\n",
       "        vertical-align: middle;\n",
       "    }\n",
       "\n",
       "    .dataframe tbody tr th {\n",
       "        vertical-align: top;\n",
       "    }\n",
       "\n",
       "    .dataframe thead th {\n",
       "        text-align: right;\n",
       "    }\n",
       "</style>\n",
       "<table border=\"1\" class=\"dataframe\">\n",
       "  <thead>\n",
       "    <tr style=\"text-align: right;\">\n",
       "      <th></th>\n",
       "      <th>CellID</th>\n",
       "      <th>spatial_leiden_e30_s8</th>\n",
       "      <th>Batch</th>\n",
       "      <th>cell_id</th>\n",
       "      <th>seurat_clusters</th>\n",
       "      <th>Annotation</th>\n",
       "      <th>condition</th>\n",
       "    </tr>\n",
       "  </thead>\n",
       "  <tbody>\n",
       "    <tr>\n",
       "      <th>CELL.1</th>\n",
       "      <td>CELL.1</td>\n",
       "      <td>2</td>\n",
       "      <td>Stage57_telencephalon_rep2_DP8400015649BRD5_1</td>\n",
       "      <td>1</td>\n",
       "      <td>0</td>\n",
       "      <td>VLMC</td>\n",
       "      <td>Stage57</td>\n",
       "    </tr>\n",
       "    <tr>\n",
       "      <th>CELL.2</th>\n",
       "      <td>CELL.2</td>\n",
       "      <td>2</td>\n",
       "      <td>Stage57_telencephalon_rep2_DP8400015649BRD5_1</td>\n",
       "      <td>2</td>\n",
       "      <td>0</td>\n",
       "      <td>VLMC</td>\n",
       "      <td>Stage57</td>\n",
       "    </tr>\n",
       "    <tr>\n",
       "      <th>CELL.3</th>\n",
       "      <td>CELL.3</td>\n",
       "      <td>2</td>\n",
       "      <td>Stage57_telencephalon_rep2_DP8400015649BRD5_1</td>\n",
       "      <td>3</td>\n",
       "      <td>0</td>\n",
       "      <td>VLMC</td>\n",
       "      <td>Stage57</td>\n",
       "    </tr>\n",
       "    <tr>\n",
       "      <th>CELL.4</th>\n",
       "      <td>CELL.4</td>\n",
       "      <td>2</td>\n",
       "      <td>Stage57_telencephalon_rep2_DP8400015649BRD5_1</td>\n",
       "      <td>4</td>\n",
       "      <td>0</td>\n",
       "      <td>VLMC</td>\n",
       "      <td>Stage57</td>\n",
       "    </tr>\n",
       "    <tr>\n",
       "      <th>CELL.5</th>\n",
       "      <td>CELL.5</td>\n",
       "      <td>2</td>\n",
       "      <td>Stage57_telencephalon_rep2_DP8400015649BRD5_1</td>\n",
       "      <td>5</td>\n",
       "      <td>0</td>\n",
       "      <td>VLMC</td>\n",
       "      <td>Stage57</td>\n",
       "    </tr>\n",
       "    <tr>\n",
       "      <th>...</th>\n",
       "      <td>...</td>\n",
       "      <td>...</td>\n",
       "      <td>...</td>\n",
       "      <td>...</td>\n",
       "      <td>...</td>\n",
       "      <td>...</td>\n",
       "      <td>...</td>\n",
       "    </tr>\n",
       "    <tr>\n",
       "      <th>CELL.4576</th>\n",
       "      <td>CELL.4576</td>\n",
       "      <td>2</td>\n",
       "      <td>Stage57_telencephalon_rep2_DP8400015649BRD5_1</td>\n",
       "      <td>4576</td>\n",
       "      <td>0</td>\n",
       "      <td>VLMC</td>\n",
       "      <td>Stage57</td>\n",
       "    </tr>\n",
       "    <tr>\n",
       "      <th>CELL.4577</th>\n",
       "      <td>CELL.4577</td>\n",
       "      <td>2</td>\n",
       "      <td>Stage57_telencephalon_rep2_DP8400015649BRD5_1</td>\n",
       "      <td>4577</td>\n",
       "      <td>0</td>\n",
       "      <td>VLMC</td>\n",
       "      <td>Stage57</td>\n",
       "    </tr>\n",
       "    <tr>\n",
       "      <th>CELL.4578</th>\n",
       "      <td>CELL.4578</td>\n",
       "      <td>2</td>\n",
       "      <td>Stage57_telencephalon_rep2_DP8400015649BRD5_1</td>\n",
       "      <td>4578</td>\n",
       "      <td>0</td>\n",
       "      <td>VLMC</td>\n",
       "      <td>Stage57</td>\n",
       "    </tr>\n",
       "    <tr>\n",
       "      <th>CELL.4579</th>\n",
       "      <td>CELL.4579</td>\n",
       "      <td>2</td>\n",
       "      <td>Stage57_telencephalon_rep2_DP8400015649BRD5_1</td>\n",
       "      <td>4579</td>\n",
       "      <td>0</td>\n",
       "      <td>VLMC</td>\n",
       "      <td>Stage57</td>\n",
       "    </tr>\n",
       "    <tr>\n",
       "      <th>CELL.4581</th>\n",
       "      <td>CELL.4581</td>\n",
       "      <td>2</td>\n",
       "      <td>Stage57_telencephalon_rep2_DP8400015649BRD5_1</td>\n",
       "      <td>4581</td>\n",
       "      <td>0</td>\n",
       "      <td>VLMC</td>\n",
       "      <td>Stage57</td>\n",
       "    </tr>\n",
       "  </tbody>\n",
       "</table>\n",
       "<p>4410 rows × 7 columns</p>\n",
       "</div>"
      ],
      "text/plain": [
       "              CellID spatial_leiden_e30_s8  \\\n",
       "CELL.1        CELL.1                     2   \n",
       "CELL.2        CELL.2                     2   \n",
       "CELL.3        CELL.3                     2   \n",
       "CELL.4        CELL.4                     2   \n",
       "CELL.5        CELL.5                     2   \n",
       "...              ...                   ...   \n",
       "CELL.4576  CELL.4576                     2   \n",
       "CELL.4577  CELL.4577                     2   \n",
       "CELL.4578  CELL.4578                     2   \n",
       "CELL.4579  CELL.4579                     2   \n",
       "CELL.4581  CELL.4581                     2   \n",
       "\n",
       "                                                   Batch cell_id  \\\n",
       "CELL.1     Stage57_telencephalon_rep2_DP8400015649BRD5_1       1   \n",
       "CELL.2     Stage57_telencephalon_rep2_DP8400015649BRD5_1       2   \n",
       "CELL.3     Stage57_telencephalon_rep2_DP8400015649BRD5_1       3   \n",
       "CELL.4     Stage57_telencephalon_rep2_DP8400015649BRD5_1       4   \n",
       "CELL.5     Stage57_telencephalon_rep2_DP8400015649BRD5_1       5   \n",
       "...                                                  ...     ...   \n",
       "CELL.4576  Stage57_telencephalon_rep2_DP8400015649BRD5_1    4576   \n",
       "CELL.4577  Stage57_telencephalon_rep2_DP8400015649BRD5_1    4577   \n",
       "CELL.4578  Stage57_telencephalon_rep2_DP8400015649BRD5_1    4578   \n",
       "CELL.4579  Stage57_telencephalon_rep2_DP8400015649BRD5_1    4579   \n",
       "CELL.4581  Stage57_telencephalon_rep2_DP8400015649BRD5_1    4581   \n",
       "\n",
       "          seurat_clusters Annotation condition  \n",
       "CELL.1                  0       VLMC   Stage57  \n",
       "CELL.2                  0       VLMC   Stage57  \n",
       "CELL.3                  0       VLMC   Stage57  \n",
       "CELL.4                  0       VLMC   Stage57  \n",
       "CELL.5                  0       VLMC   Stage57  \n",
       "...                   ...        ...       ...  \n",
       "CELL.4576               0       VLMC   Stage57  \n",
       "CELL.4577               0       VLMC   Stage57  \n",
       "CELL.4578               0       VLMC   Stage57  \n",
       "CELL.4579               0       VLMC   Stage57  \n",
       "CELL.4581               0       VLMC   Stage57  \n",
       "\n",
       "[4410 rows x 7 columns]"
      ]
     },
     "execution_count": 58,
     "metadata": {},
     "output_type": "execute_result"
    }
   ],
   "source": [
    "adata_Stage57.obs"
   ]
  },
  {
   "cell_type": "code",
   "execution_count": 62,
   "id": "b75f1589-c67c-482d-832f-f51527996857",
   "metadata": {},
   "outputs": [],
   "source": [
    "adata_injury_control\n",
    "adata_injury_control.obs[\"condition\"] = \"Injury control\"\n",
    "adata_meta.obs[\"condition\"] = \"Meta\""
   ]
  },
  {
   "cell_type": "code",
   "execution_count": 64,
   "id": "11606de3-2576-4391-a354-28f6da9591fa",
   "metadata": {},
   "outputs": [
    {
     "data": {
      "text/plain": [
       "AnnData object with n_obs × n_vars = 78123 × 16379\n",
       "    obs: 'CellID', 'spatial_leiden_e30_s8', 'Batch', 'cell_id', 'seurat_clusters', 'inj_uninj', 'D_V', 'Annotation'\n",
       "    var: 'Gene'\n",
       "    uns: 'Annotation_colors', 'Injury_10DPI_rep1_SS200000147BL_B5', 'Injury_15DPI_rep4_FP200000266TR_E4', 'Injury_20DPI_rep2_SS200000147BL_B4', 'Injury_2DPI_rep1_SS200000147BL_D5', 'Injury_30DPI_rep2_FP200000264BL_A6', 'Injury_5DPI_rep1_SS200000147BL_D2', 'Injury_60DPI_rep3_FP200000264BL_A6', 'Injury_control_FP200000239BL_E3', 'angle_dict'\n",
       "    obsm: 'X_pca', 'X_spatial', 'spatial'\n",
       "    layers: 'counts'"
      ]
     },
     "execution_count": 64,
     "metadata": {},
     "output_type": "execute_result"
    }
   ],
   "source": [
    "adata_reg"
   ]
  },
  {
   "cell_type": "code",
   "execution_count": 22,
   "id": "81573da6-0056-4f9b-9701-48d348b80b06",
   "metadata": {},
   "outputs": [],
   "source": [
    "adata_meta = sc.read_h5ad(\"/Volumes/My Passport /phd/hackathon/spatialde/data/development_stereoseq/Meta.h5ad\")\n",
    "adata_injury_control = sc.read_h5ad(\"/Volumes/My Passport /phd/hackathon/spatialde/data/development_stereoseq/Control_Juv.h5ad\")"
   ]
  },
  {
   "cell_type": "code",
   "execution_count": 20,
   "id": "d6d95ccd-4056-4068-ade5-e55e69a90bb4",
   "metadata": {},
   "outputs": [
    {
     "name": "stderr",
     "output_type": "stream",
     "text": [
      "/Users/mayar.ali/opt/anaconda3/envs/graphcompass_dev/lib/python3.10/site-packages/anndata/_core/anndata.py:1906: UserWarning: Observation names are not unique. To make them unique, call `.obs_names_make_unique`.\n",
      "  utils.warn_names_duplicates(\"obs\")\n"
     ]
    }
   ],
   "source": [
    "adata_d = sc.read_h5ad(\"/Volumes/My Passport /phd/hackathon/spatialde/data/development_stereoseq/Development.h5ad\")"
   ]
  },
  {
   "cell_type": "code",
   "execution_count": 21,
   "id": "314b4d94-ddc2-417b-97fa-99ed56bffb6d",
   "metadata": {},
   "outputs": [
    {
     "name": "stderr",
     "output_type": "stream",
     "text": [
      "/Users/mayar.ali/opt/anaconda3/envs/graphcompass_dev/lib/python3.10/site-packages/anndata/_core/anndata.py:1906: UserWarning: Observation names are not unique. To make them unique, call `.obs_names_make_unique`.\n",
      "  utils.warn_names_duplicates(\"obs\")\n"
     ]
    }
   ],
   "source": [
    "adata_reg = sc.read_h5ad(\"/Volumes/My Passport /phd/hackathon/spatialde/data/development_stereoseq/Regeneration.h5ad\")"
   ]
  },
  {
   "cell_type": "code",
   "execution_count": 31,
   "id": "51a582d8-637c-439f-b9f2-ffa9c920c4d9",
   "metadata": {},
   "outputs": [
    {
     "data": {
      "text/plain": [
       "AnnData object with n_obs × n_vars = 78123 × 16379\n",
       "    obs: 'CellID', 'spatial_leiden_e30_s8', 'Batch', 'cell_id', 'seurat_clusters', 'inj_uninj', 'D_V', 'Annotation'\n",
       "    var: 'Gene'\n",
       "    uns: 'Annotation_colors', 'Injury_10DPI_rep1_SS200000147BL_B5', 'Injury_15DPI_rep4_FP200000266TR_E4', 'Injury_20DPI_rep2_SS200000147BL_B4', 'Injury_2DPI_rep1_SS200000147BL_D5', 'Injury_30DPI_rep2_FP200000264BL_A6', 'Injury_5DPI_rep1_SS200000147BL_D2', 'Injury_60DPI_rep3_FP200000264BL_A6', 'Injury_control_FP200000239BL_E3', 'angle_dict'\n",
       "    obsm: 'X_pca', 'X_spatial', 'spatial'\n",
       "    layers: 'counts'"
      ]
     },
     "execution_count": 31,
     "metadata": {},
     "output_type": "execute_result"
    }
   ],
   "source": [
    "adata_reg"
   ]
  },
  {
   "cell_type": "code",
   "execution_count": 6,
   "id": "d3b28d7a-a92c-426e-a03a-ce108602fd05",
   "metadata": {},
   "outputs": [
    {
     "name": "stderr",
     "output_type": "stream",
     "text": [
      "/Users/mayar.ali/opt/anaconda3/envs/graphcompass_dev/lib/python3.10/site-packages/anndata/_core/anndata.py:1906: UserWarning: Observation names are not unique. To make them unique, call `.obs_names_make_unique`.\n",
      "  utils.warn_names_duplicates(\"obs\")\n"
     ]
    }
   ],
   "source": [
    "adata_30DPIs.obs[\"condition\"] = \"Injury 30DPI\"\n",
    "adata_60DPIs.obs[\"condition\"] = \"Injury 60DPI\"\n",
    "adata_Adult.obs[\"condition\"] = \"Adult\"\n",
    "adata_subset = anndata.concat([adata_30DPIs, adata_60DPIs, adata_Adult])"
   ]
  },
  {
   "cell_type": "code",
   "execution_count": 7,
   "id": "04eb7f03-ca88-415d-a593-eac6e4ec75c9",
   "metadata": {},
   "outputs": [
    {
     "data": {
      "text/html": [
       "<div>\n",
       "<style scoped>\n",
       "    .dataframe tbody tr th:only-of-type {\n",
       "        vertical-align: middle;\n",
       "    }\n",
       "\n",
       "    .dataframe tbody tr th {\n",
       "        vertical-align: top;\n",
       "    }\n",
       "\n",
       "    .dataframe thead th {\n",
       "        text-align: right;\n",
       "    }\n",
       "</style>\n",
       "<table border=\"1\" class=\"dataframe\">\n",
       "  <thead>\n",
       "    <tr style=\"text-align: right;\">\n",
       "      <th></th>\n",
       "      <th>CellID</th>\n",
       "      <th>Batch</th>\n",
       "      <th>cell_id</th>\n",
       "      <th>Annotation</th>\n",
       "      <th>condition</th>\n",
       "    </tr>\n",
       "  </thead>\n",
       "  <tbody>\n",
       "    <tr>\n",
       "      <th>CELL.11</th>\n",
       "      <td>CELL.11</td>\n",
       "      <td>Injury_30DPI_rep2_FP200000264BL_A6</td>\n",
       "      <td>11</td>\n",
       "      <td>VLMC</td>\n",
       "      <td>Injury 30DPI</td>\n",
       "    </tr>\n",
       "    <tr>\n",
       "      <th>CELL.12</th>\n",
       "      <td>CELL.12</td>\n",
       "      <td>Injury_30DPI_rep2_FP200000264BL_A6</td>\n",
       "      <td>12</td>\n",
       "      <td>VLMC</td>\n",
       "      <td>Injury 30DPI</td>\n",
       "    </tr>\n",
       "    <tr>\n",
       "      <th>CELL.13</th>\n",
       "      <td>CELL.13</td>\n",
       "      <td>Injury_30DPI_rep2_FP200000264BL_A6</td>\n",
       "      <td>13</td>\n",
       "      <td>VLMC</td>\n",
       "      <td>Injury 30DPI</td>\n",
       "    </tr>\n",
       "    <tr>\n",
       "      <th>CELL.15</th>\n",
       "      <td>CELL.15</td>\n",
       "      <td>Injury_30DPI_rep2_FP200000264BL_A6</td>\n",
       "      <td>15</td>\n",
       "      <td>VLMC</td>\n",
       "      <td>Injury 30DPI</td>\n",
       "    </tr>\n",
       "    <tr>\n",
       "      <th>CELL.16</th>\n",
       "      <td>CELL.16</td>\n",
       "      <td>Injury_30DPI_rep2_FP200000264BL_A6</td>\n",
       "      <td>16</td>\n",
       "      <td>VLMC</td>\n",
       "      <td>Injury 30DPI</td>\n",
       "    </tr>\n",
       "    <tr>\n",
       "      <th>...</th>\n",
       "      <td>...</td>\n",
       "      <td>...</td>\n",
       "      <td>...</td>\n",
       "      <td>...</td>\n",
       "      <td>...</td>\n",
       "    </tr>\n",
       "    <tr>\n",
       "      <th>CELL.10621</th>\n",
       "      <td>CELL.10621</td>\n",
       "      <td>Batch1_Adult_telencephalon_rep2_DP8400015234BL...</td>\n",
       "      <td>10621</td>\n",
       "      <td>VLMC</td>\n",
       "      <td>Adult</td>\n",
       "    </tr>\n",
       "    <tr>\n",
       "      <th>CELL.10623</th>\n",
       "      <td>CELL.10623</td>\n",
       "      <td>Batch1_Adult_telencephalon_rep2_DP8400015234BL...</td>\n",
       "      <td>10623</td>\n",
       "      <td>VLMC</td>\n",
       "      <td>Adult</td>\n",
       "    </tr>\n",
       "    <tr>\n",
       "      <th>CELL.10624</th>\n",
       "      <td>CELL.10624</td>\n",
       "      <td>Batch1_Adult_telencephalon_rep2_DP8400015234BL...</td>\n",
       "      <td>10624</td>\n",
       "      <td>VLMC</td>\n",
       "      <td>Adult</td>\n",
       "    </tr>\n",
       "    <tr>\n",
       "      <th>CELL.10626</th>\n",
       "      <td>CELL.10626</td>\n",
       "      <td>Batch1_Adult_telencephalon_rep2_DP8400015234BL...</td>\n",
       "      <td>10626</td>\n",
       "      <td>VLMC</td>\n",
       "      <td>Adult</td>\n",
       "    </tr>\n",
       "    <tr>\n",
       "      <th>CELL.10627</th>\n",
       "      <td>CELL.10627</td>\n",
       "      <td>Batch1_Adult_telencephalon_rep2_DP8400015234BL...</td>\n",
       "      <td>10627</td>\n",
       "      <td>VLMC</td>\n",
       "      <td>Adult</td>\n",
       "    </tr>\n",
       "  </tbody>\n",
       "</table>\n",
       "<p>28459 rows × 5 columns</p>\n",
       "</div>"
      ],
      "text/plain": [
       "                CellID                                              Batch  \\\n",
       "CELL.11        CELL.11                 Injury_30DPI_rep2_FP200000264BL_A6   \n",
       "CELL.12        CELL.12                 Injury_30DPI_rep2_FP200000264BL_A6   \n",
       "CELL.13        CELL.13                 Injury_30DPI_rep2_FP200000264BL_A6   \n",
       "CELL.15        CELL.15                 Injury_30DPI_rep2_FP200000264BL_A6   \n",
       "CELL.16        CELL.16                 Injury_30DPI_rep2_FP200000264BL_A6   \n",
       "...                ...                                                ...   \n",
       "CELL.10621  CELL.10621  Batch1_Adult_telencephalon_rep2_DP8400015234BL...   \n",
       "CELL.10623  CELL.10623  Batch1_Adult_telencephalon_rep2_DP8400015234BL...   \n",
       "CELL.10624  CELL.10624  Batch1_Adult_telencephalon_rep2_DP8400015234BL...   \n",
       "CELL.10626  CELL.10626  Batch1_Adult_telencephalon_rep2_DP8400015234BL...   \n",
       "CELL.10627  CELL.10627  Batch1_Adult_telencephalon_rep2_DP8400015234BL...   \n",
       "\n",
       "            cell_id Annotation     condition  \n",
       "CELL.11          11       VLMC  Injury 30DPI  \n",
       "CELL.12          12       VLMC  Injury 30DPI  \n",
       "CELL.13          13       VLMC  Injury 30DPI  \n",
       "CELL.15          15       VLMC  Injury 30DPI  \n",
       "CELL.16          16       VLMC  Injury 30DPI  \n",
       "...             ...        ...           ...  \n",
       "CELL.10621    10621       VLMC         Adult  \n",
       "CELL.10623    10623       VLMC         Adult  \n",
       "CELL.10624    10624       VLMC         Adult  \n",
       "CELL.10626    10626       VLMC         Adult  \n",
       "CELL.10627    10627       VLMC         Adult  \n",
       "\n",
       "[28459 rows x 5 columns]"
      ]
     },
     "execution_count": 7,
     "metadata": {},
     "output_type": "execute_result"
    }
   ],
   "source": [
    "adata_subset.obs"
   ]
  },
  {
   "cell_type": "code",
   "execution_count": 66,
   "id": "3c956e56-13cd-4ffd-9296-4be1f2a297c3",
   "metadata": {},
   "outputs": [
    {
     "name": "stderr",
     "output_type": "stream",
     "text": [
      "/Users/mayar.ali/opt/anaconda3/envs/graphcompass_dev/lib/python3.10/site-packages/anndata/_core/anndata.py:1906: UserWarning: Observation names are not unique. To make them unique, call `.obs_names_make_unique`.\n",
      "  utils.warn_names_duplicates(\"obs\")\n"
     ]
    }
   ],
   "source": [
    "adata_regeneration = anndata.concat([adata_2DPIs, adata_5DPIs, adata_10DPIs, adata_15DPIs, adata_20DPIs, adata_30DPIs, adata_60DPIs, adata_injury_control])"
   ]
  },
  {
   "cell_type": "code",
   "execution_count": 65,
   "id": "986d062f-bede-488c-81a7-5f72eeb03d22",
   "metadata": {},
   "outputs": [
    {
     "name": "stderr",
     "output_type": "stream",
     "text": [
      "/Users/mayar.ali/opt/anaconda3/envs/graphcompass_dev/lib/python3.10/site-packages/anndata/_core/anndata.py:1906: UserWarning: Observation names are not unique. To make them unique, call `.obs_names_make_unique`.\n",
      "  utils.warn_names_duplicates(\"obs\")\n"
     ]
    }
   ],
   "source": [
    "adata_development = anndata.concat([adata_Stage44, adata_Stage54, adata_Stage57, adata_Adult, adata_injury_control, adata_meta])"
   ]
  },
  {
   "cell_type": "code",
   "execution_count": 67,
   "id": "453c16f2-cb92-437f-a435-42fca3b0b3b3",
   "metadata": {},
   "outputs": [],
   "source": [
    "#adata_subset.write_h5ad(\"/Volumes/My Passport /phd/hackathon/spatialde/data/to_upload/stereoseq_axolotl_subset.h5ad\")\n",
    "adata_development.write_h5ad(\"/Volumes/My Passport /phd/hackathon/spatialde/data/to_upload/stereoseq_axolotl_development.h5ad\")\n",
    "adata_regeneration.write_h5ad(\"/Volumes/My Passport /phd/hackathon/spatialde/data/to_upload/stereoseq_axolotl_regeneration.h5ad\")"
   ]
  },
  {
   "cell_type": "code",
   "execution_count": 4,
   "id": "d6986163-08e9-46e8-9d3d-49479ce31006",
   "metadata": {},
   "outputs": [
    {
     "name": "stderr",
     "output_type": "stream",
     "text": [
      "/Users/mayar.ali/opt/anaconda3/envs/graphcompass_dev/lib/python3.10/site-packages/anndata/_core/anndata.py:1906: UserWarning: Observation names are not unique. To make them unique, call `.obs_names_make_unique`.\n",
      "  utils.warn_names_duplicates(\"obs\")\n"
     ]
    }
   ],
   "source": [
    "adata_development = sc.read_h5ad(\"/Volumes/My Passport /phd/hackathon/spatialde/data/to_upload/stereoseq_axolotl_development.h5ad\")"
   ]
  },
  {
   "cell_type": "code",
   "execution_count": 5,
   "id": "c21e50f9-a30f-4b98-a3ef-104d610a6c19",
   "metadata": {},
   "outputs": [
    {
     "data": {
      "text/plain": [
       "AnnData object with n_obs × n_vars = 36198 × 12704\n",
       "    obs: 'CellID', 'Batch', 'cell_id', 'Annotation', 'condition'\n",
       "    obsm: 'spatial'\n",
       "    layers: 'counts'"
      ]
     },
     "execution_count": 5,
     "metadata": {},
     "output_type": "execute_result"
    }
   ],
   "source": [
    "adata_development"
   ]
  },
  {
   "cell_type": "code",
   "execution_count": 6,
   "id": "2990e71e-4119-49af-8e32-4d218db5d670",
   "metadata": {},
   "outputs": [
    {
     "name": "stderr",
     "output_type": "stream",
     "text": [
      "/Users/mayar.ali/opt/anaconda3/envs/graphcompass_dev/lib/python3.10/site-packages/anndata/_core/anndata.py:1906: UserWarning: Observation names are not unique. To make them unique, call `.obs_names_make_unique`.\n",
      "  utils.warn_names_duplicates(\"obs\")\n"
     ]
    }
   ],
   "source": [
    "adata_regeneration = sc.read_h5ad(\"/Volumes/My Passport /phd/hackathon/spatialde/data/to_upload/stereoseq_axolotl_regeneration.h5ad\")"
   ]
  },
  {
   "cell_type": "code",
   "execution_count": 7,
   "id": "b1f9fc64-8e3b-45f9-b244-bb4989b38199",
   "metadata": {},
   "outputs": [
    {
     "data": {
      "text/plain": [
       "AnnData object with n_obs × n_vars = 182142 × 16176\n",
       "    obs: 'CellID', 'spatial_leiden_e30_s8', 'Batch', 'cell_id', 'seurat_clusters', 'inj_uninj', 'D_V', 'Annotation', 'condition'\n",
       "    obsm: 'X_pca', 'X_spatial', 'spatial'\n",
       "    layers: 'counts'"
      ]
     },
     "execution_count": 7,
     "metadata": {},
     "output_type": "execute_result"
    }
   ],
   "source": [
    "adata_regeneration"
   ]
  },
  {
   "cell_type": "code",
   "execution_count": 8,
   "id": "9cbbcd37-a9c2-4a6e-a92b-ad679025982b",
   "metadata": {},
   "outputs": [
    {
     "name": "stderr",
     "output_type": "stream",
     "text": [
      "/Users/mayar.ali/opt/anaconda3/envs/graphcompass_dev/lib/python3.10/site-packages/anndata/_core/anndata.py:1906: UserWarning: Observation names are not unique. To make them unique, call `.obs_names_make_unique`.\n",
      "  utils.warn_names_duplicates(\"obs\")\n"
     ]
    }
   ],
   "source": [
    "adata_subset = sc.read_h5ad(\"/Volumes/My Passport /phd/hackathon/spatialde/data/to_upload/stereoseq_axolotl_subset.h5ad\")"
   ]
  },
  {
   "cell_type": "code",
   "execution_count": 9,
   "id": "0abd236f-1caa-4a75-bc0f-9c1954eada52",
   "metadata": {},
   "outputs": [
    {
     "data": {
      "text/plain": [
       "AnnData object with n_obs × n_vars = 28459 × 18611\n",
       "    obs: 'CellID', 'Batch', 'cell_id', 'Annotation', 'condition'\n",
       "    obsm: 'spatial'\n",
       "    layers: 'counts'"
      ]
     },
     "execution_count": 9,
     "metadata": {},
     "output_type": "execute_result"
    }
   ],
   "source": [
    "adata_subset"
   ]
  },
  {
   "cell_type": "code",
   "execution_count": 69,
   "id": "6c54fcb8-c2ca-4a29-b2f8-16988e55ff5f",
   "metadata": {},
   "outputs": [
    {
     "data": {
      "text/html": [
       "<div>\n",
       "<style scoped>\n",
       "    .dataframe tbody tr th:only-of-type {\n",
       "        vertical-align: middle;\n",
       "    }\n",
       "\n",
       "    .dataframe tbody tr th {\n",
       "        vertical-align: top;\n",
       "    }\n",
       "\n",
       "    .dataframe thead th {\n",
       "        text-align: right;\n",
       "    }\n",
       "</style>\n",
       "<table border=\"1\" class=\"dataframe\">\n",
       "  <thead>\n",
       "    <tr style=\"text-align: right;\">\n",
       "      <th></th>\n",
       "      <th>n_counts</th>\n",
       "      <th>n_genes</th>\n",
       "      <th>percent.mt</th>\n",
       "      <th>Adipocyte</th>\n",
       "      <th>Cardiomyocyte</th>\n",
       "      <th>Endothelial</th>\n",
       "      <th>Fibroblast</th>\n",
       "      <th>Lymphoid</th>\n",
       "      <th>Mast</th>\n",
       "      <th>Myeloid</th>\n",
       "      <th>...</th>\n",
       "      <th>cell_type</th>\n",
       "      <th>assay</th>\n",
       "      <th>disease</th>\n",
       "      <th>organism</th>\n",
       "      <th>sex</th>\n",
       "      <th>tissue</th>\n",
       "      <th>ethnicity</th>\n",
       "      <th>development_stage</th>\n",
       "      <th>sample</th>\n",
       "      <th>condition</th>\n",
       "    </tr>\n",
       "  </thead>\n",
       "  <tbody>\n",
       "    <tr>\n",
       "      <th>AAACAAGTATCTCCCA-1</th>\n",
       "      <td>4429.0</td>\n",
       "      <td>2147</td>\n",
       "      <td>29.575465</td>\n",
       "      <td>0.001598</td>\n",
       "      <td>0.437324</td>\n",
       "      <td>0.024356</td>\n",
       "      <td>0.318303</td>\n",
       "      <td>0.022537</td>\n",
       "      <td>0.003858</td>\n",
       "      <td>0.059224</td>\n",
       "      <td>...</td>\n",
       "      <td>cardiac muscle myoblast</td>\n",
       "      <td>Visium Spatial Gene Expression</td>\n",
       "      <td>normal</td>\n",
       "      <td>Homo sapiens</td>\n",
       "      <td>female</td>\n",
       "      <td>heart left ventricle</td>\n",
       "      <td>European</td>\n",
       "      <td>44-year-old human stage</td>\n",
       "      <td>control_P1</td>\n",
       "      <td>control</td>\n",
       "    </tr>\n",
       "    <tr>\n",
       "      <th>AAACAATCTACTAGCA-1</th>\n",
       "      <td>3037.0</td>\n",
       "      <td>1591</td>\n",
       "      <td>31.299898</td>\n",
       "      <td>0.000482</td>\n",
       "      <td>0.743949</td>\n",
       "      <td>0.082948</td>\n",
       "      <td>0.089687</td>\n",
       "      <td>0.002331</td>\n",
       "      <td>0.000562</td>\n",
       "      <td>0.039163</td>\n",
       "      <td>...</td>\n",
       "      <td>cardiac muscle myoblast</td>\n",
       "      <td>Visium Spatial Gene Expression</td>\n",
       "      <td>normal</td>\n",
       "      <td>Homo sapiens</td>\n",
       "      <td>female</td>\n",
       "      <td>heart left ventricle</td>\n",
       "      <td>European</td>\n",
       "      <td>44-year-old human stage</td>\n",
       "      <td>control_P1</td>\n",
       "      <td>control</td>\n",
       "    </tr>\n",
       "    <tr>\n",
       "      <th>AAACACCAATAACTGC-1</th>\n",
       "      <td>2507.0</td>\n",
       "      <td>1462</td>\n",
       "      <td>23.956640</td>\n",
       "      <td>0.001974</td>\n",
       "      <td>0.375296</td>\n",
       "      <td>0.167984</td>\n",
       "      <td>0.151615</td>\n",
       "      <td>0.004123</td>\n",
       "      <td>0.033053</td>\n",
       "      <td>0.009395</td>\n",
       "      <td>...</td>\n",
       "      <td>cardiac muscle myoblast</td>\n",
       "      <td>Visium Spatial Gene Expression</td>\n",
       "      <td>normal</td>\n",
       "      <td>Homo sapiens</td>\n",
       "      <td>female</td>\n",
       "      <td>heart left ventricle</td>\n",
       "      <td>European</td>\n",
       "      <td>44-year-old human stage</td>\n",
       "      <td>control_P1</td>\n",
       "      <td>control</td>\n",
       "    </tr>\n",
       "    <tr>\n",
       "      <th>AAACAGAGCGACTCCT-1</th>\n",
       "      <td>2502.0</td>\n",
       "      <td>1341</td>\n",
       "      <td>33.018868</td>\n",
       "      <td>0.000110</td>\n",
       "      <td>0.652696</td>\n",
       "      <td>0.095914</td>\n",
       "      <td>0.154588</td>\n",
       "      <td>0.005017</td>\n",
       "      <td>0.000977</td>\n",
       "      <td>0.055517</td>\n",
       "      <td>...</td>\n",
       "      <td>cardiac muscle myoblast</td>\n",
       "      <td>Visium Spatial Gene Expression</td>\n",
       "      <td>normal</td>\n",
       "      <td>Homo sapiens</td>\n",
       "      <td>female</td>\n",
       "      <td>heart left ventricle</td>\n",
       "      <td>European</td>\n",
       "      <td>44-year-old human stage</td>\n",
       "      <td>control_P1</td>\n",
       "      <td>control</td>\n",
       "    </tr>\n",
       "    <tr>\n",
       "      <th>AAACAGCTTTCAGAAG-1</th>\n",
       "      <td>3054.0</td>\n",
       "      <td>1617</td>\n",
       "      <td>33.638132</td>\n",
       "      <td>0.000084</td>\n",
       "      <td>0.533660</td>\n",
       "      <td>0.164157</td>\n",
       "      <td>0.065999</td>\n",
       "      <td>0.004493</td>\n",
       "      <td>0.001532</td>\n",
       "      <td>0.072105</td>\n",
       "      <td>...</td>\n",
       "      <td>cardiac muscle myoblast</td>\n",
       "      <td>Visium Spatial Gene Expression</td>\n",
       "      <td>normal</td>\n",
       "      <td>Homo sapiens</td>\n",
       "      <td>female</td>\n",
       "      <td>heart left ventricle</td>\n",
       "      <td>European</td>\n",
       "      <td>44-year-old human stage</td>\n",
       "      <td>control_P1</td>\n",
       "      <td>control</td>\n",
       "    </tr>\n",
       "    <tr>\n",
       "      <th>...</th>\n",
       "      <td>...</td>\n",
       "      <td>...</td>\n",
       "      <td>...</td>\n",
       "      <td>...</td>\n",
       "      <td>...</td>\n",
       "      <td>...</td>\n",
       "      <td>...</td>\n",
       "      <td>...</td>\n",
       "      <td>...</td>\n",
       "      <td>...</td>\n",
       "      <td>...</td>\n",
       "      <td>...</td>\n",
       "      <td>...</td>\n",
       "      <td>...</td>\n",
       "      <td>...</td>\n",
       "      <td>...</td>\n",
       "      <td>...</td>\n",
       "      <td>...</td>\n",
       "      <td>...</td>\n",
       "      <td>...</td>\n",
       "      <td>...</td>\n",
       "    </tr>\n",
       "    <tr>\n",
       "      <th>TTGTTGTGTGTCAAGA-1</th>\n",
       "      <td>2187.0</td>\n",
       "      <td>1402</td>\n",
       "      <td>20.888208</td>\n",
       "      <td>0.004537</td>\n",
       "      <td>0.279472</td>\n",
       "      <td>0.269585</td>\n",
       "      <td>0.173711</td>\n",
       "      <td>0.006105</td>\n",
       "      <td>0.021762</td>\n",
       "      <td>0.027992</td>\n",
       "      <td>...</td>\n",
       "      <td>cardiac muscle myoblast</td>\n",
       "      <td>Visium Spatial Gene Expression</td>\n",
       "      <td>myocardial infarction</td>\n",
       "      <td>Homo sapiens</td>\n",
       "      <td>male</td>\n",
       "      <td>heart left ventricle</td>\n",
       "      <td>European</td>\n",
       "      <td>52-year-old human stage</td>\n",
       "      <td>RZ_P9</td>\n",
       "      <td>RZ</td>\n",
       "    </tr>\n",
       "    <tr>\n",
       "      <th>TTGTTTCACATCCAGG-1</th>\n",
       "      <td>3196.0</td>\n",
       "      <td>1798</td>\n",
       "      <td>16.365714</td>\n",
       "      <td>0.000022</td>\n",
       "      <td>0.427789</td>\n",
       "      <td>0.154168</td>\n",
       "      <td>0.036643</td>\n",
       "      <td>0.007050</td>\n",
       "      <td>0.000596</td>\n",
       "      <td>0.275632</td>\n",
       "      <td>...</td>\n",
       "      <td>cardiac muscle myoblast</td>\n",
       "      <td>Visium Spatial Gene Expression</td>\n",
       "      <td>myocardial infarction</td>\n",
       "      <td>Homo sapiens</td>\n",
       "      <td>male</td>\n",
       "      <td>heart left ventricle</td>\n",
       "      <td>European</td>\n",
       "      <td>52-year-old human stage</td>\n",
       "      <td>RZ_P9</td>\n",
       "      <td>RZ</td>\n",
       "    </tr>\n",
       "    <tr>\n",
       "      <th>TTGTTTCATTAGTCTA-1</th>\n",
       "      <td>1956.0</td>\n",
       "      <td>1217</td>\n",
       "      <td>26.508761</td>\n",
       "      <td>0.000037</td>\n",
       "      <td>0.452197</td>\n",
       "      <td>0.235409</td>\n",
       "      <td>0.157208</td>\n",
       "      <td>0.002246</td>\n",
       "      <td>0.000308</td>\n",
       "      <td>0.012902</td>\n",
       "      <td>...</td>\n",
       "      <td>cardiac muscle myoblast</td>\n",
       "      <td>Visium Spatial Gene Expression</td>\n",
       "      <td>myocardial infarction</td>\n",
       "      <td>Homo sapiens</td>\n",
       "      <td>male</td>\n",
       "      <td>heart left ventricle</td>\n",
       "      <td>European</td>\n",
       "      <td>52-year-old human stage</td>\n",
       "      <td>RZ_P9</td>\n",
       "      <td>RZ</td>\n",
       "    </tr>\n",
       "    <tr>\n",
       "      <th>TTGTTTCCATACAACT-1</th>\n",
       "      <td>2225.0</td>\n",
       "      <td>1399</td>\n",
       "      <td>18.271301</td>\n",
       "      <td>0.003379</td>\n",
       "      <td>0.157670</td>\n",
       "      <td>0.052058</td>\n",
       "      <td>0.289139</td>\n",
       "      <td>0.002042</td>\n",
       "      <td>0.000447</td>\n",
       "      <td>0.464620</td>\n",
       "      <td>...</td>\n",
       "      <td>immature innate lymphoid cell</td>\n",
       "      <td>Visium Spatial Gene Expression</td>\n",
       "      <td>myocardial infarction</td>\n",
       "      <td>Homo sapiens</td>\n",
       "      <td>male</td>\n",
       "      <td>heart left ventricle</td>\n",
       "      <td>European</td>\n",
       "      <td>52-year-old human stage</td>\n",
       "      <td>RZ_P9</td>\n",
       "      <td>RZ</td>\n",
       "    </tr>\n",
       "    <tr>\n",
       "      <th>TTGTTTGTATTACACG-1</th>\n",
       "      <td>3052.0</td>\n",
       "      <td>1792</td>\n",
       "      <td>18.698092</td>\n",
       "      <td>0.000833</td>\n",
       "      <td>0.152639</td>\n",
       "      <td>0.249334</td>\n",
       "      <td>0.226077</td>\n",
       "      <td>0.004472</td>\n",
       "      <td>0.001160</td>\n",
       "      <td>0.243561</td>\n",
       "      <td>...</td>\n",
       "      <td>cardiac endothelial cell</td>\n",
       "      <td>Visium Spatial Gene Expression</td>\n",
       "      <td>myocardial infarction</td>\n",
       "      <td>Homo sapiens</td>\n",
       "      <td>male</td>\n",
       "      <td>heart left ventricle</td>\n",
       "      <td>European</td>\n",
       "      <td>52-year-old human stage</td>\n",
       "      <td>RZ_P9</td>\n",
       "      <td>RZ</td>\n",
       "    </tr>\n",
       "  </tbody>\n",
       "</table>\n",
       "<p>88456 rows × 34 columns</p>\n",
       "</div>"
      ],
      "text/plain": [
       "                    n_counts  n_genes  percent.mt  Adipocyte  Cardiomyocyte  \\\n",
       "AAACAAGTATCTCCCA-1    4429.0     2147   29.575465   0.001598       0.437324   \n",
       "AAACAATCTACTAGCA-1    3037.0     1591   31.299898   0.000482       0.743949   \n",
       "AAACACCAATAACTGC-1    2507.0     1462   23.956640   0.001974       0.375296   \n",
       "AAACAGAGCGACTCCT-1    2502.0     1341   33.018868   0.000110       0.652696   \n",
       "AAACAGCTTTCAGAAG-1    3054.0     1617   33.638132   0.000084       0.533660   \n",
       "...                      ...      ...         ...        ...            ...   \n",
       "TTGTTGTGTGTCAAGA-1    2187.0     1402   20.888208   0.004537       0.279472   \n",
       "TTGTTTCACATCCAGG-1    3196.0     1798   16.365714   0.000022       0.427789   \n",
       "TTGTTTCATTAGTCTA-1    1956.0     1217   26.508761   0.000037       0.452197   \n",
       "TTGTTTCCATACAACT-1    2225.0     1399   18.271301   0.003379       0.157670   \n",
       "TTGTTTGTATTACACG-1    3052.0     1792   18.698092   0.000833       0.152639   \n",
       "\n",
       "                    Endothelial  Fibroblast  Lymphoid      Mast   Myeloid  \\\n",
       "AAACAAGTATCTCCCA-1     0.024356    0.318303  0.022537  0.003858  0.059224   \n",
       "AAACAATCTACTAGCA-1     0.082948    0.089687  0.002331  0.000562  0.039163   \n",
       "AAACACCAATAACTGC-1     0.167984    0.151615  0.004123  0.033053  0.009395   \n",
       "AAACAGAGCGACTCCT-1     0.095914    0.154588  0.005017  0.000977  0.055517   \n",
       "AAACAGCTTTCAGAAG-1     0.164157    0.065999  0.004493  0.001532  0.072105   \n",
       "...                         ...         ...       ...       ...       ...   \n",
       "TTGTTGTGTGTCAAGA-1     0.269585    0.173711  0.006105  0.021762  0.027992   \n",
       "TTGTTTCACATCCAGG-1     0.154168    0.036643  0.007050  0.000596  0.275632   \n",
       "TTGTTTCATTAGTCTA-1     0.235409    0.157208  0.002246  0.000308  0.012902   \n",
       "TTGTTTCCATACAACT-1     0.052058    0.289139  0.002042  0.000447  0.464620   \n",
       "TTGTTTGTATTACACG-1     0.249334    0.226077  0.004472  0.001160  0.243561   \n",
       "\n",
       "                    ...                      cell_type  \\\n",
       "AAACAAGTATCTCCCA-1  ...        cardiac muscle myoblast   \n",
       "AAACAATCTACTAGCA-1  ...        cardiac muscle myoblast   \n",
       "AAACACCAATAACTGC-1  ...        cardiac muscle myoblast   \n",
       "AAACAGAGCGACTCCT-1  ...        cardiac muscle myoblast   \n",
       "AAACAGCTTTCAGAAG-1  ...        cardiac muscle myoblast   \n",
       "...                 ...                            ...   \n",
       "TTGTTGTGTGTCAAGA-1  ...        cardiac muscle myoblast   \n",
       "TTGTTTCACATCCAGG-1  ...        cardiac muscle myoblast   \n",
       "TTGTTTCATTAGTCTA-1  ...        cardiac muscle myoblast   \n",
       "TTGTTTCCATACAACT-1  ...  immature innate lymphoid cell   \n",
       "TTGTTTGTATTACACG-1  ...       cardiac endothelial cell   \n",
       "\n",
       "                                             assay                disease  \\\n",
       "AAACAAGTATCTCCCA-1  Visium Spatial Gene Expression                 normal   \n",
       "AAACAATCTACTAGCA-1  Visium Spatial Gene Expression                 normal   \n",
       "AAACACCAATAACTGC-1  Visium Spatial Gene Expression                 normal   \n",
       "AAACAGAGCGACTCCT-1  Visium Spatial Gene Expression                 normal   \n",
       "AAACAGCTTTCAGAAG-1  Visium Spatial Gene Expression                 normal   \n",
       "...                                            ...                    ...   \n",
       "TTGTTGTGTGTCAAGA-1  Visium Spatial Gene Expression  myocardial infarction   \n",
       "TTGTTTCACATCCAGG-1  Visium Spatial Gene Expression  myocardial infarction   \n",
       "TTGTTTCATTAGTCTA-1  Visium Spatial Gene Expression  myocardial infarction   \n",
       "TTGTTTCCATACAACT-1  Visium Spatial Gene Expression  myocardial infarction   \n",
       "TTGTTTGTATTACACG-1  Visium Spatial Gene Expression  myocardial infarction   \n",
       "\n",
       "                        organism     sex                tissue ethnicity  \\\n",
       "AAACAAGTATCTCCCA-1  Homo sapiens  female  heart left ventricle  European   \n",
       "AAACAATCTACTAGCA-1  Homo sapiens  female  heart left ventricle  European   \n",
       "AAACACCAATAACTGC-1  Homo sapiens  female  heart left ventricle  European   \n",
       "AAACAGAGCGACTCCT-1  Homo sapiens  female  heart left ventricle  European   \n",
       "AAACAGCTTTCAGAAG-1  Homo sapiens  female  heart left ventricle  European   \n",
       "...                          ...     ...                   ...       ...   \n",
       "TTGTTGTGTGTCAAGA-1  Homo sapiens    male  heart left ventricle  European   \n",
       "TTGTTTCACATCCAGG-1  Homo sapiens    male  heart left ventricle  European   \n",
       "TTGTTTCATTAGTCTA-1  Homo sapiens    male  heart left ventricle  European   \n",
       "TTGTTTCCATACAACT-1  Homo sapiens    male  heart left ventricle  European   \n",
       "TTGTTTGTATTACACG-1  Homo sapiens    male  heart left ventricle  European   \n",
       "\n",
       "                          development_stage      sample condition  \n",
       "AAACAAGTATCTCCCA-1  44-year-old human stage  control_P1   control  \n",
       "AAACAATCTACTAGCA-1  44-year-old human stage  control_P1   control  \n",
       "AAACACCAATAACTGC-1  44-year-old human stage  control_P1   control  \n",
       "AAACAGAGCGACTCCT-1  44-year-old human stage  control_P1   control  \n",
       "AAACAGCTTTCAGAAG-1  44-year-old human stage  control_P1   control  \n",
       "...                                     ...         ...       ...  \n",
       "TTGTTGTGTGTCAAGA-1  52-year-old human stage       RZ_P9        RZ  \n",
       "TTGTTTCACATCCAGG-1  52-year-old human stage       RZ_P9        RZ  \n",
       "TTGTTTCATTAGTCTA-1  52-year-old human stage       RZ_P9        RZ  \n",
       "TTGTTTCCATACAACT-1  52-year-old human stage       RZ_P9        RZ  \n",
       "TTGTTTGTATTACACG-1  52-year-old human stage       RZ_P9        RZ  \n",
       "\n",
       "[88456 rows x 34 columns]"
      ]
     },
     "execution_count": 69,
     "metadata": {},
     "output_type": "execute_result"
    }
   ],
   "source": [
    "adata_heart.obs\n"
   ]
  },
  {
   "cell_type": "code",
   "execution_count": 15,
   "id": "5969b5c4-8f52-4831-9261-62e3e3cbd66d",
   "metadata": {},
   "outputs": [
    {
     "data": {
      "text/plain": [
       "['Visual Studio Code.app',\n",
       " 'Screenshot 2024-02-24 at 17.01.06.png',\n",
       " '.DS_Store',\n",
       " 'graphcompass',\n",
       " '.localized',\n",
       " 'lnp_proteomics_extra_figures.pdf',\n",
       " 'flux-regular_ucGZs.zip',\n",
       " 'Screenshot 2024-02-25 at 13.44.34 (2).png',\n",
       " '~$peptide_analysis.xlsx',\n",
       " 'stereoseq_axolotl_subset.h5ad',\n",
       " 'Flux Regular',\n",
       " '3d printer',\n",
       " '.ipynb_checkpoints',\n",
       " '~$mmc2.xlsx',\n",
       " 'lnp_proteomics.key',\n",
       " 'lnp_proteomics.pdf',\n",
       " 'lnp_proteomics_flipped.pdf']"
      ]
     },
     "execution_count": 15,
     "metadata": {},
     "output_type": "execute_result"
    }
   ],
   "source": [
    "import os\n",
    "os.listdir(\"/Users/mayar.ali/Desktop/\")"
   ]
  },
  {
   "cell_type": "code",
   "execution_count": 16,
   "id": "d3ba7667-2315-452f-8dfe-da7e1291b8c7",
   "metadata": {},
   "outputs": [
    {
     "name": "stderr",
     "output_type": "stream",
     "text": [
      "/Users/mayar.ali/opt/anaconda3/envs/graphcompass_dev/lib/python3.10/site-packages/anndata/_core/anndata.py:1906: UserWarning: Observation names are not unique. To make them unique, call `.obs_names_make_unique`.\n",
      "  utils.warn_names_duplicates(\"obs\")\n"
     ]
    }
   ],
   "source": [
    "adata_subset = sc.read_h5ad(\"/Users/mayar.ali/Desktop//stereoseq_axolotl_subset.h5ad\")"
   ]
  },
  {
   "cell_type": "code",
   "execution_count": 17,
   "id": "1069c61e-1f44-4af6-b495-63b1f07652df",
   "metadata": {},
   "outputs": [
    {
     "data": {
      "text/html": [
       "<div>\n",
       "<style scoped>\n",
       "    .dataframe tbody tr th:only-of-type {\n",
       "        vertical-align: middle;\n",
       "    }\n",
       "\n",
       "    .dataframe tbody tr th {\n",
       "        vertical-align: top;\n",
       "    }\n",
       "\n",
       "    .dataframe thead th {\n",
       "        text-align: right;\n",
       "    }\n",
       "</style>\n",
       "<table border=\"1\" class=\"dataframe\">\n",
       "  <thead>\n",
       "    <tr style=\"text-align: right;\">\n",
       "      <th></th>\n",
       "      <th>CellID</th>\n",
       "      <th>Batch</th>\n",
       "      <th>cell_id</th>\n",
       "      <th>Annotation</th>\n",
       "      <th>condition</th>\n",
       "    </tr>\n",
       "  </thead>\n",
       "  <tbody>\n",
       "    <tr>\n",
       "      <th>CELL.11</th>\n",
       "      <td>CELL.11</td>\n",
       "      <td>Injury_30DPI_rep2_FP200000264BL_A6</td>\n",
       "      <td>11</td>\n",
       "      <td>VLMC</td>\n",
       "      <td>Injury 30DPI</td>\n",
       "    </tr>\n",
       "    <tr>\n",
       "      <th>CELL.12</th>\n",
       "      <td>CELL.12</td>\n",
       "      <td>Injury_30DPI_rep2_FP200000264BL_A6</td>\n",
       "      <td>12</td>\n",
       "      <td>VLMC</td>\n",
       "      <td>Injury 30DPI</td>\n",
       "    </tr>\n",
       "    <tr>\n",
       "      <th>CELL.13</th>\n",
       "      <td>CELL.13</td>\n",
       "      <td>Injury_30DPI_rep2_FP200000264BL_A6</td>\n",
       "      <td>13</td>\n",
       "      <td>VLMC</td>\n",
       "      <td>Injury 30DPI</td>\n",
       "    </tr>\n",
       "    <tr>\n",
       "      <th>CELL.15</th>\n",
       "      <td>CELL.15</td>\n",
       "      <td>Injury_30DPI_rep2_FP200000264BL_A6</td>\n",
       "      <td>15</td>\n",
       "      <td>VLMC</td>\n",
       "      <td>Injury 30DPI</td>\n",
       "    </tr>\n",
       "    <tr>\n",
       "      <th>CELL.16</th>\n",
       "      <td>CELL.16</td>\n",
       "      <td>Injury_30DPI_rep2_FP200000264BL_A6</td>\n",
       "      <td>16</td>\n",
       "      <td>VLMC</td>\n",
       "      <td>Injury 30DPI</td>\n",
       "    </tr>\n",
       "    <tr>\n",
       "      <th>...</th>\n",
       "      <td>...</td>\n",
       "      <td>...</td>\n",
       "      <td>...</td>\n",
       "      <td>...</td>\n",
       "      <td>...</td>\n",
       "    </tr>\n",
       "    <tr>\n",
       "      <th>CELL.10621</th>\n",
       "      <td>CELL.10621</td>\n",
       "      <td>Batch1_Adult_telencephalon_rep2_DP8400015234BL...</td>\n",
       "      <td>10621</td>\n",
       "      <td>VLMC</td>\n",
       "      <td>Adult</td>\n",
       "    </tr>\n",
       "    <tr>\n",
       "      <th>CELL.10623</th>\n",
       "      <td>CELL.10623</td>\n",
       "      <td>Batch1_Adult_telencephalon_rep2_DP8400015234BL...</td>\n",
       "      <td>10623</td>\n",
       "      <td>VLMC</td>\n",
       "      <td>Adult</td>\n",
       "    </tr>\n",
       "    <tr>\n",
       "      <th>CELL.10624</th>\n",
       "      <td>CELL.10624</td>\n",
       "      <td>Batch1_Adult_telencephalon_rep2_DP8400015234BL...</td>\n",
       "      <td>10624</td>\n",
       "      <td>VLMC</td>\n",
       "      <td>Adult</td>\n",
       "    </tr>\n",
       "    <tr>\n",
       "      <th>CELL.10626</th>\n",
       "      <td>CELL.10626</td>\n",
       "      <td>Batch1_Adult_telencephalon_rep2_DP8400015234BL...</td>\n",
       "      <td>10626</td>\n",
       "      <td>VLMC</td>\n",
       "      <td>Adult</td>\n",
       "    </tr>\n",
       "    <tr>\n",
       "      <th>CELL.10627</th>\n",
       "      <td>CELL.10627</td>\n",
       "      <td>Batch1_Adult_telencephalon_rep2_DP8400015234BL...</td>\n",
       "      <td>10627</td>\n",
       "      <td>VLMC</td>\n",
       "      <td>Adult</td>\n",
       "    </tr>\n",
       "  </tbody>\n",
       "</table>\n",
       "<p>28459 rows × 5 columns</p>\n",
       "</div>"
      ],
      "text/plain": [
       "                CellID                                              Batch  \\\n",
       "CELL.11        CELL.11                 Injury_30DPI_rep2_FP200000264BL_A6   \n",
       "CELL.12        CELL.12                 Injury_30DPI_rep2_FP200000264BL_A6   \n",
       "CELL.13        CELL.13                 Injury_30DPI_rep2_FP200000264BL_A6   \n",
       "CELL.15        CELL.15                 Injury_30DPI_rep2_FP200000264BL_A6   \n",
       "CELL.16        CELL.16                 Injury_30DPI_rep2_FP200000264BL_A6   \n",
       "...                ...                                                ...   \n",
       "CELL.10621  CELL.10621  Batch1_Adult_telencephalon_rep2_DP8400015234BL...   \n",
       "CELL.10623  CELL.10623  Batch1_Adult_telencephalon_rep2_DP8400015234BL...   \n",
       "CELL.10624  CELL.10624  Batch1_Adult_telencephalon_rep2_DP8400015234BL...   \n",
       "CELL.10626  CELL.10626  Batch1_Adult_telencephalon_rep2_DP8400015234BL...   \n",
       "CELL.10627  CELL.10627  Batch1_Adult_telencephalon_rep2_DP8400015234BL...   \n",
       "\n",
       "            cell_id Annotation     condition  \n",
       "CELL.11          11       VLMC  Injury 30DPI  \n",
       "CELL.12          12       VLMC  Injury 30DPI  \n",
       "CELL.13          13       VLMC  Injury 30DPI  \n",
       "CELL.15          15       VLMC  Injury 30DPI  \n",
       "CELL.16          16       VLMC  Injury 30DPI  \n",
       "...             ...        ...           ...  \n",
       "CELL.10621    10621       VLMC         Adult  \n",
       "CELL.10623    10623       VLMC         Adult  \n",
       "CELL.10624    10624       VLMC         Adult  \n",
       "CELL.10626    10626       VLMC         Adult  \n",
       "CELL.10627    10627       VLMC         Adult  \n",
       "\n",
       "[28459 rows x 5 columns]"
      ]
     },
     "execution_count": 17,
     "metadata": {},
     "output_type": "execute_result"
    }
   ],
   "source": [
    "adata_subset.obs"
   ]
  },
  {
   "cell_type": "code",
   "execution_count": 72,
   "id": "e89d56e6-1985-40be-889b-d755dab5a3c2",
   "metadata": {},
   "outputs": [
    {
     "data": {
      "text/html": [
       "<div>\n",
       "<style scoped>\n",
       "    .dataframe tbody tr th:only-of-type {\n",
       "        vertical-align: middle;\n",
       "    }\n",
       "\n",
       "    .dataframe tbody tr th {\n",
       "        vertical-align: top;\n",
       "    }\n",
       "\n",
       "    .dataframe thead th {\n",
       "        text-align: right;\n",
       "    }\n",
       "</style>\n",
       "<table border=\"1\" class=\"dataframe\">\n",
       "  <thead>\n",
       "    <tr style=\"text-align: right;\">\n",
       "      <th></th>\n",
       "      <th>CellID</th>\n",
       "      <th>Batch</th>\n",
       "      <th>cell_id</th>\n",
       "      <th>Annotation</th>\n",
       "      <th>condition</th>\n",
       "    </tr>\n",
       "  </thead>\n",
       "  <tbody>\n",
       "    <tr>\n",
       "      <th>CELL.1</th>\n",
       "      <td>CELL.1</td>\n",
       "      <td>Stage44_telencephalon_rep2_FP200000239BL_E4</td>\n",
       "      <td>1</td>\n",
       "      <td>Immature nptxEX</td>\n",
       "      <td>Stage44</td>\n",
       "    </tr>\n",
       "    <tr>\n",
       "      <th>CELL.3</th>\n",
       "      <td>CELL.3</td>\n",
       "      <td>Stage44_telencephalon_rep2_FP200000239BL_E4</td>\n",
       "      <td>3</td>\n",
       "      <td>Immature nptxEX</td>\n",
       "      <td>Stage44</td>\n",
       "    </tr>\n",
       "    <tr>\n",
       "      <th>CELL.4</th>\n",
       "      <td>CELL.4</td>\n",
       "      <td>Stage44_telencephalon_rep2_FP200000239BL_E4</td>\n",
       "      <td>4</td>\n",
       "      <td>VLMC</td>\n",
       "      <td>Stage44</td>\n",
       "    </tr>\n",
       "    <tr>\n",
       "      <th>CELL.6</th>\n",
       "      <td>CELL.6</td>\n",
       "      <td>Stage44_telencephalon_rep2_FP200000239BL_E4</td>\n",
       "      <td>6</td>\n",
       "      <td>CP</td>\n",
       "      <td>Stage44</td>\n",
       "    </tr>\n",
       "    <tr>\n",
       "      <th>CELL.8</th>\n",
       "      <td>CELL.8</td>\n",
       "      <td>Stage44_telencephalon_rep2_FP200000239BL_E4</td>\n",
       "      <td>8</td>\n",
       "      <td>Immature nptxEX</td>\n",
       "      <td>Stage44</td>\n",
       "    </tr>\n",
       "    <tr>\n",
       "      <th>...</th>\n",
       "      <td>...</td>\n",
       "      <td>...</td>\n",
       "      <td>...</td>\n",
       "      <td>...</td>\n",
       "      <td>...</td>\n",
       "    </tr>\n",
       "    <tr>\n",
       "      <th>CELL.10533</th>\n",
       "      <td>CELL.10533</td>\n",
       "      <td>Meta_telencephalon_rep1_DP8400015234BLB2_1</td>\n",
       "      <td>10533</td>\n",
       "      <td>CP</td>\n",
       "      <td>Meta</td>\n",
       "    </tr>\n",
       "    <tr>\n",
       "      <th>CELL.10534</th>\n",
       "      <td>CELL.10534</td>\n",
       "      <td>Meta_telencephalon_rep1_DP8400015234BLB2_1</td>\n",
       "      <td>10534</td>\n",
       "      <td>CP</td>\n",
       "      <td>Meta</td>\n",
       "    </tr>\n",
       "    <tr>\n",
       "      <th>CELL.10535</th>\n",
       "      <td>CELL.10535</td>\n",
       "      <td>Meta_telencephalon_rep1_DP8400015234BLB2_1</td>\n",
       "      <td>10535</td>\n",
       "      <td>CP</td>\n",
       "      <td>Meta</td>\n",
       "    </tr>\n",
       "    <tr>\n",
       "      <th>CELL.10538</th>\n",
       "      <td>CELL.10538</td>\n",
       "      <td>Meta_telencephalon_rep1_DP8400015234BLB2_1</td>\n",
       "      <td>10538</td>\n",
       "      <td>mpEX</td>\n",
       "      <td>Meta</td>\n",
       "    </tr>\n",
       "    <tr>\n",
       "      <th>CELL.10545</th>\n",
       "      <td>CELL.10545</td>\n",
       "      <td>Meta_telencephalon_rep1_DP8400015234BLB2_1</td>\n",
       "      <td>10545</td>\n",
       "      <td>CP</td>\n",
       "      <td>Meta</td>\n",
       "    </tr>\n",
       "  </tbody>\n",
       "</table>\n",
       "<p>36198 rows × 5 columns</p>\n",
       "</div>"
      ],
      "text/plain": [
       "                CellID                                        Batch  cell_id  \\\n",
       "CELL.1          CELL.1  Stage44_telencephalon_rep2_FP200000239BL_E4        1   \n",
       "CELL.3          CELL.3  Stage44_telencephalon_rep2_FP200000239BL_E4        3   \n",
       "CELL.4          CELL.4  Stage44_telencephalon_rep2_FP200000239BL_E4        4   \n",
       "CELL.6          CELL.6  Stage44_telencephalon_rep2_FP200000239BL_E4        6   \n",
       "CELL.8          CELL.8  Stage44_telencephalon_rep2_FP200000239BL_E4        8   \n",
       "...                ...                                          ...      ...   \n",
       "CELL.10533  CELL.10533   Meta_telencephalon_rep1_DP8400015234BLB2_1    10533   \n",
       "CELL.10534  CELL.10534   Meta_telencephalon_rep1_DP8400015234BLB2_1    10534   \n",
       "CELL.10535  CELL.10535   Meta_telencephalon_rep1_DP8400015234BLB2_1    10535   \n",
       "CELL.10538  CELL.10538   Meta_telencephalon_rep1_DP8400015234BLB2_1    10538   \n",
       "CELL.10545  CELL.10545   Meta_telencephalon_rep1_DP8400015234BLB2_1    10545   \n",
       "\n",
       "                 Annotation condition  \n",
       "CELL.1      Immature nptxEX   Stage44  \n",
       "CELL.3      Immature nptxEX   Stage44  \n",
       "CELL.4                 VLMC   Stage44  \n",
       "CELL.6                   CP   Stage44  \n",
       "CELL.8      Immature nptxEX   Stage44  \n",
       "...                     ...       ...  \n",
       "CELL.10533               CP      Meta  \n",
       "CELL.10534               CP      Meta  \n",
       "CELL.10535               CP      Meta  \n",
       "CELL.10538             mpEX      Meta  \n",
       "CELL.10545               CP      Meta  \n",
       "\n",
       "[36198 rows x 5 columns]"
      ]
     },
     "execution_count": 72,
     "metadata": {},
     "output_type": "execute_result"
    }
   ],
   "source": [
    "adata_development.obs"
   ]
  },
  {
   "cell_type": "code",
   "execution_count": null,
   "id": "9bbc1833-45ba-4898-a926-9e1d864e3b73",
   "metadata": {},
   "outputs": [],
   "source": []
  }
 ],
 "metadata": {
  "kernelspec": {
   "display_name": "Python 3 (ipykernel)",
   "language": "python",
   "name": "python3"
  },
  "language_info": {
   "codemirror_mode": {
    "name": "ipython",
    "version": 3
   },
   "file_extension": ".py",
   "mimetype": "text/x-python",
   "name": "python",
   "nbconvert_exporter": "python",
   "pygments_lexer": "ipython3",
   "version": "3.10.0"
  }
 },
 "nbformat": 4,
 "nbformat_minor": 5
}
