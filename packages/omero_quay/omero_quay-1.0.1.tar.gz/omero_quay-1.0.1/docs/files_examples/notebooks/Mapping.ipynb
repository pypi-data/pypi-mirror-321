{
 "cells": [
  {
   "cell_type": "code",
   "execution_count": 1,
   "id": "a6e477db-145f-45a7-aa08-9b4a3068a2c2",
   "metadata": {},
   "outputs": [],
   "source": [
    "import ome_types\n",
    "import linkml_runtime as lr\n",
    "from linkml_runtime.loaders import yaml_loader\n",
    "from omero_quay.manifest import Manifest\n",
    "from omero_quay import manifest\n",
    "from ome_types.model.reference import Reference\n"
   ]
  },
  {
   "cell_type": "code",
   "execution_count": 3,
   "id": "83a88519-61b4-4dce-9cab-3057b8348133",
   "metadata": {},
   "outputs": [
    {
     "name": "stderr",
     "output_type": "stream",
     "text": [
      "/home/guillaume/mambaforge/envs/omero/lib/python3.9/site-packages/ome_types/_convenience.py:112: FutureWarning: The default XML parser will be changing from 'xmlschema' to 'lxml' in version 0.4.0.  To silence this warning, please provide the `parser` argument, specifying either 'lxml' (to opt into the new behavior), or'xmlschema' (to retain the old behavior).\n",
      "  d = to_dict(os.fspath(xml), parser=parser, validate=validate)\n"
     ]
    }
   ],
   "source": [
    "transfer = ome_types.from_xml(\"../../test_data/transfer.xml\", validate=False)\n",
    "\n",
    "schema_file = \"../../src/schema/manifest-schema.yml\"\n"
   ]
  },
  {
   "cell_type": "code",
   "execution_count": 4,
   "id": "ae0b2e69-bf86-42ba-844a-af11dff2f6b3",
   "metadata": {},
   "outputs": [],
   "source": [
    "schema_view = lr.SchemaView(schema_file)"
   ]
  },
  {
   "cell_type": "code",
   "execution_count": 6,
   "id": "1edde68f-23cf-4b70-bd78-c62cf0ee7103",
   "metadata": {},
   "outputs": [],
   "source": [
    "\n",
    "test_manifest = yaml_loader.load(\"../../test_data/manifest.yml\", target_class=Manifest)"
   ]
  },
  {
   "cell_type": "code",
   "execution_count": 50,
   "id": "afa63ceb-7adf-4893-808c-a4c0c10773bc",
   "metadata": {},
   "outputs": [
    {
     "name": "stdout",
     "output_type": "stream",
     "text": [
      "{'id': 'id', 'first_name': 'first_name', 'last_name': 'last_name', 'members': 'experimenter_ref', 'investigations': 'experimenter_group_ref', 'studies': 'projects', 'assays': 'dataset_ref', 'images': 'image_ref', 'annotations': 'annotation_ref'}\n"
     ]
    }
   ],
   "source": [
    "all_slots = schema_view.all_slots()\n",
    "\n",
    "def get_mapping(slot, prefix):\n",
    "    for mapping in slot.mappings:\n",
    "        if mapping.startswith(prefix):\n",
    "            return mapping.split(\":\")[1]\n",
    "\n",
    "ome_mapping = {}\n",
    "for name, slot in schema_view.all_slots().items():\n",
    "    if mapped := get_ome_mapping(slot):\n",
    "        ome_mapping[name] = mapped\n",
    "\n",
    "print(ome_mapping)\n"
   ]
  },
  {
   "cell_type": "code",
   "execution_count": 52,
   "id": "2146213f-6b1d-475d-ad4b-30f2770b8731",
   "metadata": {},
   "outputs": [
    {
     "ename": "NameError",
     "evalue": "name 'image_omero' is not defined",
     "output_type": "error",
     "traceback": [
      "\u001b[0;31m---------------------------------------------------------------------------\u001b[0m",
      "\u001b[0;31mNameError\u001b[0m                                 Traceback (most recent call last)",
      "Cell \u001b[0;32mIn[52], line 7\u001b[0m\n\u001b[1;32m      4\u001b[0m         attr \u001b[38;5;241m=\u001b[39m [elem\u001b[38;5;241m.\u001b[39mid \u001b[38;5;28;01mfor\u001b[39;00m elem \u001b[38;5;129;01min\u001b[39;00m attr]\n\u001b[1;32m      5\u001b[0m     \u001b[38;5;28;01mreturn\u001b[39;00m attr\n\u001b[0;32m----> 7\u001b[0m kwargs \u001b[38;5;241m=\u001b[39m {ome_mapping[k]: getrefs(image_omero , k)  \u001b[38;5;28;01mfor\u001b[39;00m k \u001b[38;5;129;01min\u001b[39;00m ome_mapping}\n\u001b[1;32m      9\u001b[0m image_lnkml \u001b[38;5;241m=\u001b[39m manifest\u001b[38;5;241m.\u001b[39mImage(\u001b[38;5;241m*\u001b[39m\u001b[38;5;241m*\u001b[39mkwargs)\n",
      "Cell \u001b[0;32mIn[52], line 7\u001b[0m, in \u001b[0;36m<dictcomp>\u001b[0;34m(.0)\u001b[0m\n\u001b[1;32m      4\u001b[0m         attr \u001b[38;5;241m=\u001b[39m [elem\u001b[38;5;241m.\u001b[39mid \u001b[38;5;28;01mfor\u001b[39;00m elem \u001b[38;5;129;01min\u001b[39;00m attr]\n\u001b[1;32m      5\u001b[0m     \u001b[38;5;28;01mreturn\u001b[39;00m attr\n\u001b[0;32m----> 7\u001b[0m kwargs \u001b[38;5;241m=\u001b[39m {ome_mapping[k]: getrefs(\u001b[43mimage_omero\u001b[49m , k)  \u001b[38;5;28;01mfor\u001b[39;00m k \u001b[38;5;129;01min\u001b[39;00m ome_mapping}\n\u001b[1;32m      9\u001b[0m image_lnkml \u001b[38;5;241m=\u001b[39m manifest\u001b[38;5;241m.\u001b[39mImage(\u001b[38;5;241m*\u001b[39m\u001b[38;5;241m*\u001b[39mkwargs)\n",
      "\u001b[0;31mNameError\u001b[0m: name 'image_omero' is not defined"
     ]
    }
   ],
   "source": [
    "\n",
    "def getrefs(ome_obj, key):\n",
    "    attr = getattr(ome_obj, key)\n",
    "    if isinstance(attr, list) and isinstance(attr[0], Reference):\n",
    "        attr = [elem.id for elem in attr]\n",
    "    return attr\n",
    "\n",
    "kwargs = {ome_mapping[k]: getrefs(image_omero , k)  for k in ome_mapping}\n",
    "\n",
    "image_lnkml = manifest.Image(**kwargs)\n"
   ]
  },
  {
   "cell_type": "code",
   "execution_count": 16,
   "id": "703dbbfc-4c17-4ff6-b778-024362bdd90a",
   "metadata": {},
   "outputs": [
    {
     "data": {
      "text/plain": [
       "'annotations'"
      ]
     },
     "execution_count": 16,
     "metadata": {},
     "output_type": "execute_result"
    }
   ],
   "source": [
    "manifest.slots.annotations.name"
   ]
  },
  {
   "cell_type": "code",
   "execution_count": 8,
   "id": "082722ac-5403-4673-b5c1-b75056623f93",
   "metadata": {},
   "outputs": [
    {
     "data": {
      "text/plain": [
       "list"
      ]
     },
     "execution_count": 8,
     "metadata": {},
     "output_type": "execute_result"
    }
   ],
   "source": [
    "type(test_manifest.members)"
   ]
  },
  {
   "cell_type": "code",
   "execution_count": 121,
   "id": "7cf3c8d2-329c-42af-a974-e4dc39bdb4f4",
   "metadata": {},
   "outputs": [
    {
     "data": {
      "text/plain": [
       "[Image(\n",
       "    id='Image:2029',\n",
       "    name='vsi-ets-test-jpg2k.vsi [001 C405, C488]',\n",
       "    pixels=Pixels(\n",
       "       id='Pixels:2029',\n",
       "       dimension_order='XYZCT',\n",
       "       size_c=2,\n",
       "       size_t=1,\n",
       "       size_x=1645,\n",
       "       size_y=1682,\n",
       "       size_z=11,\n",
       "       type='uint16',\n",
       "       metadata_only=True,\n",
       "    ),\n",
       "    annotation_ref=[<8 Annotation_Ref>],\n",
       " ),\n",
       " Image(\n",
       "    id='Image:2030',\n",
       "    name='vsi-ets-test-jpg2k.vsi [macro image]',\n",
       "    pixels=Pixels(\n",
       "       id='Pixels:2030',\n",
       "       dimension_order='XYZCT',\n",
       "       size_c=3,\n",
       "       size_t=1,\n",
       "       size_x=501,\n",
       "       size_y=512,\n",
       "       size_z=1,\n",
       "       type='uint8',\n",
       "       metadata_only=True,\n",
       "    ),\n",
       "    annotation_ref=[<3 Annotation_Ref>],\n",
       "    roi_ref=[<2 Roi_Ref>],\n",
       " ),\n",
       " Image(\n",
       "    id='Image:2451',\n",
       "    name='CMU-1.ndpi [0]',\n",
       "    pixels=Pixels(\n",
       "       id='Pixels:2451',\n",
       "       dimension_order='XYZCT',\n",
       "       size_c=3,\n",
       "       size_t=1,\n",
       "       size_x=51200,\n",
       "       size_y=38144,\n",
       "       size_z=1,\n",
       "       type='uint8',\n",
       "       metadata_only=True,\n",
       "    ),\n",
       "    annotation_ref=[<4 Annotation_Ref>],\n",
       "    roi_ref=[<2 Roi_Ref>],\n",
       " ),\n",
       " Image(\n",
       "    id='Image:2452',\n",
       "    name='CMU-1.ndpi [macro image]',\n",
       "    pixels=Pixels(\n",
       "       id='Pixels:2452',\n",
       "       dimension_order='XYZCT',\n",
       "       size_c=3,\n",
       "       size_t=1,\n",
       "       size_x=1191,\n",
       "       size_y=408,\n",
       "       size_z=1,\n",
       "       type='uint8',\n",
       "       metadata_only=True,\n",
       "    ),\n",
       "    annotation_ref=[<2 Annotation_Ref>],\n",
       " ),\n",
       " Image(\n",
       "    id='Image:2001',\n",
       "    name='random image',\n",
       "    pixels=Pixels(\n",
       "       id='Pixels:2001',\n",
       "       dimension_order='XYZCT',\n",
       "       size_c=1,\n",
       "       size_t=1,\n",
       "       size_x=100,\n",
       "       size_y=100,\n",
       "       size_z=1,\n",
       "       type='double',\n",
       "       metadata_only=True,\n",
       "    ),\n",
       "    annotation_ref=[<2 Annotation_Ref>],\n",
       " ),\n",
       " Image(\n",
       "    id='Image:1680',\n",
       "    name='cycle3.ome_result_colored.png',\n",
       "    pixels=Pixels(\n",
       "       id='Pixels:1680',\n",
       "       dimension_order='XYZCT',\n",
       "       size_c=3,\n",
       "       size_t=1,\n",
       "       size_x=1024,\n",
       "       size_y=1024,\n",
       "       size_z=1,\n",
       "       type='uint8',\n",
       "       metadata_only=True,\n",
       "    ),\n",
       "    annotation_ref=[<3 Annotation_Ref>],\n",
       "    roi_ref=[<9 Roi_Ref>],\n",
       " ),\n",
       " Image(\n",
       "    id='Image:1676',\n",
       "    name='cycle4.ome_cells.png',\n",
       "    pixels=Pixels(\n",
       "       id='Pixels:1676',\n",
       "       dimension_order='XYZCT',\n",
       "       size_c=3,\n",
       "       size_t=1,\n",
       "       size_x=1024,\n",
       "       size_y=1024,\n",
       "       size_z=1,\n",
       "       type='uint8',\n",
       "       metadata_only=True,\n",
       "    ),\n",
       "    annotation_ref=[<2 Annotation_Ref>],\n",
       " )]"
      ]
     },
     "execution_count": 121,
     "metadata": {},
     "output_type": "execute_result"
    }
   ],
   "source": [
    "transfer.images"
   ]
  },
  {
   "cell_type": "code",
   "execution_count": 119,
   "id": "5ea4fe4d-f8ab-400e-a760-02b8c41c3073",
   "metadata": {},
   "outputs": [],
   "source": [
    "proj = transfer.projects[0]"
   ]
  },
  {
   "cell_type": "code",
   "execution_count": 120,
   "id": "ed3b5127-4364-4029-b629-da6030ff078a",
   "metadata": {},
   "outputs": [
    {
     "data": {
      "text/plain": [
       "Project(\n",
       "   id='Project:901',\n",
       "   name='testproj',\n",
       "   annotation_ref=[<1 Annotation_Ref>],\n",
       "   dataset_ref=[<4 Dataset_Ref>],\n",
       ")"
      ]
     },
     "execution_count": 120,
     "metadata": {},
     "output_type": "execute_result"
    }
   ],
   "source": [
    "proj.da"
   ]
  },
  {
   "cell_type": "code",
   "execution_count": 21,
   "id": "37b5c58b-bf85-484d-8af6-2147441ecbc7",
   "metadata": {
    "scrolled": true
   },
   "outputs": [
    {
     "name": "stdout",
     "output_type": "stream",
     "text": [
      "NamedThing\n",
      "User\n",
      "Collection\n",
      "Manifest\n",
      "Investigation\n",
      "Study\n",
      "Assay\n",
      "Image\n",
      "Annotation\n",
      "FileAnnotation\n",
      "MapAnnotation\n",
      "TagAnnotation\n",
      "CommentAnnotation\n",
      "File\n",
      "KVPair\n"
     ]
    }
   ],
   "source": [
    "print(*schema_view.all_classes(), sep=\"\\n\")\n"
   ]
  },
  {
   "cell_type": "code",
   "execution_count": 107,
   "id": "c9fab3ec-1517-488a-b0dc-9783e93d7fcf",
   "metadata": {},
   "outputs": [
    {
     "data": {
      "text/plain": [
       "SlotDefinition(name='id', id_prefixes=[], definition_uri=None, local_names={}, conforms_to=None, implements=[], extensions={}, annotations={}, description=None, alt_descriptions={}, title=None, deprecated=None, todos=[], notes=[], comments=[], examples=[], in_subset=[], from_schema='https://w3id.org/omero-quay/manifest', imported_from=None, source=None, in_language=None, see_also=[], deprecated_element_has_exact_replacement=None, deprecated_element_has_possible_replacement=None, aliases=[], structured_aliases={}, mappings=[], exact_mappings=[], close_mappings=[], related_mappings=[], narrow_mappings=[], broad_mappings=[], created_by=None, created_on=None, last_updated_on=None, modified_by=None, status=None, rank=None, is_a=None, abstract=None, mixin=None, mixins=[], apply_to=[], values_from=[], string_serialization=None, singular_name=None, domain=None, slot_uri='schema:identifier', multivalued=None, inherited=None, readonly=None, ifabsent=None, list_elements_unique=None, list_elements_ordered=None, shared=None, key=None, identifier=True, designates_type=None, alias=None, owner=None, domain_of=[], subproperty_of=None, symmetric=None, reflexive=None, locally_reflexive=None, irreflexive=None, asymmetric=None, transitive=None, inverse=None, is_class_field=None, transitive_form_of=None, reflexive_transitive_form_of=None, role=None, is_usage_slot=None, usage_slot_name=None, relational_role=None, slot_group=None, is_grouping_slot=None, path_rule=None, disjoint_with=[], children_are_mutually_disjoint=None, union_of=[], range=None, range_expression=None, enum_range=None, required=True, recommended=None, inlined=None, inlined_as_list=None, minimum_value=None, maximum_value=None, pattern=None, structured_pattern=None, unit=None, implicit_prefix=None, value_presence=None, equals_string=None, equals_string_in=[], equals_number=None, equals_expression=None, minimum_cardinality=None, maximum_cardinality=None, has_member=None, all_members=None, none_of=[], exactly_one_of=[], any_of=[], all_of=[])"
      ]
     },
     "execution_count": 107,
     "metadata": {},
     "output_type": "execute_result"
    }
   ],
   "source": [
    "all_slots = schema_view.all_slots()\n",
    "all_slots[\"id\"]"
   ]
  },
  {
   "cell_type": "code",
   "execution_count": 112,
   "id": "6d4de3bd-7488-4f54-ab5e-80b21f4612a4",
   "metadata": {},
   "outputs": [
    {
     "data": {
      "text/plain": [
       "[AnnotationRef(id='Annotation:2551'),\n",
       " AnnotationRef(id='Annotation:2750'),\n",
       " AnnotationRef(id='Annotation:2751'),\n",
       " AnnotationRef(id='Annotation:3651'),\n",
       " AnnotationRef(id='Annotation:3652'),\n",
       " AnnotationRef(id='Annotation:3653'),\n",
       " AnnotationRef(id='Annotation:-283353872916296930291991166391745244676'),\n",
       " AnnotationRef(id='Annotation:-224774862659366328031981177565251573369')]"
      ]
     },
     "execution_count": 112,
     "metadata": {},
     "output_type": "execute_result"
    }
   ],
   "source": [
    "image_omero.annotation_ref"
   ]
  },
  {
   "cell_type": "code",
   "execution_count": 76,
   "id": "0b444438-e463-44b2-b657-5b2428b1dfaf",
   "metadata": {},
   "outputs": [
    {
     "data": {
      "text/plain": [
       "'Annotation:2551'"
      ]
     },
     "execution_count": 76,
     "metadata": {},
     "output_type": "execute_result"
    }
   ],
   "source": [
    "getattr(image_omero, \"annotation_ref\")[0].id"
   ]
  },
  {
   "cell_type": "code",
   "execution_count": 75,
   "id": "b1e21c91-bb69-4d96-9f42-7ea70fa9c83a",
   "metadata": {},
   "outputs": [
    {
     "data": {
      "text/plain": [
       "True"
      ]
     },
     "execution_count": 75,
     "metadata": {},
     "output_type": "execute_result"
    }
   ],
   "source": [
    "hasattr(getattr(image_omero, \"annotation_ref\")[0], 'id')"
   ]
  },
  {
   "cell_type": "code",
   "execution_count": null,
   "id": "d18a41b9-9a9f-45f0-a64a-c9e21f221537",
   "metadata": {},
   "outputs": [],
   "source": []
  },
  {
   "cell_type": "code",
   "execution_count": 116,
   "id": "90782101-c1ff-4b0f-b295-2fd0e41c8607",
   "metadata": {},
   "outputs": [
    {
     "data": {
      "text/plain": [
       "ome_types.model.experimenter_group_ref.ExperimenterGroupRef"
      ]
     },
     "execution_count": 116,
     "metadata": {},
     "output_type": "execute_result"
    }
   ],
   "source": [
    "ome_types.model.ExperimenterGroupRef\n",
    "\n"
   ]
  },
  {
   "cell_type": "code",
   "execution_count": 102,
   "id": "04f508a4-7802-4c9e-915f-f16b828876b1",
   "metadata": {},
   "outputs": [],
   "source": [
    "ref0 = image_omero.annotation_ref[2]"
   ]
  },
  {
   "cell_type": "code",
   "execution_count": 101,
   "id": "a0667500-becb-4aff-994a-7e45f675bee0",
   "metadata": {},
   "outputs": [
    {
     "data": {
      "text/plain": [
       "Image(id='Image:2029', name=None, description=None, creation_date=None, MIMEType=None, path=None, srce=None, dest=None, parent=None, annotations=['Annotation:2551', 'Annotation:2750', 'Annotation:2751', 'Annotation:3651', 'Annotation:3652', 'Annotation:3653', 'Annotation:-283353872916296930291991166391745244676', 'Annotation:-224774862659366328031981177565251573369'])"
      ]
     },
     "execution_count": 101,
     "metadata": {},
     "output_type": "execute_result"
    }
   ],
   "source": [
    "image_lnkml"
   ]
  },
  {
   "cell_type": "code",
   "execution_count": 32,
   "id": "38f9fc48-bd6a-4d5a-ac16-868a5b5efc9f",
   "metadata": {},
   "outputs": [],
   "source": []
  },
  {
   "cell_type": "code",
   "execution_count": 33,
   "id": "3f33754c-1383-4ed7-8b2c-4f6898d704e3",
   "metadata": {},
   "outputs": [],
   "source": [
    "image_lnkml = manifest.Image(\n",
    "    id=image_omero.id\n",
    ")"
   ]
  },
  {
   "cell_type": "code",
   "execution_count": 85,
   "id": "bba68239-62bf-4c8a-8c25-b3114fc0ef0b",
   "metadata": {},
   "outputs": [
    {
     "data": {
      "text/plain": [
       "['Annotation:2551',\n",
       " 'Annotation:2750',\n",
       " 'Annotation:2751',\n",
       " 'Annotation:3651',\n",
       " 'Annotation:3652',\n",
       " 'Annotation:3653',\n",
       " 'Annotation:-283353872916296930291991166391745244676',\n",
       " 'Annotation:-224774862659366328031981177565251573369']"
      ]
     },
     "execution_count": 85,
     "metadata": {},
     "output_type": "execute_result"
    }
   ],
   "source": [
    "image_lnkml.annotations"
   ]
  },
  {
   "cell_type": "code",
   "execution_count": 87,
   "id": "e74432d6-1c03-4765-9bb0-d08b6d7021b7",
   "metadata": {},
   "outputs": [],
   "source": [
    "from linkml_runtime.dumpers import yaml_dumper"
   ]
  },
  {
   "cell_type": "code",
   "execution_count": 89,
   "id": "e6494b36-b5c2-47c5-bce6-28845aa6a69b",
   "metadata": {},
   "outputs": [
    {
     "name": "stdout",
     "output_type": "stream",
     "text": [
      "id: Image:2029\n",
      "annotations:\n",
      "- Annotation:2551\n",
      "- Annotation:2750\n",
      "- Annotation:2751\n",
      "- Annotation:3651\n",
      "- Annotation:3652\n",
      "- Annotation:3653\n",
      "- Annotation:-283353872916296930291991166391745244676\n",
      "- Annotation:-224774862659366328031981177565251573369\n",
      "\n"
     ]
    }
   ],
   "source": [
    "print(yaml_dumper.dumps(image_lnkml))"
   ]
  },
  {
   "cell_type": "code",
   "execution_count": 69,
   "id": "d8c3cb94-ee3a-492a-903b-79371e7804d0",
   "metadata": {},
   "outputs": [
    {
     "data": {
      "text/plain": [
       "['Annotation:2551',\n",
       " 'Annotation:2750',\n",
       " 'Annotation:2751',\n",
       " 'Annotation:3651',\n",
       " 'Annotation:3652',\n",
       " 'Annotation:3653',\n",
       " 'Annotation:-283353872916296930291991166391745244676',\n",
       " 'Annotation:-224774862659366328031981177565251573369']"
      ]
     },
     "execution_count": 69,
     "metadata": {},
     "output_type": "execute_result"
    }
   ],
   "source": [
    "test_manifest.images[0].annotations"
   ]
  },
  {
   "cell_type": "code",
   "execution_count": 38,
   "id": "b2889b06-4450-49d8-b417-078f2087d7a7",
   "metadata": {},
   "outputs": [
    {
     "data": {
      "text/plain": [
       "{'id': 'Image:2029',\n",
       " 'pixels': {'dimension_order': <DimensionOrder.XYZCT: 'XYZCT'>,\n",
       "  'id': 'Pixels:2029',\n",
       "  'size_c': 2,\n",
       "  'size_t': 1,\n",
       "  'size_x': 1645,\n",
       "  'size_y': 1682,\n",
       "  'size_z': 11,\n",
       "  'type': <PixelType.UINT16: 'uint16'>,\n",
       "  'big_endian': None,\n",
       "  'bin_data': [],\n",
       "  'channels': [],\n",
       "  'interleaved': None,\n",
       "  'metadata_only': True,\n",
       "  'physical_size_x': None,\n",
       "  'physical_size_x_unit': <UnitsLength.MICROMETER: 'µm'>,\n",
       "  'physical_size_y': None,\n",
       "  'physical_size_y_unit': <UnitsLength.MICROMETER: 'µm'>,\n",
       "  'physical_size_z': None,\n",
       "  'physical_size_z_unit': <UnitsLength.MICROMETER: 'µm'>,\n",
       "  'planes': [],\n",
       "  'significant_bits': None,\n",
       "  'tiff_data_blocks': [],\n",
       "  'time_increment': None,\n",
       "  'time_increment_unit': <UnitsTime.SECOND: 's'>},\n",
       " 'acquisition_date': None,\n",
       " 'annotation_ref': [{'id': 'Annotation:2551'},\n",
       "  {'id': 'Annotation:2750'},\n",
       "  {'id': 'Annotation:2751'},\n",
       "  {'id': 'Annotation:3651'},\n",
       "  {'id': 'Annotation:3652'},\n",
       "  {'id': 'Annotation:3653'},\n",
       "  {'id': 'Annotation:-283353872916296930291991166391745244676'},\n",
       "  {'id': 'Annotation:-224774862659366328031981177565251573369'}],\n",
       " 'description': None,\n",
       " 'experiment_ref': None,\n",
       " 'experimenter_group_ref': None,\n",
       " 'experimenter_ref': None,\n",
       " 'imaging_environment': None,\n",
       " 'instrument_ref': None,\n",
       " 'microbeam_manipulation_ref': [],\n",
       " 'name': 'vsi-ets-test-jpg2k.vsi [001 C405, C488]',\n",
       " 'objective_settings': None,\n",
       " 'roi_ref': [],\n",
       " 'stage_label': None}"
      ]
     },
     "execution_count": 38,
     "metadata": {},
     "output_type": "execute_result"
    }
   ],
   "source": [
    "image_omero.dict()"
   ]
  },
  {
   "cell_type": "code",
   "execution_count": null,
   "id": "22c690d6-15b9-4dc0-840e-776f29e26183",
   "metadata": {},
   "outputs": [],
   "source": []
  },
  {
   "cell_type": "code",
   "execution_count": null,
   "id": "6fc491c9-66e5-4fe8-b0c9-b87970e8d308",
   "metadata": {},
   "outputs": [],
   "source": [
    "test_manifest.images"
   ]
  },
  {
   "cell_type": "code",
   "execution_count": null,
   "id": "3b05b019-d8c8-42a1-8aaf-5fb20c73ccad",
   "metadata": {},
   "outputs": [],
   "source": [
    "\n",
    "setattr(image_lnkml"
   ]
  },
  {
   "cell_type": "code",
   "execution_count": 39,
   "id": "f76cba54-6a40-4c06-a190-2c6ee57ef4c9",
   "metadata": {},
   "outputs": [
    {
     "data": {
      "text/plain": [
       "<module 'omero_quay.manifest' from '/home/guillaume/Dev/Omero/omero-quay/src/omero_quay/manifest.py'>"
      ]
     },
     "execution_count": 39,
     "metadata": {},
     "output_type": "execute_result"
    }
   ],
   "source": []
  },
  {
   "cell_type": "code",
   "execution_count": 29,
   "id": "5d5c7437-cfef-4372-acf1-e6fe4fa8d928",
   "metadata": {},
   "outputs": [
    {
     "data": {
      "text/plain": [
       "[Image(\n",
       "    id='Image:2029',\n",
       "    name='vsi-ets-test-jpg2k.vsi [001 C405, C488]',\n",
       "    pixels=Pixels(\n",
       "       id='Pixels:2029',\n",
       "       dimension_order='XYZCT',\n",
       "       size_c=2,\n",
       "       size_t=1,\n",
       "       size_x=1645,\n",
       "       size_y=1682,\n",
       "       size_z=11,\n",
       "       type='uint16',\n",
       "       metadata_only=True,\n",
       "    ),\n",
       "    annotation_ref=[<8 Annotation_Ref>],\n",
       " ),\n",
       " Image(\n",
       "    id='Image:2030',\n",
       "    name='vsi-ets-test-jpg2k.vsi [macro image]',\n",
       "    pixels=Pixels(\n",
       "       id='Pixels:2030',\n",
       "       dimension_order='XYZCT',\n",
       "       size_c=3,\n",
       "       size_t=1,\n",
       "       size_x=501,\n",
       "       size_y=512,\n",
       "       size_z=1,\n",
       "       type='uint8',\n",
       "       metadata_only=True,\n",
       "    ),\n",
       "    annotation_ref=[<3 Annotation_Ref>],\n",
       "    roi_ref=[<2 Roi_Ref>],\n",
       " ),\n",
       " Image(\n",
       "    id='Image:2451',\n",
       "    name='CMU-1.ndpi [0]',\n",
       "    pixels=Pixels(\n",
       "       id='Pixels:2451',\n",
       "       dimension_order='XYZCT',\n",
       "       size_c=3,\n",
       "       size_t=1,\n",
       "       size_x=51200,\n",
       "       size_y=38144,\n",
       "       size_z=1,\n",
       "       type='uint8',\n",
       "       metadata_only=True,\n",
       "    ),\n",
       "    annotation_ref=[<4 Annotation_Ref>],\n",
       "    roi_ref=[<2 Roi_Ref>],\n",
       " ),\n",
       " Image(\n",
       "    id='Image:2452',\n",
       "    name='CMU-1.ndpi [macro image]',\n",
       "    pixels=Pixels(\n",
       "       id='Pixels:2452',\n",
       "       dimension_order='XYZCT',\n",
       "       size_c=3,\n",
       "       size_t=1,\n",
       "       size_x=1191,\n",
       "       size_y=408,\n",
       "       size_z=1,\n",
       "       type='uint8',\n",
       "       metadata_only=True,\n",
       "    ),\n",
       "    annotation_ref=[<2 Annotation_Ref>],\n",
       " ),\n",
       " Image(\n",
       "    id='Image:2001',\n",
       "    name='random image',\n",
       "    pixels=Pixels(\n",
       "       id='Pixels:2001',\n",
       "       dimension_order='XYZCT',\n",
       "       size_c=1,\n",
       "       size_t=1,\n",
       "       size_x=100,\n",
       "       size_y=100,\n",
       "       size_z=1,\n",
       "       type='double',\n",
       "       metadata_only=True,\n",
       "    ),\n",
       "    annotation_ref=[<2 Annotation_Ref>],\n",
       " ),\n",
       " Image(\n",
       "    id='Image:1680',\n",
       "    name='cycle3.ome_result_colored.png',\n",
       "    pixels=Pixels(\n",
       "       id='Pixels:1680',\n",
       "       dimension_order='XYZCT',\n",
       "       size_c=3,\n",
       "       size_t=1,\n",
       "       size_x=1024,\n",
       "       size_y=1024,\n",
       "       size_z=1,\n",
       "       type='uint8',\n",
       "       metadata_only=True,\n",
       "    ),\n",
       "    annotation_ref=[<3 Annotation_Ref>],\n",
       "    roi_ref=[<9 Roi_Ref>],\n",
       " ),\n",
       " Image(\n",
       "    id='Image:1676',\n",
       "    name='cycle4.ome_cells.png',\n",
       "    pixels=Pixels(\n",
       "       id='Pixels:1676',\n",
       "       dimension_order='XYZCT',\n",
       "       size_c=3,\n",
       "       size_t=1,\n",
       "       size_x=1024,\n",
       "       size_y=1024,\n",
       "       size_z=1,\n",
       "       type='uint8',\n",
       "       metadata_only=True,\n",
       "    ),\n",
       "    annotation_ref=[<2 Annotation_Ref>],\n",
       " )]"
      ]
     },
     "execution_count": 29,
     "metadata": {},
     "output_type": "execute_result"
    }
   ],
   "source": [
    "transfer.images"
   ]
  },
  {
   "cell_type": "code",
   "execution_count": null,
   "id": "40e7bb76-698a-4210-b277-ce2a6c566e46",
   "metadata": {},
   "outputs": [],
   "source": []
  }
 ],
 "metadata": {
  "kernelspec": {
   "display_name": "Python 3 (ipykernel)",
   "language": "python",
   "name": "python3"
  },
  "language_info": {
   "codemirror_mode": {
    "name": "ipython",
    "version": 3
   },
   "file_extension": ".py",
   "mimetype": "text/x-python",
   "name": "python",
   "nbconvert_exporter": "python",
   "pygments_lexer": "ipython3",
   "version": "3.10.8"
  }
 },
 "nbformat": 4,
 "nbformat_minor": 5
}
