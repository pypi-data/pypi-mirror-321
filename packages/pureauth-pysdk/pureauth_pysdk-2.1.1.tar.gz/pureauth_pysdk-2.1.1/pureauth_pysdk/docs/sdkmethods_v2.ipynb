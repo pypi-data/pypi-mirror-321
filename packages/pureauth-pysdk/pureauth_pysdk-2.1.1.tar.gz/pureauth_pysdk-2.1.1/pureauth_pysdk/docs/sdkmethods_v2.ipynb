{
 "cells": [
  {
   "cell_type": "code",
   "execution_count": 1,
   "metadata": {},
   "outputs": [],
   "source": [
    "from pureauth_pysdk import Pureauth\n",
    "from pureauth_pysdk.sync.v2.dto import EmployeeAccessMappingDTO, EmployeeCustomDatasetDTO, EmployeeDatasetDTO, EmployeePrimaryDatasetDTO, EmployeeSecondaryDatasetDTO\n",
    "from pureauth_pysdk.sync.v1.dto import EmployeePrimaryDatasetDTO as EmployeeDatasetDTOv1"
   ]
  },
  {
   "cell_type": "code",
   "execution_count": 2,
   "metadata": {},
   "outputs": [],
   "source": [
    "# Local\n",
    "# PUREAUTH_ACCESS_TOKEN=\"VnBD1CV6ZFDqIvSRt8NwevgsscP9USU9HZsj6kJj7m4\"\n",
    "# PUREAUTH_ORG_ID=\"pureid.io\"\n",
    "# PUREAUTH_PRIVATE_KEY = \"\"\"MHQCAQEEIAWG9Ov87A4+0+zaG6nVxXwdCIA8mBBCX9jvveVVZAy4oAcGBSuBBAAKoUQDQgAEQ+kRn3lrA0VB2IbG0ssh7RE9DSH9OLnEmc03dwTvTRCzxRaAYGvXqIPB9dTNtLX8zy6qn2+VZU9/UXT4egq39w==\"\"\"\n",
    "# PUREAUTH_PUBLIC_KEY = \"\"\"MFYwEAYHKoZIzj0CAQYFK4EEAAoDQgAEQ+kRn3lrA0VB2IbG0ssh7RE9DSH9OLnEmc03dwTvTRCzxRaAYGvXqIPB9dTNtLX8zy6qn2+VZU9/UXT4egq39w==\"\"\"\n",
    "# PUREAUTH_BASE_URL=\"http://127.0.0.1:5000\"\n",
    "# PUREAUTH_ACCESS_TOKEN=\"cAn4-ulaQFQC8ay04y12RABAifqHM5WdrQxDoecMkos\"\n",
    "# PUREAUTH_PRIVATE_KEY=\"MHQCAQEEIM//Bav8GaSO3kLlAzKOfVKFawpPGOvYKamXAC7ZmB/soAcGBSuBBAAKoUQDQgAECZjhTxKDqgbVYF5ADzYfeMaMmm4ZWXYbGgmErUEfx6wdL8y2UQzDzuz3Ag0PqPkNvrtBsFgTqPDNnrPtWOOYYw==\"\n",
    "# PUREAUTH_BASE_URL=\"https://dev.pureauth.tech\"\n",
    "# PUREAUTH_ORG_ID=\"xshield.com\"\n",
    "\n",
    "# Ptech dev\n",
    "PUREAUTH_ACCESS_TOKEN=\"r0zJv26AZgVqRdPeA5eoHqsQ3IuFX-hBi5tus6P3ZOQ\"\n",
    "PUREAUTH_PRIVATE_KEY=\"MHQCAQEEILN4hir0suh6gfrZPq7uc0C+OUq0wwl5UdIXinaxBxZToAcGBSuBBAAKoUQDQgAE0MVEJ7L77NN7ol4v6OrUL6kum7WKb+cI3C1tBQmatB63NHNf8hsJiZDf0RX5tLTX17UVND/r1M6LeYGRCd0srQ==\"\n",
    "PUREAUTH_BASE_URL=\"https://dev.pureauth.tech\"\n",
    "PUREAUTH_ORG_ID=\"pureauth.tech\""
   ]
  },
  {
   "cell_type": "code",
   "execution_count": 3,
   "metadata": {},
   "outputs": [],
   "source": [
    "# pureauth = Pureauth(organization_id=PUREAUTH_ORG_ID, access_token=PUREAUTH_ACCESS_TOKEN, private_key=PUREAUTH_PRIVATE_KEY)\n",
    "pureauth = Pureauth(\n",
    "    organization_id=PUREAUTH_ORG_ID,\n",
    "    access_token=PUREAUTH_ACCESS_TOKEN,\n",
    "    private_key=PUREAUTH_PRIVATE_KEY,\n",
    "    base_url=PUREAUTH_BASE_URL\n",
    ")\n"
   ]
  },
  {
   "cell_type": "code",
   "execution_count": 4,
   "metadata": {},
   "outputs": [],
   "source": [
    "employees = [\n",
    "    EmployeeDatasetDTO(\n",
    "        primary_dataset=EmployeePrimaryDatasetDTO(\n",
    "            full_name=\"Gen\",\n",
    "            primary_email=\"genuserprimary0@pureauth.tech\",\n",
    "            corporate_email=\"genuser0@pureauth.tech\",\n",
    "            phone_number=\"9764656473\"\n",
    "        ),\n",
    "        secondary_dataset=EmployeeSecondaryDatasetDTO(\n",
    "            username=\"username\",\n",
    "            user_principal_name=\"UPN\"\n",
    "        ),\n",
    "        mapping_dataset=EmployeeAccessMappingDTO(\n",
    "            corporate_email=\"\",\n",
    "            roles=[\"role1\"],\n",
    "            groups=[\"gggg\"]\n",
    "        )\n",
    "    ), \n",
    "]\n",
    "# empv1 = EmployeeDatasetDTOv1()"
   ]
  },
  {
   "cell_type": "code",
   "execution_count": 5,
   "metadata": {},
   "outputs": [
    {
     "name": "stdout",
     "output_type": "stream",
     "text": [
      "{'attributes': [{'name': 'Myattribute', 'order': 1, 'type': 'string'}], 'encrypted': True, 'id': 16, 'name': 'Custom', 'public_id': 'b9e07f12-adbd-40a2-8538-8f61be1a4221', 'type': 'custom'}\n"
     ]
    },
    {
     "ename": "AttributeError",
     "evalue": "'NoneType' object has no attribute 'serialize'",
     "output_type": "error",
     "traceback": [
      "\u001b[0;31m---------------------------------------------------------------------------\u001b[0m",
      "\u001b[0;31mAttributeError\u001b[0m                            Traceback (most recent call last)",
      "Cell \u001b[0;32mIn[5], line 4\u001b[0m\n\u001b[1;32m      2\u001b[0m ds \u001b[38;5;241m=\u001b[39m EmployeeCustomDatasetDTO\u001b[38;5;241m.\u001b[39m_get_custom_dataset(datasets\u001b[38;5;241m=\u001b[39mpureauth\u001b[38;5;241m.\u001b[39msync\u001b[38;5;241m.\u001b[39mv2\u001b[38;5;241m.\u001b[39morganization\u001b[38;5;241m.\u001b[39mdatasets())\n\u001b[1;32m      3\u001b[0m \u001b[38;5;28mprint\u001b[39m(ds)\n\u001b[0;32m----> 4\u001b[0m \u001b[43memployees\u001b[49m\u001b[43m[\u001b[49m\u001b[38;5;241;43m0\u001b[39;49m\u001b[43m]\u001b[49m\u001b[38;5;241;43m.\u001b[39;49m\u001b[43mcustom_dataset\u001b[49m\u001b[38;5;241;43m.\u001b[39;49m\u001b[43mserialize\u001b[49m(dataset\u001b[38;5;241m=\u001b[39mds)\n\u001b[1;32m      5\u001b[0m \u001b[38;5;66;03m# # datasets\u001b[39;00m\n\u001b[1;32m      6\u001b[0m \u001b[38;5;66;03m# print(pureauth.sync.v2.organization.datasets())\u001b[39;00m\n",
      "\u001b[0;31mAttributeError\u001b[0m: 'NoneType' object has no attribute 'serialize'"
     ]
    }
   ],
   "source": [
    "# # datasets = pureauth.sync.v1.organization.datasets()\n",
    "ds = EmployeeCustomDatasetDTO._get_custom_dataset(datasets=pureauth.sync.v2.organization.datasets())\n",
    "print(ds)\n",
    "employees[0].custom_dataset.serialize(dataset=ds)\n",
    "# # datasets\n",
    "# print(pureauth.sync.v2.organization.datasets())"
   ]
  },
  {
   "cell_type": "code",
   "execution_count": 43,
   "metadata": {},
   "outputs": [
    {
     "ename": "AttributeError",
     "evalue": "'NoneType' object has no attribute 'serialized'",
     "output_type": "error",
     "traceback": [
      "\u001b[0;31m---------------------------------------------------------------------------\u001b[0m",
      "\u001b[0;31mAttributeError\u001b[0m                            Traceback (most recent call last)",
      "Cell \u001b[0;32mIn[43], line 1\u001b[0m\n\u001b[0;32m----> 1\u001b[0m \u001b[43memployees\u001b[49m\u001b[43m[\u001b[49m\u001b[38;5;241;43m0\u001b[39;49m\u001b[43m]\u001b[49m\u001b[38;5;241;43m.\u001b[39;49m\u001b[43mcustom_dataset\u001b[49m\u001b[38;5;241;43m.\u001b[39;49m\u001b[43mserialized\u001b[49m\n",
      "\u001b[0;31mAttributeError\u001b[0m: 'NoneType' object has no attribute 'serialized'"
     ]
    }
   ],
   "source": [
    "employees[0].custom_dataset.serialized"
   ]
  },
  {
   "cell_type": "code",
   "execution_count": 5,
   "metadata": {},
   "outputs": [],
   "source": [
    "resp = pureauth.sync.v2.employees.add(employee_datasets=employees, send_email=True)"
   ]
  },
  {
   "cell_type": "code",
   "execution_count": 7,
   "metadata": {},
   "outputs": [],
   "source": [
    "resp = pureauth.sync.v2.employees.update(employee_datasets=employees, send_email=True)"
   ]
  },
  {
   "cell_type": "code",
   "execution_count": 8,
   "metadata": {},
   "outputs": [
    {
     "data": {
      "text/plain": [
       "[]"
      ]
     },
     "execution_count": 8,
     "metadata": {},
     "output_type": "execute_result"
    }
   ],
   "source": [
    "resp"
   ]
  },
  {
   "cell_type": "code",
   "execution_count": null,
   "metadata": {},
   "outputs": [],
   "source": []
  },
  {
   "cell_type": "code",
   "execution_count": null,
   "metadata": {},
   "outputs": [],
   "source": [
    "resp = pureauth.sync.v2.employees.add(employee_datasets=employees, send_email=True)"
   ]
  },
  {
   "cell_type": "code",
   "execution_count": null,
   "metadata": {},
   "outputs": [],
   "source": [
    "resp"
   ]
  },
  {
   "cell_type": "code",
   "execution_count": null,
   "metadata": {},
   "outputs": [],
   "source": [
    "pureauth.sync.v2.employees.activate(corporate_emails=[\"atharva+2@pureid.io\"])"
   ]
  },
  {
   "cell_type": "code",
   "execution_count": null,
   "metadata": {},
   "outputs": [],
   "source": [
    "pureauth.sync.v2.employees.send_welcome_email([employees[0].primary_dataset])"
   ]
  },
  {
   "cell_type": "code",
   "execution_count": null,
   "metadata": {},
   "outputs": [],
   "source": [
    "pureauth.sync.v1.organization.create_group(name=\"sdk\", description=\"SDK Group\")"
   ]
  },
  {
   "cell_type": "code",
   "execution_count": null,
   "metadata": {},
   "outputs": [],
   "source": [
    "pureauth.sync.v1.organization.create_role(name=\"sdkrole\", description=\"SDK ROLE\", application_username=\"skduser@pureid.io\")"
   ]
  },
  {
   "cell_type": "code",
   "execution_count": null,
   "metadata": {},
   "outputs": [],
   "source": [
    "pureauth.sync.v2.organization.datasets()"
   ]
  },
  {
   "cell_type": "code",
   "execution_count": null,
   "metadata": {},
   "outputs": [],
   "source": [
    "def _get_custom_dataset(datasets: dict = None) -> dict:\n",
    "    for ds in datasets:\n",
    "        if ds.get(\"name\") == \"Custom\":\n",
    "            return ds\n",
    "    return None"
   ]
  },
  {
   "cell_type": "code",
   "execution_count": null,
   "metadata": {},
   "outputs": [],
   "source": [
    "datasets = [\n",
    "    {\n",
    "        \"attributes\": [\n",
    "            {\"name\": \"Full Name\", \"order\": 1, \"type\": \"string\"},\n",
    "            {\"name\": \"Corporate Email\", \"order\": 2, \"type\": \"email\"},\n",
    "            {\"name\": \"Personal Email\", \"order\": 3, \"type\": \"email\"},\n",
    "            {\"name\": \"Phone Number\", \"order\": 4, \"type\": \"phone_number\"},\n",
    "        ],\n",
    "        \"encrypted\": False,\n",
    "        \"id\": 1,\n",
    "        \"name\": \"Primary\",\n",
    "        \"public_id\": \"7553c280-2f29-4b8b-aff9-4667a090643f\",\n",
    "        \"type\": \"primary\",\n",
    "    },\n",
    "    {\n",
    "        \"attributes\": [\n",
    "            {\"name\": \"Username\", \"order\": 1, \"type\": \"string\"},\n",
    "            {\"name\": \"UserPrincipalName\", \"order\": 2, \"type\": \"email\"},\n",
    "            {\"name\": \"EmployeeID\", \"order\": 3, \"type\": \"string\"},\n",
    "            {\"name\": \"ObjectID\", \"order\": 4, \"type\": \"string\"},\n",
    "            {\"name\": \"EmployeeType\", \"order\": 5, \"type\": \"string\"},\n",
    "            {\"name\": \"OtherAttribute\", \"order\": 6, \"type\": \"string\"},\n",
    "        ],\n",
    "        \"encrypted\": True,\n",
    "        \"id\": 2,\n",
    "        \"name\": \"Attribute\",\n",
    "        \"public_id\": \"f8e80c0b-e283-49dc-a91b-410cc012d1f3\",\n",
    "        \"type\": \"secondary\",\n",
    "    },\n",
    "    {\n",
    "        \"attributes\": [\n",
    "            {\"name\": \"CA1\", \"order\": 1, \"type\": \"string\"},\n",
    "            {\"name\": \"CA2\", \"order\": 2, \"type\": \"string\"},\n",
    "        ],\n",
    "        \"encrypted\": True,\n",
    "        \"id\": 3,\n",
    "        \"name\": \"Custom\",\n",
    "        \"public_id\": \"4fa09101-881e-4de3-bc91-c2ff6539fc47\",\n",
    "        \"type\": \"secondary\",\n",
    "    },\n",
    "]"
   ]
  },
  {
   "cell_type": "code",
   "execution_count": null,
   "metadata": {},
   "outputs": [],
   "source": [
    "data = {\n",
    "    \"CA2\": \"CA2Value\",\n",
    "    \"CA1\": \"CA1Value\",\n",
    "    \"CA3\": \"C3\"\n",
    "}"
   ]
  },
  {
   "cell_type": "code",
   "execution_count": null,
   "metadata": {},
   "outputs": [],
   "source": [
    "from collections import OrderedDict\n",
    "import json\n",
    "def get_serialized(data, datasets: dict) -> str:\n",
    "    custom_dataset = _get_custom_dataset(datasets=datasets)\n",
    "    if custom_dataset is None:\n",
    "        return None\n",
    "    ordered = OrderedDict()\n",
    "    for i in range(1, len(custom_dataset.get(\"attributes\"))+1):\n",
    "        for attr in custom_dataset.get(\"attributes\"):\n",
    "            if attr.get(\"order\") == i:\n",
    "                ordered.update({attr.get(\"name\"): data.get(attr.get(\"name\"), \"\")})\n",
    "                break\n",
    "    return json.dumps(ordered)\n",
    "\n"
   ]
  },
  {
   "cell_type": "code",
   "execution_count": null,
   "metadata": {},
   "outputs": [],
   "source": [
    "get_serialized(data=data, datasets=datasets)"
   ]
  },
  {
   "cell_type": "code",
   "execution_count": null,
   "metadata": {},
   "outputs": [],
   "source": [
    "ordered = OrderedDict()"
   ]
  },
  {
   "cell_type": "code",
   "execution_count": null,
   "metadata": {},
   "outputs": [],
   "source": [
    "ordered.update({\"0\": 0})\n",
    "ordered.update({\"a\": 1})"
   ]
  },
  {
   "cell_type": "code",
   "execution_count": null,
   "metadata": {},
   "outputs": [],
   "source": [
    "ordered.get(\"0\")"
   ]
  },
  {
   "cell_type": "code",
   "execution_count": null,
   "metadata": {},
   "outputs": [],
   "source": [
    "ordered"
   ]
  },
  {
   "cell_type": "code",
   "execution_count": 37,
   "metadata": {},
   "outputs": [],
   "source": [
    "pureauth.sync.v1.organization.add_custom_attribute(\"Myattribute\", \"string\")"
   ]
  },
  {
   "cell_type": "code",
   "execution_count": 36,
   "metadata": {},
   "outputs": [],
   "source": [
    "pureauth.sync.v1.organization.delete_custom_attribute(\"Myattribute\")"
   ]
  },
  {
   "cell_type": "code",
   "execution_count": 10,
   "metadata": {},
   "outputs": [
    {
     "data": {
      "text/plain": [
       "'[Attribute] OtherAttribute,[Primary] Full Name,[Attribute] UserPrincipalName,[Attribute] EmployeeID,Groups,[Attribute] ObjectID,Roles,uploaded,[Primary] Personal Email,[Attribute] EmployeeType,[Primary] Corporate Email,[Primary] Phone Number,[Attribute] Username\\r\\n'"
      ]
     },
     "execution_count": 10,
     "metadata": {},
     "output_type": "execute_result"
    }
   ],
   "source": [
    "pureauth.sync.v1.organization.fetch_csv_template()"
   ]
  },
  {
   "cell_type": "code",
   "execution_count": 12,
   "metadata": {},
   "outputs": [
    {
     "data": {
      "text/plain": [
       "['[Attribute] OtherAttribute',\n",
       " '[Primary] Full Name',\n",
       " '[Attribute] UserPrincipalName',\n",
       " '[Attribute] EmployeeID',\n",
       " 'Groups',\n",
       " '[Attribute] ObjectID',\n",
       " 'Roles',\n",
       " 'uploaded',\n",
       " '[Primary] Personal Email',\n",
       " '[Attribute] EmployeeType',\n",
       " '[Primary] Corporate Email',\n",
       " '[Primary] Phone Number',\n",
       " '[Attribute] Username\\r\\n']"
      ]
     },
     "execution_count": 12,
     "metadata": {},
     "output_type": "execute_result"
    }
   ],
   "source": [
    "pureauth.sync.v2.organization.fetch_csv_template().split(\",\")"
   ]
  },
  {
   "cell_type": "code",
   "execution_count": 6,
   "metadata": {},
   "outputs": [
    {
     "data": {
      "text/plain": [
       "'6e4b807a96220da3f94affb66e08abc4a02ac82b4a213ef764ca8dd43fde6ed1'"
      ]
     },
     "execution_count": 6,
     "metadata": {},
     "output_type": "execute_result"
    }
   ],
   "source": [
    "from pureauth_pysdk.utils import employee_id\n",
    "\n",
    "employee_id(\"rsbl\", \"aap0086@rajarambapubank.org\")"
   ]
  },
  {
   "cell_type": "code",
   "execution_count": 7,
   "metadata": {},
   "outputs": [
    {
     "data": {
      "text/plain": [
       "[{'attributes': [{'name': 'Full Name', 'order': 1, 'type': 'string'},\n",
       "   {'name': 'Corporate Email', 'order': 2, 'type': 'email'},\n",
       "   {'name': 'Personal Email', 'order': 3, 'type': 'email'},\n",
       "   {'name': 'Phone Number', 'order': 4, 'type': 'phone_number'}],\n",
       "  'encrypted': False,\n",
       "  'id': 1,\n",
       "  'name': 'Primary',\n",
       "  'public_id': '986c66e7-9c31-4bc5-88bd-507008d05416',\n",
       "  'type': 'primary'},\n",
       " {'attributes': [{'name': 'Username', 'order': 1, 'type': 'string'},\n",
       "   {'name': 'UserPrincipalName', 'order': 2, 'type': 'email'},\n",
       "   {'name': 'EmployeeID', 'order': 3, 'type': 'string'},\n",
       "   {'name': 'ObjectID', 'order': 4, 'type': 'string'},\n",
       "   {'name': 'EmployeeType', 'order': 5, 'type': 'string'},\n",
       "   {'name': 'OtherAttribute', 'order': 6, 'type': 'string'}],\n",
       "  'encrypted': True,\n",
       "  'id': 2,\n",
       "  'name': 'Attribute',\n",
       "  'public_id': '2d580c1e-8797-4d68-b33d-6d7008dba5bd',\n",
       "  'type': 'secondary'}]"
      ]
     },
     "execution_count": 7,
     "metadata": {},
     "output_type": "execute_result"
    }
   ],
   "source": [
    "pureauth.sync.v1.organization.datasets()"
   ]
  },
  {
   "cell_type": "code",
   "execution_count": null,
   "metadata": {},
   "outputs": [],
   "source": []
  },
  {
   "cell_type": "code",
   "execution_count": null,
   "metadata": {},
   "outputs": [],
   "source": []
  }
 ],
 "metadata": {
  "kernelspec": {
   "display_name": "pureauth-pysdk-OjtMq6L5-py3.11",
   "language": "python",
   "name": "python3"
  },
  "language_info": {
   "codemirror_mode": {
    "name": "ipython",
    "version": 3
   },
   "file_extension": ".py",
   "mimetype": "text/x-python",
   "name": "python",
   "nbconvert_exporter": "python",
   "pygments_lexer": "ipython3",
   "version": "3.11.10"
  }
 },
 "nbformat": 4,
 "nbformat_minor": 2
}
