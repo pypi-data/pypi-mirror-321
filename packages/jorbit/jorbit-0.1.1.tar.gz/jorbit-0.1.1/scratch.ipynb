{
 "cells": [
  {
   "cell_type": "markdown",
   "metadata": {},
   "source": [
    "# scratch work"
   ]
  },
  {
   "cell_type": "code",
   "execution_count": 1,
   "metadata": {},
   "outputs": [],
   "source": [
    "import jax\n",
    "\n",
    "jax.config.update(\"jax_enable_x64\", True)\n",
    "import jax.numpy as jnp\n",
    "\n",
    "import numpy as np\n",
    "import matplotlib.pyplot as plt\n",
    "\n",
    "from astropy.time import Time\n",
    "import astropy.units as u\n",
    "from astropy.coordinates import SkyCoord\n",
    "from astroquery.jplhorizons import Horizons\n",
    "\n",
    "from jorbit import Particle"
   ]
  },
  {
   "cell_type": "code",
   "execution_count": 23,
   "metadata": {},
   "outputs": [
    {
     "data": {
      "text/plain": [
       "array([[[1, 0],\n",
       "        [0, 1]],\n",
       "\n",
       "       [[4, 0],\n",
       "        [0, 4]],\n",
       "\n",
       "       [[9, 0],\n",
       "        [0, 9]]])"
      ]
     },
     "execution_count": 23,
     "metadata": {},
     "output_type": "execute_result"
    }
   ],
   "source": [
    "# a = [1*u.arcsec, 2*u.arcsec, 3*u.arcsec]\n",
    "a = np.array([1, 2, 3])\n",
    "np.array([np.diag(np.array([a**2, a**2])) for a in a])"
   ]
  },
  {
   "cell_type": "code",
   "execution_count": 17,
   "metadata": {},
   "outputs": [
    {
     "data": {
      "text/plain": [
       "()"
      ]
     },
     "execution_count": 17,
     "metadata": {},
     "output_type": "execute_result"
    }
   ],
   "source": [
    "a = 1 * u.arcmin\n",
    "a = np.array(a)\n",
    "a.shape"
   ]
  },
  {
   "cell_type": "code",
   "execution_count": 14,
   "metadata": {},
   "outputs": [],
   "source": [
    "@jax.jit\n",
    "def tangent_plane_projection(ra_ref, dec_ref, ra, dec):\n",
    "    # Convert to unit vectors\n",
    "    cos_dec = jnp.cos(dec)\n",
    "    sin_dec = jnp.sin(dec)\n",
    "    cos_ra = jnp.cos(ra)\n",
    "    sin_ra = jnp.sin(ra)\n",
    "\n",
    "    # Initial cartesian coordinates\n",
    "    x = cos_dec * cos_ra\n",
    "    y = cos_dec * sin_ra\n",
    "    z = sin_dec\n",
    "\n",
    "    # Rotation matrices (combined into single operation)\n",
    "    cos_ra_ref = jnp.cos(ra_ref)\n",
    "    sin_ra_ref = jnp.sin(ra_ref)\n",
    "    cos_dec_ref = jnp.cos(dec_ref)\n",
    "    sin_dec_ref = jnp.sin(dec_ref)\n",
    "\n",
    "    # Apply rotations (optimized matrix multiplication)\n",
    "    x_rot = (x * cos_ra_ref + y * sin_ra_ref) * cos_dec_ref + z * sin_dec_ref\n",
    "    y_rot = -x * sin_ra_ref + y * cos_ra_ref\n",
    "    z_rot = -(x * cos_ra_ref + y * sin_ra_ref) * sin_dec_ref + z * cos_dec_ref\n",
    "\n",
    "    # Project to plane\n",
    "    xi = y_rot / x_rot\n",
    "    eta = z_rot / x_rot\n",
    "\n",
    "    return xi, eta"
   ]
  },
  {
   "cell_type": "code",
   "execution_count": 32,
   "metadata": {},
   "outputs": [
    {
     "data": {
      "text/plain": [
       "np.float64(2.6651654394527213e-07)"
      ]
     },
     "execution_count": 34,
     "metadata": {},
     "output_type": "execute_result"
    }
   ],
   "source": [
    "c1 = SkyCoord(ra=10 * u.deg, dec=89.99 * u.deg, frame=\"icrs\")\n",
    "c2 = c1.directional_offset_by(position_angle=45 * u.deg, separation=30 * u.arcsec)\n",
    "ra_ref = c1.ra.rad\n",
    "dec_ref = c1.dec.rad\n",
    "ra = c2.ra.rad\n",
    "dec = c2.dec.rad\n",
    "\n",
    "xi, eta = tangenet_plane_projection(ra_ref, dec_ref, ra, dec)\n",
    "np.sqrt(xi**2 + eta**2) * (u.rad.to(u.arcsec)) - 30"
   ]
  },
  {
   "cell_type": "code",
   "execution_count": 5,
   "metadata": {},
   "outputs": [
    {
     "ename": "AssertionError",
     "evalue": "",
     "output_type": "error",
     "traceback": [
      "\u001b[0;31m---------------------------------------------------------------------------\u001b[0m",
      "\u001b[0;31mAssertionError\u001b[0m                            Traceback (most recent call last)",
      "Cell \u001b[0;32mIn[5], line 27\u001b[0m\n\u001b[1;32m     21\u001b[0m     \u001b[38;5;66;03m# First data: tells distribution how to compute probabilities\u001b[39;00m\n\u001b[1;32m     22\u001b[0m     \u001b[38;5;66;03m# Second data (obs): tells NumPyro what we actually observed\u001b[39;00m\n\u001b[1;32m     23\u001b[0m     \u001b[38;5;28;01mreturn\u001b[39;00m numpyro\u001b[38;5;241m.\u001b[39msample(\u001b[38;5;124m\"\u001b[39m\u001b[38;5;124mobs\u001b[39m\u001b[38;5;124m\"\u001b[39m, \n\u001b[1;32m     24\u001b[0m                          WeightedSumDistribution(weight, data), \n\u001b[1;32m     25\u001b[0m                          obs\u001b[38;5;241m=\u001b[39mdata)\n\u001b[0;32m---> 27\u001b[0m \u001b[43mmodel\u001b[49m\u001b[43m(\u001b[49m\u001b[43mjnp\u001b[49m\u001b[38;5;241;43m.\u001b[39;49m\u001b[43marray\u001b[49m\u001b[43m(\u001b[49m\u001b[43m[\u001b[49m\u001b[38;5;241;43m1.0\u001b[39;49m\u001b[43m]\u001b[49m\u001b[43m)\u001b[49m\u001b[43m)\u001b[49m\n",
      "Cell \u001b[0;32mIn[5], line 19\u001b[0m, in \u001b[0;36mmodel\u001b[0;34m(data)\u001b[0m\n\u001b[1;32m     18\u001b[0m \u001b[38;5;28;01mdef\u001b[39;00m \u001b[38;5;21mmodel\u001b[39m(data):\n\u001b[0;32m---> 19\u001b[0m     weight \u001b[38;5;241m=\u001b[39m \u001b[43mnumpyro\u001b[49m\u001b[38;5;241;43m.\u001b[39;49m\u001b[43msample\u001b[49m\u001b[43m(\u001b[49m\u001b[38;5;124;43m\"\u001b[39;49m\u001b[38;5;124;43mweight\u001b[39;49m\u001b[38;5;124;43m\"\u001b[39;49m\u001b[43m,\u001b[49m\u001b[43m \u001b[49m\u001b[43mdist\u001b[49m\u001b[38;5;241;43m.\u001b[39;49m\u001b[43mNormal\u001b[49m\u001b[43m(\u001b[49m\u001b[38;5;241;43m0\u001b[39;49m\u001b[43m,\u001b[49m\u001b[43m \u001b[49m\u001b[38;5;241;43m1\u001b[39;49m\u001b[43m)\u001b[49m\u001b[43m)\u001b[49m\n\u001b[1;32m     21\u001b[0m     \u001b[38;5;66;03m# First data: tells distribution how to compute probabilities\u001b[39;00m\n\u001b[1;32m     22\u001b[0m     \u001b[38;5;66;03m# Second data (obs): tells NumPyro what we actually observed\u001b[39;00m\n\u001b[1;32m     23\u001b[0m     \u001b[38;5;28;01mreturn\u001b[39;00m numpyro\u001b[38;5;241m.\u001b[39msample(\u001b[38;5;124m\"\u001b[39m\u001b[38;5;124mobs\u001b[39m\u001b[38;5;124m\"\u001b[39m, \n\u001b[1;32m     24\u001b[0m                          WeightedSumDistribution(weight, data), \n\u001b[1;32m     25\u001b[0m                          obs\u001b[38;5;241m=\u001b[39mdata)\n",
      "File \u001b[0;32m~/Documents/virtual_envs/jorbit/lib/python3.13/site-packages/numpyro/primitives.py:197\u001b[0m, in \u001b[0;36msample\u001b[0;34m(name, fn, obs, rng_key, sample_shape, infer, obs_mask)\u001b[0m\n\u001b[1;32m    195\u001b[0m \u001b[38;5;28;01mif\u001b[39;00m \u001b[38;5;129;01mnot\u001b[39;00m _PYRO_STACK:\n\u001b[1;32m    196\u001b[0m     \u001b[38;5;28;01mif\u001b[39;00m obs \u001b[38;5;129;01mis\u001b[39;00m \u001b[38;5;28;01mNone\u001b[39;00m:\n\u001b[0;32m--> 197\u001b[0m         \u001b[38;5;28;01mreturn\u001b[39;00m \u001b[43mfn\u001b[49m\u001b[43m(\u001b[49m\u001b[43mrng_key\u001b[49m\u001b[38;5;241;43m=\u001b[39;49m\u001b[43mrng_key\u001b[49m\u001b[43m,\u001b[49m\u001b[43m \u001b[49m\u001b[43msample_shape\u001b[49m\u001b[38;5;241;43m=\u001b[39;49m\u001b[43msample_shape\u001b[49m\u001b[43m)\u001b[49m\n\u001b[1;32m    198\u001b[0m     \u001b[38;5;28;01melse\u001b[39;00m:\n\u001b[1;32m    199\u001b[0m         \u001b[38;5;28;01mreturn\u001b[39;00m obs\n",
      "File \u001b[0;32m~/Documents/virtual_envs/jorbit/lib/python3.13/site-packages/numpyro/distributions/distribution.py:389\u001b[0m, in \u001b[0;36mDistribution.__call__\u001b[0;34m(self, *args, **kwargs)\u001b[0m\n\u001b[1;32m    387\u001b[0m \u001b[38;5;28;01mif\u001b[39;00m sample_intermediates:\n\u001b[1;32m    388\u001b[0m     \u001b[38;5;28;01mreturn\u001b[39;00m \u001b[38;5;28mself\u001b[39m\u001b[38;5;241m.\u001b[39msample_with_intermediates(key, \u001b[38;5;241m*\u001b[39margs, \u001b[38;5;241m*\u001b[39m\u001b[38;5;241m*\u001b[39mkwargs)\n\u001b[0;32m--> 389\u001b[0m \u001b[38;5;28;01mreturn\u001b[39;00m \u001b[38;5;28;43mself\u001b[39;49m\u001b[38;5;241;43m.\u001b[39;49m\u001b[43msample\u001b[49m\u001b[43m(\u001b[49m\u001b[43mkey\u001b[49m\u001b[43m,\u001b[49m\u001b[43m \u001b[49m\u001b[38;5;241;43m*\u001b[39;49m\u001b[43margs\u001b[49m\u001b[43m,\u001b[49m\u001b[43m \u001b[49m\u001b[38;5;241;43m*\u001b[39;49m\u001b[38;5;241;43m*\u001b[39;49m\u001b[43mkwargs\u001b[49m\u001b[43m)\u001b[49m\n",
      "File \u001b[0;32m~/Documents/virtual_envs/jorbit/lib/python3.13/site-packages/numpyro/distributions/continuous.py:2190\u001b[0m, in \u001b[0;36mNormal.sample\u001b[0;34m(self, key, sample_shape)\u001b[0m\n\u001b[1;32m   2189\u001b[0m \u001b[38;5;28;01mdef\u001b[39;00m \u001b[38;5;21msample\u001b[39m(\u001b[38;5;28mself\u001b[39m, key, sample_shape\u001b[38;5;241m=\u001b[39m()):\n\u001b[0;32m-> 2190\u001b[0m     \u001b[38;5;28;01massert\u001b[39;00m is_prng_key(key)\n\u001b[1;32m   2191\u001b[0m     eps \u001b[38;5;241m=\u001b[39m random\u001b[38;5;241m.\u001b[39mnormal(\n\u001b[1;32m   2192\u001b[0m         key, shape\u001b[38;5;241m=\u001b[39msample_shape \u001b[38;5;241m+\u001b[39m \u001b[38;5;28mself\u001b[39m\u001b[38;5;241m.\u001b[39mbatch_shape \u001b[38;5;241m+\u001b[39m \u001b[38;5;28mself\u001b[39m\u001b[38;5;241m.\u001b[39mevent_shape\n\u001b[1;32m   2193\u001b[0m     )\n\u001b[1;32m   2194\u001b[0m     \u001b[38;5;28;01mreturn\u001b[39;00m \u001b[38;5;28mself\u001b[39m\u001b[38;5;241m.\u001b[39mloc \u001b[38;5;241m+\u001b[39m eps \u001b[38;5;241m*\u001b[39m \u001b[38;5;28mself\u001b[39m\u001b[38;5;241m.\u001b[39mscale\n",
      "\u001b[0;31mAssertionError\u001b[0m: "
     ]
    }
   ],
   "source": [
    "import numpyro\n",
    "from numpyro.distributions import MultivariateNormal, Distribution\n",
    "import numpyro.distributions as dist\n",
    "\n",
    "\n",
    "class WeightedSumDistribution(Distribution):\n",
    "    def __init__(self, weight, base_data):\n",
    "        super().__init__()\n",
    "        self.weight = weight\n",
    "        # base_data defines HOW to compute probabilities\n",
    "        self.base_data = base_data\n",
    "\n",
    "    def log_prob(self, value):\n",
    "        # Here we use both:\n",
    "        # - self.base_data (from initialization)\n",
    "        # - value (from the obs argument)\n",
    "        return -jnp.sum((value - self.weight * self.base_data) ** 2)\n",
    "\n",
    "\n",
    "def model(data):\n",
    "    weight = numpyro.sample(\"weight\", dist.Normal(0, 1))\n",
    "\n",
    "    # First data: tells distribution how to compute probabilities\n",
    "    # Second data (obs): tells NumPyro what we actually observed\n",
    "    return numpyro.sample(\"obs\", WeightedSumDistribution(weight, data), obs=data)\n",
    "\n",
    "\n",
    "model(jnp.array([1.0]))"
   ]
  },
  {
   "cell_type": "code",
   "execution_count": null,
   "metadata": {},
   "outputs": [],
   "source": []
  }
 ],
 "metadata": {
  "kernelspec": {
   "display_name": "jorbit",
   "language": "python",
   "name": "jorbit"
  },
  "language_info": {
   "codemirror_mode": {
    "name": "ipython",
    "version": 3
   },
   "file_extension": ".py",
   "mimetype": "text/x-python",
   "name": "python",
   "nbconvert_exporter": "python",
   "pygments_lexer": "ipython3",
   "version": "3.13.0"
  }
 },
 "nbformat": 4,
 "nbformat_minor": 2
}
