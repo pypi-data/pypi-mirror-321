{
 "cells": [
  {
   "cell_type": "markdown",
   "metadata": {},
   "source": [
    "# Python Tutorial\n",
    "\n",
    "```{note}\n",
    "\n",
    "This tutorial is currently in preparation. Please check back later.\n",
    "```"
   ]
  },
  {
   "cell_type": "code",
   "execution_count": null,
   "metadata": {},
   "outputs": [],
   "source": [
    "import numpy as np\n",
    "import monochrome as mc\n",
    "import optimap as om"
   ]
  },
  {
   "cell_type": "code",
   "execution_count": null,
   "metadata": {},
   "outputs": [],
   "source": [
    "filename = om.utils.retrieve_example_data(\"Example_02_VF_Rabbit_Di-4-ANEPPS_Basler_acA720-520um.npy\")\n",
    "video = om.load_video(filename)"
   ]
  },
  {
   "cell_type": "code",
   "execution_count": null,
   "metadata": {},
   "outputs": [],
   "source": [
    "mc.show(video, name=\"Example Recording\")"
   ]
  },
  {
   "cell_type": "markdown",
   "metadata": {},
   "source": [
    "Several videos can be shown at the same time, they will be played in sync if they have the same length:"
   ]
  },
  {
   "cell_type": "code",
   "execution_count": null,
   "metadata": {},
   "outputs": [],
   "source": [
    "# Converting video to np.float32 with values between 0 and 1\n",
    "video2 = om.video.normalize(video)\n",
    "print(f\"Video shape: {video2.shape}, dtype: {video2.dtype}\")\n",
    "\n",
    "# vmin and vmax are optional and used to set the minimum and maximum values of the colormap\n",
    "mc.show(video2, name=\"Another Recording\", cmap=\"viridis\", vmin=0.1, vmax=0.9)\n",
    "mc.show(video2[0], name=\"First Frame\", cmap=\"gray\", vmin=0.1, vmax=0.9)"
   ]
  },
  {
   "cell_type": "markdown",
   "metadata": {},
   "source": [
    "The functions {func}`show` or {func}`show_file` can be used to load a video from a file in Monochrome:"
   ]
  },
  {
   "cell_type": "code",
   "execution_count": null,
   "metadata": {},
   "outputs": [],
   "source": [
    "print(filename)\n",
    "mc.show(filename)"
   ]
  },
  {
   "cell_type": "code",
   "execution_count": null,
   "metadata": {},
   "outputs": [],
   "source": [
    "om.motion_compensate"
   ]
  }
 ],
 "metadata": {
  "kernelspec": {
   "display_name": "monochrome",
   "language": "python",
   "name": "python3"
  },
  "language_info": {
   "codemirror_mode": {
    "name": "ipython",
    "version": 3
   },
   "file_extension": ".py",
   "mimetype": "text/x-python",
   "name": "python",
   "nbconvert_exporter": "python",
   "pygments_lexer": "ipython3",
   "version": "3.12.2"
  }
 },
 "nbformat": 4,
 "nbformat_minor": 2
}
