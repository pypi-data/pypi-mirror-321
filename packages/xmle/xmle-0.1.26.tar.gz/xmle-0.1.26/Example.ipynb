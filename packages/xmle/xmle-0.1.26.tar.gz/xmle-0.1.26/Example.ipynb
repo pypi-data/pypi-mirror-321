{
 "cells": [
  {
   "cell_type": "code",
   "execution_count": null,
   "metadata": {},
   "outputs": [],
   "source": [
    "import xmle\n",
    "from xmle import Reporter, NumberedCaption, Show"
   ]
  },
  {
   "cell_type": "code",
   "execution_count": null,
   "metadata": {},
   "outputs": [],
   "source": [
    "xmle.__version__"
   ]
  },
  {
   "cell_type": "markdown",
   "metadata": {},
   "source": [
    "The `Show` command accepts a wide variety of inputs, and outputs a \n",
    "rendered static XML output suitable for use in a HTML document, or\n",
    "for rendering directly in a Jupyter notebook."
   ]
  },
  {
   "cell_type": "code",
   "execution_count": null,
   "metadata": {},
   "outputs": [],
   "source": [
    "Show(\"\"\"\n",
    "\n",
    "Using reStructuredText\n",
    "======================\n",
    "\n",
    "You can add sections of prose formatted using the reStructuredText markup\n",
    "syntax.  Just compose a string and pass it to the ``Show`` function, and\n",
    "you'll get a neatly formatted output.\n",
    "\n",
    "The default interpreter for ``str`` input to the ``Show`` function is \n",
    "reStructuredText, so you don't need to do anything special.  One caveat, \n",
    "though: the default for reStructuredText items is to step down headings by\n",
    "two levels.  So, the heading tag on this section will be ``h3`` not ``h1``.\n",
    "\n",
    "Deeper Headings are Stepped Down Also\n",
    "-------------------------------------\n",
    "\n",
    "So the heading on this section will be ``h4``.  Each block of \n",
    "reStructuredText is evaluated seperately, so knowledge of heading levels and\n",
    "which styles correspond to them is lost when evaluating a different string.\n",
    "\n",
    "Prevent Interpreting The First Heading as a Title\n",
    "=================================================\n",
    "\n",
    "If the first heading is at the beginning of the \"document\" and it is the \n",
    "only heading at that level, it is interpreted as the \"title\" and subsequent \n",
    "headings are stepped up a level.  This is how the standard docutils interpreter\n",
    "handles these cases.\n",
    "\n",
    "\"\"\")"
   ]
  },
  {
   "cell_type": "markdown",
   "metadata": {},
   "source": [
    "You can also use the `Reporter` class, which will both render the inputs in\n",
    "Jupyter and store them to eventually be written out to a HTML file."
   ]
  },
  {
   "cell_type": "code",
   "execution_count": null,
   "metadata": {},
   "outputs": [],
   "source": [
    "R = Reporter()"
   ]
  },
  {
   "cell_type": "markdown",
   "metadata": {},
   "source": [
    "Simple titles on a single line can be created using the markdown syntax (one hash for `h1`, two for `h2`, etc.)"
   ]
  },
  {
   "cell_type": "code",
   "execution_count": null,
   "metadata": {
    "toc-hr-collapsed": false
   },
   "outputs": [],
   "source": [
    "R << \"# A Title is Born\""
   ]
  },
  {
   "cell_type": "code",
   "execution_count": null,
   "metadata": {},
   "outputs": [],
   "source": [
    "R << \"## Also a Subtitile\""
   ]
  },
  {
   "cell_type": "markdown",
   "metadata": {},
   "source": [
    "Automatically numbered captions can be created using `NumberedCaption`.\n",
    "Just define a type using the contructor..."
   ]
  },
  {
   "cell_type": "code",
   "execution_count": null,
   "metadata": {},
   "outputs": [],
   "source": [
    "FIG = NumberedCaption(\"Figure\")"
   ]
  },
  {
   "cell_type": "markdown",
   "metadata": {},
   "source": [
    "Then call that type to create a caption.  Captions are not actually \n",
    "numbered when shown in Jupyter, but numbers are added when saving\n",
    "an HTML report."
   ]
  },
  {
   "cell_type": "code",
   "execution_count": null,
   "metadata": {},
   "outputs": [],
   "source": [
    "R << FIG(\"An Example\")\n",
    "R << \"Some plain old text as a figure.\""
   ]
  },
  {
   "cell_type": "markdown",
   "metadata": {},
   "source": [
    "You can add figures in PNG or SVG format as well."
   ]
  },
  {
   "cell_type": "code",
   "execution_count": null,
   "metadata": {},
   "outputs": [],
   "source": [
    "import networkx\n",
    "\n",
    "g = networkx.DiGraph()\n",
    "for i in range(3):\n",
    "    g.add_edge(i, i + 1)\n",
    "    g.add_edge(-1, i)\n",
    "    g.add_edge(i, 999)"
   ]
  },
  {
   "cell_type": "code",
   "execution_count": null,
   "metadata": {},
   "outputs": [],
   "source": [
    "R << FIG(\"Network Graph PNG Example\")\n",
    "R << networkx.drawing.nx_pydot.to_pydot(g).create_png()"
   ]
  },
  {
   "cell_type": "code",
   "execution_count": null,
   "metadata": {},
   "outputs": [],
   "source": [
    "R << FIG(\"Network Graph SVG Example\")\n",
    "R << networkx.drawing.nx_pydot.to_pydot(g).create_svg()"
   ]
  },
  {
   "cell_type": "markdown",
   "metadata": {},
   "source": [
    "You can save out the report to an HTML file.  Optionally save pickle-able \n",
    "objects in metadata, which will be embedded in the HTML and can be recovered later."
   ]
  },
  {
   "cell_type": "code",
   "execution_count": null,
   "metadata": {},
   "outputs": [],
   "source": [
    "R.save(\n",
    "    \"./123.html\",\n",
    "    overwrite=True,\n",
    "    metadata={\n",
    "        \"g\": g,\n",
    "    },\n",
    ")"
   ]
  },
  {
   "cell_type": "markdown",
   "metadata": {},
   "source": [
    "It will create a nicely formatted file, with a table of contents\n",
    "in a sidebar, listing the headings for convenient navigation."
   ]
  },
  {
   "cell_type": "code",
   "execution_count": null,
   "metadata": {},
   "outputs": [],
   "source": [
    "from IPython.display import IFrame\n",
    "\n",
    "IFrame(src=\"./123.html\", width=800, height=400)"
   ]
  },
  {
   "cell_type": "markdown",
   "metadata": {},
   "source": [
    "Recover metadata using the `load_metadata` function."
   ]
  },
  {
   "cell_type": "code",
   "execution_count": null,
   "metadata": {},
   "outputs": [],
   "source": [
    "meta = xmle.load_metadata(\"./123.html\")\n",
    "meta[\"g\"]"
   ]
  },
  {
   "cell_type": "code",
   "execution_count": null,
   "metadata": {},
   "outputs": [],
   "source": []
  },
  {
   "cell_type": "code",
   "execution_count": null,
   "metadata": {},
   "outputs": [],
   "source": [
    "import pandas as pd\n",
    "import xmle"
   ]
  },
  {
   "cell_type": "code",
   "execution_count": null,
   "metadata": {},
   "outputs": [],
   "source": [
    "import altair as alt\n",
    "import io\n",
    "\n",
    "fig = (\n",
    "    alt.Chart(\n",
    "        data=pd.DataFrame(\n",
    "            {\n",
    "                \"petalLength\": [1.4, 1.4, 1.3, 1.5, 1.4, 1.7, 1.4, 1.5, 1.4, 1.5],\n",
    "                \"petalWidth\": [0.2, 0.2, 0.2, 0.2, 0.2, 0.4, 0.3, 0.2, 0.2, 0.1],\n",
    "                \"species\": [\n",
    "                    \"setosa\",\n",
    "                    \"setosa\",\n",
    "                    \"setosa\",\n",
    "                    \"setosa\",\n",
    "                    \"setosa\",\n",
    "                    \"versicolor\",\n",
    "                    \"versicolor\",\n",
    "                    \"versicolor\",\n",
    "                    \"versicolor\",\n",
    "                    \"versicolor\",\n",
    "                ],\n",
    "            }\n",
    "        )\n",
    "    )\n",
    "    .mark_point()\n",
    "    .encode(\n",
    "        x=\"petalLength:Q\",\n",
    "        y=\"petalWidth:Q\",\n",
    "        color=\"species:N\",\n",
    "    )\n",
    ")\n",
    "\n",
    "buffer = io.StringIO()\n",
    "\n",
    "fig.save(buffer, format=\"svg\")"
   ]
  },
  {
   "cell_type": "code",
   "execution_count": null,
   "metadata": {},
   "outputs": [],
   "source": [
    "zz = xmle.Show(fig)\n",
    "zz"
   ]
  },
  {
   "cell_type": "code",
   "execution_count": null,
   "metadata": {},
   "outputs": [],
   "source": [
    "xmle.Show(buffer.getvalue())"
   ]
  }
 ],
 "metadata": {
  "kernelspec": {
   "display_name": ".venv",
   "language": "python",
   "name": "python3"
  },
  "language_info": {
   "codemirror_mode": {
    "name": "ipython",
    "version": 3
   },
   "file_extension": ".py",
   "mimetype": "text/x-python",
   "name": "python",
   "nbconvert_exporter": "python",
   "pygments_lexer": "ipython3",
   "version": "3.10.15"
  }
 },
 "nbformat": 4,
 "nbformat_minor": 4
}
