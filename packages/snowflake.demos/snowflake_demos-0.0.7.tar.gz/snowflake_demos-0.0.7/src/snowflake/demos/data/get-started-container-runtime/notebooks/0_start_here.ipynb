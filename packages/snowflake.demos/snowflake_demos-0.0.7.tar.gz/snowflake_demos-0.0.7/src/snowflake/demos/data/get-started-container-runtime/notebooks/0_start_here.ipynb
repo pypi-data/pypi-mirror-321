{
 "cells": [
  {
   "cell_type": "markdown",
   "id": "07e67d82-cb27-4518-b025-b74c117c5637",
   "metadata": {
    "collapsed": false,
    "name": "Overview_md"
   },
   "source": [
    "# Welcome to the Notebooks Container Runtime!\n",
    "\n",
    "In this notebook, we will go through the basics of using Notebooks Container Runtime. We will install packages, load data, train a model, and look at logs. "
   ]
  },
  {
   "cell_type": "code",
   "execution_count": null,
   "id": "2a609d6f-f3de-4b32-9731-1411db287f9f",
   "metadata": {
    "collapsed": false,
    "language": "python",
    "name": "create_session"
   },
   "outputs": [],
   "source": [
    "import warnings\n",
    "warnings.filterwarnings(\"ignore\")\n",
    "\n",
    "from snowflake.snowpark.context import get_active_session\n",
    "session = get_active_session()\n",
    "\n",
    "# Add a query tag to the session. This helps with debugging and performance monitoring.\n",
    "session.query_tag = {\"origin\":\"sf_sit-is\", \"name\":\"aiml_notebooks_container_runtime\", \"version\":{\"major\":1, \"minor\":0}, \"attributes\":{\"is_quickstart\":1, \"source\":\"notebook\"}}\n",
    "\n",
    "# Set session context \n",
    "session.use_role(\"container_runtime_lab_user\")\n",
    "session.use_database(\"container_runtime_lab\")\n",
    "session.use_schema(\"notebooks\")\n",
    "session.use_warehouse(\"CONTAINER_RUNTIME_WH\") \n",
    "\n",
    "# Print the current role, warehouse, and database/schema\n",
    "print(f\"role: {session.get_current_role()} | WH: {session.get_current_warehouse()} | DB.SCHEMA: {session.get_fully_qualified_current_schema()}\")"
   ]
  },
  {
   "cell_type": "markdown",
   "id": "ce5d7e1e-2323-428b-ad5d-dbab1b0f34a8",
   "metadata": {
    "name": "sql_command_md"
   },
   "source": [
    "Just like Notebooks on the Warehouse Runtime, we can intermingle both SQL and Python cells:"
   ]
  },
  {
   "cell_type": "code",
   "execution_count": null,
   "id": "78126cdd-9f6e-4524-ac92-b12d915255ae",
   "metadata": {
    "collapsed": false,
    "language": "sql",
    "name": "sql_command"
   },
   "outputs": [],
   "source": [
    "show tables;"
   ]
  },
  {
   "cell_type": "markdown",
   "id": "b43cb438-746d-476d-8d00-a5fc4cd67648",
   "metadata": {
    "collapsed": false,
    "name": "visualize_md"
   },
   "source": [
    "Let's visualize some of our data using the `seaborn` package that we installed above:"
   ]
  },
  {
   "cell_type": "code",
   "execution_count": null,
   "id": "23f0f888-3d70-42c4-9071-bc366c861a52",
   "metadata": {
    "collapsed": false,
    "language": "python",
    "name": "load_dataframe"
   },
   "outputs": [],
   "source": [
    "diamonds_df = session.table(\"DIAMONDS\")\n",
    "diamonds_df.show()"
   ]
  },
  {
   "cell_type": "code",
   "execution_count": null,
   "id": "63e2849a-df59-45d2-81e1-14b7880601fc",
   "metadata": {
    "collapsed": false,
    "language": "python",
    "name": "visualize"
   },
   "outputs": [],
   "source": [
    "df = diamonds_df.to_pandas()\n",
    "\n",
    "import seaborn as sns\n",
    "\n",
    "# Create a visualization\n",
    "sns.histplot(\n",
    "    data=df,\n",
    "    x=\"PRICE\"\n",
    ")"
   ]
  },
  {
   "cell_type": "markdown",
   "id": "3020ac4d-058f-49aa-9686-ca0558d1a97b",
   "metadata": {
    "collapsed": false,
    "name": "train_xgboost_md"
   },
   "source": [
    "Now, let's train a basic `XGBRegressor` machine learning model. The ML Container Runtime for Snowflake Notebooks includes pre-installed common packages for doing machine learning tasks, including SnowparkML and other OSS packages."
   ]
  },
  {
   "cell_type": "code",
   "execution_count": null,
   "id": "53aad007-803a-4120-b227-596caa842cba",
   "metadata": {
    "codeCollapsed": false,
    "collapsed": false,
    "language": "python",
    "name": "train_xgboost"
   },
   "outputs": [],
   "source": [
    "import time\n",
    "from snowflake.ml.modeling.xgboost import XGBRegressor\n",
    "\n",
    "CATEGORICAL_COLUMNS = [\"CUT\", \"COLOR\", \"CLARITY\"]\n",
    "NUMERICAL_COLUMNS = [\"CARAT\", \"DEPTH\", \"X\", \"Y\", \"Z\"]\n",
    "LABEL_COLUMNS = ['PRICE']\n",
    "diamonds_df = session.table(\"diamonds\")\n",
    "\n",
    "model = XGBRegressor(max_depth=400, input_cols=NUMERICAL_COLUMNS, label_cols=LABEL_COLUMNS)\n",
    "\n",
    "t0 = time.time()\n",
    "model.fit(diamonds_df)\n",
    "\n",
    "t1 = time.time()\n",
    "\n",
    "print(f\"Fit in {t1-t0} seconds.\")"
   ]
  }
 ],
 "metadata": {
  "kernelspec": {
   "display_name": "Streamlit Notebook",
   "name": "streamlit"
  }
 },
 "nbformat": 4,
 "nbformat_minor": 5
}
