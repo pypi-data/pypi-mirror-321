{
 "metadata": {
  "kernelspec": {
   "display_name": "Streamlit Notebook",
   "name": "streamlit"
  }
 },
 "nbformat_minor": 5,
 "nbformat": 4,
 "cells": [
  {
   "cell_type": "markdown",
   "id": "c1efc622-37ff-4eb5-b662-16300f0a71c8",
   "metadata": {
    "name": "reset_md",
    "collapsed": false
   },
   "source": "# Reset\nRun to reset the Scale Embeddings with Snowflake Notebooks on Container Runtime demo. This must be run before running the notebook a second time."
  },
  {
   "cell_type": "code",
   "id": "3775908f-ca36-4846-8f38-5adca39217f2",
   "metadata": {
    "language": "python",
    "name": "registry",
    "codeCollapsed": false
   },
   "source": "from snowflake.ml.registry import Registry\nfrom snowflake.snowpark.context import get_active_session\nsession = get_active_session()\n\n# Create Model Registry\nreg = Registry(\n    session=session, \n    database_name=session.get_current_database(), \n    schema_name=session.get_current_schema()\n    )",
   "execution_count": null,
   "outputs": []
  },
  {
   "cell_type": "markdown",
   "id": "1e586a39-6f2b-4fc3-af33-09cbbe18f4f2",
   "metadata": {
    "name": "drop_service_md",
    "collapsed": false
   },
   "source": "First, drop the inference service."
  },
  {
   "cell_type": "code",
   "id": "8f1863f8-3091-416b-826c-45fd47fe2b77",
   "metadata": {
    "language": "sql",
    "name": "drop_service",
    "codeCollapsed": false
   },
   "outputs": [],
   "source": "-- Drop service\nDROP SERVICE minilm_gpu_service;",
   "execution_count": null
  },
  {
   "cell_type": "markdown",
   "id": "6c7d2ad4-cf23-4279-bcb3-05d6adeac0c4",
   "metadata": {
    "name": "stop_compute_pool_md",
    "collapsed": false
   },
   "source": "Next, stop the GPU compute pool."
  },
  {
   "cell_type": "code",
   "id": "e2fc2a2d-73e1-4d39-b2cb-5f3f1b17ad81",
   "metadata": {
    "language": "sql",
    "name": "stop_compute_pool",
    "codeCollapsed": false
   },
   "outputs": [],
   "source": "-- Stop compute pool\nALTER COMPUTE POOL GPU_NV_S_COMPUTE_POOL STOP ALL;",
   "execution_count": null
  },
  {
   "cell_type": "markdown",
   "id": "a610fbab-4a8e-469c-9bde-27ba642240d1",
   "metadata": {
    "name": "delete_model_md",
    "collapsed": false
   },
   "source": "Finally, delete the model that was logged to Model Registry."
  },
  {
   "cell_type": "code",
   "id": "e04e0a8b-3c95-4d41-aa2b-844e96917b02",
   "metadata": {
    "language": "python",
    "name": "delete_model",
    "codeCollapsed": false,
    "collapsed": true
   },
   "outputs": [],
   "source": "# Delete model\nreg.delete_model('sentence_transformer_minilm')",
   "execution_count": null
  },
  {
   "cell_type": "code",
   "id": "d77d7b71-8f71-44a7-b526-5bc431bd9bef",
   "metadata": {
    "language": "python",
    "name": "show_models",
    "codeCollapsed": false
   },
   "outputs": [],
   "source": "reg.show_models()",
   "execution_count": null
  },
  {
   "cell_type": "markdown",
   "id": "ad36f473-35c2-426f-a3dd-5f013e3ca240",
   "metadata": {
    "name": "drop_table_md",
    "collapsed": false
   },
   "source": "Let's also drop the RAG DATASET table."
  },
  {
   "cell_type": "code",
   "id": "0b0c6a82-9214-4bb5-bfb3-6de29c52355a",
   "metadata": {
    "language": "sql",
    "name": "drop_table",
    "collapsed": false,
    "codeCollapsed": false
   },
   "outputs": [],
   "source": "DROP TABLE RAG_DATASET_10M;",
   "execution_count": null
  }
 ]
}