{
 "cells": [
  {
   "cell_type": "markdown",
   "id": "03bf10eb",
   "metadata": {},
   "source": [
    "# List Demo \n",
    "\n",
    "Run this noteboook to test your widget, and create the initial directory to be able to run `yarn dev`.\n",
    "\n",
    "This example uses audio data. To see [another example that uses image data](https://betterwithdata.github.io/ml-canvas/examples.html), see the CIFAR-10 example in the main `canvas_ux` examples."
   ]
  },
  {
   "cell_type": "code",
   "execution_count": 1,
   "id": "3d56a912",
   "metadata": {
    "tags": []
   },
   "outputs": [],
   "source": [
    "%load_ext autoreload\n",
    "%autoreload 2"
   ]
  },
  {
   "cell_type": "code",
   "execution_count": 2,
   "id": "bd28c9ac-0bec-49bd-a150-fcdff95def6e",
   "metadata": {},
   "outputs": [],
   "source": [
    "#import git"
   ]
  },
  {
   "cell_type": "code",
   "execution_count": 3,
   "id": "08f41edf",
   "metadata": {
    "tags": []
   },
   "outputs": [],
   "source": [
    "\n",
    "from pathlib import Path\n",
    "import os\n",
    "import pandas as pd\n",
    "\n",
    "import canvas_ux\n",
    "from canvas_list import CanvasList"
   ]
  },
  {
   "cell_type": "markdown",
   "id": "8c6f244a",
   "metadata": {},
   "source": [
    "### Create/Import Data \n",
    "\n",
    "Create a Pandas DataFrame with your data or the metadata for a dataset."
   ]
  },
  {
   "cell_type": "code",
   "execution_count": 4,
   "id": "ff4f8387",
   "metadata": {
    "tags": []
   },
   "outputs": [],
   "source": [
    "clone_path = Path(\"./example_data/spoken\")\n"
   ]
  },
  {
   "cell_type": "code",
   "execution_count": 5,
   "id": "9e90e7a1-1d9e-43e6-8d0e-ac0cb7c1c1da",
   "metadata": {
    "tags": []
   },
   "outputs": [],
   "source": [
    "\n",
    "if not os.path.exists(clone_path):\n",
    "    clone_path.mkdir(exist_ok=True, parents=True)\n",
    "    repo = git.Repo.clone_from(\n",
    "        'https://github.com/Jakobovski/free-spoken-digit-dataset.git',\n",
    "        './example_data/spoken/',\n",
    "        branch='master'\n",
    "    )"
   ]
  },
  {
   "cell_type": "code",
   "execution_count": 6,
   "id": "6fe23ee3",
   "metadata": {
    "tags": []
   },
   "outputs": [],
   "source": [
    "root_dir = Path(clone_path, 'recordings')\n",
    "file_set = set()\n",
    "\n",
    "for dir_, _, files in os.walk(root_dir):\n",
    "    for file_name in files:\n",
    "        if (file_name[-3:] == 'wav'):\n",
    "            file_path = os.path.join(root_dir, file_name)\n",
    "            file_set.add(file_path)\n",
    "\n",
    "df = pd.DataFrame({'id': list(file_set),\n",
    "                       'label': [os.path.basename(p).split('_')[-3] for p in file_set], \n",
    "                       'speaker': [os.path.basename(p).split('_')[-2] for p in file_set],\n",
    "                      })"
   ]
  },
  {
   "cell_type": "code",
   "execution_count": 7,
   "id": "1797e30f",
   "metadata": {
    "tags": []
   },
   "outputs": [
    {
     "data": {
      "text/html": [
       "<div>\n",
       "<style scoped>\n",
       "    .dataframe tbody tr th:only-of-type {\n",
       "        vertical-align: middle;\n",
       "    }\n",
       "\n",
       "    .dataframe tbody tr th {\n",
       "        vertical-align: top;\n",
       "    }\n",
       "\n",
       "    .dataframe thead th {\n",
       "        text-align: right;\n",
       "    }\n",
       "</style>\n",
       "<table border=\"1\" class=\"dataframe\">\n",
       "  <thead>\n",
       "    <tr style=\"text-align: right;\">\n",
       "      <th></th>\n",
       "      <th>id</th>\n",
       "      <th>label</th>\n",
       "      <th>speaker</th>\n",
       "    </tr>\n",
       "  </thead>\n",
       "  <tbody>\n",
       "    <tr>\n",
       "      <th>0</th>\n",
       "      <td>example_data/spoken/recordings/6_george_17.wav</td>\n",
       "      <td>6</td>\n",
       "      <td>george</td>\n",
       "    </tr>\n",
       "    <tr>\n",
       "      <th>1</th>\n",
       "      <td>example_data/spoken/recordings/0_lucas_35.wav</td>\n",
       "      <td>0</td>\n",
       "      <td>lucas</td>\n",
       "    </tr>\n",
       "    <tr>\n",
       "      <th>2</th>\n",
       "      <td>example_data/spoken/recordings/6_yweweler_31.wav</td>\n",
       "      <td>6</td>\n",
       "      <td>yweweler</td>\n",
       "    </tr>\n",
       "    <tr>\n",
       "      <th>3</th>\n",
       "      <td>example_data/spoken/recordings/3_yweweler_23.wav</td>\n",
       "      <td>3</td>\n",
       "      <td>yweweler</td>\n",
       "    </tr>\n",
       "    <tr>\n",
       "      <th>4</th>\n",
       "      <td>example_data/spoken/recordings/6_lucas_42.wav</td>\n",
       "      <td>6</td>\n",
       "      <td>lucas</td>\n",
       "    </tr>\n",
       "  </tbody>\n",
       "</table>\n",
       "</div>"
      ],
      "text/plain": [
       "                                                 id label   speaker\n",
       "0    example_data/spoken/recordings/6_george_17.wav     6    george\n",
       "1     example_data/spoken/recordings/0_lucas_35.wav     0     lucas\n",
       "2  example_data/spoken/recordings/6_yweweler_31.wav     6  yweweler\n",
       "3  example_data/spoken/recordings/3_yweweler_23.wav     3  yweweler\n",
       "4     example_data/spoken/recordings/6_lucas_42.wav     6     lucas"
      ]
     },
     "execution_count": 7,
     "metadata": {},
     "output_type": "execute_result"
    }
   ],
   "source": [
    "df.head()"
   ]
  },
  {
   "cell_type": "markdown",
   "id": "691efacd",
   "metadata": {},
   "source": [
    "### Create Canvas Widgets\n",
    "\n",
    "We can now explore the individual widgets!"
   ]
  },
  {
   "cell_type": "code",
   "execution_count": 8,
   "id": "61080bf6",
   "metadata": {
    "tags": []
   },
   "outputs": [
    {
     "name": "stdout",
     "output_type": "stream",
     "text": [
      "Canvas spec dict value is {'filesPath': 'src/deepview_canvas/widgets/canvas_list/examples', 'dataType': 3, 'instancesPerPage': 10, 'showUnfilteredData': True, 'idColumn': 'id'}\n"
     ]
    }
   ],
   "source": [
    "symph = canvas_ux.Canvas(df,instances_per_page=10)"
   ]
  },
  {
   "cell_type": "code",
   "execution_count": 9,
   "id": "0da4ddf3",
   "metadata": {
    "scrolled": true,
    "tags": []
   },
   "outputs": [
    {
     "name": "stdout",
     "output_type": "stream",
     "text": [
      "/media/satish/Development/workspace/projects/exploratory_data_analysis/deepview/src/deepview_canvas/widgets/canvas_list/examples\n",
      "Canvas spec dict value is {'width': 'XXL', 'height': 'M', 'page': 'List', 'name': 'CanvasList', 'description': 'A Canvas component that displays a view of data instances'}\n"
     ]
    },
    {
     "data": {
      "application/vnd.jupyter.widget-view+json": {
       "model_id": "e2a1e1993c1e4a1597e0f0b7c4038b7b",
       "version_major": 2,
       "version_minor": 0
      },
      "text/plain": [
       "HBox(children=(CanvasList(layout=Layout(overflow='unset', width='100%'), widget_spec={'width': 'XXL', 'height'…"
      ]
     },
     "execution_count": 9,
     "metadata": {},
     "output_type": "execute_result"
    }
   ],
   "source": [
    "symph.widget(CanvasList)"
   ]
  },
  {
   "cell_type": "code",
   "execution_count": 9,
   "id": "28f74dc6",
   "metadata": {
    "tags": []
   },
   "outputs": [
    {
     "name": "stdout",
     "output_type": "stream",
     "text": [
      "Canvas spec dict value is {'filesPath': 'files/', 'dataType': 3, 'instancesPerPage': 10, 'showUnfilteredData': True, 'idColumn': 'id'}\n"
     ]
    }
   ],
   "source": [
    "symph.export('./standalone_new', symlink_files=True,name=\"Speech\")"
   ]
  },
  {
   "cell_type": "code",
   "execution_count": null,
   "id": "d30c1083",
   "metadata": {},
   "outputs": [],
   "source": []
  },
  {
   "cell_type": "code",
   "execution_count": null,
   "id": "1d199a2f-d32a-42c5-8d33-71575a52e6a1",
   "metadata": {
    "tags": []
   },
   "outputs": [],
   "source": []
  },
  {
   "cell_type": "code",
   "execution_count": null,
   "id": "7c4aea76-49f2-4d26-bb42-08ba713213f8",
   "metadata": {},
   "outputs": [],
   "source": []
  }
 ],
 "metadata": {
  "kernelspec": {
   "display_name": "visualdataexplorer-dev",
   "language": "python",
   "name": "visualdataexplorer-dev"
  },
  "language_info": {
   "codemirror_mode": {
    "name": "ipython",
    "version": 3
   },
   "file_extension": ".py",
   "mimetype": "text/x-python",
   "name": "python",
   "nbconvert_exporter": "python",
   "pygments_lexer": "ipython3",
   "version": "3.10.16"
  }
 },
 "nbformat": 4,
 "nbformat_minor": 5
}
