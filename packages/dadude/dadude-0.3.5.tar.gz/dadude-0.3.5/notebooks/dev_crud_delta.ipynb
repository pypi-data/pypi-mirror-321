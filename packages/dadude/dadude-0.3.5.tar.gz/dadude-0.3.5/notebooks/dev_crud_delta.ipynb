{
 "cells": [
  {
   "cell_type": "code",
   "execution_count": 1,
   "metadata": {},
   "outputs": [],
   "source": [
    "from dadude.config import default_storage_config"
   ]
  },
  {
   "cell_type": "code",
   "execution_count": 2,
   "metadata": {},
   "outputs": [
    {
     "data": {
      "text/plain": [
       "{'AWS_ACCESS_KEY_ID': 'AKPSPERS03XZD0Z',\n",
       " 'AWS_SECRET_ACCESS_KEY': 'XVog5XHifGXZcWShxB5d9wjDA5JrCbbn',\n",
       " 'AWS_ENDPOINT_URL': 'http://local.s3-proxy.patsnap.info',\n",
       " 'AWS_REGION': 'na-ashburn',\n",
       " 'AWS_S3_ALLOW_UNSAFE_RENAME': 'true',\n",
       " 'AWS_ALLOW_HTTP': 'true'}"
      ]
     },
     "execution_count": 2,
     "metadata": {},
     "output_type": "execute_result"
    }
   ],
   "source": [
    "default_storage_config"
   ]
  },
  {
   "cell_type": "code",
   "execution_count": 3,
   "metadata": {},
   "outputs": [],
   "source": [
    "# test_patsnap_config = default_storage_config.copy()\n",
    "# test_patsnap_config[\"AWS_ACCESS_KEY_ID\"] = \"iamdev\"\n",
    "# test_patsnap_config[\"AWS_SECRET_ACCESS_KEY\"] = \"xzd19950506\"\n",
    "# test_patsnap_config[\"AWS_ENDPOINT_URL\"] = \"http://192.168.18.206:9000\""
   ]
  },
  {
   "cell_type": "code",
   "execution_count": 4,
   "metadata": {},
   "outputs": [],
   "source": [
    "from deltalake import DeltaTable, write_deltalake"
   ]
  },
  {
   "cell_type": "code",
   "execution_count": 5,
   "metadata": {},
   "outputs": [],
   "source": [
    "prop_table = DeltaTable(\n",
    "    \"s3://testpatsnapus-1251949819/materials/lakehouse/gold/material_property_entity\",\n",
    "    storage_options=default_storage_config,\n",
    ")"
   ]
  },
  {
   "cell_type": "code",
   "execution_count": 11,
   "metadata": {},
   "outputs": [
    {
     "data": {
      "text/plain": [
       "{'num_added_files': 1,\n",
       " 'num_removed_files': 1,\n",
       " 'num_updated_rows': 1,\n",
       " 'num_copied_rows': 1386,\n",
       " 'execution_time_ms': 7105,\n",
       " 'scan_time_ms': 4088}"
      ]
     },
     "execution_count": 11,
     "metadata": {},
     "output_type": "execute_result"
    }
   ],
   "source": [
    "prop_table.update(\n",
    "    predicate=\"ppi_id == 17012202\",\n",
    "    new_values={\n",
    "        \"alias_list_en\": [\n",
    "            \"mol %\",\n",
    "            \"mole percent\",\n",
    "            \"fraction of mole\",\n",
    "            \"mole ratio\",\n",
    "            \"molar ratio\",\n",
    "            \"percentage by mole\",\n",
    "            \"molar fraction\",\n",
    "            \"fraction by mole\",\n",
    "            \"mole percentage\",\n",
    "            \"mole fraction\",\n",
    "            \"mole %\",\n",
    "            \"molar percentage\",\n",
    "            \"molar percent\",\n",
    "            \"by mol %\",\n",
    "            \"by mole\",\n",
    "            \"mol %\",\n",
    "            \"mol-%\",\n",
    "            \"mol. %\",\n",
    "            \"mole-percent\",\n",
    "        ]\n",
    "    },\n",
    ")"
   ]
  },
  {
   "cell_type": "code",
   "execution_count": 12,
   "metadata": {},
   "outputs": [
    {
     "data": {
      "text/plain": [
       "[{'timestamp': 1732082640902,\n",
       "  'operation': 'UPDATE',\n",
       "  'operationParameters': {'predicate': 'ppi_id = 17012202'},\n",
       "  'readVersion': 1,\n",
       "  'clientVersion': 'delta-rs.0.20.1',\n",
       "  'operationMetrics': {'execution_time_ms': 7105,\n",
       "   'num_added_files': 1,\n",
       "   'num_copied_rows': 1386,\n",
       "   'num_removed_files': 1,\n",
       "   'num_updated_rows': 1,\n",
       "   'scan_time_ms': 4088},\n",
       "  'version': 2},\n",
       " {'timestamp': 1732082444645,\n",
       "  'operation': 'UPDATE',\n",
       "  'operationParameters': {'predicate': 'ppi_id = 17012199'},\n",
       "  'readVersion': 0,\n",
       "  'operationMetrics': {'execution_time_ms': 7575,\n",
       "   'num_added_files': 1,\n",
       "   'num_copied_rows': 1386,\n",
       "   'num_removed_files': 1,\n",
       "   'num_updated_rows': 1,\n",
       "   'scan_time_ms': 4196},\n",
       "  'clientVersion': 'delta-rs.0.20.1',\n",
       "  'version': 1},\n",
       " {'timestamp': 1731995533524,\n",
       "  'operation': 'WRITE',\n",
       "  'operationParameters': {'mode': 'ErrorIfExists'},\n",
       "  'clientVersion': 'delta-rs.0.20.1',\n",
       "  'operationMetrics': {'execution_time_ms': 1204,\n",
       "   'num_added_files': 1,\n",
       "   'num_added_rows': 1387,\n",
       "   'num_partitions': 0,\n",
       "   'num_removed_files': 0},\n",
       "  'version': 0}]"
      ]
     },
     "execution_count": 12,
     "metadata": {},
     "output_type": "execute_result"
    }
   ],
   "source": [
    "prop_table.history()"
   ]
  },
  {
   "cell_type": "markdown",
   "metadata": {},
   "source": [
    "# TODO: enable delta table cdf"
   ]
  },
  {
   "cell_type": "code",
   "execution_count": null,
   "metadata": {},
   "outputs": [],
   "source": [
    "prop_table.update(\n",
    "    predicate=\"ppi_id == 17012199\",\n",
    "    new_values={\n",
    "        \"alias_list_en\": [\n",
    "            \"mass concentration\",\n",
    "            \"mass fraction\",\n",
    "            \"fraction by weight\",\n",
    "            \"fractnum_updated_rowsion of mass\",\n",
    "            \"weight ratio\",\n",
    "            \"mass percent\",\n",
    "            \"fraction of weight\",\n",
    "            \"fraction by mass\",\n",
    "            \"percentage by mass\",\n",
    "            \"mass ratio\",\n",
    "            \"weight percent\",\n",
    "            \"WT\",\n",
    "            \"weight fraction\",\n",
    "            \"w / w\",\n",
    "            \"by weight\",\n",
    "            \"wt %\",\n",
    "            \"by mass\",\n",
    "            \"mass %\",\n",
    "            \"wt. %\",\n",
    "            \"weight %\",\n",
    "            \"wt-%\",\n",
    "            \"percent by weight\",\n",
    "            \"percentages by weight\",\n",
    "            \"percentages of a total weight\",\n",
    "            \"weight concentration\",\n",
    "            \"weight percentage\",\n",
    "            \"weight percentages\",\n",
    "            \"weight percents\",\n",
    "            \"weight-%\",\n",
    "            \"by mass %\",\n",
    "            \"by the weight\",\n",
    "            \"by total weight\",\n",
    "            \"by wt\",\n",
    "            \"wt. percent\",\n",
    "            \"wt.-%\",\n",
    "            \"mass ppm\",\n",
    "            \"w/o\",\n",
    "        ]\n",
    "    },\n",
    ")"
   ]
  },
  {
   "cell_type": "code",
   "execution_count": 10,
   "metadata": {},
   "outputs": [],
   "source": [
    "from_table = DeltaTable(\n",
    "    \"s3://matter-most/bronze/materials_body_entity\", storage_options=test_patsnap_config\n",
    ").to_pandas()\n",
    "write_deltalake(\n",
    "    \"s3://testpatsnapus-1251949819/materials/lakehouse/gold/materials_body_entity\",\n",
    "    from_table,\n",
    "    storage_options=default_storage_config,\n",
    ")"
   ]
  },
  {
   "cell_type": "code",
   "execution_count": null,
   "metadata": {},
   "outputs": [],
   "source": [
    "from_table.t"
   ]
  },
  {
   "cell_type": "code",
   "execution_count": 5,
   "metadata": {},
   "outputs": [],
   "source": [
    "df = pd.read_json(\n",
    "    \"/home/kevinxu/.local/share/modelhub/models/mat_spum_cn/7/variables/cheman_substance_entity_v3.json\",\n",
    "    lines=True,\n",
    ")\n",
    "write_deltalake(\n",
    "    \"s3://testpatsnapus-1251949819/materials/lakehouse/test/substance_entity_5/\",\n",
    "    df,\n",
    "    storage_options=test_patsnap_config,\n",
    ")"
   ]
  },
  {
   "cell_type": "code",
   "execution_count": 32,
   "metadata": {},
   "outputs": [],
   "source": [
    "table = DeltaTable(\n",
    "    \"s3://testpatsnapus-1251949819/materials/lakehouse/test/substance_entity_4/\",\n",
    "    storage_options=test_patsnap_config,\n",
    ")"
   ]
  },
  {
   "cell_type": "markdown",
   "metadata": {},
   "source": [
    "### Classmethod"
   ]
  },
  {
   "cell_type": "code",
   "execution_count": null,
   "metadata": {},
   "outputs": [],
   "source": [
    "table.is_deltatable(\n",
    "    \"s3://testpatsnapus-1251949819/materials/lakehouse/test/substance_entity_4/\",\n",
    "    storage_options=test_patsnap_config,\n",
    ")"
   ]
  },
  {
   "cell_type": "markdown",
   "metadata": {},
   "source": [
    "### Basics"
   ]
  },
  {
   "cell_type": "code",
   "execution_count": null,
   "metadata": {},
   "outputs": [],
   "source": [
    "table.version()"
   ]
  },
  {
   "cell_type": "code",
   "execution_count": null,
   "metadata": {},
   "outputs": [],
   "source": [
    "table.history()"
   ]
  },
  {
   "cell_type": "code",
   "execution_count": null,
   "metadata": {},
   "outputs": [],
   "source": [
    "table.protocol()"
   ]
  },
  {
   "cell_type": "code",
   "execution_count": null,
   "metadata": {},
   "outputs": [],
   "source": [
    "table.metadata()"
   ]
  },
  {
   "cell_type": "code",
   "execution_count": null,
   "metadata": {},
   "outputs": [],
   "source": [
    "table.partitions()"
   ]
  },
  {
   "cell_type": "code",
   "execution_count": null,
   "metadata": {},
   "outputs": [],
   "source": [
    "table.schema()"
   ]
  },
  {
   "cell_type": "code",
   "execution_count": null,
   "metadata": {},
   "outputs": [],
   "source": [
    "table.file_uris()"
   ]
  },
  {
   "cell_type": "code",
   "execution_count": null,
   "metadata": {},
   "outputs": [],
   "source": [
    "table.files()\n",
    "# table.files_by_partitions() deprecated"
   ]
  },
  {
   "cell_type": "markdown",
   "metadata": {},
   "source": [
    "### Operations"
   ]
  },
  {
   "cell_type": "code",
   "execution_count": 54,
   "metadata": {},
   "outputs": [],
   "source": [
    "table.cleanup_metadata()"
   ]
  },
  {
   "cell_type": "code",
   "execution_count": null,
   "metadata": {},
   "outputs": [],
   "source": [
    "table.vacuum()"
   ]
  },
  {
   "cell_type": "code",
   "execution_count": 56,
   "metadata": {},
   "outputs": [],
   "source": [
    "table.update_incremental()"
   ]
  },
  {
   "cell_type": "code",
   "execution_count": null,
   "metadata": {},
   "outputs": [],
   "source": [
    "table.repair()"
   ]
  },
  {
   "cell_type": "code",
   "execution_count": null,
   "metadata": {},
   "outputs": [],
   "source": [
    "# table.from_data_catalog()"
   ]
  },
  {
   "cell_type": "markdown",
   "metadata": {},
   "source": [
    "### Export"
   ]
  },
  {
   "cell_type": "code",
   "execution_count": 46,
   "metadata": {},
   "outputs": [],
   "source": [
    "pdf = table.to_pandas()\n",
    "pa_ds = table.to_pyarrow_dataset()  # lazy\n",
    "pa_tbl = table.to_pyarrow_table()  # eager"
   ]
  },
  {
   "cell_type": "markdown",
   "metadata": {},
   "source": [
    "### CRUD"
   ]
  },
  {
   "cell_type": "code",
   "execution_count": null,
   "metadata": {},
   "outputs": [],
   "source": [
    "# table.update()\n",
    "# table.delete()\n",
    "# table.merge()\n",
    "# table.alter\n",
    "# table.optimize"
   ]
  },
  {
   "cell_type": "markdown",
   "metadata": {},
   "source": [
    "### Time Travel"
   ]
  },
  {
   "cell_type": "code",
   "execution_count": 23,
   "metadata": {},
   "outputs": [],
   "source": [
    "# table.restore(0)\n",
    "# table.create_checkpoint()\n",
    "# table.load_cdf()\n",
    "table.load_as_version(0)"
   ]
  },
  {
   "cell_type": "code",
   "execution_count": null,
   "metadata": {},
   "outputs": [],
   "source": [
    "table.get_add_actions(flatten=True)"
   ]
  }
 ],
 "metadata": {
  "kernelspec": {
   "display_name": ".venv",
   "language": "python",
   "name": "python3"
  },
  "language_info": {
   "codemirror_mode": {
    "name": "ipython",
    "version": 3
   },
   "file_extension": ".py",
   "mimetype": "text/x-python",
   "name": "python",
   "nbconvert_exporter": "python",
   "pygments_lexer": "ipython3",
   "version": "3.12.3"
  }
 },
 "nbformat": 4,
 "nbformat_minor": 2
}
