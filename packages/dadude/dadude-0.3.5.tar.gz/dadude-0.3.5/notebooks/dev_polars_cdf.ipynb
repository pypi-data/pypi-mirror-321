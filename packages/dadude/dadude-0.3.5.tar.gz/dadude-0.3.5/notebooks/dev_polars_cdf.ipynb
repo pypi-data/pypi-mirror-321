{
 "cells": [
  {
   "cell_type": "code",
   "execution_count": 1,
   "metadata": {},
   "outputs": [],
   "source": [
    "from dadude.config import default_storage_config"
   ]
  },
  {
   "cell_type": "code",
   "execution_count": 2,
   "metadata": {},
   "outputs": [],
   "source": [
    "test_patsnap_config = default_storage_config.copy()\n",
    "test_patsnap_config[\"AWS_ACCESS_KEY_ID\"] = \"iamdev\"\n",
    "test_patsnap_config[\"AWS_SECRET_ACCESS_KEY\"] = \"xzd19950506\"\n",
    "test_patsnap_config[\"AWS_ENDPOINT_URL\"] = \"http://192.168.18.206:9000\""
   ]
  },
  {
   "cell_type": "code",
   "execution_count": 3,
   "metadata": {},
   "outputs": [],
   "source": [
    "from deltalake import DeltaTable\n",
    "import polars as pl"
   ]
  },
  {
   "cell_type": "code",
   "execution_count": 6,
   "metadata": {},
   "outputs": [
    {
     "data": {
      "text/html": [
       "<div><style>\n",
       ".dataframe > thead > tr,\n",
       ".dataframe > tbody > tr {\n",
       "  text-align: right;\n",
       "  white-space: pre-wrap;\n",
       "}\n",
       "</style>\n",
       "<small>shape: (4, 5)</small><table border=\"1\" class=\"dataframe\"><thead><tr><th>foo</th><th>bar</th><th>_change_type</th><th>_commit_version</th><th>_commit_timestamp</th></tr><tr><td>i64</td><td>str</td><td>str</td><td>i64</td><td>datetime[ms]</td></tr></thead><tbody><tr><td>1</td><td>&quot;1&quot;</td><td>&quot;insert&quot;</td><td>1</td><td>2024-11-20&nbsp;05:47:49.052</td></tr><tr><td>2</td><td>&quot;2&quot;</td><td>&quot;insert&quot;</td><td>1</td><td>2024-11-20&nbsp;05:47:49.052</td></tr><tr><td>1</td><td>&quot;1&quot;</td><td>&quot;insert&quot;</td><td>0</td><td>2024-11-20&nbsp;05:47:49.049</td></tr><tr><td>2</td><td>&quot;2&quot;</td><td>&quot;insert&quot;</td><td>0</td><td>2024-11-20&nbsp;05:47:49.049</td></tr></tbody></table></div>"
      ],
      "text/plain": [
       "shape: (4, 5)\n",
       "┌─────┬─────┬──────────────┬─────────────────┬─────────────────────────┐\n",
       "│ foo ┆ bar ┆ _change_type ┆ _commit_version ┆ _commit_timestamp       │\n",
       "│ --- ┆ --- ┆ ---          ┆ ---             ┆ ---                     │\n",
       "│ i64 ┆ str ┆ str          ┆ i64             ┆ datetime[ms]            │\n",
       "╞═════╪═════╪══════════════╪═════════════════╪═════════════════════════╡\n",
       "│ 1   ┆ 1   ┆ insert       ┆ 1               ┆ 2024-11-20 05:47:49.052 │\n",
       "│ 2   ┆ 2   ┆ insert       ┆ 1               ┆ 2024-11-20 05:47:49.052 │\n",
       "│ 1   ┆ 1   ┆ insert       ┆ 0               ┆ 2024-11-20 05:47:49.049 │\n",
       "│ 2   ┆ 2   ┆ insert       ┆ 0               ┆ 2024-11-20 05:47:49.049 │\n",
       "└─────┴─────┴──────────────┴─────────────────┴─────────────────────────┘"
      ]
     },
     "execution_count": 6,
     "metadata": {},
     "output_type": "execute_result"
    }
   ],
   "source": [
    "df = pl.DataFrame({\"foo\": [1, 2], \"bar\": [\"1\", \"2\"]})\n",
    "for i in range(2):\n",
    "    df.write_delta(\n",
    "        \"../db/test_cdf\",\n",
    "        mode=\"append\",\n",
    "        delta_write_options={\n",
    "            \"configuration\": {\"delta.enableChangeDataFeed\": \"true\"},\n",
    "            \"engine\": \"rust\",\n",
    "        },\n",
    "    )\n",
    "\n",
    "dt = DeltaTable(\"../db/test_cdf\")\n",
    "pl.from_arrow(dt.load_cdf())"
   ]
  },
  {
   "cell_type": "code",
   "execution_count": null,
   "metadata": {},
   "outputs": [],
   "source": []
  }
 ],
 "metadata": {
  "kernelspec": {
   "display_name": ".venv",
   "language": "python",
   "name": "python3"
  },
  "language_info": {
   "codemirror_mode": {
    "name": "ipython",
    "version": 3
   },
   "file_extension": ".py",
   "mimetype": "text/x-python",
   "name": "python",
   "nbconvert_exporter": "python",
   "pygments_lexer": "ipython3",
   "version": "3.12.3"
  }
 },
 "nbformat": 4,
 "nbformat_minor": 2
}
