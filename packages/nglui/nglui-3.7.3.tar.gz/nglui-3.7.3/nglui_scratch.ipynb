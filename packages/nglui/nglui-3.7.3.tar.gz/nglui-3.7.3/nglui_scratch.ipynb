{
 "cells": [
  {
   "cell_type": "code",
   "execution_count": 1,
   "metadata": {},
   "outputs": [
    {
     "data": {
      "text/plain": [
       "'https://spelunker.cave-explorer.org/#!middleauth+https://global.daf-apis.com/nglstate/api/v1/5459947518164992'"
      ]
     },
     "execution_count": 1,
     "metadata": {},
     "output_type": "execute_result"
    }
   ],
   "source": [
    "import caveclient\n",
    "from nglui import statebuilder\n",
    "\n",
    "client = caveclient.CAVEclient('minnie65_public')\n",
    "\n",
    "# Get a root id of a specific neuron\n",
    "root_id = client.materialize.query_table(\n",
    "    'nucleus_detection_v0',\n",
    "    filter_equal_dict={'id': 255258}\n",
    ")['pt_root_id']\n",
    "\n",
    "statebuilder.helpers.make_neuron_neuroglancer_link(\n",
    "    client,\n",
    "    root_id,\n",
    "    show_inputs=True,\n",
    "    show_outputs=True,\n",
    "    ngl_url='https://spelunker.cave-explorer.org',\n",
    "    return_as='url',\n",
    ")"
   ]
  },
  {
   "cell_type": "code",
   "execution_count": null,
   "metadata": {},
   "outputs": [],
   "source": [
    "statebuilder.site_utils.get_default_config()"
   ]
  },
  {
   "cell_type": "code",
   "execution_count": null,
   "metadata": {},
   "outputs": [],
   "source": [
    "url = statebuilder.helpers.make_neuron_neuroglancer_link(\n",
    "    client,\n",
    "    root_id,\n",
    "    show_inputs=True,\n",
    "    show_outputs=True,\n",
    "    ngl_url='https://spelunker.cave-explorer.org',\n",
    "    return_as='url',\n",
    ")"
   ]
  },
  {
   "cell_type": "code",
   "execution_count": null,
   "metadata": {},
   "outputs": [],
   "source": [
    "url"
   ]
  },
  {
   "cell_type": "code",
   "execution_count": null,
   "metadata": {},
   "outputs": [],
   "source": [
    "state = statebuilder.helpers.make_neuron_neuroglancer_link(\n",
    "    client,\n",
    "    root_id,\n",
    "    show_inputs=True,\n",
    "    show_outputs=True,\n",
    "    ngl_url='https://spelunker.cave-explorer.org',\n",
    "    return_as='dict',\n",
    ")"
   ]
  },
  {
   "cell_type": "code",
   "execution_count": null,
   "metadata": {},
   "outputs": [],
   "source": [
    "state['dimensions']"
   ]
  },
  {
   "cell_type": "code",
   "execution_count": null,
   "metadata": {},
   "outputs": [],
   "source": [
    "import pyperclip"
   ]
  },
  {
   "cell_type": "code",
   "execution_count": null,
   "metadata": {},
   "outputs": [],
   "source": [
    "pyperclip.copy(state)"
   ]
  },
  {
   "cell_type": "code",
   "execution_count": null,
   "metadata": {},
   "outputs": [],
   "source": [
    "state['layers'][1]"
   ]
  },
  {
   "cell_type": "code",
   "execution_count": null,
   "metadata": {},
   "outputs": [],
   "source": [
    "st = client.state.get_state_json(5930905244794880)"
   ]
  },
  {
   "cell_type": "code",
   "execution_count": null,
   "metadata": {},
   "outputs": [],
   "source": [
    "st['dimensions']"
   ]
  },
  {
   "cell_type": "code",
   "execution_count": null,
   "metadata": {},
   "outputs": [],
   "source": [
    "st.get"
   ]
  },
  {
   "cell_type": "code",
   "execution_count": null,
   "metadata": {},
   "outputs": [],
   "source": [
    "import pandas as pd\n",
    "import numpy as np\n",
    "\n",
    "from caveclient import CAVEclient\n",
    "from nglui import statebuilder, parser, site_utils\n",
    "\n",
    "client = CAVEclient('minnie65_public')\n",
    "\n",
    "site_utils.set_default_config(\n",
    "    target_site='spelunker',\n",
    "    caveclient=client,\n",
    ")"
   ]
  },
  {
   "cell_type": "code",
   "execution_count": null,
   "metadata": {},
   "outputs": [],
   "source": [
    "df = client.materialize.tables.allen_column_mtypes_v2(cell_type=\"L5ET\").query()\n",
    "root_id = df.loc[10].pt_root_id"
   ]
  },
  {
   "cell_type": "code",
   "execution_count": null,
   "metadata": {},
   "outputs": [],
   "source": [
    "print(\n",
    "    statebuilder.helpers.make_neuron_neuroglancer_link(\n",
    "        client,\n",
    "        root_id,\n",
    "        return_as='short',\n",
    "        show_inputs=True,\n",
    "        show_outputs=True,\n",
    "    )\n",
    ")"
   ]
  },
  {
   "cell_type": "code",
   "execution_count": null,
   "metadata": {},
   "outputs": [],
   "source": []
  },
  {
   "cell_type": "code",
   "execution_count": null,
   "metadata": {},
   "outputs": [],
   "source": []
  },
  {
   "cell_type": "code",
   "execution_count": null,
   "metadata": {},
   "outputs": [],
   "source": []
  },
  {
   "cell_type": "code",
   "execution_count": null,
   "metadata": {},
   "outputs": [],
   "source": [
    "from nglui import statebuilder as sb\n",
    "\n",
    "root_id = 864691136137805181\n",
    "\n",
    "state_dict = sb.make_neuron_neuroglancer_link(client, root_id, return_as=\"dict\")"
   ]
  },
  {
   "cell_type": "code",
   "execution_count": null,
   "metadata": {},
   "outputs": [],
   "source": [
    "state_dict"
   ]
  },
  {
   "cell_type": "code",
   "execution_count": null,
   "metadata": {},
   "outputs": [],
   "source": []
  },
  {
   "cell_type": "markdown",
   "metadata": {},
   "source": [
    "This notebook is \n",
    "\n"
   ]
  },
  {
   "cell_type": "code",
   "execution_count": null,
   "metadata": {},
   "outputs": [],
   "source": [
    "site_utils.get_default_config()"
   ]
  },
  {
   "cell_type": "code",
   "execution_count": null,
   "metadata": {},
   "outputs": [],
   "source": [
    "sb.render_state()"
   ]
  },
  {
   "cell_type": "code",
   "execution_count": null,
   "metadata": {},
   "outputs": [],
   "source": [
    "site_utils.check_target_site?"
   ]
  },
  {
   "cell_type": "code",
   "execution_count": null,
   "metadata": {},
   "outputs": [],
   "source": []
  }
 ],
 "metadata": {
  "kernelspec": {
   "display_name": ".venv",
   "language": "python",
   "name": "python3"
  },
  "language_info": {
   "codemirror_mode": {
    "name": "ipython",
    "version": 3
   },
   "file_extension": ".py",
   "mimetype": "text/x-python",
   "name": "python",
   "nbconvert_exporter": "python",
   "pygments_lexer": "ipython3",
   "version": "3.12.7"
  }
 },
 "nbformat": 4,
 "nbformat_minor": 2
}
