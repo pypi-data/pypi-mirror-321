{
 "cells": [
  {
   "cell_type": "code",
   "execution_count": null,
   "metadata": {
    "collapsed": false
   },
   "outputs": [],
   "source": [
    "%matplotlib notebook\n",
    "import numpy as np\n",
    "import matplotlib.pyplot as plt\n",
    "import os\n",
    "from pyxrf.model.command_tools import fit_pixel_data_and_save"
   ]
  },
  {
   "cell_type": "code",
   "execution_count": 2,
   "metadata": {
    "collapsed": true
   },
   "outputs": [],
   "source": [
    "wd = '/Users/Li/Research/Experiment/twin_boundary_stitch'   # contains all the h5 file and parameter .json file"
   ]
  },
  {
   "cell_type": "code",
   "execution_count": 3,
   "metadata": {
    "collapsed": false
   },
   "outputs": [],
   "source": [
    "num = np.arange(2468, 2471)\n",
    "filelist = [str(n)+'.h5' for n in num]     # define all the h5 files"
   ]
  },
  {
   "cell_type": "markdown",
   "metadata": {},
   "source": [
    "# Batch mode to fit spectrum from detector sum"
   ]
  },
  {
   "cell_type": "markdown",
   "metadata": {},
   "source": [
    "if the detector is well aligned, you can fit the summed spectrum from each detector"
   ]
  },
  {
   "cell_type": "code",
   "execution_count": 4,
   "metadata": {
    "collapsed": true
   },
   "outputs": [],
   "source": [
    "param_file = '2468_fitting.json'       # parameter file to fit all the data"
   ]
  },
  {
   "cell_type": "code",
   "execution_count": null,
   "metadata": {
    "collapsed": false,
    "scrolled": false
   },
   "outputs": [],
   "source": [
    "for fname in filelist:\n",
    "    fit_pixel_data_and_save(wd, fname, param_file_name=param_file)"
   ]
  },
  {
   "cell_type": "markdown",
   "metadata": {},
   "source": [
    "# Batch mode to fit spectrum from individual detector"
   ]
  },
  {
   "cell_type": "code",
   "execution_count": null,
   "metadata": {
    "collapsed": true
   },
   "outputs": [],
   "source": [
    "param_file = '2468_fitting.json'             # parameter file to fit data from detector summed\n",
    "param_file1 = '2468_fitting_det1.json'       # parameter file to fit data from detector 1\n",
    "param_file2 = '2468_fitting_det2.json'       # parameter file to fit data from detector 2\n",
    "param_file3 = '2468_fitting_det2.json'       # parameter file to fit data from detector 3\n",
    "paramlist = [param_file1, param_file2, param_file3]"
   ]
  },
  {
   "cell_type": "markdown",
   "metadata": {},
   "source": [
    "You can also turn on paramter save_txt, save_tiff(default as true), so pyxrf will output txt and tiff files."
   ]
  },
  {
   "cell_type": "code",
   "execution_count": null,
   "metadata": {
    "collapsed": false,
    "scrolled": true
   },
   "outputs": [],
   "source": [
    "for fname in filelist:\n",
    "    fit_pixel_data_and_save(wd, fname, param_file_name=param_file, fit_channel_each=True, param_channel_list=paramlist,\n",
    "                            save_txt=True, save_tiff=True)"
   ]
  },
  {
   "cell_type": "markdown",
   "metadata": {},
   "source": [
    "# Batch mode to fit spectrum with given incident energy"
   ]
  },
  {
   "cell_type": "code",
   "execution_count": 2,
   "metadata": {
    "collapsed": true
   },
   "outputs": [],
   "source": [
    "param_file = '2468_fitting.json'       # parameter file to fit the data\n",
    "fname = 'scan_2468.h5'\n",
    "energy = 10                            # incident energy at KeV"
   ]
  },
  {
   "cell_type": "code",
   "execution_count": null,
   "metadata": {
    "collapsed": true
   },
   "outputs": [],
   "source": [
    "fit_pixel_data_and_save(wd, fname, param_file_name=param_file, incident_energy=energy)"
   ]
  }
 ],
 "metadata": {
  "anaconda-cloud": {},
  "kernelspec": {
   "display_name": "Python [default]",
   "language": "python",
   "name": "python2"
  },
  "language_info": {
   "codemirror_mode": {
    "name": "ipython",
    "version": 2
   },
   "file_extension": ".py",
   "mimetype": "text/x-python",
   "name": "python",
   "nbconvert_exporter": "python",
   "pygments_lexer": "ipython2",
   "version": "2.7.12"
  }
 },
 "nbformat": 4,
 "nbformat_minor": 0
}
