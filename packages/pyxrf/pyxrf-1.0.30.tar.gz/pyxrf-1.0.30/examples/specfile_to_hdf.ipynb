{
 "cells": [
  {
   "cell_type": "code",
   "execution_count": 1,
   "metadata": {
    "collapsed": true
   },
   "outputs": [],
   "source": [
    "from pyxrf.api import *"
   ]
  },
  {
   "cell_type": "markdown",
   "metadata": {},
   "source": [
    "# Define parameters first"
   ]
  },
  {
   "cell_type": "code",
   "execution_count": 3,
   "metadata": {
    "collapsed": true
   },
   "outputs": [],
   "source": [
    "#wd is the folder where is saved\n",
    "wd = '/Users/lili/Research/Experiment/Canadian_LS/CoarseMapW1000_bone1/'\n",
    "# spec_file is the standard ascii file\n",
    "spec_file = 'Coarse_Map_W1000_bone_1.dat'\n",
    "# spectrum_file saves all the fluorescence spectrum from each point\n",
    "spectrum_file = 'Coarse_Map_W1000_bone_FourElementVortex_1.dat'\n",
    "# output is the h5 file we want to creat. There will be error if the flie already exists.\n",
    "output = 'my_test.h5' \n",
    "# data_shape is shape of 2D scan, [num of row, num of column]\n",
    "data_shape = [57,69]  \n",
    "\n",
    "# we also need to know ic_name, x position, y position from spec file"
   ]
  },
  {
   "cell_type": "code",
   "execution_count": 5,
   "metadata": {
    "collapsed": false
   },
   "outputs": [],
   "source": [
    "spec_to_hdf(wd, spec_file, spectrum_file, output, data_shape, \n",
    "            ic_name='MiniIonChamber', x_name='H', y_name='V')"
   ]
  },
  {
   "cell_type": "code",
   "execution_count": 8,
   "metadata": {
    "collapsed": true
   },
   "outputs": [],
   "source": [
    "# check the doc of given function\n",
    "?spec_to_hdf"
   ]
  },
  {
   "cell_type": "code",
   "execution_count": null,
   "metadata": {
    "collapsed": true
   },
   "outputs": [],
   "source": []
  }
 ],
 "metadata": {
  "anaconda-cloud": {},
  "kernelspec": {
   "display_name": "Python [conda env:pyxrf]",
   "language": "python",
   "name": "conda-env-pyxrf-py"
  },
  "language_info": {
   "codemirror_mode": {
    "name": "ipython",
    "version": 2
   },
   "file_extension": ".py",
   "mimetype": "text/x-python",
   "name": "python",
   "nbconvert_exporter": "python",
   "pygments_lexer": "ipython2",
   "version": "2.7.12"
  }
 },
 "nbformat": 4,
 "nbformat_minor": 1
}
