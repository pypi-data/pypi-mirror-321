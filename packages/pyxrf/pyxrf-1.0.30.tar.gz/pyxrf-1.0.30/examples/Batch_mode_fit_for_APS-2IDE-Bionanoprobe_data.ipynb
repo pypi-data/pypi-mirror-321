{
 "cells": [
  {
   "cell_type": "code",
   "execution_count": 1,
   "metadata": {
    "collapsed": false
   },
   "outputs": [
    {
     "name": "stderr",
     "output_type": "stream",
     "text": [
      "/Users/Li/miniconda2/envs/pyxrf_dev/lib/python2.7/site-packages/IPython/html.py:14: ShimWarning: The `IPython.html` package has been deprecated. You should import from `notebook` instead. `IPython.html.widgets` has moved to `ipywidgets`.\n",
      "  \"`IPython.html.widgets` has moved to `ipywidgets`.\", ShimWarning)\n"
     ]
    }
   ],
   "source": [
    "%matplotlib notebook\n",
    "import numpy as np\n",
    "import matplotlib.pyplot as plt\n",
    "import os\n",
    "from pyxrf.model.command_tools import fit_pixel_data_and_save"
   ]
  },
  {
   "cell_type": "code",
   "execution_count": null,
   "metadata": {
    "collapsed": true
   },
   "outputs": [],
   "source": [
    "# define working directory and file names"
   ]
  },
  {
   "cell_type": "code",
   "execution_count": 2,
   "metadata": {
    "collapsed": true
   },
   "outputs": [],
   "source": [
    "wd = '/Users/Li/Research/Experiment/Miller_APS_July2016/e152143_Miller/img.dat.old'"
   ]
  },
  {
   "cell_type": "code",
   "execution_count": 15,
   "metadata": {
    "collapsed": false
   },
   "outputs": [],
   "source": [
    "runid_list = [475, 474, 470]\n",
    "filelist = ['bnp_fly0{}.h5'.format(n) for n in runid_list]"
   ]
  },
  {
   "cell_type": "code",
   "execution_count": 16,
   "metadata": {
    "collapsed": false
   },
   "outputs": [
    {
     "data": {
      "text/plain": [
       "['bnp_fly0475.h5', 'bnp_fly0474.h5', 'bnp_fly0470.h5']"
      ]
     },
     "execution_count": 16,
     "metadata": {},
     "output_type": "execute_result"
    }
   ],
   "source": [
    "filelist"
   ]
  },
  {
   "cell_type": "code",
   "execution_count": 17,
   "metadata": {
    "collapsed": true
   },
   "outputs": [],
   "source": [
    "# define parameter file, which also stays at the same wd"
   ]
  },
  {
   "cell_type": "code",
   "execution_count": 18,
   "metadata": {
    "collapsed": true
   },
   "outputs": [],
   "source": [
    "param_file = 'bnp_fly_cell1.json'"
   ]
  },
  {
   "cell_type": "code",
   "execution_count": 19,
   "metadata": {
    "collapsed": true
   },
   "outputs": [],
   "source": [
    "# fit data, need to define data_from='2IDE-APS'"
   ]
  },
  {
   "cell_type": "code",
   "execution_count": 20,
   "metadata": {
    "collapsed": false
   },
   "outputs": [
    {
     "name": "stdout",
     "output_type": "stream",
     "text": [
      "file path is /Users/Li/Research/Experiment/Miller_APS_July2016/e152143_Miller/img.dat.old/bnp_fly0475.h5\n",
      "Time used for pixel fitting for file bnp_fly0475.h5 is : 4.64956402779\n",
      "file path is /Users/Li/Research/Experiment/Miller_APS_July2016/e152143_Miller/img.dat.old/bnp_fly0474.h5\n",
      "Time used for pixel fitting for file bnp_fly0474.h5 is : 5.0111720562\n",
      "file path is /Users/Li/Research/Experiment/Miller_APS_July2016/e152143_Miller/img.dat.old/bnp_fly0470.h5\n",
      "Time used for pixel fitting for file bnp_fly0470.h5 is : 4.57977819443\n"
     ]
    },
    {
     "name": "stderr",
     "output_type": "stream",
     "text": [
      "/Users/Li/miniconda2/envs/pyxrf_dev/lib/python2.7/site-packages/numpy/lib/function_base.py:3834: RuntimeWarning: Invalid value encountered in percentile\n",
      "  RuntimeWarning)\n"
     ]
    }
   ],
   "source": [
    "for fname in filelist:\n",
    "    fit_pixel_data_and_save(wd, fname, param_file_name=param_file, data_from='2IDE-APS')"
   ]
  },
  {
   "cell_type": "code",
   "execution_count": null,
   "metadata": {
    "collapsed": true
   },
   "outputs": [],
   "source": []
  }
 ],
 "metadata": {
  "kernelspec": {
   "display_name": "Python 2",
   "language": "python",
   "name": "python2"
  },
  "language_info": {
   "codemirror_mode": {
    "name": "ipython",
    "version": 2
   },
   "file_extension": ".py",
   "mimetype": "text/x-python",
   "name": "python",
   "nbconvert_exporter": "python",
   "pygments_lexer": "ipython2",
   "version": "2.7.12"
  }
 },
 "nbformat": 4,
 "nbformat_minor": 0
}
