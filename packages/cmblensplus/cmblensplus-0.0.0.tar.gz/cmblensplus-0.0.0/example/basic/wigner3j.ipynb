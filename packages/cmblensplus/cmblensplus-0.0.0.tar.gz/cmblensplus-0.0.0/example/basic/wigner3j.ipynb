{
 "cells": [
  {
   "cell_type": "code",
   "execution_count": 1,
   "metadata": {},
   "outputs": [],
   "source": [
    "import basic"
   ]
  },
  {
   "cell_type": "code",
   "execution_count": 2,
   "metadata": {},
   "outputs": [
    {
     "data": {
      "text/plain": [
       "array([ 0.21821789,  0.        , -0.10948282,  0.        ,  0.08278557,\n",
       "       -0.        , -0.06991857,  0.        ,  0.06238396, -0.        ,\n",
       "       -0.05768854,  0.        ,  0.05489057, -0.        , -0.05370497,\n",
       "        0.        ,  0.05440349, -0.        , -0.05856418,  0.        ,\n",
       "        0.07771569])"
      ]
     },
     "execution_count": 2,
     "metadata": {},
     "output_type": "execute_result"
    }
   ],
   "source": [
    "basic.wigner_funcs.wigner_3j(10,10,0,0)"
   ]
  },
  {
   "cell_type": "code",
   "execution_count": null,
   "metadata": {},
   "outputs": [],
   "source": []
  }
 ],
 "metadata": {
  "kernelspec": {
   "display_name": "py4so",
   "language": "python",
   "name": "py4so"
  },
  "language_info": {
   "codemirror_mode": {
    "name": "ipython",
    "version": 3
   },
   "file_extension": ".py",
   "mimetype": "text/x-python",
   "name": "python",
   "nbconvert_exporter": "python",
   "pygments_lexer": "ipython3",
   "version": "3.7.2"
  }
 },
 "nbformat": 4,
 "nbformat_minor": 4
}
