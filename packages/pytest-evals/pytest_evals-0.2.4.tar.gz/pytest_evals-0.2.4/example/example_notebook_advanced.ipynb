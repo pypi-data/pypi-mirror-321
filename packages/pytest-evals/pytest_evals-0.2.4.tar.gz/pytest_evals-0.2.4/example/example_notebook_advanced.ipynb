{
 "cells": [
  {
   "cell_type": "markdown",
   "id": "a13d6843ef4301",
   "metadata": {},
   "source": [
    "# Advanced LLM Evaluation with pytest-evals\n",
    "\n",
    "This notebook demonstrates advanced techniques for evaluating LLM performance:\n",
    "1. Running parallel evaluations across multiple models\n",
    "2. Tracking and comparing results across different runs\n",
    "3. Visualizing performance trends and model comparisons\n",
    "4. Statistical analysis of model performance\n",
    "\n",
    "## Setup\n",
    "First, let's load required extensions and configure our environment."
   ]
  },
  {
   "cell_type": "code",
   "execution_count": 7,
   "id": "cefdc9561d3ab77a",
   "metadata": {
    "ExecuteTime": {
     "end_time": "2025-01-14T21:02:55.240499Z",
     "start_time": "2025-01-14T21:02:55.238265Z"
    }
   },
   "outputs": [
    {
     "name": "stdout",
     "output_type": "stream",
     "text": [
      "The pytest_evals extension is already loaded. To reload it, use:\n",
      "  %reload_ext pytest_evals\n"
     ]
    }
   ],
   "source": [
    "%load_ext pytest_evals"
   ]
  },
  {
   "cell_type": "markdown",
   "id": "80ea828ddde1c26a",
   "metadata": {},
   "source": [
    "## Model Implementation\n",
    "\n",
    "Define our classifier that leverages different LLM models to determine if text is computer-related."
   ]
  },
  {
   "cell_type": "code",
   "execution_count": 8,
   "id": "6e55ed323e3cc980",
   "metadata": {
    "ExecuteTime": {
     "end_time": "2025-01-14T21:02:55.553865Z",
     "start_time": "2025-01-14T21:02:55.551230Z"
    }
   },
   "outputs": [],
   "source": [
    "import openai\n",
    "\n",
    "\n",
    "def classify(text: str, model=\"gpt-4o-mini\") -> bool:\n",
    "    \"\"\"Classify text as computer-related or not using specified LLM model.\n",
    "\n",
    "    Args:\n",
    "        text (str): Input text to classify\n",
    "        model (str): Model identifier (e.g., \"gpt-4o\", \"gpt-4o-mini\")\n",
    "\n",
    "    Returns:\n",
    "        bool: True if text is computer-related, False otherwise\n",
    "    \"\"\"\n",
    "    resp = openai.chat.completions.create(\n",
    "        model=model,\n",
    "        messages=[\n",
    "            {\n",
    "                \"role\": \"system\",\n",
    "                \"content\": \"Is this text about a computer-related subject? \"\n",
    "                \"Reply ONLY with either true or false.\",\n",
    "            },\n",
    "            {\"role\": \"user\", \"content\": text},\n",
    "        ],\n",
    "    )\n",
    "    return resp.choices[0].message.content.lower() == \"true\""
   ]
  },
  {
   "cell_type": "markdown",
   "id": "51c2d42c6a10f861",
   "metadata": {},
   "source": [
    "## Test Data and Results Tracking\n",
    "\n",
    "Set up our test cases and initialize our experiment tracking DataFrame."
   ]
  },
  {
   "cell_type": "code",
   "execution_count": 9,
   "id": "d8f039c945136a32",
   "metadata": {
    "ExecuteTime": {
     "end_time": "2025-01-14T21:02:55.842968Z",
     "start_time": "2025-01-14T21:02:55.840478Z"
    }
   },
   "outputs": [],
   "source": [
    "import pandas as pd\n",
    "\n",
    "# Define test cases\n",
    "TEST_DATA = [\n",
    "    {\"text\": \"I need to debug this Python code\", \"label\": True},\n",
    "    {\"text\": \"The cat jumped over the lazy dog\", \"label\": False},\n",
    "    {\"text\": \"My monitor keeps flickering\", \"label\": True},\n",
    "    {\"text\": \"The weather is nice today\", \"label\": False},\n",
    "    {\"text\": \"Updating system drivers fixed the issue\", \"label\": True},\n",
    "]\n",
    "\n",
    "# Initialize experiment tracking\n",
    "experiments_df = pd.DataFrame()"
   ]
  },
  {
   "cell_type": "markdown",
   "id": "959af2e2c4f8670",
   "metadata": {},
   "source": [
    "## Run Model Evaluations\n",
    "\n",
    "Execute evaluations across different models and collect detailed metrics."
   ]
  },
  {
   "cell_type": "code",
   "execution_count": 10,
   "id": "68d3939ccb78630f",
   "metadata": {
    "ExecuteTime": {
     "end_time": "2025-01-14T21:03:01.118371Z",
     "start_time": "2025-01-14T21:02:56.132132Z"
    }
   },
   "outputs": [
    {
     "name": "stdout",
     "output_type": "stream",
     "text": [
      "\n",
      "t_82f50159f0e04b5da89b24b01d039e6f.py::test_classifier[gpt-4o-case0] Model: gpt-4o\n",
      "Input: I need to debug this Python code\n",
      "Expected: True, Predicted: True\n",
      "\n",
      "\u001b[32mPASSED\u001b[0m\n",
      "t_82f50159f0e04b5da89b24b01d039e6f.py::test_classifier[gpt-4o-case1] Model: gpt-4o\n",
      "Input: The cat jumped over the lazy dog\n",
      "Expected: False, Predicted: False\n",
      "\n",
      "\u001b[32mPASSED\u001b[0m\n",
      "t_82f50159f0e04b5da89b24b01d039e6f.py::test_classifier[gpt-4o-case2] Model: gpt-4o\n",
      "Input: My monitor keeps flickering\n",
      "Expected: True, Predicted: True\n",
      "\n",
      "\u001b[32mPASSED\u001b[0m\n",
      "t_82f50159f0e04b5da89b24b01d039e6f.py::test_classifier[gpt-4o-case3] Model: gpt-4o\n",
      "Input: The weather is nice today\n",
      "Expected: False, Predicted: False\n",
      "\n",
      "\u001b[32mPASSED\u001b[0m\n",
      "t_82f50159f0e04b5da89b24b01d039e6f.py::test_classifier[gpt-4o-case4] Model: gpt-4o\n",
      "Input: Updating system drivers fixed the issue\n",
      "Expected: True, Predicted: True\n",
      "\n",
      "\u001b[32mPASSED\u001b[0m\n",
      "t_82f50159f0e04b5da89b24b01d039e6f.py::test_classifier[gpt-4o-mini-case0] Model: gpt-4o-mini\n",
      "Input: I need to debug this Python code\n",
      "Expected: True, Predicted: True\n",
      "\n",
      "\u001b[32mPASSED\u001b[0m\n",
      "t_82f50159f0e04b5da89b24b01d039e6f.py::test_classifier[gpt-4o-mini-case1] Model: gpt-4o-mini\n",
      "Input: The cat jumped over the lazy dog\n",
      "Expected: False, Predicted: False\n",
      "\n",
      "\u001b[32mPASSED\u001b[0m\n",
      "t_82f50159f0e04b5da89b24b01d039e6f.py::test_classifier[gpt-4o-mini-case2] Model: gpt-4o-mini\n",
      "Input: My monitor keeps flickering\n",
      "Expected: True, Predicted: True\n",
      "\n",
      "\u001b[32mPASSED\u001b[0m\n",
      "t_82f50159f0e04b5da89b24b01d039e6f.py::test_classifier[gpt-4o-mini-case3] Model: gpt-4o-mini\n",
      "Input: The weather is nice today\n",
      "Expected: False, Predicted: False\n",
      "\n",
      "\u001b[32mPASSED\u001b[0m\n",
      "t_82f50159f0e04b5da89b24b01d039e6f.py::test_classifier[gpt-4o-mini-case4] Model: gpt-4o-mini\n",
      "Input: Updating system drivers fixed the issue\n",
      "Expected: True, Predicted: True\n",
      "\n",
      "\u001b[32mPASSED\u001b[0m\n",
      "t_82f50159f0e04b5da89b24b01d039e6f.py::test_analysis \n",
      "Model: gpt-4o\n",
      "Accuracy: 100.00%\n",
      "True Positives: 3\n",
      "False Positives: 0\n",
      "False Negatives: 0\n",
      "\n",
      "Model: gpt-4o-mini\n",
      "Accuracy: 100.00%\n",
      "True Positives: 3\n",
      "False Positives: 0\n",
      "False Negatives: 0\n",
      "\u001b[32mPASSED\u001b[0m\n",
      "\n",
      "\u001b[32m======================================== \u001b[32m\u001b[1m11 passed\u001b[0m\u001b[32m in 4.96s\u001b[0m\u001b[32m ========================================\u001b[0m\n"
     ]
    }
   ],
   "source": [
    "%%ipytest_evals\n",
    "import pytest\n",
    "from collections import defaultdict\n",
    "from datetime import datetime\n",
    "\n",
    "\n",
    "@pytest.fixture\n",
    "def classifier():\n",
    "    \"\"\"Provide the classifier function as a test fixture.\"\"\"\n",
    "    return classify\n",
    "\n",
    "\n",
    "@pytest.mark.eval(name=\"computer_classifier\")\n",
    "@pytest.mark.parametrize(\"case\", TEST_DATA)\n",
    "@pytest.mark.parametrize(\"model\", [\"gpt-4o\", \"gpt-4o-mini\"])\n",
    "def test_classifier(case: dict, eval_bag, classifier, model):\n",
    "    \"\"\"Test individual classification cases across different models.\n",
    "    \n",
    "    Args:\n",
    "        case (dict): Test case with text and expected label\n",
    "        eval_bag: Container for test results\n",
    "        classifier: Classification function\n",
    "        model: Model identifier\n",
    "    \"\"\"\n",
    "    eval_bag.input_text = case[\"text\"]\n",
    "    eval_bag.label = case[\"label\"]\n",
    "    eval_bag.prediction = classifier(case[\"text\"], model)\n",
    "\n",
    "    print(f\"Model: {model}\")\n",
    "    print(f\"Input: {eval_bag.input_text}\")\n",
    "    print(f\"Expected: {eval_bag.label}, Predicted: {eval_bag.prediction}\\n\")\n",
    "\n",
    "    assert eval_bag.prediction == eval_bag.label\n",
    "\n",
    "\n",
    "@pytest.mark.eval_analysis(name=\"computer_classifier\")\n",
    "def test_analysis(eval_results):\n",
    "    \"\"\"Analyze results across all models and compute detailed metrics.\n",
    "    \n",
    "    Args:\n",
    "        eval_results: Collection of all test results\n",
    "    \"\"\"\n",
    "    # Group results by model\n",
    "    res = defaultdict(list)\n",
    "    for r in eval_results:\n",
    "        res[r.test_params['model']].append(r)\n",
    "\n",
    "    global experiments_df\n",
    "    run_date = datetime.now()\n",
    "\n",
    "    # Calculate metrics for each model\n",
    "    for model, results in res.items():\n",
    "        total = len(results)\n",
    "        correct = sum(1 for r in results if r.result.prediction == r.result.label)\n",
    "        accuracy = correct / total\n",
    "\n",
    "        # Calculate detailed metrics\n",
    "        true_positives = sum(1 for r in results\n",
    "                             if r.result.prediction and r.result.label)\n",
    "        false_positives = sum(1 for r in results\n",
    "                              if r.result.prediction and not r.result.label)\n",
    "        false_negatives = sum(1 for r in results\n",
    "                              if not r.result.prediction and r.result.label)\n",
    "\n",
    "        print(f\"\\nModel: {model}\")\n",
    "        print(f\"Accuracy: {accuracy:.2%}\")\n",
    "        print(f\"True Positives: {true_positives}\")\n",
    "        print(f\"False Positives: {false_positives}\")\n",
    "        print(f\"False Negatives: {false_negatives}\")\n",
    "\n",
    "        # Store results\n",
    "        experiments_df = pd.concat([experiments_df, pd.DataFrame([{\n",
    "            'run_date': run_date,\n",
    "            'model': model,\n",
    "            'accuracy': accuracy,\n",
    "            'test_cases': total,\n",
    "            'true_positives': true_positives,\n",
    "            'false_positives': false_positives,\n",
    "            'false_negatives': false_negatives\n",
    "        }])], ignore_index=True)\n",
    "\n",
    "    assert all(model_results['accuracy'].iloc[-1] >= 0.7\n",
    "               for _, model_results in experiments_df.groupby('model'))"
   ]
  },
  {
   "cell_type": "markdown",
   "id": "b1d45def36cb41b8",
   "metadata": {},
   "source": [
    "## Analyze Results\n",
    "\n",
    "Examine performance metrics and visualize trends across models and runs."
   ]
  },
  {
   "cell_type": "code",
   "execution_count": 11,
   "id": "a2ba2cc7473b1951",
   "metadata": {
    "ExecuteTime": {
     "end_time": "2025-01-14T21:03:01.324287Z",
     "start_time": "2025-01-14T21:03:01.130914Z"
    }
   },
   "outputs": [
    {
     "data": {
      "image/png": "[encoded data removed]",
      "text/plain": [
       "<Figure size 1200x1000 with 2 Axes>"
      ]
     },
     "metadata": {},
     "output_type": "display_data"
    },
    {
     "name": "stdout",
     "output_type": "stream",
     "text": [
      "\n",
      "Performance Statistics by Model:\n"
     ]
    },
    {
     "data": {
      "text/html": [
       "<div>\n",
       "<style scoped>\n",
       "    .dataframe tbody tr th:only-of-type {\n",
       "        vertical-align: middle;\n",
       "    }\n",
       "\n",
       "    .dataframe tbody tr th {\n",
       "        vertical-align: top;\n",
       "    }\n",
       "\n",
       "    .dataframe thead tr th {\n",
       "        text-align: left;\n",
       "    }\n",
       "\n",
       "    .dataframe thead tr:last-of-type th {\n",
       "        text-align: right;\n",
       "    }\n",
       "</style>\n",
       "<table border=\"1\" class=\"dataframe\">\n",
       "  <thead>\n",
       "    <tr>\n",
       "      <th></th>\n",
       "      <th colspan=\"8\" halign=\"left\">accuracy</th>\n",
       "      <th colspan=\"2\" halign=\"left\">true_positives</th>\n",
       "      <th>...</th>\n",
       "      <th colspan=\"2\" halign=\"left\">false_positives</th>\n",
       "      <th colspan=\"8\" halign=\"left\">false_negatives</th>\n",
       "    </tr>\n",
       "    <tr>\n",
       "      <th></th>\n",
       "      <th>count</th>\n",
       "      <th>mean</th>\n",
       "      <th>std</th>\n",
       "      <th>min</th>\n",
       "      <th>25%</th>\n",
       "      <th>50%</th>\n",
       "      <th>75%</th>\n",
       "      <th>max</th>\n",
       "      <th>count</th>\n",
       "      <th>mean</th>\n",
       "      <th>...</th>\n",
       "      <th>75%</th>\n",
       "      <th>max</th>\n",
       "      <th>count</th>\n",
       "      <th>mean</th>\n",
       "      <th>std</th>\n",
       "      <th>min</th>\n",
       "      <th>25%</th>\n",
       "      <th>50%</th>\n",
       "      <th>75%</th>\n",
       "      <th>max</th>\n",
       "    </tr>\n",
       "    <tr>\n",
       "      <th>model</th>\n",
       "      <th></th>\n",
       "      <th></th>\n",
       "      <th></th>\n",
       "      <th></th>\n",
       "      <th></th>\n",
       "      <th></th>\n",
       "      <th></th>\n",
       "      <th></th>\n",
       "      <th></th>\n",
       "      <th></th>\n",
       "      <th></th>\n",
       "      <th></th>\n",
       "      <th></th>\n",
       "      <th></th>\n",
       "      <th></th>\n",
       "      <th></th>\n",
       "      <th></th>\n",
       "      <th></th>\n",
       "      <th></th>\n",
       "      <th></th>\n",
       "      <th></th>\n",
       "    </tr>\n",
       "  </thead>\n",
       "  <tbody>\n",
       "    <tr>\n",
       "      <th>gpt-4o</th>\n",
       "      <td>1.0</td>\n",
       "      <td>1.0</td>\n",
       "      <td>NaN</td>\n",
       "      <td>1.0</td>\n",
       "      <td>1.0</td>\n",
       "      <td>1.0</td>\n",
       "      <td>1.0</td>\n",
       "      <td>1.0</td>\n",
       "      <td>1.0</td>\n",
       "      <td>3.0</td>\n",
       "      <td>...</td>\n",
       "      <td>0.0</td>\n",
       "      <td>0.0</td>\n",
       "      <td>1.0</td>\n",
       "      <td>0.0</td>\n",
       "      <td>NaN</td>\n",
       "      <td>0.0</td>\n",
       "      <td>0.0</td>\n",
       "      <td>0.0</td>\n",
       "      <td>0.0</td>\n",
       "      <td>0.0</td>\n",
       "    </tr>\n",
       "    <tr>\n",
       "      <th>gpt-4o-mini</th>\n",
       "      <td>1.0</td>\n",
       "      <td>1.0</td>\n",
       "      <td>NaN</td>\n",
       "      <td>1.0</td>\n",
       "      <td>1.0</td>\n",
       "      <td>1.0</td>\n",
       "      <td>1.0</td>\n",
       "      <td>1.0</td>\n",
       "      <td>1.0</td>\n",
       "      <td>3.0</td>\n",
       "      <td>...</td>\n",
       "      <td>0.0</td>\n",
       "      <td>0.0</td>\n",
       "      <td>1.0</td>\n",
       "      <td>0.0</td>\n",
       "      <td>NaN</td>\n",
       "      <td>0.0</td>\n",
       "      <td>0.0</td>\n",
       "      <td>0.0</td>\n",
       "      <td>0.0</td>\n",
       "      <td>0.0</td>\n",
       "    </tr>\n",
       "  </tbody>\n",
       "</table>\n",
       "<p>2 rows × 32 columns</p>\n",
       "</div>"
      ],
      "text/plain": [
       "            accuracy                                   true_positives       \\\n",
       "               count mean std  min  25%  50%  75%  max          count mean   \n",
       "model                                                                        \n",
       "gpt-4o           1.0  1.0 NaN  1.0  1.0  1.0  1.0  1.0            1.0  3.0   \n",
       "gpt-4o-mini      1.0  1.0 NaN  1.0  1.0  1.0  1.0  1.0            1.0  3.0   \n",
       "\n",
       "             ... false_positives      false_negatives                          \\\n",
       "             ...             75%  max           count mean std  min  25%  50%   \n",
       "model        ...                                                                \n",
       "gpt-4o       ...             0.0  0.0             1.0  0.0 NaN  0.0  0.0  0.0   \n",
       "gpt-4o-mini  ...             0.0  0.0             1.0  0.0 NaN  0.0  0.0  0.0   \n",
       "\n",
       "                       \n",
       "             75%  max  \n",
       "model                  \n",
       "gpt-4o       0.0  0.0  \n",
       "gpt-4o-mini  0.0  0.0  \n",
       "\n",
       "[2 rows x 32 columns]"
      ]
     },
     "metadata": {},
     "output_type": "display_data"
    }
   ],
   "source": [
    "import matplotlib.pyplot as plt\n",
    "import seaborn as sns\n",
    "\n",
    "# Set plotting style\n",
    "sns.set_palette(\"husl\")\n",
    "\n",
    "\n",
    "def plot_performance_comparison():\n",
    "    \"\"\"Create comprehensive performance visualization comparing models.\"\"\"\n",
    "    if len(experiments_df) > 1:\n",
    "        fig, (ax1, ax2) = plt.subplots(2, 1, figsize=(12, 10))\n",
    "\n",
    "        # Plot accuracy trends\n",
    "        sns.lineplot(\n",
    "            data=experiments_df,\n",
    "            x=\"run_date\",\n",
    "            y=\"accuracy\",\n",
    "            hue=\"model\",\n",
    "            marker=\"o\",\n",
    "            ax=ax1,\n",
    "        )\n",
    "        ax1.set_title(\"Model Accuracy Over Time\")\n",
    "        ax1.axhline(\n",
    "            y=0.7, color=\"r\", linestyle=\"--\", alpha=0.5, label=\"Minimum Threshold\"\n",
    "        )\n",
    "        ax1.set_ylim(0.5, 1.0)\n",
    "\n",
    "        # Plot error metrics\n",
    "        error_data = experiments_df.melt(\n",
    "            id_vars=[\"model\"],\n",
    "            value_vars=[\"false_positives\", \"false_negatives\"],\n",
    "            var_name=\"metric\",\n",
    "            value_name=\"count\",\n",
    "        )\n",
    "        sns.barplot(data=error_data, x=\"model\", y=\"count\", hue=\"metric\", ax=ax2)\n",
    "        ax2.set_title(\"Error Analysis by Model\")\n",
    "\n",
    "        plt.tight_layout()\n",
    "        plt.show()\n",
    "\n",
    "        # Show summary statistics\n",
    "        print(\"\\nPerformance Statistics by Model:\")\n",
    "        display(\n",
    "            experiments_df.groupby(\"model\")[\n",
    "                [\"accuracy\", \"true_positives\", \"false_positives\", \"false_negatives\"]\n",
    "            ].describe()\n",
    "        )\n",
    "\n",
    "\n",
    "plot_performance_comparison()"
   ]
  },
  {
   "cell_type": "markdown",
   "id": "999f79285821072a",
   "metadata": {},
   "source": [
    "## Save Results\n",
    "\n",
    "Optionally save experiment results for future analysis."
   ]
  },
  {
   "cell_type": "code",
   "execution_count": 12,
   "id": "6ac695545935f765",
   "metadata": {
    "ExecuteTime": {
     "end_time": "2025-01-14T21:03:01.335074Z",
     "start_time": "2025-01-14T21:03:01.330145Z"
    }
   },
   "outputs": [
    {
     "name": "stdout",
     "output_type": "stream",
     "text": [
      "Results saved to 'experiment_results.csv'\n"
     ]
    }
   ],
   "source": [
    "# Save experiment results\n",
    "experiments_df.to_csv(\"experiment_results.csv\", index=False)\n",
    "print(\"Results saved to 'experiment_results.csv'\")"
   ]
  }
 ],
 "metadata": {
  "kernelspec": {
   "display_name": "Python 3",
   "language": "python",
   "name": "python3"
  },
  "language_info": {
   "codemirror_mode": {
    "name": "ipython",
    "version": 2
   },
   "file_extension": ".py",
   "mimetype": "text/x-python",
   "name": "python",
   "nbconvert_exporter": "python",
   "pygments_lexer": "ipython2",
   "version": "2.7.6"
  }
 },
 "nbformat": 4,
 "nbformat_minor": 5
}
