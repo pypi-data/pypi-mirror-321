{
 "cells": [
  {
   "cell_type": "markdown",
   "id": "8217d056-c75e-446a-930d-24c5364d2041",
   "metadata": {},
   "source": [
    "## Use Case 2: Data from multiple sources in the animal lab\n",
    "### This notebook illustrates the usage of the pyvital class to visualize, annotate and process time-series data from the medical field.\n",
    "### In this case we analyze data from multiple sources from an animal lab experiment on cardiopulmonary resucitation. The main focus lies on aligning different time-series with clocks which are off."
   ]
  },
  {
   "cell_type": "code",
   "execution_count": 1,
   "id": "8865d157-3791-4855-a97f-54350306fd38",
   "metadata": {},
   "outputs": [],
   "source": [
    "from vitabel import Vitals, IntervalLabel\n",
    "from pathlib import Path\n",
    "import pandas as pd"
   ]
  },
  {
   "cell_type": "markdown",
   "id": "53b87624-1de6-4b01-a602-11836d567ac6",
   "metadata": {},
   "source": [
    "## 1) Load Data"
   ]
  },
  {
   "cell_type": "markdown",
   "id": "d33399f4-a038-46fe-add0-d65e80608df5",
   "metadata": {},
   "source": [
    " We first specify the file paths of the files to read. In this use-case 3 different types of files are read. The data from the mechanical CPR device is stored within an xml-export from a proprietary format. Data about airflow, capnography and airway pressure are stored in csv-Files. Since the time in these Files is saved as unix-time, values for time_start, time_unit are set. "
   ]
  },
  {
   "cell_type": "code",
   "execution_count": 4,
   "id": "53b61298-6e47-468d-ad38-8598aa57cdd4",
   "metadata": {},
   "outputs": [],
   "source": [
    "Flow_file = Path(\"data/flow.csv.bz2\")\n",
    "capnography_file = \"data/capno.csv.bz2\"\n",
    "airway_pressure_file = \"data/p1.csv.bz2\"\n",
    "Lucas_file = Path(\"data/Lucas_file_Lucas.xml\")\n",
    "vital_file = \"./data/vital_file.vit\""
   ]
  },
  {
   "cell_type": "markdown",
   "id": "5907eee4-a22e-4d09-a927-2cda1bfb190b",
   "metadata": {},
   "source": [
    "A new instance of the pyvital class is initialized and all data is loaded from the files afterward. "
   ]
  },
  {
   "cell_type": "code",
   "execution_count": 5,
   "id": "680a8cdb-9363-43e7-85fe-c887eaa4923c",
   "metadata": {},
   "outputs": [],
   "source": [
    "case = Vitals()\n",
    "case.add_defibrillator_recording(Lucas_file)\n",
    "case.add_data_from_csv(\n",
    "    Flow_file,\n",
    "    time_start=pd.Timestamp(1970, 1, 1, 0, 0, 0),\n",
    "    time_unit=\"ms\",\n",
    "    metadata={\"source\": \"volucapno\"},\n",
    "    index_col=\"timestamp\",\n",
    ")\n",
    "case.add_data_from_csv(\n",
    "    capnography_file,\n",
    "    time_start=pd.Timestamp(1970, 1, 1, 0, 0, 0),\n",
    "    time_unit=\"ms\",\n",
    "    metadata={\"source\": \"volucapno\"},\n",
    "    index_col=\"Timestamp\",\n",
    ")\n",
    "case.add_data_from_csv(\n",
    "    airway_pressure_file,\n",
    "    time_start=pd.Timestamp(1970, 1, 1, 0, 0, 0),\n",
    "    time_unit=\"ms\",\n",
    "    metadata={\"source\": \"volucapno\"},\n",
    "    index_col=0,\n",
    "    names=[\"airway_pressure\", \"temperature_1\"],\n",
    ")\n",
    "case.add_vital_db_recording(vital_file, metadata={\"source\": \"GE Healthcare monitor\"})"
   ]
  },
  {
   "cell_type": "markdown",
   "id": "40477b92-4d77-459b-b74b-bdf2afe0e3d0",
   "metadata": {},
   "source": [
    " We get an overview over all channels by calling the info routine"
   ]
  },
  {
   "cell_type": "code",
   "execution_count": null,
   "id": "e0f72738-92ab-46b8-ae5f-1b99e7de719f",
   "metadata": {},
   "outputs": [],
   "source": [
    "case.info()"
   ]
  },
  {
   "cell_type": "markdown",
   "id": "f7429c52-b609-4c1f-9f7f-afff41a30ee1",
   "metadata": {},
   "source": [
    "## 2) Process Data"
   ]
  },
  {
   "cell_type": "markdown",
   "id": "2cf848fd-13a9-42bc-a6d0-ec81f4e82bc4",
   "metadata": {},
   "source": [
    "Several channels are called and renamed according to our terminology."
   ]
  },
  {
   "cell_type": "code",
   "execution_count": null,
   "id": "f5b80780-8d7e-40b1-8b71-6737bccc1342",
   "metadata": {},
   "outputs": [],
   "source": [
    "capno_channel = case.get_channel(\"CO2 Concentration\")\n",
    "capno_channel.rename(\"capnography\")\n",
    "ibp_channel = case.get_channel(\"GE alt/IBP1\")\n",
    "case.get_channel(\"GE alt/PLETH\").rename(\"ppg\")"
   ]
  },
  {
   "cell_type": "markdown",
   "id": "be3c238c-5f28-4a88-a7db-1a85eda17d61",
   "metadata": {},
   "source": [
    "## 3) Interactively Plot Data\n"
   ]
  },
  {
   "cell_type": "markdown",
   "id": "6dad72c8-3d29-4d4b-8652-e9cb3b247b5d",
   "metadata": {},
   "source": [
    "The remaining channels are called. "
   ]
  },
  {
   "cell_type": "code",
   "execution_count": null,
   "id": "b838fd35-385c-4186-afe2-56ead3e8d62f",
   "metadata": {},
   "outputs": [],
   "source": [
    "CC_channel = case.get_channel(\"cc\")\n",
    "flow_channel = case.get_channel(\"airflow\")\n",
    "pressure_channel = case.get_channel(\"airway_pressure\")"
   ]
  },
  {
   "cell_type": "markdown",
   "id": "a21374d0-f4e0-401e-9adb-754252a2ecfc",
   "metadata": {},
   "source": [
    " New Labels which should be annotated are initialized. For marking noisy segments of the invasive blood pressure, an IntervalLabel is used. "
   ]
  },
  {
   "cell_type": "code",
   "execution_count": null,
   "id": "4c55d682-c55e-4e1e-bd49-3b4ca61796dd",
   "metadata": {},
   "outputs": [],
   "source": [
    "Blood_pressure_noise = IntervalLabel(\"Blood pressure noise\")\n",
    "Blood_pressure_noise.attach_to(ibp_channel)"
   ]
  },
  {
   "cell_type": "markdown",
   "id": "c5e9e5e7-4c54-4f12-a305-9db38d4f2d5e",
   "metadata": {},
   "source": [
    "Information about channels and labels and their attachment can be printed by the following routine"
   ]
  },
  {
   "cell_type": "code",
   "execution_count": null,
   "id": "017972da-6f17-4387-b282-da3341fb100f",
   "metadata": {},
   "outputs": [],
   "source": [
    "case.print_data_summary()"
   ]
  },
  {
   "cell_type": "markdown",
   "id": "597a22d5-aa9c-4182-805c-57caf17084ef",
   "metadata": {},
   "source": [
    "The plotstyle of the channels is adapted by the set_channel_plotstyle function. All keyword-arguments of axes.plot in matplotlib can be stored in the plotstyle dictionary. "
   ]
  },
  {
   "cell_type": "code",
   "execution_count": null,
   "id": "861e6074-5eb9-434d-8465-55817baa2dc8",
   "metadata": {},
   "outputs": [],
   "source": [
    "case.set_channel_plotstyle(capno_channel, color=\"goldenrod\", lw=1, alpha=0.8)\n",
    "case.set_channel_plotstyle(flow_channel, color=\"blue\", lw=1, alpha=0.8)\n",
    "case.set_channel_plotstyle(pressure_channel, color=\"green\", lw=1, alpha=0.8)\n",
    "case.set_channel_plotstyle(\n",
    "    CC_channel, color=\"purple\", marker=\"o\", alpha=0.8, linestyle=\"\"\n",
    ")\n",
    "case.set_channel_plotstyle(ibp_channel, color=\"red\", lw=1, alpha=0.8)\n",
    "case.set_label_plotstyle(Blood_pressure_noise, color=\"red\", lw=3, alpha=0.4)"
   ]
  },
  {
   "cell_type": "markdown",
   "id": "b006ed0c-31cf-44ef-9a85-1d8cfbb60343",
   "metadata": {},
   "source": [
    "An interactive plot is initialized and the channels are shifted in the 'Adjust'-Tab. \n",
    "\n",
    "Afterward, we label noisy segments in the blood-pressure signal in the 'Annotate'-Framework."
   ]
  },
  {
   "cell_type": "code",
   "execution_count": null,
   "id": "8e202974-35f4-481c-aa54-2241b42a8670",
   "metadata": {
    "scrolled": true
   },
   "outputs": [],
   "source": [
    "int_plot = case.plot_interactive(\n",
    "    channels=[\n",
    "        [flow_channel, CC_channel],\n",
    "        [capno_channel],\n",
    "        [pressure_channel],\n",
    "        [ibp_channel],\n",
    "    ],\n",
    "    labels=[[], [], [], [Blood_pressure_noise]],\n",
    "    channel_overviews=[[ibp_channel]],\n",
    "    time_unit=\"s\",\n",
    "    subplots_kwargs={\"figsize\": (22, 9)},\n",
    ")\n",
    "int_plot"
   ]
  },
  {
   "cell_type": "markdown",
   "id": "2fd99fa9-f56c-4966-a83d-03222a258c75",
   "metadata": {},
   "source": [
    "## 4) Store Data\n"
   ]
  },
  {
   "cell_type": "code",
   "execution_count": null,
   "id": "1c330f24-ce05-466f-ab15-8f03811e02ed",
   "metadata": {},
   "outputs": [],
   "source": [
    "case.save_data(\"case_2.json\")"
   ]
  }
 ],
 "metadata": {
  "kernelspec": {
   "display_name": ".venv",
   "language": "python",
   "name": "python3"
  },
  "language_info": {
   "codemirror_mode": {
    "name": "ipython",
    "version": 3
   },
   "file_extension": ".py",
   "mimetype": "text/x-python",
   "name": "python",
   "nbconvert_exporter": "python",
   "pygments_lexer": "ipython3",
   "version": "3.12.0"
  }
 },
 "nbformat": 4,
 "nbformat_minor": 5
}
