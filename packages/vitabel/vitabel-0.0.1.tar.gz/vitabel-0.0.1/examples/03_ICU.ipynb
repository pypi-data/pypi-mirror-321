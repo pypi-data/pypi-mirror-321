{
 "cells": [
  {
   "cell_type": "markdown",
   "id": "f23a1216-71c4-4158-a77f-ad9bbcb4f30d",
   "metadata": {},
   "source": [
    "# Use Case 3: Anesthesia Charts\n",
    "\n",
    "#### This notebook illustrates the usage of the vitabel package to visualize, annotate and process time-series data from the medical field.\n",
    "\n",
    "#### In this case we analyze data from anesthesia charts and add further labels to this data."
   ]
  },
  {
   "cell_type": "code",
   "execution_count": null,
   "id": "5341fa6c-1083-4daa-99a8-fadb30d89b46",
   "metadata": {},
   "outputs": [],
   "source": [
    "from vitabel import Vitals, Label"
   ]
  },
  {
   "cell_type": "markdown",
   "id": "34e111f4-d070-42e9-bbd2-ba9107b13c75",
   "metadata": {},
   "source": [
    "## 1) Load data"
   ]
  },
  {
   "cell_type": "markdown",
   "id": "c822de38-334a-4033-88d8-7c1d1358a718",
   "metadata": {},
   "source": [
    "A vitabel object is initialized and data which was saved with vitabel before is loaded again."
   ]
  },
  {
   "cell_type": "code",
   "execution_count": null,
   "id": "60dafd70-9638-4087-ae11-34df34ea4c03",
   "metadata": {},
   "outputs": [],
   "source": [
    "case = Vitals()\n",
    "case.load_data(\"data/usecase_3.json\")"
   ]
  },
  {
   "cell_type": "markdown",
   "id": "0428ba95-401c-4cf0-b3d1-9ea21b08034b",
   "metadata": {},
   "source": [
    "We get an overview over all channels and labels in the signal"
   ]
  },
  {
   "cell_type": "code",
   "execution_count": null,
   "id": "61cd9d88-37a5-4a70-9da5-9e08fc89883c",
   "metadata": {},
   "outputs": [],
   "source": [
    "case.info()"
   ]
  },
  {
   "cell_type": "markdown",
   "id": "76a8c5c2-1da1-4dba-90e7-fa5bcf810acd",
   "metadata": {},
   "source": [
    "## 3) Interactively plot and label data"
   ]
  },
  {
   "cell_type": "markdown",
   "id": "a2ae3b33-d327-4e14-8ffa-c74c965dc600",
   "metadata": {},
   "source": [
    "A new label for text in initialized and added to the vitabel object."
   ]
  },
  {
   "cell_type": "code",
   "execution_count": null,
   "id": "1d7d7ab9-e9c6-4ebe-bdfb-0ff8e23aff87",
   "metadata": {},
   "outputs": [],
   "source": [
    "AnesthesiaLabel = Label(\n",
    "    \"Anesthesia\", [], [], plotstyle={\"linestyle\": \"--\", \"marker\": None, \"color\": \"teal\"}\n",
    ")\n",
    "case.add_global_label(AnesthesiaLabel)"
   ]
  },
  {
   "cell_type": "markdown",
   "id": "9d5d252c-70dd-469f-8362-e59cf7f445cf",
   "metadata": {},
   "source": [
    "An interactive plot is initialized. Then the appearence of the figure is adapted, to better suit the use case. It is shown in the end."
   ]
  },
  {
   "cell_type": "code",
   "execution_count": null,
   "id": "7d22036e-bf72-4c9e-9dcf-d73f683fcaae",
   "metadata": {},
   "outputs": [],
   "source": [
    "plot = case.plot_interactive(\n",
    "    channels=[[0, 1, 2], [], []],\n",
    "    labels=[[\"Event\", \"Anesthesia\"], [\"Remifentanil\", \"Medication\"], [\"Sevofluran\"]],\n",
    "    subplots_kwargs={\"figsize\": (21, 9), \"gridspec_kw\": {\"height_ratios\": [5, 1, 0.5]}},\n",
    ")\n",
    "fig = plot.center.figure\n",
    "ax = fig.get_axes()\n",
    "ax[0].set_ylabel(\"Blood pressure (mmHg)\")\n",
    "ax[1].grid(False)\n",
    "ax[2].grid(False)\n",
    "fig.subplots_adjust(hspace=0.03)\n",
    "plot"
   ]
  },
  {
   "cell_type": "markdown",
   "id": "395694da-f331-410c-affe-2dc8f3e09ab9",
   "metadata": {},
   "source": [
    "## 4) Save data"
   ]
  },
  {
   "cell_type": "markdown",
   "id": "cab07b55-92f2-4c84-b963-e57c25c41246",
   "metadata": {},
   "source": [
    "The data is saved again in a json file."
   ]
  },
  {
   "cell_type": "code",
   "execution_count": null,
   "id": "1dca27ff-3b7c-4a20-8ec3-e40564621a58",
   "metadata": {},
   "outputs": [],
   "source": [
    "case.save_data(\"data/usecase_3_final.json\")"
   ]
  }
 ],
 "metadata": {
  "kernelspec": {
   "display_name": "cpr_venv",
   "language": "python",
   "name": "cpr_venv"
  },
  "language_info": {
   "codemirror_mode": {
    "name": "ipython",
    "version": 3
   },
   "file_extension": ".py",
   "mimetype": "text/x-python",
   "name": "python",
   "nbconvert_exporter": "python",
   "pygments_lexer": "ipython3",
   "version": "3.12.4"
  }
 },
 "nbformat": 4,
 "nbformat_minor": 5
}
