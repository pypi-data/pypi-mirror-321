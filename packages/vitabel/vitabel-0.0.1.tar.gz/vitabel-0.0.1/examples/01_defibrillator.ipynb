{
 "cells": [
  {
   "cell_type": "markdown",
   "id": "9602592c-49af-4f2c-99bb-c13b8832d9bd",
   "metadata": {},
   "source": [
    "# Use Case 1: Defibrillator data from real-world out-of-hospital cardiac arrest cases\n",
    "#### This notebook illustrates the usage of the pyvital class to visualize, annotate and process time-series data from the medical field.\n",
    "#### In this case we analyze data recorded by a defibrillator during a real-world out-of-hospital cardiac arrest case.\n"
   ]
  },
  {
   "cell_type": "code",
   "execution_count": 4,
   "id": "8865d157-3791-4855-a97f-54350306fd38",
   "metadata": {},
   "outputs": [],
   "source": [
    "import bz2\n",
    "import tempfile\n",
    "import shutil\n",
    "\n",
    "from vitabel import Vitals, Label\n",
    "from pathlib import Path"
   ]
  },
  {
   "cell_type": "markdown",
   "id": "71ab307b-df58-4187-ac0e-e92cfdc54834",
   "metadata": {},
   "source": [
    "## 1) Load Data\n",
    "\n",
    "An empty pyvital object is initiated and all the channels from a defibrillator recording (in this case a ZOLL X-Series case, stored in a `bz2`-compressed file) are loaded."
   ]
  },
  {
   "cell_type": "code",
   "execution_count": null,
   "id": "680a8cdb-9363-43e7-85fe-c887eaa4923c",
   "metadata": {},
   "outputs": [],
   "source": [
    "case = Vitals()\n",
    "\n",
    "compressed_defi_file = Path(\"data/ZOLL_test_case.json.bz2\")\n",
    "with tempfile.TemporaryDirectory() as tmpdir:\n",
    "    defi_file = Path(tmpdir) / compressed_defi_file.stem\n",
    "    with bz2.open(compressed_defi_file, \"rb\") as source:\n",
    "        with open(defi_file, \"wb\") as dest:\n",
    "            shutil.copyfileobj(source, dest)\n",
    "\n",
    "    case.add_defibrillator_recording(defi_file)"
   ]
  },
  {
   "cell_type": "markdown",
   "id": "61d0fe0a-0a5b-41bf-9cf5-eb9d6a7a97a8",
   "metadata": {},
   "source": [
    " We get an overview over all loaded channels by calling case.info()"
   ]
  },
  {
   "cell_type": "code",
   "execution_count": null,
   "id": "02d8aad2",
   "metadata": {},
   "outputs": [],
   "source": [
    "case.metadata"
   ]
  },
  {
   "cell_type": "code",
   "execution_count": null,
   "id": "e0f72738-92ab-46b8-ae5f-1b99e7de719f",
   "metadata": {
    "scrolled": true
   },
   "outputs": [],
   "source": [
    "case.info()"
   ]
  },
  {
   "cell_type": "markdown",
   "id": "db1de316-0b7e-4889-a7df-387f612acb86",
   "metadata": {},
   "source": [
    "## 2) Process Data"
   ]
  },
  {
   "cell_type": "markdown",
   "id": "da69a8fb-2221-483b-bc7f-ed12075f3f5f",
   "metadata": {},
   "source": [
    " We use the integrated methods to determine etco2 values from the capnography signal. \\\n",
    "Furthermore we use the cpr_acceleration signal and the ecg from the defibrillation pads to determine predictions for the circulatory state"
   ]
  },
  {
   "cell_type": "code",
   "execution_count": null,
   "id": "f5b80780-8d7e-40b1-8b71-6737bccc1342",
   "metadata": {},
   "outputs": [],
   "source": [
    "case.compute_etco2_and_ventilations()\n",
    "case.predict_circulation()"
   ]
  },
  {
   "cell_type": "markdown",
   "id": "3ad19543-11e8-4fa1-b7e1-e497fd5696da",
   "metadata": {},
   "source": [
    "We want to annotate occurances of Return of spontaneous circulation (ROSC), thus we create a label and add it to our case. \n"
   ]
  },
  {
   "cell_type": "code",
   "execution_count": null,
   "id": "d87a3a91-9ab5-4def-bab6-7ca0fd570c37",
   "metadata": {},
   "outputs": [],
   "source": [
    "ROSC_label = Label(\n",
    "    \"ROSC\", plotstyle={\"marker\": \"$\\u2665$\", \"color\": \"red\", \"ms\": 10, \"linestyle\": \"\"}\n",
    ")\n",
    "case.add_global_label(ROSC_label)"
   ]
  },
  {
   "cell_type": "markdown",
   "id": "b8fbdd2a-5511-4338-a32f-be65f7cecac8",
   "metadata": {},
   "source": [
    " We see the new labels if check out all labels present in our case"
   ]
  },
  {
   "cell_type": "code",
   "execution_count": null,
   "id": "fa41b2ae-4e84-4781-8981-4bdbcd58d6e0",
   "metadata": {},
   "outputs": [],
   "source": [
    "case.get_label_names()"
   ]
  },
  {
   "cell_type": "markdown",
   "id": "28ea434a-9206-4315-8bbc-78d5d628dd65",
   "metadata": {},
   "source": [
    "## 3) Interactively Plot Data\n"
   ]
  },
  {
   "cell_type": "markdown",
   "id": "6dd0dc57-1945-41a9-a442-65b08394edde",
   "metadata": {},
   "source": [
    "We provide a setup for the interactive plot. Then we check the validity of the etco2-values and additionally label the ROSCS which we think occured in this case. "
   ]
  },
  {
   "cell_type": "code",
   "execution_count": null,
   "id": "25784f03-9ca4-4572-95c2-79a34b155a81",
   "metadata": {},
   "outputs": [],
   "source": [
    "plot = case.plot_interactive(\n",
    "    channels=[[\"cpr_acceleration\"], [\"capnography\"], [\"ecg_pads\"], []],\n",
    "    labels=[\n",
    "        [\"ROSC\"],\n",
    "        [\"etco2_from_capnography\", \"ROSC\"],\n",
    "        [\"ROSC\"],\n",
    "        [\"ROSC\", \"rosc_probability\"],\n",
    "    ],\n",
    "    channel_overviews=[[\"cpr_acceleration\"]],\n",
    "    time_unit=\"s\",\n",
    "    subplots_kwargs={\"figsize\": (22, 9)},\n",
    ")\n",
    "plot"
   ]
  },
  {
   "cell_type": "markdown",
   "id": "bd25a8e6-0b93-4d8c-a042-f733f010aeb4",
   "metadata": {},
   "source": [
    "Show annotated ROSC data"
   ]
  },
  {
   "cell_type": "code",
   "execution_count": null,
   "id": "b51bcde7-f24a-4f70-b8de-57547dd6cf5d",
   "metadata": {},
   "outputs": [],
   "source": [
    "ROSC_label.get_data()"
   ]
  },
  {
   "cell_type": "markdown",
   "id": "e6e66a6d-a70d-40a3-835e-dfa7998c6522",
   "metadata": {},
   "source": [
    "## 4) Store Data\n"
   ]
  },
  {
   "cell_type": "code",
   "execution_count": null,
   "id": "1b70fdc2-9650-4630-8d7f-dda463fe5972",
   "metadata": {},
   "outputs": [],
   "source": [
    "case.save_data(\"case_1.json\")\n",
    "case.get_label(\"ROSC\").to_csv()"
   ]
  },
  {
   "cell_type": "code",
   "execution_count": null,
   "id": "00fbafcb-e999-4ee0-b809-1c91fac38fc3",
   "metadata": {},
   "outputs": [],
   "source": []
  }
 ],
 "metadata": {
  "kernelspec": {
   "display_name": ".venv",
   "language": "python",
   "name": "python3"
  },
  "language_info": {
   "codemirror_mode": {
    "name": "ipython",
    "version": 3
   },
   "file_extension": ".py",
   "mimetype": "text/x-python",
   "name": "python",
   "nbconvert_exporter": "python",
   "pygments_lexer": "ipython3",
   "version": "3.12.0"
  }
 },
 "nbformat": 4,
 "nbformat_minor": 5
}
