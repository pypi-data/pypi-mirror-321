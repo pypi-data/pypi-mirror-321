{
 "cells": [
  {
   "cell_type": "code",
   "execution_count": 13,
   "metadata": {},
   "outputs": [],
   "source": [
    "import pandas as pd\n",
    "import numpy as np\n",
    "import os\n",
    "from datetime import datetime"
   ]
  },
  {
   "cell_type": "code",
   "execution_count": 14,
   "metadata": {},
   "outputs": [],
   "source": [
    "pd.set_option('display.max_columns', None)\n",
    "pd.set_option('display.max_rows', None)"
   ]
  },
  {
   "cell_type": "markdown",
   "metadata": {},
   "source": [
    "# CLEANING DATABASE"
   ]
  },
  {
   "cell_type": "markdown",
   "metadata": {},
   "source": [
    "#### Reading csv"
   ]
  },
  {
   "cell_type": "code",
   "execution_count": 28,
   "metadata": {},
   "outputs": [],
   "source": [
    "#df_match_20082009 = pd.read_csv('../../initial/Footystats/spain-la-liga-matches-2008-to-2009-stats.csv')\n",
    "#df_match_20092010 = pd.read_csv('../../initial/Footystats/spain-la-liga-matches-2009-to-2010-stats.csv')\n",
    "#df_match_20102011 = pd.read_csv('../../initial/Footystats/spain-la-liga-matches-2010-to-2011-stats.csv')\n",
    "#df_match_20112012 = pd.read_csv('../../initial/Footystats/spain-la-liga-matches-2011-to-2012-stats.csv')\n",
    "#df_match_20122013 = pd.read_csv('../../initial/Footystats/spain-la-liga-matches-2012-to-2013-stats.csv')\n",
    "#df_match_20132014 = pd.read_csv('../../initial/Footystats/spain-la-liga-matches-2013-to-2014-stats.csv')\n",
    "#df_match_20142015 = pd.read_csv('../../initial/Footystats/spain-la-liga-matches-2014-to-2015-stats.csv')\n",
    "#df_match_20152016 = pd.read_csv('../../initial/Footystats/spain-la-liga-matches-2015-to-2016-stats.csv')\n",
    "#df_match_20162017 = pd.read_csv('../../initial/Footystats/spain-la-liga-matches-2016-to-2017-stats.csv')\n",
    "#df_match_20172018 = pd.read_csv('../../initial/Footystats/spain-la-liga-matches-2017-to-2018-stats.csv')\n",
    "#df_match_20182019 = pd.read_csv('../../initial/Footystats/spain-la-liga-matches-2018-to-2019-stats.csv')\n",
    "#df_match_20192020 = pd.read_csv('../../initial/Footystats/spain-la-liga-matches-2019-to-2020-stats.csv')\n",
    "#df_match_20202021 = pd.read_csv('../../initial/Footystats/spain-la-liga-matches-2020-to-2021-stats.csv')\n",
    "df_match_20212022 = pd.read_csv('2021-2022/matches_2021-2022.csv')\n",
    "df_match_20222023 = pd.read_csv('2022-2023/matches_2022-2023.csv')\n",
    "df_match_20232024 = pd.read_csv('2023-2024/matches_2023-2024.csv')\n",
    "#df_match_20242025 = pd.read_csv('../../initial/Footystats/spain-la-liga-matches-2024-to-2025-stats.csv')"
   ]
  },
  {
   "cell_type": "markdown",
   "metadata": {},
   "source": [
    "#### Merging dataset"
   ]
  },
  {
   "cell_type": "code",
   "execution_count": 29,
   "metadata": {},
   "outputs": [],
   "source": [
    "df_list = [\n",
    "    #df_match_20082009,\n",
    "    #df_match_20092010,\n",
    "    #df_match_20102011,\n",
    "    #df_match_20112012,\n",
    "    #df_match_20122013,\n",
    "    #df_match_20132014,\n",
    "    #df_match_20142015,\n",
    "    #df_match_20152016,\n",
    "    #df_match_20162017,\n",
    "    #df_match_20172018,\n",
    "    #df_match_20182019,\n",
    "    #df_match_20192020,\n",
    "    #df_match_20202021,\n",
    "    df_match_20212022,\n",
    "    df_match_20222023,\n",
    "    df_match_20232024,\n",
    "    #df_match_20242025\n",
    "]\n",
    "\n",
    "df = pd.concat(df_list, ignore_index=True)\n",
    "\n",
    "df = df.sort_values(by=['date_of_match', 'hour_of_the_match'], ascending=True)"
   ]
  },
  {
   "cell_type": "code",
   "execution_count": 30,
   "metadata": {},
   "outputs": [],
   "source": [
    "columns_to_keep = [\n",
    "    'date_of_match',\n",
    "    'hour_of_the_match',\n",
    "    'home_team_name', \n",
    "    'away_team_name', \n",
    "    'gameweek',\n",
    "    'home_trainer',\n",
    "    'away_trainer',\n",
    "    'stadium',\n",
    "    'home_PlayersGoals',\n",
    "    'away_PlayersGoals',\n",
    "    'link'\n",
    "]\n",
    "df = df[columns_to_keep]"
   ]
  },
  {
   "cell_type": "code",
   "execution_count": 31,
   "metadata": {},
   "outputs": [
    {
     "data": {
      "text/html": [
       "<div>\n",
       "<style scoped>\n",
       "    .dataframe tbody tr th:only-of-type {\n",
       "        vertical-align: middle;\n",
       "    }\n",
       "\n",
       "    .dataframe tbody tr th {\n",
       "        vertical-align: top;\n",
       "    }\n",
       "\n",
       "    .dataframe thead th {\n",
       "        text-align: right;\n",
       "    }\n",
       "</style>\n",
       "<table border=\"1\" class=\"dataframe\">\n",
       "  <thead>\n",
       "    <tr style=\"text-align: right;\">\n",
       "      <th></th>\n",
       "      <th>date_of_match</th>\n",
       "      <th>hour_of_the_match</th>\n",
       "      <th>home_team_name</th>\n",
       "      <th>away_team_name</th>\n",
       "      <th>gameweek</th>\n",
       "      <th>home_trainer</th>\n",
       "      <th>away_trainer</th>\n",
       "      <th>stadium</th>\n",
       "      <th>home_PlayersGoals</th>\n",
       "      <th>away_PlayersGoals</th>\n",
       "      <th>link</th>\n",
       "    </tr>\n",
       "  </thead>\n",
       "  <tbody>\n",
       "    <tr>\n",
       "      <th>0</th>\n",
       "      <td>2021-08-13 00:00:00</td>\n",
       "      <td>21:00</td>\n",
       "      <td>Valencia</td>\n",
       "      <td>Getafe</td>\n",
       "      <td>1</td>\n",
       "      <td>Pepe Bordalás</td>\n",
       "      <td>Míchel</td>\n",
       "      <td>Estadio de Mestalla, Valencia</td>\n",
       "      <td>1.0</td>\n",
       "      <td>0.0</td>\n",
       "      <td>https://fbref.com/es/partidos/e69c743a/Valenci...</td>\n",
       "    </tr>\n",
       "    <tr>\n",
       "      <th>1</th>\n",
       "      <td>2021-08-14 00:00:00</td>\n",
       "      <td>19:30</td>\n",
       "      <td>Mallorca</td>\n",
       "      <td>Real Betis</td>\n",
       "      <td>1</td>\n",
       "      <td>Luis García</td>\n",
       "      <td>Manuel Pellegrini</td>\n",
       "      <td>Iberostar Estadi, Palma de Mallorca</td>\n",
       "      <td>1.0</td>\n",
       "      <td>0.0</td>\n",
       "      <td>https://fbref.com/es/partidos/7e4bbae4/Mallorc...</td>\n",
       "    </tr>\n",
       "    <tr>\n",
       "      <th>2</th>\n",
       "      <td>2021-08-14 00:00:00</td>\n",
       "      <td>19:30</td>\n",
       "      <td>Cádiz</td>\n",
       "      <td>Levante</td>\n",
       "      <td>1</td>\n",
       "      <td>Álvaro Cervera</td>\n",
       "      <td>Paco López</td>\n",
       "      <td>Estadio Nuevo Mirandilla, Cádiz</td>\n",
       "      <td>1.0</td>\n",
       "      <td>1.0</td>\n",
       "      <td>https://fbref.com/es/partidos/bc5ea8ef/Cadiz-L...</td>\n",
       "    </tr>\n",
       "    <tr>\n",
       "      <th>3</th>\n",
       "      <td>2021-08-14 00:00:00</td>\n",
       "      <td>22:00</td>\n",
       "      <td>Alavés</td>\n",
       "      <td>Real Madrid</td>\n",
       "      <td>1</td>\n",
       "      <td>Javier Calleja</td>\n",
       "      <td>Carlo Ancelotti</td>\n",
       "      <td>Estadio de Mendizorroza, Vitoria-Gasteiz</td>\n",
       "      <td>1.0</td>\n",
       "      <td>4.0</td>\n",
       "      <td>https://fbref.com/es/partidos/9613fb68/Alaves-...</td>\n",
       "    </tr>\n",
       "    <tr>\n",
       "      <th>4</th>\n",
       "      <td>2021-08-14 00:00:00</td>\n",
       "      <td>22:00</td>\n",
       "      <td>Osasuna</td>\n",
       "      <td>Espanyol</td>\n",
       "      <td>1</td>\n",
       "      <td>Jagoba Arrasate</td>\n",
       "      <td>Vicente Moreno</td>\n",
       "      <td>Estadio El Sadar, Pamplona</td>\n",
       "      <td>0.0</td>\n",
       "      <td>0.0</td>\n",
       "      <td>https://fbref.com/es/partidos/fc0ee51a/Osasuna...</td>\n",
       "    </tr>\n",
       "  </tbody>\n",
       "</table>\n",
       "</div>"
      ],
      "text/plain": [
       "         date_of_match hour_of_the_match home_team_name away_team_name  \\\n",
       "0  2021-08-13 00:00:00             21:00       Valencia         Getafe   \n",
       "1  2021-08-14 00:00:00             19:30       Mallorca     Real Betis   \n",
       "2  2021-08-14 00:00:00             19:30          Cádiz        Levante   \n",
       "3  2021-08-14 00:00:00             22:00         Alavés    Real Madrid   \n",
       "4  2021-08-14 00:00:00             22:00        Osasuna       Espanyol   \n",
       "\n",
       "   gameweek     home_trainer       away_trainer  \\\n",
       "0         1    Pepe Bordalás             Míchel   \n",
       "1         1      Luis García  Manuel Pellegrini   \n",
       "2         1   Álvaro Cervera         Paco López   \n",
       "3         1   Javier Calleja    Carlo Ancelotti   \n",
       "4         1  Jagoba Arrasate     Vicente Moreno   \n",
       "\n",
       "                                    stadium  home_PlayersGoals  \\\n",
       "0             Estadio de Mestalla, Valencia                1.0   \n",
       "1       Iberostar Estadi, Palma de Mallorca                1.0   \n",
       "2           Estadio Nuevo Mirandilla, Cádiz                1.0   \n",
       "3  Estadio de Mendizorroza, Vitoria-Gasteiz                1.0   \n",
       "4                Estadio El Sadar, Pamplona                0.0   \n",
       "\n",
       "   away_PlayersGoals                                               link  \n",
       "0                0.0  https://fbref.com/es/partidos/e69c743a/Valenci...  \n",
       "1                0.0  https://fbref.com/es/partidos/7e4bbae4/Mallorc...  \n",
       "2                1.0  https://fbref.com/es/partidos/bc5ea8ef/Cadiz-L...  \n",
       "3                4.0  https://fbref.com/es/partidos/9613fb68/Alaves-...  \n",
       "4                0.0  https://fbref.com/es/partidos/fc0ee51a/Osasuna...  "
      ]
     },
     "execution_count": 31,
     "metadata": {},
     "output_type": "execute_result"
    }
   ],
   "source": [
    "df.head()"
   ]
  },
  {
   "cell_type": "code",
   "execution_count": 32,
   "metadata": {},
   "outputs": [
    {
     "name": "stdout",
     "output_type": "stream",
     "text": [
      "<class 'pandas.core.frame.DataFrame'>\n",
      "Index: 1140 entries, 0 to 8\n",
      "Data columns (total 11 columns):\n",
      " #   Column             Non-Null Count  Dtype  \n",
      "---  ------             --------------  -----  \n",
      " 0   date_of_match      1140 non-null   object \n",
      " 1   hour_of_the_match  1140 non-null   object \n",
      " 2   home_team_name     1140 non-null   object \n",
      " 3   away_team_name     1140 non-null   object \n",
      " 4   gameweek           1140 non-null   int64  \n",
      " 5   home_trainer       1140 non-null   object \n",
      " 6   away_trainer       1140 non-null   object \n",
      " 7   stadium            1140 non-null   object \n",
      " 8   home_PlayersGoals  1140 non-null   float64\n",
      " 9   away_PlayersGoals  1140 non-null   float64\n",
      " 10  link               1140 non-null   object \n",
      "dtypes: float64(2), int64(1), object(8)\n",
      "memory usage: 106.9+ KB\n"
     ]
    }
   ],
   "source": [
    "df.info()"
   ]
  },
  {
   "cell_type": "markdown",
   "metadata": {},
   "source": [
    "#### Working on date and hour"
   ]
  },
  {
   "cell_type": "code",
   "execution_count": 33,
   "metadata": {},
   "outputs": [
    {
     "name": "stdout",
     "output_type": "stream",
     "text": [
      "  date_of_match hour_of_the_match home_team_name away_team_name  gameweek  \\\n",
      "7       Unknown           Unknown        Unknown        Unknown         1   \n",
      "8       Unknown           Unknown        Unknown        Unknown         1   \n",
      "\n",
      "  home_trainer away_trainer  stadium  home_PlayersGoals  away_PlayersGoals  \\\n",
      "7      Unknown      Unknown  Unknown                3.0                0.0   \n",
      "8      Unknown      Unknown  Unknown                0.0                0.0   \n",
      "\n",
      "                                                link  \n",
      "7  https://fbref.com/es/partidos/170fe01e/Sevilla...  \n",
      "8  https://fbref.com/es/partidos/953c7040/Villarr...  \n"
     ]
    }
   ],
   "source": [
    "print(df[df['date_of_match'] == 'Unknown'])"
   ]
  },
  {
   "cell_type": "code",
   "execution_count": 34,
   "metadata": {},
   "outputs": [
    {
     "name": "stdout",
     "output_type": "stream",
     "text": [
      "  date_of_match hour_of_the_match home_team_name away_team_name  gameweek  \\\n",
      "7       Unknown           Unknown        Unknown        Unknown         1   \n",
      "8       Unknown           Unknown        Unknown        Unknown         1   \n",
      "\n",
      "  home_trainer away_trainer  stadium  home_PlayersGoals  away_PlayersGoals  \\\n",
      "7      Unknown      Unknown  Unknown                3.0                0.0   \n",
      "8      Unknown      Unknown  Unknown                0.0                0.0   \n",
      "\n",
      "                                                link  \n",
      "7  https://fbref.com/es/partidos/170fe01e/Sevilla...  \n",
      "8  https://fbref.com/es/partidos/953c7040/Villarr...  \n"
     ]
    }
   ],
   "source": [
    "print(df[df['hour_of_the_match'] == 'Unknown'])"
   ]
  },
  {
   "cell_type": "markdown",
   "metadata": {},
   "source": [
    "#### Working on match result"
   ]
  },
  {
   "cell_type": "code",
   "execution_count": null,
   "metadata": {},
   "outputs": [],
   "source": [
    "df['home_PlayersGoals'].value_counts()"
   ]
  },
  {
   "cell_type": "code",
   "execution_count": null,
   "metadata": {},
   "outputs": [],
   "source": [
    "df['away_PlayersGoals'].value_counts()"
   ]
  },
  {
   "cell_type": "code",
   "execution_count": 26,
   "metadata": {},
   "outputs": [],
   "source": [
    "df['match_result'] = df.apply(\n",
    "    lambda row: 1 if row['home_PlayersGoals'] > row['away_PlayersGoals'] \n",
    "    else (-1 if row['home_PlayersGoals'] < row['away_PlayersGoals'] \n",
    "          else 0), \n",
    "    axis=1\n",
    ")"
   ]
  },
  {
   "cell_type": "code",
   "execution_count": null,
   "metadata": {},
   "outputs": [],
   "source": [
    "df['match_result'].value_counts()"
   ]
  },
  {
   "cell_type": "markdown",
   "metadata": {},
   "source": [
    "#### Working on teams names"
   ]
  },
  {
   "cell_type": "code",
   "execution_count": null,
   "metadata": {},
   "outputs": [],
   "source": [
    "df['home_team_name'].value_counts()"
   ]
  },
  {
   "cell_type": "code",
   "execution_count": null,
   "metadata": {},
   "outputs": [],
   "source": [
    "df['away_team_name'].value_counts()"
   ]
  },
  {
   "cell_type": "markdown",
   "metadata": {},
   "source": [
    "#### Working on goals statistics - A hacer"
   ]
  },
  {
   "cell_type": "code",
   "execution_count": 67,
   "metadata": {},
   "outputs": [],
   "source": [
    "def calcular_media_partidos_anteriores_home_team(equipo, actual_idx, columna, dataset, n=3):\n",
    "    partidos_anteriores = dataset[\n",
    "        (dataset['home_team_name'] == equipo) &\n",
    "        (dataset.index < actual_idx)\n",
    "    ].iloc[-n:]\n",
    "    return partidos_anteriores[columna].mean() if not partidos_anteriores.empty else None\n",
    "\n",
    "home_team_goal_count_3 = df_match_since_2008.apply(\n",
    "    lambda row: calcular_media_partidos_anteriores_home_team(\n",
    "        equipo=row['home_team_name'], \n",
    "        actual_idx=row.name, \n",
    "        columna='home_team_goal_count', \n",
    "        dataset=df_match_since_2008, \n",
    "        n=3\n",
    "    ), \n",
    "    axis=1\n",
    ")\n",
    "\n",
    "home_team_goal_count_10 = df_match_since_2008.apply(\n",
    "    lambda row: calcular_media_partidos_anteriores_home_team(\n",
    "        equipo=row['home_team_name'], \n",
    "        actual_idx=row.name, \n",
    "        columna='home_team_goal_count', \n",
    "        dataset=df_match_since_2008, \n",
    "        n=10\n",
    "    ), \n",
    "    axis=1\n",
    ")\n",
    "\n",
    "def calcular_sum_partidos_anteriores_home_team(equipo, actual_idx, columna, dataset, n=3):\n",
    "    partidos_anteriores = dataset[\n",
    "        (dataset['home_team_name'] == equipo) &\n",
    "        (dataset.index < actual_idx)\n",
    "    ].iloc[-n:]\n",
    "    return partidos_anteriores[columna].mean() if not partidos_anteriores.empty else None\n",
    "\n",
    "df_match_since_2008 = pd.concat(\n",
    "    [df_match_since_2008, home_team_goal_count_3.rename('home_team_goal_count_3'), home_team_goal_count_10.rename('home_team_goal_count_10')], \n",
    "    axis=1\n",
    ")"
   ]
  },
  {
   "cell_type": "code",
   "execution_count": 68,
   "metadata": {},
   "outputs": [],
   "source": [
    "'''def calcular_sum_goals_partidos_anteriores_home_team(equipo, actual_idx, columna, dataset):\n",
    "    game_week_actual = dataset.loc[actual_idx, 'Game Week']\n",
    "    \n",
    "    primer_game_week = dataset[(dataset['home_team_name'] == equipo) & (dataset['Game Week'] == 1)].iloc[0]\n",
    "    \n",
    "    partidos_anteriores = dataset[\n",
    "        (dataset['home_team_name'] == equipo) &  \n",
    "        (dataset.index < actual_idx) &  \n",
    "        (dataset['Game Week'] >= primer_game_week['Game Week'])  \n",
    "    ]\n",
    "    \n",
    "    return partidos_anteriores[columna].sum() if not partidos_anteriores.empty else None'''"
   ]
  },
  {
   "cell_type": "code",
   "execution_count": null,
   "metadata": {},
   "outputs": [],
   "source": [
    "df_match_since_2008['home_team_goal_count_sum'] = df_match_since_2008.apply(\n",
    "    lambda row: calcular_sum_goals_partidos_anteriores_home_team(\n",
    "        equipo=row['home_team_name'], \n",
    "        actual_idx=row.name, \n",
    "        columna='home_team_goal_count', \n",
    "        dataset=df_match_since_2008\n",
    "    ), \n",
    "    axis=1\n",
    ")"
   ]
  },
  {
   "cell_type": "code",
   "execution_count": null,
   "metadata": {},
   "outputs": [],
   "source": [
    "df_match_since_2008.loc[df_match_since_2008['home_team_name'] == 'RCD Espanyol', ['home_team_name', 'home_ppg', 'home_ppg_3', 'home_ppg_10', 'home_team_goal_count_sum']].head(50)"
   ]
  },
  {
   "cell_type": "code",
   "execution_count": 149,
   "metadata": {},
   "outputs": [],
   "source": [
    "df_match_since_2008 = df_match_since_2008.drop(columns=['HomeTeam', 'AwayTeam' , 'Date', 'FTHG', \n",
    "'FTAG', 'HTHG', 'HTAG', 'HTR', 'HY', 'AY', 'HR', 'AR' ,'team_a_xg', 'team_b_xg', 'Away Team Pre-Match xG', \n",
    "'Home Team Pre-Match xG', 'home_ppg', 'away_ppg', 'away_team_possession', 'home_team_possession', 'home_team_shots', 'away_team_shots', \n",
    "'home_team_shots_on_target', 'away_team_shots_on_target', 'home_team_fouls', 'away_team_fouls', \n",
    "'home_team_corner_count', 'away_team_corner_count', 'odds_ft_over15', 'odds_ft_over25', \n",
    "'odds_ft_over35', 'odds_ft_over45', 'odds_btts_yes', 'odds_btts_no', 'odds_ft_home_team_win', \n",
    "'odds_ft_draw','odds_ft_away_team_win', 'status', 'timestamp'])"
   ]
  },
  {
   "cell_type": "code",
   "execution_count": 150,
   "metadata": {},
   "outputs": [],
   "source": [
    "df_match_since_2008 = df_match_since_2008.rename(columns={'HS': 'home_team_shots'})\n",
    "df_match_since_2008 = df_match_since_2008.rename(columns={'AS': 'away_team_shots'})\n",
    "df_match_since_2008 = df_match_since_2008.rename(columns={'HST': 'home_team_shots_on_target'})\n",
    "df_match_since_2008 = df_match_since_2008.rename(columns={'AST': 'away_team_shots_on_target'})\n",
    "df_match_since_2008 = df_match_since_2008.rename(columns={'HF': 'home_team_fouls'})\n",
    "df_match_since_2008 = df_match_since_2008.rename(columns={'AF': 'away_team_fouls'})\n",
    "df_match_since_2008 = df_match_since_2008.rename(columns={'HC': 'home_team_corner_count'})\n",
    "df_match_since_2008 = df_match_since_2008.rename(columns={'AC': 'away_team_corner_count'})"
   ]
  },
  {
   "cell_type": "code",
   "execution_count": null,
   "metadata": {},
   "outputs": [],
   "source": [
    "df_match_since_2008.head()"
   ]
  },
  {
   "cell_type": "markdown",
   "metadata": {},
   "source": [
    "#### Working on stadiums - A hacer"
   ]
  },
  {
   "cell_type": "code",
   "execution_count": null,
   "metadata": {},
   "outputs": [],
   "source": []
  },
  {
   "cell_type": "markdown",
   "metadata": {},
   "source": [
    "#### Adding columns % attendance - A hacer"
   ]
  },
  {
   "cell_type": "code",
   "execution_count": null,
   "metadata": {},
   "outputs": [],
   "source": [
    "df_match_since_2008['stadium_name'].value_counts()"
   ]
  },
  {
   "cell_type": "code",
   "execution_count": 153,
   "metadata": {},
   "outputs": [],
   "source": [
    "stadium_names = {\n",
    "    'Estadio Ramón Sánchez Pizjuán': 'Estadio Ramón Sánchez Pizjuán (Sevilla)',\n",
    "    'RCDE Stadium': 'RCDE Stadium (Cornella de Llobregat)',\n",
    "    'Estadio de Mestalla': 'Estadio de Mestalla (Valencia)',\n",
    "    'Estadio Santiago Bernabéu': 'Estadio Santiago Bernabéu (Madrid)',\n",
    "    'Camp Nou': 'Spotify Camp Nou (Barcelona)',\n",
    "    'Camp Nou (Barcelona)': 'Spotify Camp Nou (Barcelona)',\n",
    "    'Estadio de la Cerámica': 'Estadio de la Cerámica (Villarreal)',\n",
    "    'Estadio del Rayo Vallecano (de Vallecas Teresa Rivero) (Madrid)': 'Estadio de Vallecas (Madrid)',\n",
    "    'Estadio de Balaídos (Vigo)': 'Estadio Abanca-Balaídos (Vigo)',\n",
    "    'Abanca-Balaídos (Vigo)': 'Estadio Abanca-Balaídos (Vigo)',\n",
    "    'Power Horse Stadium - Estadio de los Juegos Mediterráneos (Almería)': 'Estadio de los Juegos Mediterráneos (Almería)',\n",
    "    'Power Horse Stadium (Almería)': 'Estadio de los Juegos Mediterráneos (Almería)',\n",
    "    'Estadio Wanda Metropolitano (Madrid)': 'Riyadh Air Metropolitano (Madrid)',\n",
    "    'Estadio Ciudad de Valencia': 'Estadio Ciudad de Valencia (Valencia)',\n",
    "    'Stage Front Stadium (Cornella de Llobregat)': 'RCDE Stadium (Cornella de Llobregat)',\n",
    "    'Estadio El Sadar': 'Estadio El Sadar (Pamplona (Iruñea))',\n",
    "    'Estadio Coliseum (Getafe)': 'Coliseum Alfonso Pérez (Getafe)',\n",
    "    'Coliseum Alfonso Pérez': 'Coliseum Alfonso Pérez (Getafe)',\n",
    "    'Estadio Municipal de Anoeta': 'Reale Arena (Donostia-San Sebastián)',\n",
    "    'San Mamés Barria': 'San Mamés Barria (Bilbao)',\n",
    "    'Iberostar Estadi': 'Iberostar Estadi (Palma de Mallorca)',\n",
    "    'Estádio Cívitas Metropolitano (Madrid)': 'Riyadh Air Metropolitano (Madrid)',\n",
    "    'Estadio Municipal de Riazor (A Coruña (La Coruña))': 'Estadio Abanca-Riazor (A Coruña (La Coruña))',\n",
    "    'Estadio Municipal de Ipurúa': 'Estadio Municipal de Ipurúa (Eibar)',\n",
    "    'Estadio Ramón de Carranza (Cádiz)': 'Estadio Nuevo Mirandilla (Cádiz)',\n",
    "    'Estadio Manuel Martínez Valero': 'Estadio Manuel Martínez Valero (Elche)',\n",
    "    'Estadio de Gran Canaria (Las Palmas de Gran Canaria)': 'Estadio de Gran Canaria (Las Palmas)',\n",
    "    'Visit Mallorca Estadi (Palma de Mallorca)': 'Iberostar Estadi (Palma de Mallorca)',\n",
    "    'Estadi Mallorca Son Moix (Palma de Mallorca)': 'Iberostar Estadi (Palma de Mallorca)',\n",
    "    'Estadi Municipal de Montilivi': 'Estadi Municipal de Montilivi (Girona)',\n",
    "    'Estadio Nuevo Arcángel': 'Estadio Nuevo Arcángel (Cordoba)',\n",
    "    'Estadio Municipal de Anoeta (San Sebastián)': 'Reale Arena (Donostia-San Sebastián)'\n",
    "}\n",
    "\n",
    "df_match_since_2008['stadium_name'] = df_match_since_2008['stadium_name'].replace(stadium_names)"
   ]
  },
  {
   "cell_type": "code",
   "execution_count": 154,
   "metadata": {},
   "outputs": [],
   "source": [
    "conditions = [\n",
    "    (df_match_since_2008['stadium_name'] == 'Estadi Olímpic Lluís Companys (Barcelona)'),\n",
    "    (df_match_since_2008['stadium_name'] == 'Estadio de Mestalla (Valencia)'),\n",
    "    (df_match_since_2008['stadium_name'] == 'Estadio San Mamés (old) (Bilbao)'),\n",
    "    (df_match_since_2008['stadium_name'] == 'Estadio Vicente Calderón (Madrid)'),\n",
    "    (df_match_since_2008['stadium_name'] == 'Estadio Benito Villamarín (Sevilla)'),\n",
    "    (df_match_since_2008['stadium_name'] == 'Estadio Municipal El Molinón (Gijón)'),\n",
    "    (df_match_since_2008['stadium_name'] == 'Campos de Sport de El Sardinero (Santander)'),\n",
    "    (df_match_since_2008['stadium_name'] == 'Nuevo Estadio Los Pajaritos (Soria)'),\n",
    "    (df_match_since_2008['stadium_name'] == 'Estadio El Sadar (Pamplona (Iruñea))'),\n",
    "    (df_match_since_2008['stadium_name'] == 'Estadio Municipal José Zorrilla (Valladolid)'),\n",
    "    (df_match_since_2008['stadium_name'] == 'Spotify Camp Nou (Barcelona)'),\n",
    "    (df_match_since_2008['stadium_name'] == 'Estadio Ramón Sánchez Pizjuán (Sevilla)'),\n",
    "    (df_match_since_2008['stadium_name'] == 'Estadio Nuevo Colombino (Huelva)'),\n",
    "    (df_match_since_2008['stadium_name'] == 'Coliseum Alfonso Pérez (Getafe)'),\n",
    "    (df_match_since_2008['stadium_name'] == 'Estadio de la Cerámica (Villarreal)'),\n",
    "    (df_match_since_2008['stadium_name'] == 'Iberostar Estadi (Palma de Mallorca)'),\n",
    "    (df_match_since_2008['stadium_name'] == 'Estadio Santiago Bernabéu (Madrid)'),\n",
    "    (df_match_since_2008['stadium_name'] == 'RCDE Stadium (Cornella de Llobregat)'),\n",
    "    (df_match_since_2008['stadium_name'] == 'Estadio Abanca-Balaídos (Vigo)'),\n",
    "    (df_match_since_2008['stadium_name'] == 'Estadio de Vallecas (Madrid)'),\n",
    "    (df_match_since_2008['stadium_name'] == 'Reale Arena (Donostia-San Sebastián)'),\n",
    "    (df_match_since_2008['stadium_name'] == 'San Mamés Barria (Bilbao)'),\n",
    "    (df_match_since_2008['stadium_name'] == 'Estadio La Rosaleda (Málaga)'),\n",
    "    (df_match_since_2008['stadium_name'] == 'Estadio de Mendizorroza (Vitoria-Gasteiz)'),\n",
    "    (df_match_since_2008['stadium_name'] == 'Estadio Nuevo Los Cármenes (Granada)'),\n",
    "    (df_match_since_2008['stadium_name'] == 'Estadio Ciudad de Valencia (Valencia)'),\n",
    "    (df_match_since_2008['stadium_name'] == 'Estadio Municipal de Ipurúa (Eibar)'),\n",
    "    (df_match_since_2008['stadium_name'] == 'Estadi Municipal de Montilivi (Girona)'),\n",
    "    (df_match_since_2008['stadium_name'] == 'Estadio Abanca-Riazor (A Coruña (La Coruña))'),\n",
    "    (df_match_since_2008['stadium_name'] == 'Estadio Nuevo Mirandilla (Cádiz)'),\n",
    "    (df_match_since_2008['stadium_name'] == 'Estadio de la Romareda (Zaragoza)'),\n",
    "    (df_match_since_2008['stadium_name'] == 'Estadio Manuel Martínez Valero (Elche)'),\n",
    "    (df_match_since_2008['stadium_name'] == 'Estadio Municipal de Butarque (Leganés)'),\n",
    "    (df_match_since_2008['stadium_name'] == 'Estadio El Alcoraz (Huesca)'),\n",
    "    (df_match_since_2008['stadium_name'] == 'Estadio de los Juegos Mediterráneos (Almería)'),\n",
    "    (df_match_since_2008['stadium_name'] == 'Estadio de Gran Canaria (Las Palmas de Gran Canaria)'),\n",
    "    (df_match_since_2008['stadium_name'] == 'Estadio Alfredo Di Stéfano (Madrid)'),\n",
    "    (df_match_since_2008['stadium_name'] == 'Estadio Heliodoro Rodríguez Lopéz (Santa Cruz de Tenerife (Tenerife))'),\n",
    "    (df_match_since_2008['stadium_name'] == 'Estadio Nuevo Arcángel (Córdoba)'),\n",
    "    (df_match_since_2008['stadium_name'] == 'Estadio Camilo Cano (La Nucía)'),\n",
    "    (df_match_since_2008['stadium_name'] == 'Riyadh Air Metropolitano (Madrid)')\n",
    "]\n",
    "\n",
    "values = [49472, 49430, 39750, 54907, 60721, 30000, 22222, 8261, 23576, 27618, \n",
    "           99354, 43883, 21670, 16500, 23500, 26020, 78297, 40000, 24870, 14708, \n",
    "           40000, 53289, 30044, 19840, 19189, 26354, 8164, 14624, 32490, 20724, \n",
    "           33608, 31388, 12454, 9100, 18331, 32400, 6000, 22824, 21384, 5000, 70460]\n",
    "\n",
    "df_match_since_2008['capacity'] = np.select(conditions, values)"
   ]
  },
  {
   "cell_type": "code",
   "execution_count": 155,
   "metadata": {},
   "outputs": [],
   "source": [
    "df_match_since_2008['attendance%'] = df_match_since_2008['attendance']/df_match_since_2008['capacity']"
   ]
  },
  {
   "cell_type": "code",
   "execution_count": 156,
   "metadata": {},
   "outputs": [],
   "source": [
    "df_match_since_2008['attendance%'] = df_match_since_2008['attendance%'].apply(lambda x: 1 if x > 1.0 else x)"
   ]
  },
  {
   "cell_type": "code",
   "execution_count": null,
   "metadata": {},
   "outputs": [],
   "source": [
    "df_match_since_2008.head()"
   ]
  },
  {
   "cell_type": "code",
   "execution_count": null,
   "metadata": {},
   "outputs": [],
   "source": [
    "nan_count = df_match_since_2008['attendance%'].isna().sum()\n",
    "\n",
    "print(f\"Número de filas con NaN en 'attendance%': {nan_count}\")"
   ]
  },
  {
   "cell_type": "markdown",
   "metadata": {},
   "source": [
    "#### Working on referees - A hacer"
   ]
  },
  {
   "cell_type": "code",
   "execution_count": 159,
   "metadata": {},
   "outputs": [],
   "source": [
    "df_match_since_2008['referee'] = df_match_since_2008['referee'].astype(str)"
   ]
  },
  {
   "cell_type": "code",
   "execution_count": null,
   "metadata": {},
   "outputs": [],
   "source": [
    "df_match_since_2008['referee'].value_counts()"
   ]
  },
  {
   "cell_type": "code",
   "execution_count": null,
   "metadata": {},
   "outputs": [],
   "source": [
    "match_ids_with_null_referee = df_match_since_2008['match_id'][df_match_since_2008['referee'] == 'nan'].tolist()\n",
    "match_ids_with_null_referee.sort()  \n",
    "print(match_ids_with_null_referee)"
   ]
  },
  {
   "cell_type": "code",
   "execution_count": null,
   "metadata": {},
   "outputs": [],
   "source": [
    "df_match_since_2008['home_team_name'].value_counts()"
   ]
  },
  {
   "cell_type": "code",
   "execution_count": 163,
   "metadata": {},
   "outputs": [],
   "source": [
    "def assign_referee(row):\n",
    "    if row['match_id'] in [2, 24, 57, 88, 104, 134, 157, 171, 196, 219, 243, 259, 266, 292, 308, 355, 362, 388, 402, 428, 444,\n",
    "    463, 489, 511, 525, 547, 568, 581, 613, 634, 651, 667, 690, 723, 739, 754, 761, 921]:\n",
    "        return 'Antonio Rubinos Pérez'\n",
    "\n",
    "    elif row['match_id'] in [5, 30, 44, 68, 98, 115, 149, 163, 189, 210, 222, 235]:\n",
    "        return 'Carlos Megía Dávila'\n",
    "\n",
    "    elif row['match_id'] in [6, 25, 60, 72, 95, 114, 121, 148, 166, 184, 240, 306, 329, 348, 369, 380, 393, 414, 433, 443, 470, \n",
    "    488, 502, 529, 548, 575, 583, 620, 643, 664, 693, 728, 755]:\n",
    "        return 'Alfonso Pérez Burrull'\n",
    "\n",
    "    elif row['match_id'] in [12, 33, 56, 74, 96, 116, 138, 151, 230, 247, 280, 290, 293, 324, 358, 390, 407, 430, 445, 464, 483,\n",
    "    510, 531, 558, 562, 591, 612, 625, 660, 676, 688, 730, 770, 828, 945, 1103]:\n",
    "        return 'Rafael Ramírez Domínguez'\n",
    "\n",
    "    elif row['match_id'] in [16, 32, 52, 73, 91, 126, 141, 168, 198, 221, 246, 269, 272, 291, 314, 332, 343, 359, 364, 379, 391,\n",
    "    417, 440, 458, 471, 492, 513, 538, 541, 564, 599, 606, 623, 657, 665, 673, 684, 707, 715, 721, 737, 741, 778]:\n",
    "        return 'Eduardo Iturralde González'\n",
    "\n",
    "    elif row['match_id'] in [17, 31, 70, 85, 107]:\n",
    "        return 'Arturo Daudén Ibánez'\n",
    "\n",
    "    elif row['match_id'] in [18, 39, 64, 84, 105, 132, 155, 177, 183, 197, 229, 244, 301, 330, 395, 420, 438, 453, 496, 520, \n",
    "    537, 554, 571, 592, 630, 647, 668, 696, 733, 779]:\n",
    "        return 'Javier Turienzo Álvarez'\n",
    "\n",
    "    elif row['match_id'] in [23, 50, 99, 120, 144, 165, 187, 209, 215, 242, 270, 273, 284, 296, 316, 342, 360, 405, 415, 439, \n",
    "    448, 466, 524, 579, 600, 614, 627, 639, 646, 678, 685, 703, 717, 751]:\n",
    "        return 'Mejuto González'\n",
    "\n",
    "    elif row['match_id'] in [542, 1647, 2151, 2247, 2476]:\n",
    "        return 'Alfonso Álvarez Izquierdo'\n",
    "\n",
    "    elif row['match_id'] in [751, 1567, 1690, 2499]:\n",
    "        return 'Antonio Miguel Mateu Lahoz'\n",
    "\n",
    "    elif row['match_id'] in [1546, 1809, 1980, 2263]:\n",
    "        return 'Carlos Del Cerro Grande'\n",
    "\n",
    "    elif row['match_id'] in [1588, 2230]:\n",
    "        return 'José Luis González González'\n",
    "\n",
    "    elif row['match_id'] in [1607, 1940, 2082]:\n",
    "        return 'Jesús Gil Manzano'\n",
    "\n",
    "    elif row['match_id'] in [1627, 1864, 2439]:\n",
    "        return 'Alejandro José Hernández Hernández'\n",
    "\n",
    "    elif row['match_id'] in [1701, 2009, 2294]:\n",
    "        return 'Pedro Jesús Pérez Montero'\n",
    "\n",
    "    elif row['match_id'] in [1728, 1912]:\n",
    "        return 'César Muñiz Fernández'\n",
    "\n",
    "    elif row['match_id'] in [1748, 2335]:\n",
    "        return 'Carlos Velasco Carballo'\n",
    "\n",
    "    elif row['match_id'] in [1761, 2138, 2533]:\n",
    "        return 'Alberto Undiano Mallenco'\n",
    "\n",
    "    elif row['match_id'] in [2025, 2353, 2517]:\n",
    "        return 'David Fernández Borbalan'\n",
    "\n",
    "    elif row['match_id'] in [2050]:\n",
    "        return 'Juan Martínez Munuera'\n",
    "\n",
    "    elif row['match_id'] in [2068, 2555]:\n",
    "        return 'Eduardo Prieto Iglesias'\n",
    "\n",
    "    elif row['match_id'] in [2100, 2376]:\n",
    "        return 'Javier Estrada Fernández'\n",
    "\n",
    "    elif row['match_id'] in [2119]:\n",
    "        return 'Miguel Ángel Ayza Gámez'\n",
    "\n",
    "    elif row['match_id'] in [2391]:\n",
    "        return 'Mario Melero López'\n",
    "\n",
    "    elif row['match_id'] in []:\n",
    "        return 'Carlos Clos Gómez'\n",
    "\n",
    "    elif row['match_id'] in [2313]:\n",
    "        return 'José Antonio Teixeira Vitienes'\n",
    "\n",
    "    elif row['match_id'] in []:\n",
    "        return 'Fernando Teixeira Vitienes'\n",
    "\n",
    "    elif row['match_id'] in [2412]:\n",
    "        return 'Santiago Jaime Latre'\n",
    "\n",
    "    elif row['match_id'] in [2456]:\n",
    "        return 'Ignacio Iglesias Villanueva'\n",
    "\n",
    "    elif row['match_id'] in []:\n",
    "        return 'José María Sánchez Martínez'\n",
    "\n",
    "    elif row['match_id'] in []:\n",
    "        return 'José Luis Munuera Montero'\n",
    "\n",
    "    elif row['match_id'] in []:\n",
    "        return 'Daniel Jesús Trujillo Suárez'\n",
    "\n",
    "    elif row['match_id'] in []:\n",
    "        return 'Daniel Jesús Trujillo Suárez'\n",
    "\n",
    "    elif row['match_id'] in []:\n",
    "        return 'Miguel Ángel Pérez Lasa'\n",
    "\n",
    "    elif row['match_id'] in []:\n",
    "        return 'José Luis Paradas Romero'\n",
    "\n",
    "    elif row['match_id'] in []:\n",
    "        return 'Carlos Delgado Ferreiro'\n",
    "\n",
    "    elif row['match_id'] in []:\n",
    "        return 'Iñaki Bikandi Garrido'\n",
    "\n",
    "    elif row['match_id'] in []:\n",
    "        return 'Daniel Ocón Arráiz'\n",
    "\n",
    "    elif row['match_id'] in []:\n",
    "        return 'Ricardo De Burgos Bengoetxea'\n",
    "\n",
    "    elif row['match_id'] in []:\n",
    "        return 'Ángel Álvarez Pinardo'\n",
    "\n",
    "    elif row['match_id'] in []:\n",
    "        return 'Javier Alberola Rojas'\n",
    "\n",
    "    elif row['match_id'] in []:\n",
    "        return 'Pablo González Fuertes'\n",
    "\n",
    "    elif row['match_id'] in []:\n",
    "        return 'José González Echeverría'\n",
    "\n",
    "    else:\n",
    "        return row['referee']  \n",
    "\n",
    "df_match_since_2008['referee'] = df_match_since_2008.apply(assign_referee, axis=1)"
   ]
  },
  {
   "cell_type": "code",
   "execution_count": null,
   "metadata": {},
   "outputs": [],
   "source": [
    "filtered_df = df_match_since_2008[\n",
    "    (df_match_since_2008['referee'] == 'nan') & \n",
    "    (df_match_since_2008['home_team_name'] == 'SD Eibar')\n",
    "]\n",
    "\n",
    "filtered_df[['date_GMT', 'home_team_name', 'away_team_name', 'match_id']].head(999999)"
   ]
  },
  {
   "cell_type": "code",
   "execution_count": null,
   "metadata": {},
   "outputs": [],
   "source": [
    "df_match_since_2008['referee'].value_counts()"
   ]
  },
  {
   "cell_type": "code",
   "execution_count": null,
   "metadata": {},
   "outputs": [],
   "source": [
    "df_match_since_2008.head()"
   ]
  },
  {
   "cell_type": "markdown",
   "metadata": {},
   "source": [
    "#### Working on shots - A hacer"
   ]
  },
  {
   "cell_type": "code",
   "execution_count": null,
   "metadata": {},
   "outputs": [],
   "source": [
    "df_match_since_2008['home_team_shots'].value_counts()"
   ]
  },
  {
   "cell_type": "code",
   "execution_count": null,
   "metadata": {},
   "outputs": [],
   "source": [
    "df_match_since_2008['away_team_shots'].value_counts()"
   ]
  },
  {
   "cell_type": "code",
   "execution_count": null,
   "metadata": {},
   "outputs": [],
   "source": [
    "df_match_since_2008['home_team_shots_on_target'].value_counts()"
   ]
  },
  {
   "cell_type": "code",
   "execution_count": null,
   "metadata": {},
   "outputs": [],
   "source": [
    "df_match_since_2008['away_team_shots_on_target'].value_counts()"
   ]
  },
  {
   "cell_type": "code",
   "execution_count": null,
   "metadata": {},
   "outputs": [],
   "source": [
    "df_match_since_2008['home_team_shots_off_target'].value_counts()"
   ]
  },
  {
   "cell_type": "code",
   "execution_count": null,
   "metadata": {},
   "outputs": [],
   "source": [
    "df_match_since_2008['away_team_shots_off_target'].value_counts()"
   ]
  },
  {
   "cell_type": "code",
   "execution_count": 173,
   "metadata": {},
   "outputs": [],
   "source": [
    "df_match_since_2008['home_team_shots_off_target'] = df_match_since_2008['home_team_shots'] - df_match_since_2008['home_team_shots_on_target']\n",
    "df_match_since_2008['away_team_shots_off_target'] = df_match_since_2008['away_team_shots'] - df_match_since_2008['away_team_shots_on_target']"
   ]
  },
  {
   "cell_type": "code",
   "execution_count": null,
   "metadata": {},
   "outputs": [],
   "source": [
    "df_match_since_2008['home_team_shots_off_target'].value_counts()"
   ]
  },
  {
   "cell_type": "code",
   "execution_count": null,
   "metadata": {},
   "outputs": [],
   "source": [
    "df_match_since_2008['away_team_shots_off_target'].value_counts()"
   ]
  },
  {
   "cell_type": "code",
   "execution_count": null,
   "metadata": {},
   "outputs": [],
   "source": [
    "df_match_since_2008.head()"
   ]
  },
  {
   "cell_type": "markdown",
   "metadata": {},
   "source": [
    "#### Changing timestamp - A hacer"
   ]
  },
  {
   "cell_type": "code",
   "execution_count": 179,
   "metadata": {},
   "outputs": [],
   "source": [
    "df_match_since_2008['unix_timestamp'] = pd.to_datetime(df_match_since_2008['date_GMT'].apply(\n",
    "    lambda x: datetime.strptime(x, \"%b %d %Y - %I:%M%p\")\n",
    "))"
   ]
  },
  {
   "cell_type": "code",
   "execution_count": null,
   "metadata": {},
   "outputs": [],
   "source": [
    "df_match_since_2008['unix_timestamp'].dtypes"
   ]
  },
  {
   "cell_type": "code",
   "execution_count": 181,
   "metadata": {},
   "outputs": [],
   "source": [
    "df_match_since_2008['date_GMT'] = pd.to_datetime(df_match_since_2008['date_GMT'], format=\"%b %d %Y - %I:%M%p\")"
   ]
  },
  {
   "cell_type": "code",
   "execution_count": 182,
   "metadata": {},
   "outputs": [],
   "source": [
    "df_match_since_2008['day_of_the_week'] = df_match_since_2008['date_GMT'].dt.dayofweek\n",
    "df_match_since_2008['hour_of_the_match'] = df_match_since_2008['date_GMT'].dt.hour\n",
    "df_match_since_2008['day_of_year'] = df_match_since_2008['date_GMT'].dt.dayofyear"
   ]
  },
  {
   "cell_type": "code",
   "execution_count": null,
   "metadata": {},
   "outputs": [],
   "source": [
    "df_match_since_2008.head()"
   ]
  },
  {
   "cell_type": "markdown",
   "metadata": {},
   "source": [
    "#### Working on game week"
   ]
  },
  {
   "cell_type": "code",
   "execution_count": null,
   "metadata": {},
   "outputs": [],
   "source": [
    "df['gameweek'].value_counts()"
   ]
  },
  {
   "cell_type": "markdown",
   "metadata": {},
   "source": [
    "# Saving dataset"
   ]
  },
  {
   "cell_type": "code",
   "execution_count": 31,
   "metadata": {},
   "outputs": [],
   "source": [
    "df.to_csv('../model_testing/df.csv', index=False)"
   ]
  }
 ],
 "metadata": {
  "kernelspec": {
   "display_name": "api-python-bet-project-c88tlEpI-py3.12",
   "language": "python",
   "name": "python3"
  },
  "language_info": {
   "codemirror_mode": {
    "name": "ipython",
    "version": 3
   },
   "file_extension": ".py",
   "mimetype": "text/x-python",
   "name": "python",
   "nbconvert_exporter": "python",
   "pygments_lexer": "ipython3",
   "version": "3.12.8"
  }
 },
 "nbformat": 4,
 "nbformat_minor": 2
}
