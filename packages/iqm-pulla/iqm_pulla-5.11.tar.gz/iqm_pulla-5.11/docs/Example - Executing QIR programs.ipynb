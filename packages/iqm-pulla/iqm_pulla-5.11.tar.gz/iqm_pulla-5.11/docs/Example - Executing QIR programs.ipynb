{
 "cells": [
  {
   "cell_type": "markdown",
   "metadata": {},
   "source": [
    "# Executing QIR programs\n",
    "\n",
    "If you have a QIR IR string or bitcode, you can start by creating Pulla-compatible circuits representation:"
   ]
  },
  {
   "cell_type": "code",
   "execution_count": null,
   "metadata": {},
   "outputs": [],
   "source": [
    "import os\n",
    "from qiskit import visualization\n",
    "from iqm.pulla.pulla import Pulla\n",
    "from iqm.pulla.utils_qiskit import station_control_result_to_qiskit\n",
    "from iqm.pulla.utils_qir import qir_to_pulla\n",
    "\n",
    "station_control_url = os.environ['PULLA_STATION_CONTROL_URL'] # or set the URL directly here\\"
   ]
  },
  {
   "cell_type": "code",
   "execution_count": 6,
   "metadata": {},
   "outputs": [],
   "source": [
    "# An example of a QIR program in a form of LLVM IR, it could also be bitcode bytes\n",
    "qir_ir = \"\"\"\n",
    "target datalayout = \"e-m:e-i8:8:32-i16:16:32-i64:64-i128:128-n32:64-S128\"\n",
    "target triple = \"aarch64-unknown-linux-gnu\"\n",
    "\n",
    "%Qubit = type opaque\n",
    "%Result = type opaque\n",
    "\n",
    "@cstr.72303030303000 = private constant [7 x i8] c\"r00000\\00\"\n",
    "@cstr.72303030303100 = private constant [7 x i8] c\"r00001\\00\"\n",
    "@cstr.72303030303200 = private constant [7 x i8] c\"r00002\\00\"\n",
    "@cstr.72303030303300 = private constant [7 x i8] c\"r00003\\00\"\n",
    "@cstr.72303030303400 = private constant [7 x i8] c\"r00004\\00\"\n",
    "\n",
    "declare void @__quantum__qis__phased_rx__body(double, double, %Qubit*) local_unnamed_addr\n",
    "\n",
    "declare void @__quantum__qis__cz__body(%Qubit*, %Qubit*) local_unnamed_addr\n",
    "\n",
    "declare void @__quantum__rt__result_record_output(%Result*, i8*) local_unnamed_addr\n",
    "\n",
    "declare void @__quantum__qis__mz__body(%Qubit*, %Result* writeonly) local_unnamed_addr #0\n",
    "\n",
    "define void @__nvqpp__mlirgen__adonis_ghz() local_unnamed_addr #1 {\n",
    "\"0\":\n",
    "  tail call void @__quantum__qis__phased_rx__body(double 0x3FF921FB54442D18, double 0x3FF921FB54442D18, %Qubit* nonnull inttoptr (i64 2 to %Qubit*))\n",
    "  tail call void @__quantum__qis__phased_rx__body(double 0x400921FB54442D18, double 0.000000e+00, %Qubit* nonnull inttoptr (i64 2 to %Qubit*))\n",
    "  tail call void @__quantum__qis__phased_rx__body(double 0x3FF921FB54442D18, double 0x3FF921FB54442D18, %Qubit* null)\n",
    "  tail call void @__quantum__qis__phased_rx__body(double 0x400921FB54442D18, double 0.000000e+00, %Qubit* null)\n",
    "  tail call void @__quantum__qis__cz__body(%Qubit* nonnull inttoptr (i64 2 to %Qubit*), %Qubit* null)\n",
    "  tail call void @__quantum__qis__phased_rx__body(double 0x3FF921FB54442D18, double 0x3FF921FB54442D18, %Qubit* null)\n",
    "  tail call void @__quantum__qis__phased_rx__body(double 0x400921FB54442D18, double 0.000000e+00, %Qubit* null)\n",
    "  tail call void @__quantum__qis__phased_rx__body(double 0x3FF921FB54442D18, double 0x3FF921FB54442D18, %Qubit* nonnull inttoptr (i64 1 to %Qubit*))\n",
    "  tail call void @__quantum__qis__phased_rx__body(double 0x400921FB54442D18, double 0.000000e+00, %Qubit* nonnull inttoptr (i64 1 to %Qubit*))\n",
    "  tail call void @__quantum__qis__cz__body(%Qubit* nonnull inttoptr (i64 2 to %Qubit*), %Qubit* nonnull inttoptr (i64 1 to %Qubit*))\n",
    "  tail call void @__quantum__qis__phased_rx__body(double 0x3FF921FB54442D18, double 0x3FF921FB54442D18, %Qubit* nonnull inttoptr (i64 1 to %Qubit*))\n",
    "  tail call void @__quantum__qis__phased_rx__body(double 0x400921FB54442D18, double 0.000000e+00, %Qubit* nonnull inttoptr (i64 1 to %Qubit*))\n",
    "  tail call void @__quantum__qis__phased_rx__body(double 0x3FF921FB54442D18, double 0x3FF921FB54442D18, %Qubit* nonnull inttoptr (i64 3 to %Qubit*))\n",
    "  tail call void @__quantum__qis__phased_rx__body(double 0x400921FB54442D18, double 0.000000e+00, %Qubit* nonnull inttoptr (i64 3 to %Qubit*))\n",
    "  tail call void @__quantum__qis__cz__body(%Qubit* nonnull inttoptr (i64 2 to %Qubit*), %Qubit* nonnull inttoptr (i64 3 to %Qubit*))\n",
    "  tail call void @__quantum__qis__phased_rx__body(double 0x3FF921FB54442D18, double 0x3FF921FB54442D18, %Qubit* nonnull inttoptr (i64 3 to %Qubit*))\n",
    "  tail call void @__quantum__qis__phased_rx__body(double 0x400921FB54442D18, double 0.000000e+00, %Qubit* nonnull inttoptr (i64 3 to %Qubit*))\n",
    "  tail call void @__quantum__qis__phased_rx__body(double 0x3FF921FB54442D18, double 0x3FF921FB54442D18, %Qubit* nonnull inttoptr (i64 4 to %Qubit*))\n",
    "  tail call void @__quantum__qis__phased_rx__body(double 0x400921FB54442D18, double 0.000000e+00, %Qubit* nonnull inttoptr (i64 4 to %Qubit*))\n",
    "  tail call void @__quantum__qis__cz__body(%Qubit* nonnull inttoptr (i64 2 to %Qubit*), %Qubit* nonnull inttoptr (i64 4 to %Qubit*))\n",
    "  tail call void @__quantum__qis__phased_rx__body(double 0x3FF921FB54442D18, double 0x3FF921FB54442D18, %Qubit* nonnull inttoptr (i64 4 to %Qubit*))\n",
    "  tail call void @__quantum__qis__phased_rx__body(double 0x400921FB54442D18, double 0.000000e+00, %Qubit* nonnull inttoptr (i64 4 to %Qubit*))\n",
    "  tail call void @__quantum__qis__mz__body(%Qubit* null, %Result* writeonly null)\n",
    "  tail call void @__quantum__qis__mz__body(%Qubit* nonnull inttoptr (i64 1 to %Qubit*), %Result* nonnull writeonly inttoptr (i64 1 to %Result*))\n",
    "  tail call void @__quantum__qis__mz__body(%Qubit* nonnull inttoptr (i64 2 to %Qubit*), %Result* nonnull writeonly inttoptr (i64 2 to %Result*))\n",
    "  tail call void @__quantum__qis__mz__body(%Qubit* nonnull inttoptr (i64 3 to %Qubit*), %Result* nonnull writeonly inttoptr (i64 3 to %Result*))\n",
    "  tail call void @__quantum__qis__mz__body(%Qubit* nonnull inttoptr (i64 4 to %Qubit*), %Result* nonnull writeonly inttoptr (i64 4 to %Result*))\n",
    "  tail call void @__quantum__rt__result_record_output(%Result* null, i8* nonnull getelementptr inbounds ([7 x i8], [7 x i8]* @cstr.72303030303000, i64 0, i64 0))\n",
    "  tail call void @__quantum__rt__result_record_output(%Result* nonnull inttoptr (i64 1 to %Result*), i8* nonnull getelementptr inbounds ([7 x i8], [7 x i8]* @cstr.72303030303100, i64 0, i64 0))\n",
    "  tail call void @__quantum__rt__result_record_output(%Result* nonnull inttoptr (i64 2 to %Result*), i8* nonnull getelementptr inbounds ([7 x i8], [7 x i8]* @cstr.72303030303200, i64 0, i64 0))\n",
    "  tail call void @__quantum__rt__result_record_output(%Result* nonnull inttoptr (i64 3 to %Result*), i8* nonnull getelementptr inbounds ([7 x i8], [7 x i8]* @cstr.72303030303300, i64 0, i64 0))\n",
    "  tail call void @__quantum__rt__result_record_output(%Result* nonnull inttoptr (i64 4 to %Result*), i8* nonnull getelementptr inbounds ([7 x i8], [7 x i8]* @cstr.72303030303400, i64 0, i64 0))\n",
    "  ret void\n",
    "}\n",
    "\n",
    "attributes #0 = { \"irreversible\" }\n",
    "attributes #1 = { \"entry_point\" \"output_labeling_schema\"=\"schema_id\" \"output_names\"=\"[[[0,[0,\\22r00000\\22]],[1,[1,\\22r00001\\22]],[2,[2,\\22r00002\\22]],[3,[3,\\22r00003\\22]],[4,[4,\\22r00004\\22]]]]\" \"qir_profiles\"=\"base_profile\" \"requiredQubits\"=\"5\" \"requiredResults\"=\"5\" }\n",
    "\n",
    "!llvm.module.flags = !{!0, !1, !2, !3, !4}\n",
    "\n",
    "!0 = !{i32 2, !\"Debug Info Version\", i32 3}\n",
    "!1 = !{i32 1, !\"qir_major_version\", i32 1}\n",
    "!2 = !{i32 7, !\"qir_minor_version\", i32 0}\n",
    "!3 = !{i32 1, !\"dynamic_qubit_management\", i1 false}\n",
    "!4 = !{i32 1, !\"dynamic_result_management\", i1 false}\n",
    "\"\"\""
   ]
  },
  {
   "cell_type": "code",
   "execution_count": 18,
   "metadata": {},
   "outputs": [
    {
     "name": "stdout",
     "output_type": "stream",
     "text": [
      "[11-18 15:13:26;I] Required number of qubits: 5\n",
      "[11-18 15:13:26;I] Required number of results: 5\n",
      "[11-18 15:13:26;I] QIR version: 1.0\n",
      "[11-18 15:13:28;I] Submitted sweep with ID: 96fa928c-90ce-4252-a618-4993aab4824b\n",
      "[11-18 15:13:28;I] Created task in queue with ID: d38aeb32-d36b-42c6-bc41-fcd6e4f98936\n",
      "[11-18 15:13:28;I] Sweep link: http://xld11-s2.xld11.iqm.fi/station/sweeps/96fa928c-90ce-4252-a618-4993aab4824b\n",
      "[11-18 15:13:28;I] Task link: http://xld11-s2.xld11.iqm.fi/station/tasks/d38aeb32-d36b-42c6-bc41-fcd6e4f98936\n",
      "[11-18 15:13:28;I] Waiting for the sweep to finish...\n",
      "[11-18 15:13:29;I] Sweep status: SweepStatus.SUCCESS\n",
      "StationControlResult(status=<TaskStatus.READY: 'READY'>, start_time='2024-11-18T13:13:27.997405+00:00', end_time='2024-11-18T13:13:28.905815+00:00', result=[{'m_1_4_0': [[0.0], [0.0], [1.0], [0.0], [1.0], [1.0], [0.0], [1.0], [1.0], [1.0], [0.0], [0.0], [0.0], [1.0], [0.0], [0.0], [0.0], [0.0], [0.0], [0.0]], 'm_1_3_0': [[0.0], [0.0], [1.0], [0.0], [1.0], [1.0], [0.0], [1.0], [1.0], [1.0], [0.0], [0.0], [1.0], [1.0], [0.0], [0.0], [0.0], [0.0], [0.0], [0.0]], 'm_1_2_0': [[1.0], [0.0], [1.0], [0.0], [1.0], [1.0], [0.0], [1.0], [1.0], [1.0], [0.0], [0.0], [1.0], [1.0], [0.0], [0.0], [0.0], [0.0], [0.0], [0.0]], 'm_1_1_0': [[0.0], [0.0], [1.0], [1.0], [1.0], [0.0], [0.0], [1.0], [0.0], [1.0], [0.0], [0.0], [1.0], [1.0], [0.0], [0.0], [0.0], [0.0], [0.0], [0.0]], 'm_1_0_0': [[0.0], [0.0], [1.0], [0.0], [1.0], [1.0], [0.0], [1.0], [1.0], [0.0], [0.0], [0.0], [1.0], [1.0], [0.0], [1.0], [0.0], [0.0], [0.0], [0.0]]}], message=None)\n",
      "Qiskit result counts: {'0 0 1 0 0': 1, '0 0 0 0 0': 9, '1 1 1 1 1': 4, '0 0 0 1 0': 1, '1 1 1 0 1': 2, '1 1 1 1 0': 1, '0 1 1 1 1': 1, '0 0 0 0 1': 1}\n"
     ]
    },
    {
     "data": {
      "image/png": "[encoded data removed]",
      "text/plain": [
       "<Figure size 640x480 with 1 Axes>"
      ]
     },
     "execution_count": 1,
     "metadata": {},
     "output_type": "execute_result"
    }
   ],
   "source": [
    "p = Pulla(station_control_url)\n",
    "circuits, compiler = qir_to_pulla(p, qir_ir)\n",
    "\n",
    "playlist, context = compiler.compile(circuits)\n",
    "\n",
    "shots = 20\n",
    "settings, context = compiler.build_settings(context, shots=shots)\n",
    "response_data = p.execute(playlist, context, settings, verbose=False)\n",
    "print(response_data)\n",
    "\n",
    "qiskit_result = station_control_result_to_qiskit(response_data, shots=shots, execution_options=context['options'])\n",
    "print(f\"Qiskit result counts: {qiskit_result.get_counts()}\")\n",
    "visualization.plot_histogram(qiskit_result.get_counts())"
   ]
  }
 ],
 "metadata": {
  "kernelspec": {
   "display_name": ".venv",
   "language": "python",
   "name": "python3"
  },
  "language_info": {
   "codemirror_mode": {
    "name": "ipython",
    "version": 3
   },
   "file_extension": ".py",
   "mimetype": "text/x-python",
   "name": "python",
   "nbconvert_exporter": "python",
   "pygments_lexer": "ipython3",
   "version": "3.11.9"
  }
 },
 "nbformat": 4,
 "nbformat_minor": 2
}
