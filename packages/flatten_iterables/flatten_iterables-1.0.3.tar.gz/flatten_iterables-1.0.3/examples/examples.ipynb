{
 "cells": [
  {
   "cell_type": "code",
   "execution_count": null,
   "metadata": {},
   "outputs": [],
   "source": [
    "import json\n",
    "from flatten_iterables import fi\n",
    "\n",
    "fi.key_style = \"python\"\n",
    "\n",
    "data = {\n",
    "    \"dict\": {\"a\": 42},\n",
    "    \"nested_dicts\": {\"a0\": {\"b0\": 42, \"b1\": 23}},\n",
    "    \"empty_dict\": {},\n",
    "    \"list\": [42],\n",
    "    \"nested_lists\": [\n",
    "        [\n",
    "            42,\n",
    "        ],\n",
    "    ],\n",
    "    \"empty_list\": [],\n",
    "    ...: 42,\n",
    "}\n",
    "\n",
    "print(json.dumps(fi.flatten(data), indent=2))"
   ]
  },
  {
   "cell_type": "code",
   "execution_count": null,
   "metadata": {},
   "outputs": [],
   "source": [
    "import json\n",
    "from flatten_iterables import fi\n",
    "from collections import OrderedDict\n",
    "\n",
    "fi.iterables.add(set)\n",
    "fi.mappables.add(OrderedDict)\n",
    "\n",
    "data = {\n",
    "    \"set\": {23, 42, 57},\n",
    "    \"ordered_dict\": OrderedDict(a=23, b=42, c=57),\n",
    "}\n",
    "\n",
    "print(json.dumps(fi.flatten(data), indent=2))"
   ]
  },
  {
   "cell_type": "code",
   "execution_count": null,
   "metadata": {},
   "outputs": [],
   "source": []
  }
 ],
 "metadata": {
  "kernelspec": {
   "display_name": "python3.11",
   "language": "python",
   "name": "python3"
  },
  "language_info": {
   "codemirror_mode": {
    "name": "ipython",
    "version": 3
   },
   "file_extension": ".py",
   "mimetype": "text/x-python",
   "name": "python",
   "nbconvert_exporter": "python",
   "pygments_lexer": "ipython3",
   "version": "3.11.11"
  },
  "orig_nbformat": 4
 },
 "nbformat": 4,
 "nbformat_minor": 2
}
