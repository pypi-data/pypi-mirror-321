{
 "cells": [
  {
   "cell_type": "markdown",
   "metadata": {},
   "source": [
    "# Example workflow"
   ]
  },
  {
   "cell_type": "markdown",
   "source": [],
   "metadata": {
    "collapsed": false
   }
  },
  {
   "cell_type": "code",
   "execution_count": 1,
   "metadata": {
    "ExecuteTime": {
     "end_time": "2024-03-25T16:12:40.629887Z",
     "start_time": "2024-03-25T16:12:39.074585Z"
    }
   },
   "outputs": [],
   "source": [
    "import rectanglepy as rectangle\n",
    "from anndata import AnnData"
   ]
  },
  {
   "cell_type": "markdown",
   "source": [
    "## Load tutorial data"
   ],
   "metadata": {
    "collapsed": false
   }
  },
  {
   "cell_type": "code",
   "execution_count": 2,
   "metadata": {
    "ExecuteTime": {
     "end_time": "2024-03-25T16:12:41.282874Z",
     "start_time": "2024-03-25T16:12:40.630684Z"
    }
   },
   "outputs": [],
   "source": [
    "sc_counts, annotations, bulks  = rectangle.load_tutorial_data()"
   ]
  },
  {
   "cell_type": "code",
   "execution_count": 3,
   "outputs": [
    {
     "data": {
      "text/plain": "                       MIR1302-2HG  AL627309.1  AL627309.4  AC114498.1   \nE2L4_GATGCTACAGGCACAA            0           0           0           0  \\\nL5_AACAACCAGGAACTAT              0           0           0           0   \nL5_TCCTTCTGTACTCCGG              0           0           0           0   \nL2_GCCCGAACACGTATAC              0           0           0           0   \nE2L2_ATGCATGTCACACCCT            0           0           0           0   \n\n                       AL669831.5  FAM41C  AL645608.5  NOC2L  PERM1  ISG15  \nE2L4_GATGCTACAGGCACAA           0       0           0      0      0      7  \nL5_AACAACCAGGAACTAT             0       0           0      0      0      1  \nL5_TCCTTCTGTACTCCGG             0       0           0      0      0      0  \nL2_GCCCGAACACGTATAC             0       0           0      0      0      2  \nE2L2_ATGCATGTCACACCCT           0       1           0      0      0      1  ",
      "text/html": "<div>\n<style scoped>\n    .dataframe tbody tr th:only-of-type {\n        vertical-align: middle;\n    }\n\n    .dataframe tbody tr th {\n        vertical-align: top;\n    }\n\n    .dataframe thead th {\n        text-align: right;\n    }\n</style>\n<table border=\"1\" class=\"dataframe\">\n  <thead>\n    <tr style=\"text-align: right;\">\n      <th></th>\n      <th>MIR1302-2HG</th>\n      <th>AL627309.1</th>\n      <th>AL627309.4</th>\n      <th>AC114498.1</th>\n      <th>AL669831.5</th>\n      <th>FAM41C</th>\n      <th>AL645608.5</th>\n      <th>NOC2L</th>\n      <th>PERM1</th>\n      <th>ISG15</th>\n    </tr>\n  </thead>\n  <tbody>\n    <tr>\n      <th>E2L4_GATGCTACAGGCACAA</th>\n      <td>0</td>\n      <td>0</td>\n      <td>0</td>\n      <td>0</td>\n      <td>0</td>\n      <td>0</td>\n      <td>0</td>\n      <td>0</td>\n      <td>0</td>\n      <td>7</td>\n    </tr>\n    <tr>\n      <th>L5_AACAACCAGGAACTAT</th>\n      <td>0</td>\n      <td>0</td>\n      <td>0</td>\n      <td>0</td>\n      <td>0</td>\n      <td>0</td>\n      <td>0</td>\n      <td>0</td>\n      <td>0</td>\n      <td>1</td>\n    </tr>\n    <tr>\n      <th>L5_TCCTTCTGTACTCCGG</th>\n      <td>0</td>\n      <td>0</td>\n      <td>0</td>\n      <td>0</td>\n      <td>0</td>\n      <td>0</td>\n      <td>0</td>\n      <td>0</td>\n      <td>0</td>\n      <td>0</td>\n    </tr>\n    <tr>\n      <th>L2_GCCCGAACACGTATAC</th>\n      <td>0</td>\n      <td>0</td>\n      <td>0</td>\n      <td>0</td>\n      <td>0</td>\n      <td>0</td>\n      <td>0</td>\n      <td>0</td>\n      <td>0</td>\n      <td>2</td>\n    </tr>\n    <tr>\n      <th>E2L2_ATGCATGTCACACCCT</th>\n      <td>0</td>\n      <td>0</td>\n      <td>0</td>\n      <td>0</td>\n      <td>0</td>\n      <td>1</td>\n      <td>0</td>\n      <td>0</td>\n      <td>0</td>\n      <td>1</td>\n    </tr>\n  </tbody>\n</table>\n</div>"
     },
     "execution_count": 3,
     "metadata": {},
     "output_type": "execute_result"
    }
   ],
   "source": [
    "sc_counts.iloc[:, :10].head()"
   ],
   "metadata": {
    "collapsed": false,
    "ExecuteTime": {
     "end_time": "2024-03-25T16:12:41.300170Z",
     "start_time": "2024-03-25T16:12:41.284686Z"
    }
   }
  },
  {
   "cell_type": "code",
   "execution_count": 4,
   "outputs": [
    {
     "data": {
      "text/plain": "E2L4_GATGCTACAGGCACAA    Monocytes\nL5_AACAACCAGGAACTAT      Monocytes\nL5_TCCTTCTGTACTCCGG      Monocytes\nL2_GCCCGAACACGTATAC      Monocytes\nE2L2_ATGCATGTCACACCCT    Monocytes\nName: 0, dtype: object"
     },
     "execution_count": 4,
     "metadata": {},
     "output_type": "execute_result"
    }
   ],
   "source": [
    "annotations.head()"
   ],
   "metadata": {
    "collapsed": false,
    "ExecuteTime": {
     "end_time": "2024-03-25T16:12:41.982618Z",
     "start_time": "2024-03-25T16:12:41.979126Z"
    }
   }
  },
  {
   "cell_type": "code",
   "execution_count": 5,
   "outputs": [
    {
     "data": {
      "text/plain": "         UBE2Q2P2  SSX9   CXorf67   EFCAB8  SPATA31B1P  SDR16C6P     GTPBP6   \npbmc_1   0.000000   0.0  0.118865  0.00000         0.0       0.0  57.280197  \\\npbmc_10  0.081115   0.0  0.086782  0.00000         0.0       0.0  72.275326   \npbmc_12  0.000000   0.0  0.188464  0.03157         0.0       0.0  50.997427   \n\n          EFCAB12       A1BG  A1CF  \npbmc_1   0.252188  10.863071   0.0  \npbmc_10  0.095742  14.785649   0.0  \npbmc_12  0.100608   7.492537   0.0  ",
      "text/html": "<div>\n<style scoped>\n    .dataframe tbody tr th:only-of-type {\n        vertical-align: middle;\n    }\n\n    .dataframe tbody tr th {\n        vertical-align: top;\n    }\n\n    .dataframe thead th {\n        text-align: right;\n    }\n</style>\n<table border=\"1\" class=\"dataframe\">\n  <thead>\n    <tr style=\"text-align: right;\">\n      <th></th>\n      <th>UBE2Q2P2</th>\n      <th>SSX9</th>\n      <th>CXorf67</th>\n      <th>EFCAB8</th>\n      <th>SPATA31B1P</th>\n      <th>SDR16C6P</th>\n      <th>GTPBP6</th>\n      <th>EFCAB12</th>\n      <th>A1BG</th>\n      <th>A1CF</th>\n    </tr>\n  </thead>\n  <tbody>\n    <tr>\n      <th>pbmc_1</th>\n      <td>0.000000</td>\n      <td>0.0</td>\n      <td>0.118865</td>\n      <td>0.00000</td>\n      <td>0.0</td>\n      <td>0.0</td>\n      <td>57.280197</td>\n      <td>0.252188</td>\n      <td>10.863071</td>\n      <td>0.0</td>\n    </tr>\n    <tr>\n      <th>pbmc_10</th>\n      <td>0.081115</td>\n      <td>0.0</td>\n      <td>0.086782</td>\n      <td>0.00000</td>\n      <td>0.0</td>\n      <td>0.0</td>\n      <td>72.275326</td>\n      <td>0.095742</td>\n      <td>14.785649</td>\n      <td>0.0</td>\n    </tr>\n    <tr>\n      <th>pbmc_12</th>\n      <td>0.000000</td>\n      <td>0.0</td>\n      <td>0.188464</td>\n      <td>0.03157</td>\n      <td>0.0</td>\n      <td>0.0</td>\n      <td>50.997427</td>\n      <td>0.100608</td>\n      <td>7.492537</td>\n      <td>0.0</td>\n    </tr>\n  </tbody>\n</table>\n</div>"
     },
     "execution_count": 5,
     "metadata": {},
     "output_type": "execute_result"
    }
   ],
   "source": [
    "bulks.iloc[:, :10].head()"
   ],
   "metadata": {
    "collapsed": false,
    "ExecuteTime": {
     "end_time": "2024-03-25T16:12:43.131140Z",
     "start_time": "2024-03-25T16:12:43.127235Z"
    }
   }
  },
  {
   "cell_type": "markdown",
   "metadata": {},
   "source": [
    "### Convert to AnnData object"
   ]
  },
  {
   "cell_type": "code",
   "execution_count": 7,
   "outputs": [],
   "source": [
    "sc_adata = AnnData(sc_counts, obs=annotations.to_frame(name=\"cell_type\"))"
   ],
   "metadata": {
    "collapsed": false,
    "ExecuteTime": {
     "end_time": "2024-03-25T16:15:38.118620Z",
     "start_time": "2024-03-25T16:15:38.098633Z"
    }
   }
  },
  {
   "cell_type": "markdown",
   "source": [
    "# Single step Rectangle workflow"
   ],
   "metadata": {
    "collapsed": false
   }
  },
  {
   "metadata": {},
   "cell_type": "markdown",
   "source": "To deconvolute the bulk data in a single step, use the rectangle function. This function returns a tuple of the estimated cell type proportions and the signature result."
  },
  {
   "cell_type": "code",
   "outputs": [],
   "source": [
    "estimations, signature_result = rectangle.rectangle(sc_adata, bulks)"
   ],
   "metadata": {
    "collapsed": false
   },
   "execution_count": null
  },
  {
   "cell_type": "code",
   "outputs": [
    {
     "data": {
      "text/plain": "          B cells       ILC  Monocytes  NK cells  Plasma cells  Platelet   \npbmc_1   0.075919  0.001291   0.279064  0.046658      0.010834  0.008950  \\\npbmc_10  0.093986  0.003410   0.316445  0.033528      0.002279  0.036153   \npbmc_12  0.060533  0.017572   0.251589  0.114043      0.002038  0.027041   \n\n         T cells CD4 conv  T cells CD8     Tregs       mDC       pDC   Unknown  \npbmc_1           0.139600     0.268706  0.069930  0.017415  0.001971  0.079661  \npbmc_10          0.243435     0.146063  0.011599  0.032518  0.005273  0.075309  \npbmc_12          0.119488     0.325029  0.024586  0.027099  0.004422  0.026560  ",
      "text/html": "<div>\n<style scoped>\n    .dataframe tbody tr th:only-of-type {\n        vertical-align: middle;\n    }\n\n    .dataframe tbody tr th {\n        vertical-align: top;\n    }\n\n    .dataframe thead th {\n        text-align: right;\n    }\n</style>\n<table border=\"1\" class=\"dataframe\">\n  <thead>\n    <tr style=\"text-align: right;\">\n      <th></th>\n      <th>B cells</th>\n      <th>ILC</th>\n      <th>Monocytes</th>\n      <th>NK cells</th>\n      <th>Plasma cells</th>\n      <th>Platelet</th>\n      <th>T cells CD4 conv</th>\n      <th>T cells CD8</th>\n      <th>Tregs</th>\n      <th>mDC</th>\n      <th>pDC</th>\n      <th>Unknown</th>\n    </tr>\n  </thead>\n  <tbody>\n    <tr>\n      <th>pbmc_1</th>\n      <td>0.075919</td>\n      <td>0.001291</td>\n      <td>0.279064</td>\n      <td>0.046658</td>\n      <td>0.010834</td>\n      <td>0.008950</td>\n      <td>0.139600</td>\n      <td>0.268706</td>\n      <td>0.069930</td>\n      <td>0.017415</td>\n      <td>0.001971</td>\n      <td>0.079661</td>\n    </tr>\n    <tr>\n      <th>pbmc_10</th>\n      <td>0.093986</td>\n      <td>0.003410</td>\n      <td>0.316445</td>\n      <td>0.033528</td>\n      <td>0.002279</td>\n      <td>0.036153</td>\n      <td>0.243435</td>\n      <td>0.146063</td>\n      <td>0.011599</td>\n      <td>0.032518</td>\n      <td>0.005273</td>\n      <td>0.075309</td>\n    </tr>\n    <tr>\n      <th>pbmc_12</th>\n      <td>0.060533</td>\n      <td>0.017572</td>\n      <td>0.251589</td>\n      <td>0.114043</td>\n      <td>0.002038</td>\n      <td>0.027041</td>\n      <td>0.119488</td>\n      <td>0.325029</td>\n      <td>0.024586</td>\n      <td>0.027099</td>\n      <td>0.004422</td>\n      <td>0.026560</td>\n    </tr>\n  </tbody>\n</table>\n</div>"
     },
     "execution_count": 9,
     "metadata": {},
     "output_type": "execute_result"
    }
   ],
   "source": [
    "estimations"
   ],
   "metadata": {
    "collapsed": false,
    "ExecuteTime": {
     "end_time": "2024-03-25T16:18:17.737030Z",
     "start_time": "2024-03-25T16:18:17.731946Z"
    }
   },
   "execution_count": 9
  },
  {
   "cell_type": "markdown",
   "source": "signature_result is a [`RectangleSignatureResult`](../generated/rectanglepy.pp.RectangleSignatureResult.rst) object.",
   "metadata": {
    "collapsed": false
   }
  },
  {
   "cell_type": "markdown",
   "source": [
    "# 2-step Rectangle workflow"
   ],
   "metadata": {
    "collapsed": false
   }
  },
  {
   "cell_type": "markdown",
   "source": [
    "Rectangle can also be run in two steps, first creating the signature and then deconvoluting the bulk data."
   ],
   "metadata": {
    "collapsed": false
   }
  },
  {
   "cell_type": "markdown",
   "source": [
    "## Create Signature result"
   ],
   "metadata": {
    "collapsed": false
   }
  },
  {
   "cell_type": "code",
   "execution_count": null,
   "outputs": [],
   "source": [
    "signature_result = rectangle.pp.build_rectangle_signatures(sc_adata, bulks=bulks)"
   ],
   "metadata": {
    "collapsed": false
   }
  },
  {
   "cell_type": "markdown",
   "source": [
    "This creates a [`RectangleSignatureResult`](../generated/rectanglepy.pp.RectangleSignatureResult.rst) object."
   ],
   "metadata": {
    "collapsed": false
   }
  },
  {
   "cell_type": "markdown",
   "source": [
    "## Deconvolute bulk data"
   ],
   "metadata": {
    "collapsed": false
   }
  },
  {
   "cell_type": "code",
   "execution_count": null,
   "outputs": [],
   "source": [
    "estimations = rectangle.tl.deconvolution(signature_result, bulks)"
   ],
   "metadata": {
    "collapsed": false
   }
  },
  {
   "cell_type": "markdown",
   "source": [
    "This returns a pandas DataFrame with the estimated cell type proportions."
   ],
   "metadata": {
    "collapsed": false
   }
  },
  {
   "cell_type": "code",
   "outputs": [],
   "source": [],
   "metadata": {
    "collapsed": false,
    "ExecuteTime": {
     "end_time": "2024-03-07T18:39:06.840457Z",
     "start_time": "2024-03-07T18:39:06.838965Z"
    }
   },
   "execution_count": 21
  }
 ],
 "metadata": {
  "kernelspec": {
   "display_name": "Python 3.9.12 ('squidpy39')",
   "language": "python",
   "name": "python3"
  },
  "language_info": {
   "codemirror_mode": {
    "name": "ipython",
    "version": 3
   },
   "file_extension": ".py",
   "mimetype": "text/x-python",
   "name": "python",
   "nbconvert_exporter": "python",
   "pygments_lexer": "ipython3",
   "version": "3.9.12"
  },
  "vscode": {
   "interpreter": {
    "hash": "ae6466e8d4f517858789b5c9e8f0ed238fb8964458a36305fca7bddc149e9c64"
   }
  }
 },
 "nbformat": 4,
 "nbformat_minor": 4
}
