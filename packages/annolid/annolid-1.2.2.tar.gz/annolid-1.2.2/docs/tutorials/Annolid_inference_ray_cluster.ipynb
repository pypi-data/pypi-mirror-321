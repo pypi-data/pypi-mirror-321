{
 "cells": [
  {
   "cell_type": "code",
   "execution_count": null,
   "metadata": {},
   "outputs": [],
   "source": [
    "from ray import serve\n",
    "import numpy as np\n",
    "import cv2\n",
    "import glob\n",
    "import requests\n",
    "import pandas as pd\n",
    "from pathlib import Path\n",
    "from annolid.annotation.keypoints import save_labels\n",
    "from annolid.postprocessing.quality_control import pred_dict_to_labelme\n",
    "from annolid.data.videos import frame_from_video\n",
    "from annolid.inference.predict import Segmentor"
   ]
  },
  {
   "cell_type": "code",
   "execution_count": null,
   "metadata": {},
   "outputs": [],
   "source": [
    "import ray\n",
    "ray.init() "
   ]
  },
  {
   "cell_type": "code",
   "execution_count": null,
   "metadata": {},
   "outputs": [],
   "source": [
    "DATASET_DIR = \"labeled_frames_coco_dataset\"\n",
    "MODEL_PATH =  \"model_final.pth\"\n",
    "MODEL_SERVER_URL=\"http://localhost:8000/image_predict\"\n",
    "# prepare headers for http request\n",
    "content_type = 'image/jpeg'\n",
    "headers = {'content-type': content_type}\n"
   ]
  },
  {
   "cell_type": "code",
   "execution_count": null,
   "metadata": {},
   "outputs": [],
   "source": [
    "@serve.deployment(route_prefix=\"/image_predict\",num_replicas=2)\n",
    "class AnnolidModel:\n",
    "    def __init__(self):\n",
    "        self.model = Segmentor(DATASET_DIR,\n",
    "                               MODEL_PATH)\n",
    "\n",
    "    async def __call__(self, starlette_request):\n",
    "        image_payload_bytes = await starlette_request.body()\n",
    "        # convert string of image data to uint8\n",
    "        nparr = np.fromstring(image_payload_bytes, np.uint8)\n",
    "        # decode image\n",
    "        img = cv2.imdecode(nparr, cv2.IMREAD_COLOR)\n",
    "\n",
    "\n",
    "        preds = self.model.predictor(img)\n",
    "        instances =  preds[\"instances\"].to('cpu')\n",
    "        results = self.model._process_instances(instances)\n",
    "        return results\n",
    "        \n"
   ]
  },
  {
   "cell_type": "code",
   "execution_count": null,
   "metadata": {},
   "outputs": [],
   "source": [
    "serve.start()\n",
    "AnnolidModel.deploy()"
   ]
  },
  {
   "cell_type": "code",
   "execution_count": null,
   "metadata": {},
   "outputs": [],
   "source": [
    "video_file = \"myvideo.mp4\"\n",
    "\n",
    "cap = cv2.VideoCapture(video_file)\n",
    "num_frames = int(cap.get(cv2.CAP_PROP_FRAME_COUNT))\n",
    "for frame in frame_from_video(cap,num_frames):\n",
    "    img = frame\n",
    "    # encode image as jpeg\n",
    "    _, img_encoded = cv2.imencode('.jpg', img)\n",
    "    # send http request with image and receive response\n",
    "    response = requests.post(MODEL_SERVER_URL, data=img_encoded.tostring(), headers=headers)\n",
    "    # decode response\n",
    "    \n",
    "    print(response.json())\n",
    "    break"
   ]
  },
  {
   "cell_type": "code",
   "execution_count": null,
   "metadata": {},
   "outputs": [],
   "source": [
    "def instances_to_labelme(results,\n",
    "                   image_path,\n",
    "                   height,\n",
    "                   width):\n",
    "        \n",
    "        df_res = pd.DataFrame(results)\n",
    "        df_res = df_res.groupby(['instance_name'], sort=False).head(1)\n",
    "        results = df_res.to_dict(orient='records')\n",
    "        frame_label_list = []\n",
    "        for res in results:\n",
    "            label_list = pred_dict_to_labelme(res,1,0.05)\n",
    "            frame_label_list += label_list\n",
    "        img_ext = Path(image_path).suffix\n",
    "        json_path = image_path.replace(img_ext, \".json\")\n",
    "        save_labels(json_path,\n",
    "                    str(Path(image_path).name),\n",
    "                    frame_label_list,\n",
    "                    height,\n",
    "                    width,\n",
    "                    imageData=None,\n",
    "                    save_image_to_json=False\n",
    "                    )\n",
    "        return json_path"
   ]
  },
  {
   "cell_type": "code",
   "execution_count": null,
   "metadata": {},
   "outputs": [],
   "source": [
    "%%time\n",
    "\n",
    "img_folder = \"~/JPEGImages\"\n",
    "\n",
    "for img_file in glob.glob(img_folder+'/*.jpg'):\n",
    "    img = cv2.imread(img_file)\n",
    "    height, width, c = img.shape\n",
    "    # encode image as jpeg\n",
    "    _, img_encoded = cv2.imencode('.jpg', img)\n",
    "    # send http request with image and receive response\n",
    "    response = requests.post(MODEL_SERVER_URL, data=img_encoded.tostring(), headers=headers)\n",
    "    # decode response\n",
    "    \n",
    "    instances = response.json()\n",
    "    json_path = instances_to_labelme(instances,img_file,height,width)\n",
    "    print(json_path)"
   ]
  }
 ],
 "metadata": {
  "kernelspec": {
   "display_name": "Python 3.7.6 64-bit ('ceed': conda)",
   "language": "python",
   "name": "python37664bitceedcondad8db7ad605d4406b82b8fbc4f6abf972"
  },
  "language_info": {
   "codemirror_mode": {
    "name": "ipython",
    "version": 3
   },
   "file_extension": ".py",
   "mimetype": "text/x-python",
   "name": "python",
   "nbconvert_exporter": "python",
   "pygments_lexer": "ipython3",
   "version": "3.7.6"
  }
 },
 "nbformat": 4,
 "nbformat_minor": 4
}
