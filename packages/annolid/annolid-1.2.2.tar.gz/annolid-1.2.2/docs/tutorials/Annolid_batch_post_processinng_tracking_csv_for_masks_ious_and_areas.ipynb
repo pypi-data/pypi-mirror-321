{
  "nbformat": 4,
  "nbformat_minor": 0,
  "metadata": {
    "kernelspec": {
      "name": "python3",
      "display_name": "Python 3"
    },
    "colab": {
      "name": "Annolid_batch_post_processinng_tracking_csv_for_masks_ious_and_areas.ipynb",
      "provenance": []
    },
    "language_info": {
      "name": "python"
    }
  },
  "cells": [
    {
      "cell_type": "markdown",
      "source": [
        "<a href=\"https://colab.research.google.com/github/healthonrails/annolid/blob/main/docs/tutorials/Annolid_batch_post_processinng_tracking_csv_for_masks_ious_and_areas.ipynb\" target=\"_blank\"><img src=\"https://colab.research.google.com/assets/colab-badge.svg\" alt=\"Open In Colab\"/></a>"
      ],
      "metadata": {
        "id": "VpAkyDs324lM"
      }
    },
    {
      "cell_type": "markdown",
      "source": [
        "# Batch Post-processsing of the tracking results CSV files based on mask area and IOUs"
      ],
      "metadata": {
        "id": "_AhSS0Mh24lX"
      }
    },
    {
      "cell_type": "code",
      "execution_count": null,
      "source": [
        "import os\n",
        "import pandas as pd\n",
        "import numpy as np\n",
        "import cv2\n",
        "import glob\n",
        "from pycocotools import mask as mask_util\n",
        "import ast\n",
        "import plotly.express as px\n",
        "import plotly.graph_objects as go\n",
        "import warnings\n",
        "warnings.filterwarnings('ignore')\n",
        "%matplotlib inline"
      ],
      "outputs": [],
      "metadata": {
        "id": "weYGY3SM24lZ"
      }
    },
    {
      "cell_type": "code",
      "source": [
        "TRACKING_CSVS_FOLDER = '/content/tracking_results' "
      ],
      "metadata": {
        "id": "oA69otW4q13l"
      },
      "execution_count": null,
      "outputs": []
    },
    {
      "cell_type": "code",
      "execution_count": null,
      "source": [
        "def mask_perimeter(mask):\n",
        "    \"\"\"calculate perimeter for a given binary mask\n",
        "    \"\"\"\n",
        "    try:\n",
        "        mask = mask_util.decode(mask)\n",
        "    except TypeError:\n",
        "        mask = ast.literal_eval(mask)\n",
        "        rle = [mask]\n",
        "        mask = mask_util.decode(rle)\n",
        "    contours, hierarchy = cv2.findContours(mask, cv2.RETR_CCOMP,\n",
        "                           cv2.CHAIN_APPROX_SIMPLE)\n",
        "    cnt = contours[0]\n",
        "    perimeter = cv2.arcLength(cnt, True)\n",
        "    return perimeter"
      ],
      "outputs": [],
      "metadata": {
        "id": "tawKnTY624lg"
      }
    },
    {
      "cell_type": "code",
      "execution_count": null,
      "source": [
        "def mask_iou(this_mask, other_mask):\n",
        "    \"\"\"\n",
        "    Calculate intersection over union between two masks.\n",
        "    \"\"\"\n",
        "    try:\n",
        "        _iou = mask_util.iou([this_mask],[other_mask],[False,False])\n",
        "    except Exception:\n",
        "        this_mask = ast.literal_eval(this_mask)\n",
        "        other_mask = ast.literal_eval(other_mask)\n",
        "        _iou = mask_util.iou([this_mask],[other_mask],[False,False])\n",
        "    return _iou.flatten()[0]"
      ],
      "outputs": [],
      "metadata": {
        "id": "nKSou4aH24lo"
      }
    },
    {
      "cell_type": "code",
      "execution_count": null,
      "source": [
        "def mask_area(mask):\n",
        "    \"\"\"Calulate the area of a RLE mask.\n",
        "    \"\"\"\n",
        "    try:\n",
        "        area = mask_util.area(mask)\n",
        "    except TypeError:\n",
        "        mask = ast.literal_eval(mask)\n",
        "        area = mask_util.area(mask)\n",
        "    return area"
      ],
      "outputs": [],
      "metadata": {
        "id": "bXeHisvG24lp"
      }
    },
    {
      "cell_type": "code",
      "execution_count": null,
      "source": [
        "def iou_values(row,df):\n",
        "    frame_number = row.frame_number\n",
        "    df_cur = df[df[\"frame_number\"]==frame_number].sort_values(by=['Unnamed: 0'])\n",
        "    masks = df_cur['segmentation'].values\n",
        "    masks = [ast.literal_eval(mask) for mask in masks]\n",
        "    ious = mask_util.iou(masks, masks, [False]*len(masks))\n",
        "    ious[np.diag_indices_from(ious)] = 0\n",
        "    return ious"
      ],
      "outputs": [],
      "metadata": {
        "id": "8l_SMq1924ly"
      }
    },
    {
      "cell_type": "markdown",
      "source": [
        "## Merge overlapping masks "
      ],
      "metadata": {
        "id": "yb-Xmu9byV1F"
      }
    },
    {
      "cell_type": "code",
      "execution_count": null,
      "source": [
        "def merge_overlapped_masks(row, df_overlap, instance_name_prefix=None):\n",
        "\n",
        "    if instance_name_prefix is None:\n",
        "        # Assumpution instance name P6_Huddle, P4_Lone, P4_Huddle, etc\n",
        "        # get the instance anme prefix like P4, P6\n",
        "        #or you can replace it with the following line \n",
        "        # instance_name_prefix = 'P5'\n",
        "        instance_name_prefix = df_overlap.instance_name.unique()[0].split('_')[0]\n",
        "        ####\n",
        "    frame_number = row.frame_number\n",
        "    df_cur_ = df_overlap[df_overlap.frame_number == frame_number]\n",
        "    df_cur_.reset_index(inplace=True)\n",
        "    overlapped_pairs = df_cur_.iou_values.apply(lambda mx: np.nonzero(np.tril(mx)))\n",
        "    unique_overlapped_masks = []\n",
        "    for pair in overlapped_pairs:\n",
        "        om = tuple(set(list(pair[0]) + list(pair[1])))\n",
        "        unique_overlapped_masks.append(om)\n",
        "    oms = set(unique_overlapped_masks)\n",
        "    if len(oms) > 0:\n",
        "        mask_idxs = list(oms)[0]\n",
        "        df_cur_ = df_cur_.iloc[list(mask_idxs)]\n",
        "        masks = df_cur_['segmentation'].values\n",
        "        masks = [ast.literal_eval(mask) for mask in masks]\n",
        "        merged_mask = mask_util.merge(masks)\n",
        "        _instance_name = f'{instance_name_prefix}_Huddle'\n",
        "        if _instance_name in df_cur_.instance_name.unique():\n",
        "            merged_idx = df_cur_[df_cur_.instance_name==_instance_name]['Unnamed: 0'].values[0]\n",
        "            df_overlap.loc[merged_idx, 'segmentation'] = str(merged_mask)\n",
        "            remove_idx = set(df_cur_['Unnamed: 0'].to_list()) - set([merged_idx])\n",
        "            if row['Unnamed: 0'] in remove_idx:\n",
        "                return True\n",
        "        else:\n",
        "            merged_idx = df_cur_[df_cur_.instance_name==f'{instance_name_prefix}_Lone']['Unnamed: 0'].values[0]\n",
        "            df_overlap.loc[merged_idx, 'segmentation'] = str(merged_mask)\n",
        "            df_overlap.loc[merged_idx, 'instance_name'] = _instance_name\n",
        "            remove_idx = set(df_cur_['Unnamed: 0'].to_list()) - set([merged_idx])\n",
        "            if row['Unnamed: 0'] in remove_idx:\n",
        "                return True\n",
        "    return False\n"
      ],
      "outputs": [],
      "metadata": {
        "id": "eUqCpZky24l7"
      }
    },
    {
      "cell_type": "code",
      "source": [
        "def paired_distance(frame_number, df,\n",
        "                    this_instance='Female_95',\n",
        "                    other_instance='Male_105'):\n",
        "    df_dis = df[df[\"frame_number\"]==frame_number][['cx','cy','instance_name']]\n",
        "    df_this = df_dis[df_dis.instance_name == this_instance]\n",
        "    df_other = df_dis[df_dis.instance_name == other_instance]\n",
        "    try:\n",
        "      dist = np.linalg.norm(df_this[['cx','cy']].values-df_other[['cx','cy']].values)\n",
        "    except:\n",
        "      dist = None\n",
        "\n",
        "\n",
        "    return dist"
      ],
      "metadata": {
        "id": "Dg44mxqo9bd_"
      },
      "execution_count": null,
      "outputs": []
    },
    {
      "cell_type": "code",
      "source": [
        "def process_all_results(results_folder=TRACKING_CSVS_FOLDER,\n",
        "                        csv_file_pattern='*tracking_results*tion.csv',\n",
        "                        class_score_threshold=0.5,\n",
        "                        output_dir=None,\n",
        "                        paired_instances_for_distances=(('Female_95','Male_105'),)\n",
        "                        ):\n",
        "    tracking_csv_files = glob.glob(os.path.join(results_folder,csv_file_pattern))\n",
        "    processed_csvs = []\n",
        "    for tcf in tracking_csv_files:\n",
        "        print(\"Start Processing: \", tcf)\n",
        "        df = pd.read_csv(tcf)\n",
        "        instance_names = df['instance_name'].unique()\n",
        "        print(f'{len(instance_names)} instances with names: {instance_names}')\n",
        "        df = df[df.class_score > class_score_threshold]\n",
        "        video_height, video_width = ast.literal_eval(df.iloc[0].segmentation)['size']\n",
        "        if 'cx' not in df.columns:\n",
        "            cx = (df.x1 + df.x2)/2\n",
        "            df['cx'] = cx\n",
        "        if 'cy' not in df.columns:\n",
        "            cy = (df.y1 + df.y2)/2\n",
        "            df['cy'] = cy\n",
        "        df['mask_perimeter'] = df.segmentation.apply(mask_perimeter)\n",
        "        df['mask_area'] = df.segmentation.apply(mask_area)\n",
        "        ##Overlapping masks ---IOU based Mask merging and removing\n",
        "        df['iou_values'] = df.apply(lambda row: iou_values(row,df),axis=1)\n",
        "        df['overlap_indxs'] = df.iou_values.apply(lambda iou: np.argwhere(np.tril(iou)>0))\n",
        "        df['ious'] = df.iou_values.apply(lambda iou_arr: np.sum(np.nonzero(np.tril(iou_arr))))\n",
        "        df_no_overlap =df[df.ious <= 0]\n",
        "        # Keep all the no overlapping masks\n",
        "        df_no_overlap['is_removed'] = False\n",
        "        df_overlap = df[df.ious > 0]\n",
        "        df_overlap['is_removed'] = df_overlap.apply(lambda row: merge_overlapped_masks(row,df_overlap),axis=1)\n",
        "        frames = [df_no_overlap, df_overlap]\n",
        "        df_final = pd.concat(frames)\n",
        "        df_final = df_final.drop(df_final[df_final.is_removed==True].index)\n",
        "        df_final.dropna(inplace=True)\n",
        "\n",
        "        ##\n",
        "        if len(paired_instances_for_distances) >= 1:\n",
        "            try:\n",
        "                for this_instance, other_instance in paired_instances_for_distances:\n",
        "                    if this_instance in instance_names and other_instance in instance_names:   \n",
        "                        df_final[f'dist_{this_instance}_{other_instance}'] = df_final.apply(lambda row:\n",
        "                            paired_distance(row['frame_number'],df_final,this_instance,\n",
        "                            other_instance),axis=1)\n",
        "                    else:\n",
        "                        print(this_instance, other_instance, \" not in instance names.\")\n",
        "            except:\n",
        "                raise\n",
        "\n",
        "\n",
        "        print(f\"Removed {len(df)-len(df_final)} overlapping predictions\")\n",
        "        # Save the the tracking results with overlapped masks merged and removed.\n",
        "        res_file_name = os.path.basename(tcf.replace('.csv','_remove_overlapped.csv'))\n",
        "\n",
        "        # save results to a folder with suffix _processed\n",
        "        if output_dir is None:\n",
        "            output_dir = os.path.dirname(tcf) + '_processed'\n",
        "            if not os.path.exists(output_dir):\n",
        "                os.makedirs(output_dir)\n",
        "        processed_csv = os.path.join(output_dir,res_file_name)\n",
        "        df_final.to_csv(processed_csv)\n",
        "        processed_csvs.append(processed_csv)\n",
        "        del df\n",
        "        del df_overlap\n",
        "        del df_no_overlap\n",
        "        del df_final\n",
        "    print(f'Finished processing all the {tracking_csv_files} tracking csv files') \n",
        "    return processed_csvs       \n"
      ],
      "metadata": {
        "id": "xU_XwjY4r23-"
      },
      "execution_count": null,
      "outputs": []
    },
    {
      "cell_type": "code",
      "source": [
        "processed_csv_files = process_all_results(TRACKING_CSVS_FOLDER,paired_instances_for_distances=(('P6_Huddle','P6_Lone'),))"
      ],
      "metadata": {
        "id": "ZB5aPlWBsfGc"
      },
      "execution_count": null,
      "outputs": []
    },
    {
      "cell_type": "code",
      "source": [
        "df_o = pd.read_csv(processed_csv_files[0])"
      ],
      "metadata": {
        "id": "m5DYGKjK8Z2G"
      },
      "execution_count": null,
      "outputs": []
    },
    {
      "cell_type": "code",
      "source": [
        "df_o['dist_P6_Huddle_P6_Lone'].describe()"
      ],
      "metadata": {
        "id": "-1DyMvap8dLh"
      },
      "execution_count": null,
      "outputs": []
    },
    {
      "cell_type": "markdown",
      "source": [
        "#Downloading files to your local file system"
      ],
      "metadata": {
        "id": "isWbiR0J7oFu"
      }
    },
    {
      "cell_type": "code",
      "source": [
        "from google.colab import files\n",
        "tracking_csv_files = glob.glob(TRACKING_CSVS_FOLDER + '/*mask*tracking*.csv')\n",
        "for tcf in tracking_csv_files:\n",
        "    files.download(tcf)"
      ],
      "metadata": {
        "id": "R9vXGsha7Q2S"
      },
      "execution_count": null,
      "outputs": []
    }
  ]
}