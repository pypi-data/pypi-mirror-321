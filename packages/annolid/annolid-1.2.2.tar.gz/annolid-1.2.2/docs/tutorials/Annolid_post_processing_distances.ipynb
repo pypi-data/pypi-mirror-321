{
  "cells": [
    {
      "cell_type": "markdown",
      "metadata": {
        "id": "lyy2TrvB_bck"
      },
      "source": [
        "<a href=\"https://colab.research.google.com/github/healthonrails/annolid/blob/main/docs/tutorials/Annolid_post_processing_distances.ipynb\" target=\"_blank\"><img src=\"https://colab.research.google.com/assets/colab-badge.svg\" alt=\"Open In Colab\"/></a>"
      ]
    },
    {
      "cell_type": "markdown",
      "metadata": {
        "id": "GGbgnKlW_KuL"
      },
      "source": [
        "## Calculate distances for a pair of instances in the same frame or the same instance across frames"
      ]
    },
    {
      "cell_type": "code",
      "execution_count": null,
      "metadata": {
        "id": "42_T4PR3kKBB"
      },
      "outputs": [],
      "source": [
        "import pandas as pd\n",
        "import numpy as np\n",
        "from google.colab import data_table"
      ]
    },
    {
      "cell_type": "markdown",
      "source": [
        "# Mount you google Drive "
      ],
      "metadata": {
        "id": "gMTdimVyt_mu"
      }
    },
    {
      "cell_type": "code",
      "source": [
        "from google.colab import drive\n",
        "drive.mount('/gdrive')"
      ],
      "metadata": {
        "id": "n-cXexIoHecT"
      },
      "execution_count": null,
      "outputs": []
    },
    {
      "cell_type": "code",
      "execution_count": null,
      "metadata": {
        "id": "YwXnZ9REpJhu"
      },
      "outputs": [],
      "source": [
        "!pip install gradio"
      ]
    },
    {
      "cell_type": "code",
      "execution_count": null,
      "metadata": {
        "id": "4o7BdVrYpTpC"
      },
      "outputs": [],
      "source": [
        "import gradio as gr"
      ]
    },
    {
      "cell_type": "code",
      "execution_count": null,
      "metadata": {
        "id": "bo5do0ofk13h"
      },
      "outputs": [],
      "source": [
        "data_table.enable_dataframe_formatter()"
      ]
    },
    {
      "cell_type": "markdown",
      "source": [
        "#Extact video metadata"
      ],
      "metadata": {
        "id": "Xefwmlrpts76"
      }
    },
    {
      "cell_type": "code",
      "source": [
        "import cv2\n",
        "VIDEO_FILE_PATH = '/gdrive/MyDrive/annolid/Chens_tracked_videos/Nov5_post_Tank7_Tank8/Nov5_post_Tank7_Tank8.mp4'\n",
        "cap = cv2.VideoCapture(VIDEO_FILE_PATH)"
      ],
      "metadata": {
        "id": "n_XPH7FntxyB"
      },
      "execution_count": null,
      "outputs": []
    },
    {
      "cell_type": "code",
      "source": [
        "def extract_video_metadata(cap):\n",
        "    \"\"\"Extract video metadata\n",
        "    Args:\n",
        "        cap (VideoCapture): cv2 VideoCapture object\n",
        "    Returns:\n",
        "        dict : dict of video metadata\n",
        "    \"\"\"\n",
        "    meta_data = {\n",
        "        'frame_width': cap.get(cv2.CAP_PROP_FRAME_WIDTH),\n",
        "        'frame_height': cap.get(cv2.CAP_PROP_FRAME_HEIGHT),\n",
        "        'fps': cap.get(cv2.CAP_PROP_FPS),\n",
        "        'format': cap.get(cv2.CAP_PROP_FORMAT),\n",
        "        'frame_count': cap.get(cv2.CAP_PROP_FRAME_COUNT),\n",
        "        'fourcc': cap.get(cv2.CAP_PROP_FOURCC),\n",
        "        'model': cap.get(cv2.CAP_PROP_MODE)\n",
        "    }\n",
        "    return meta_data\n",
        "\n",
        "video_meta_data = extract_video_metadata(cap)"
      ],
      "metadata": {
        "id": "8snLdkQwu208"
      },
      "execution_count": null,
      "outputs": []
    },
    {
      "cell_type": "code",
      "source": [
        "RATIO_PIX_TO_CM = 1 # with box size\n",
        "FPS = video_meta_data['fps']\n",
        "FPS"
      ],
      "metadata": {
        "id": "sdDKbLXrSmjZ"
      },
      "execution_count": null,
      "outputs": []
    },
    {
      "cell_type": "code",
      "source": [
        "total_number_frames = video_meta_data['frame_count']\n",
        "total_number_frames"
      ],
      "metadata": {
        "id": "MT1Tf4xIwXDY"
      },
      "execution_count": null,
      "outputs": []
    },
    {
      "cell_type": "code",
      "source": [
        "video_length_in_seconds = total_number_frames / FPS\n",
        "video_length_in_seconds"
      ],
      "metadata": {
        "id": "ILEsbupOwtZ1"
      },
      "execution_count": null,
      "outputs": []
    },
    {
      "cell_type": "markdown",
      "source": [
        "# Tracking CSV file location"
      ],
      "metadata": {
        "id": "PpRgq82mtRHB"
      }
    },
    {
      "cell_type": "code",
      "execution_count": null,
      "metadata": {
        "id": "aYdRn8L_kUCv"
      },
      "outputs": [],
      "source": [
        "CSV_FILE = '/gdrive/MyDrive/annolid/Chens_tracked_videos/Nov5_post_Tank7_Tank8/results_trained_on_corrected_keyframes/Nov5_post_Tank7_Tank8_predicted_keyframes_coco_dataset_Nov5_post_Tank7_Tank8_mask_rcnn_tracking_results_with_segmenation.csv'"
      ]
    },
    {
      "cell_type": "code",
      "execution_count": null,
      "metadata": {
        "id": "1rbhNyrMkON6"
      },
      "outputs": [],
      "source": [
        "df = pd.read_csv(CSV_FILE)"
      ]
    },
    {
      "cell_type": "code",
      "execution_count": null,
      "metadata": {
        "id": "KixXR8GYkoeo"
      },
      "outputs": [],
      "source": [
        "df.head()"
      ]
    },
    {
      "cell_type": "code",
      "source": [
        "df_male_92 = df[df.instance_name == 'Male_92']"
      ],
      "metadata": {
        "id": "McqCLSHPEfhE"
      },
      "execution_count": null,
      "outputs": []
    },
    {
      "cell_type": "code",
      "source": [
        "df_male_92.head()"
      ],
      "metadata": {
        "id": "P7PJ79SZKnLo"
      },
      "execution_count": null,
      "outputs": []
    },
    {
      "cell_type": "markdown",
      "source": [
        "# Find the instance's last detected location before the given frame"
      ],
      "metadata": {
        "id": "7Ok0xosLs6EK"
      }
    },
    {
      "cell_type": "code",
      "source": [
        "def find_last_show_position(instance_name='Female_52',frame_number=0):\n",
        "    return df[(df.instance_name == instance_name) & (df.frame_number < frame_number)].sort_values(by='frame_number',ascending=False).head(1)"
      ],
      "metadata": {
        "id": "eIP_N6pooaFa"
      },
      "execution_count": null,
      "outputs": []
    },
    {
      "cell_type": "markdown",
      "source": [
        "#e.g. Frame number 387 has one missing instance Femable_95"
      ],
      "metadata": {
        "id": "Jhckup4-0uwL"
      }
    },
    {
      "cell_type": "code",
      "source": [
        "df[df.frame_number == 387]"
      ],
      "metadata": {
        "id": "JYAPeDhJ0qfS"
      },
      "execution_count": null,
      "outputs": []
    },
    {
      "cell_type": "markdown",
      "source": [
        "# Female_95 was detected in the previous frame 386"
      ],
      "metadata": {
        "id": "0BGu93VG1QMO"
      }
    },
    {
      "cell_type": "code",
      "source": [
        "find_last_show_position('Female_95',387)"
      ],
      "metadata": {
        "id": "ztt9bm3bpW2e"
      },
      "execution_count": null,
      "outputs": []
    },
    {
      "cell_type": "markdown",
      "source": [
        "# Find missing frames in the current frame and fill the info with the last detection location"
      ],
      "metadata": {
        "id": "jzH22Qdx3EoQ"
      }
    },
    {
      "cell_type": "code",
      "source": [
        "expected_instances = set([name for name in df.instance_name.unique().tolist() if 'ale_' in name])\n",
        "#please uncomment the following line if you want to use and input your own list\n",
        "#expected_instances = ['Male_92', 'Female_95', 'Male_105', 'Female_52']\n",
        "def fill_missing_instance(frame_number): \n",
        "    global df\n",
        "    df_cur = df[df.frame_number == frame_number]\n",
        "    cur_instances = set([name for name in df_cur.instance_name.unique().tolist() if 'ale_' in name])\n",
        "    missed_instances = expected_instances - cur_instances    \n",
        "    if len(missed_instances) >= 1:\n",
        "        for mi in missed_instances:\n",
        "            df_prev = find_last_show_position(mi,frame_number)\n",
        "            df_prev.frame_number = frame_number\n",
        "            df = pd.concat([df, df_prev])\n",
        "            print(frame_number,mi)"
      ],
      "metadata": {
        "id": "bLTcpnD_br7C"
      },
      "execution_count": null,
      "outputs": []
    },
    {
      "cell_type": "markdown",
      "source": [
        "#Fill the frame with missing instances, it found Female_95 was missing and filled it with previous location"
      ],
      "metadata": {
        "id": "odDiS55V3Yo1"
      }
    },
    {
      "cell_type": "code",
      "source": [
        "fill_missing_instance(387)"
      ],
      "metadata": {
        "id": "hSreIUJY1tUt"
      },
      "execution_count": null,
      "outputs": []
    },
    {
      "cell_type": "markdown",
      "source": [
        "#We can verify that the Female_95 present in frame 387 now as follows."
      ],
      "metadata": {
        "id": "QGthfBRa3mcT"
      }
    },
    {
      "cell_type": "code",
      "source": [
        "df[df.frame_number == 387]"
      ],
      "metadata": {
        "id": "s5UF8FgS2C76"
      },
      "execution_count": null,
      "outputs": []
    },
    {
      "cell_type": "markdown",
      "source": [
        "# Fill missing instances with the last detection location values for all the frames"
      ],
      "metadata": {
        "id": "RdUAzyqssnxr"
      }
    },
    {
      "cell_type": "code",
      "source": [
        "df.frame_number.apply(fill_missing_instance)"
      ],
      "metadata": {
        "id": "ZowlReOpeq_e"
      },
      "execution_count": null,
      "outputs": []
    },
    {
      "cell_type": "markdown",
      "metadata": {
        "id": "DDv545lblmG2"
      },
      "source": [
        "## Calculate the distance of a pair of instances in a given frame\n",
        "\n",
        "---"
      ]
    },
    {
      "cell_type": "code",
      "execution_count": null,
      "metadata": {
        "id": "Avjf9-6jk-0K"
      },
      "outputs": [],
      "source": [
        "def paired_distance(frame_number,\n",
        "                    this_instance='Female_95',\n",
        "                    other_instance='Male_105'):\n",
        "    df_dis = df[df[\"frame_number\"]==frame_number][['cx','cy','instance_name']]\n",
        "    df_this = df_dis[df_dis.instance_name == this_instance]\n",
        "    df_other = df_dis[df_dis.instance_name == other_instance]\n",
        "    try:\n",
        "      dist = np.linalg.norm(df_this[['cx','cy']].values-df_other[['cx','cy']].values)\n",
        "    except:\n",
        "      dist = None\n",
        "\n",
        "\n",
        "    return dist"
      ]
    },
    {
      "cell_type": "code",
      "execution_count": null,
      "metadata": {
        "id": "4xvmtCNUlqPp"
      },
      "outputs": [],
      "source": [
        "paired_distance(0,'Female_95','Male_105')"
      ]
    },
    {
      "cell_type": "code",
      "execution_count": null,
      "metadata": {
        "id": "3jDdZwwjskuG"
      },
      "outputs": [],
      "source": [
        "instance_names = list(df.instance_name.unique())"
      ]
    },
    {
      "cell_type": "code",
      "execution_count": null,
      "metadata": {
        "id": "BSg6qVAtp5YX"
      },
      "outputs": [],
      "source": [
        "iface = gr.Interface(paired_distance,\n",
        "                     [\n",
        "                         gr.inputs.Number(),\n",
        "                         gr.inputs.Dropdown(instance_names),\n",
        "                         gr.inputs.Dropdown(instance_names),\n",
        "\n",
        "                     ],\n",
        "                     [\n",
        "                         gr.outputs.Label(label=\"Paired Distance\"),\n",
        "                     ]\n",
        "                     )\n",
        "iface.launch()"
      ]
    },
    {
      "cell_type": "markdown",
      "metadata": {
        "id": "cK8W0qrNmlCl"
      },
      "source": [
        "## Calculate the distance of the instance from the previous frame to the current frame"
      ]
    },
    {
      "cell_type": "code",
      "execution_count": null,
      "metadata": {
        "id": "HjsP2sxFmB9i"
      },
      "outputs": [],
      "source": [
        "def instance_distance_between_frame(frame_number,\n",
        "                                    instance_name='Female_95'):\n",
        "    if frame_number < 1:\n",
        "      return 0\n",
        "    previous_frame_number = frame_number - 1\n",
        "    df_dis = df[df[\"frame_number\"]==frame_number][['cx','cy','instance_name']]\n",
        "    df_dis_prev = df[df[\"frame_number\"]==previous_frame_number][['cx','cy','instance_name']]\n",
        "    df_dis = df_dis[df_dis.instance_name == instance_name]\n",
        "    df_dis_prev = df_dis_prev[df_dis_prev.instance_name == instance_name]\n",
        "\n",
        "    try:\n",
        "      dist = np.linalg.norm(df_dis[['cx','cy']].values-df_dis_prev[['cx','cy']].values)\n",
        "    except:\n",
        "      dist = None\n",
        "    \n",
        "    return dist\n",
        "    "
      ]
    },
    {
      "cell_type": "code",
      "execution_count": null,
      "metadata": {
        "id": "Xzes-ShfmqHa"
      },
      "outputs": [],
      "source": [
        "df['dist_from_previous_frame_female_95'] = df.frame_number.apply(instance_distance_between_frame,instance_name='Female_95')"
      ]
    },
    {
      "cell_type": "code",
      "execution_count": null,
      "metadata": {
        "id": "GOxkT5FbCf_d"
      },
      "outputs": [],
      "source": [
        "df['dist_from_previous_frame_female_95'].describe()"
      ]
    },
    {
      "cell_type": "markdown",
      "metadata": {
        "id": "jVJ9YHznnBkj"
      },
      "source": [
        "## The total distance traveled for instance female_95 in in pixels"
      ]
    },
    {
      "cell_type": "code",
      "execution_count": null,
      "metadata": {
        "id": "CTFCNUvSmtu7"
      },
      "outputs": [],
      "source": [
        "df['dist_from_previous_frame_female_95'].sum()"
      ]
    },
    {
      "cell_type": "markdown",
      "source": [
        "#For instance example Male_105"
      ],
      "metadata": {
        "id": "BdDn5t6ihNff"
      }
    },
    {
      "cell_type": "code",
      "execution_count": null,
      "metadata": {
        "id": "tBNYddKADHZ_"
      },
      "outputs": [],
      "source": [
        "df['dist_from_previous_frame_male_105']= df.frame_number.apply(instance_distance_between_frame, instance_name='Male_105')"
      ]
    },
    {
      "cell_type": "code",
      "execution_count": null,
      "metadata": {
        "id": "ng9WyC89FK89"
      },
      "outputs": [],
      "source": [
        "# Total distance traveled by Male_105 across all the frames\n",
        "df['dist_from_previous_frame_male_105'].sum()"
      ]
    },
    {
      "cell_type": "markdown",
      "source": [
        "# Distance traveled and average speed"
      ],
      "metadata": {
        "id": "tOkFEA2dx5JK"
      }
    },
    {
      "cell_type": "code",
      "execution_count": null,
      "metadata": {
        "id": "2uvk_bHnFXY9"
      },
      "outputs": [],
      "source": [
        "df['dist_from_previous_frame_female_52']= df.frame_number.apply(instance_distance_between_frame, instance_name='Female_52')"
      ]
    },
    {
      "cell_type": "code",
      "execution_count": null,
      "metadata": {
        "id": "-MjibTPIHTIZ"
      },
      "outputs": [],
      "source": [
        "total_distance_traveled_by_female_52 = df['dist_from_previous_frame_female_52'].sum()\n",
        "print(\"The total distance traveled by female_52 is: \", total_distance_traveled_by_female_52, \"in pixels\")"
      ]
    },
    {
      "cell_type": "code",
      "source": [
        "# calculate average speed \n",
        "average_speed_of_female_52 = df['dist_from_previous_frame_female_52'].sum()/video_length_in_seconds\n",
        "print('The average speed of female_52 is: ',average_speed_of_female_52, 'in pixels')"
      ],
      "metadata": {
        "id": "7BGCbbFXbTcu"
      },
      "execution_count": null,
      "outputs": []
    },
    {
      "cell_type": "code",
      "execution_count": null,
      "metadata": {
        "id": "XKhGG8R3n9Tx"
      },
      "outputs": [],
      "source": [
        "import plotly.express as px\n",
        "import plotly.graph_objects as go"
      ]
    },
    {
      "cell_type": "code",
      "execution_count": null,
      "metadata": {
        "id": "Yx9ufLOqnFXu"
      },
      "outputs": [],
      "source": [
        "\n",
        "fig = px.line(x=df.frame_number, y=df.dist_from_previous_frame_female_95, labels={'x':'frame_number', 'y':'dist from previous frame female_95'})\n",
        "fig.show()"
      ]
    },
    {
      "cell_type": "code",
      "source": [
        "fig1 = px.line(x=df.frame_number, y=df.dist_from_previous_frame_female_95.cumsum(), labels={'x':'frame_number', 'y':'cumulative sum of dist from previous frame female_95'})\n",
        "fig1.show()"
      ],
      "metadata": {
        "id": "ALGDF6xEUDSu"
      },
      "execution_count": null,
      "outputs": []
    },
    {
      "cell_type": "markdown",
      "metadata": {
        "id": "CLW3u9FDyBGL"
      },
      "source": [
        "## Distance between two instances e.g. female_95 and male_105 in pixels"
      ]
    },
    {
      "cell_type": "code",
      "execution_count": null,
      "metadata": {
        "id": "eDyvAcrwyBiJ"
      },
      "outputs": [],
      "source": [
        "df['dist_frog__female_95_male_105'] = df.frame_number.apply(paired_distance,this_instance='Female_95',other_instance='Male_105')"
      ]
    },
    {
      "cell_type": "code",
      "execution_count": null,
      "metadata": {
        "id": "aSPX55XNyHxH"
      },
      "outputs": [],
      "source": [
        "\n",
        "fig = px.line(x=df.frame_number, y=df.dist_frog__female_95_male_105, labels={'x':'frame_number', 'y':'distance between frog male in tank 8 and frog female in tank 8'})\n",
        "fig.show()"
      ]
    },
    {
      "cell_type": "code",
      "source": [
        "df.to_csv('Final_with_distances_Nov5_post_Tank7_Tank8.csv')"
      ],
      "metadata": {
        "id": "QSw-Y4ipUxfQ"
      },
      "execution_count": null,
      "outputs": []
    },
    {
      "cell_type": "code",
      "source": [
        "df.head()"
      ],
      "metadata": {
        "id": "eK3a1SJPbIcC"
      },
      "execution_count": null,
      "outputs": []
    },
    {
      "cell_type": "code",
      "source": [
        "#https://stackoverflow.com/questions/23199796/detect-and-exclude-outliers-in-a-pandas-dataframe\n",
        "#------------------------------------------------------------------------------\n",
        "# accept a dataframe, remove outliers, return cleaned data in a new dataframe\n",
        "# see http://www.itl.nist.gov/div898/handbook/prc/section1/prc16.htm\n",
        "#------------------------------------------------------------------------------\n",
        "def remove_outlier(df_in, col_name):\n",
        "    q1 = df_in[col_name].quantile(0.25)\n",
        "    q3 = df_in[col_name].quantile(0.75)\n",
        "    iqr = q3-q1 #Interquartile range\n",
        "    fence_low  = q1-1.5*iqr\n",
        "    fence_high = q3+1.5*iqr\n",
        "    df_out = df_in.loc[(df_in[col_name] > fence_low) & (df_in[col_name] < fence_high)]\n",
        "    return df_out"
      ],
      "metadata": {
        "id": "BMsSvKmI-cfj"
      },
      "execution_count": null,
      "outputs": []
    },
    {
      "cell_type": "markdown",
      "source": [
        "#Average distance between the male and female throughout the video"
      ],
      "metadata": {
        "id": "RW8ll9o3rGso"
      }
    },
    {
      "cell_type": "code",
      "source": [
        "print(\"The average distance between male and female throughout the video is \",df.dist_frog__female_95_male_105.mean())"
      ],
      "metadata": {
        "id": "0VgQOYndqzIK"
      },
      "execution_count": null,
      "outputs": []
    },
    {
      "cell_type": "markdown",
      "source": [
        "# Histogram of the the distance between male and female throughout the video"
      ],
      "metadata": {
        "id": "yq2WNIx-tFy9"
      }
    },
    {
      "cell_type": "code",
      "source": [
        "df.dist_frog__female_95_male_105.hist()"
      ],
      "metadata": {
        "id": "TW4q6_ecry0z"
      },
      "execution_count": null,
      "outputs": []
    },
    {
      "cell_type": "markdown",
      "source": [
        "# Boxplot of the the distance between male and female throughout the video"
      ],
      "metadata": {
        "id": "jhoBESh6tUTF"
      }
    },
    {
      "cell_type": "code",
      "source": [
        "df.boxplot(column='dist_frog__female_95_male_105')"
      ],
      "metadata": {
        "id": "vHuQhVb9sH10"
      },
      "execution_count": null,
      "outputs": []
    },
    {
      "cell_type": "code",
      "source": [
        "# calculate the area center points with convext hull polygon\n",
        "import matplotlib.pyplot as plt\n",
        "from scipy.spatial import ConvexHull\n",
        "def area_used(instance_name='Female_95',vis=True):\n",
        "    df_center = df[df.instance_name == instance_name][['cx','cy']]\n",
        "    df_center = remove_outlier(df_center,'cx')\n",
        "    df_center = remove_outlier(df_center,'cy')\n",
        "    points = df_center.values\n",
        "    hull = ConvexHull(points)\n",
        "    if vis:\n",
        "        plt.plot(points[:,0], points[:,1], 'o')\n",
        "        for simplex in hull.simplices:\n",
        "            plt.plot(points[simplex, 0], points[simplex, 1], 'k-')\n",
        "    return hull.area\n",
        "  "
      ],
      "metadata": {
        "id": "s5sZdBit0GI1"
      },
      "execution_count": null,
      "outputs": []
    },
    {
      "cell_type": "code",
      "source": [
        "area_used('Male_105')"
      ],
      "metadata": {
        "id": "ofSMzxStACYR"
      },
      "execution_count": null,
      "outputs": []
    },
    {
      "cell_type": "code",
      "source": [
        "area_used('Male_92')"
      ],
      "metadata": {
        "id": "LRknSmIuC3sB"
      },
      "execution_count": null,
      "outputs": []
    },
    {
      "cell_type": "markdown",
      "source": [
        "# Scatter plot for all the instances center point for all the frames"
      ],
      "metadata": {
        "id": "FdC5SzvDyU_O"
      }
    },
    {
      "cell_type": "markdown",
      "source": [
        "Remove outliers of cx"
      ],
      "metadata": {
        "id": "QXyInQfHngek"
      }
    },
    {
      "cell_type": "code",
      "source": [
        "df_remove_outlier = df[df.groupby(\"instance_name\").cx.transform(lambda x : (x<x.quantile(0.95))&(x>(x.quantile(0.05)))).eq(1)]"
      ],
      "metadata": {
        "id": "AhxlWrVglvik"
      },
      "execution_count": null,
      "outputs": []
    },
    {
      "cell_type": "markdown",
      "source": [
        "Remove outliers of cy"
      ],
      "metadata": {
        "id": "ce3m0Q9Om_rd"
      }
    },
    {
      "cell_type": "code",
      "source": [
        "df_remove_outlier = df_remove_outlier[df_remove_outlier.groupby(\"instance_name\").cy.transform(lambda x : (x<x.quantile(0.95))&(x>(x.quantile(0.05)))).eq(1)]"
      ],
      "metadata": {
        "id": "ibZ-Ed1YnBsV"
      },
      "execution_count": null,
      "outputs": []
    },
    {
      "cell_type": "code",
      "source": [
        "\n",
        "px.scatter(x=df_remove_outlier.cx,y=df_remove_outlier.cy,color=df_remove_outlier.instance_name)"
      ],
      "metadata": {
        "id": "6qt0AYSs0IxS"
      },
      "execution_count": null,
      "outputs": []
    },
    {
      "cell_type": "markdown",
      "source": [
        "#Remove outliers of the distance between female and male throughout the video "
      ],
      "metadata": {
        "id": "DKpw8TcPuqZ6"
      }
    },
    {
      "cell_type": "code",
      "source": [
        "df_remove_outlier = remove_outlier(df_remove_outlier,'dist_frog__female_95_male_105')"
      ],
      "metadata": {
        "id": "ub4bPRDvt9iT"
      },
      "execution_count": null,
      "outputs": []
    },
    {
      "cell_type": "code",
      "source": [
        "print(\"The average distance between female and male after removing the outliers is \", df_remove_outlier.dist_frog__female_95_male_105.mean())"
      ],
      "metadata": {
        "id": "X11aIf_Guegq"
      },
      "execution_count": null,
      "outputs": []
    },
    {
      "cell_type": "code",
      "source": [
        "df_remove_outlier.dist_frog__female_95_male_105.hist()"
      ],
      "metadata": {
        "id": "N1Aws5SXuj6d"
      },
      "execution_count": null,
      "outputs": []
    },
    {
      "cell_type": "code",
      "source": [
        ""
      ],
      "metadata": {
        "id": "fAwl99SIvUzM"
      },
      "execution_count": null,
      "outputs": []
    }
  ],
  "metadata": {
    "colab": {
      "collapsed_sections": [],
      "name": "Annolid_post_processing_distances_updated.ipynb",
      "provenance": []
    },
    "kernelspec": {
      "display_name": "Python 3",
      "name": "python3"
    },
    "language_info": {
      "name": "python"
    }
  },
  "nbformat": 4,
  "nbformat_minor": 0
}