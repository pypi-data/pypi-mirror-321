{
  "cells": [
    {
      "cell_type": "markdown",
      "source": [
        "# Follow Anything\n",
        "Follow Anything: Open-set detection, tracking, and following in real-time.\n",
        "\n",
        "\n",
        "https://arxiv.org/abs/2308.05737\n",
        "\n",
        "Tracking and following objects of interest is critical to several robotics use cases, ranging from industrial automation to logistics and warehousing, to healthcare and security. In this paper, we present a robotic system to detect, track, and follow any object in real-time. Our approach, dubbed ``follow anything'' (FAn), is an open-vocabulary and multimodal model -- it is not restricted to concepts seen at training time and can be applied to novel classes at inference time using text, images, or click queries. Leveraging rich visual descriptors from large-scale pre-trained models (foundation models), FAn can detect and segment objects by matching multimodal queries (text, images, clicks) against an input image sequence. These detected and segmented objects are tracked across image frames, all while accounting for occlusion and object re-emergence. We demonstrate FAn on a real-world robotic system (a micro aerial vehicle) and report its ability to seamlessly follow the objects of interest in a real-time control loop. FAn can be deployed on a laptop with a lightweight (6-8 GB) graphics card, achieving a throughput of 6-20 frames per second. To enable rapid adoption, deployment, and extensibility, we open-source all our code on our project webpage at this https URL . We also encourage the reader the watch our 5-minutes explainer video in this this https URL .\n",
        "\n",
        "\n",
        "```\n",
        "@article{maalouf2023follow,\n",
        "  title={Follow Anything: Open-set detection, tracking, and following in real-time},\n",
        "  author={Maalouf, Alaa and Jadhav, Ninad and Jatavallabhula, Krishna Murthy and Chahine, Makram and Vogt, Daniel M and Wood, Robert J and Torralba, Antonio and Rus, Daniela},\n",
        "  journal={arXiv preprint arXiv:2308.05737},\n",
        "  year={2023}\n",
        "}```"
      ],
      "metadata": {
        "id": "Y0dyyKfg8uQ7"
      }
    },
    {
      "cell_type": "code",
      "source": [
        "\n",
        " !git clone https://github.com/alaamaalouf/FollowAnything.git\n"
      ],
      "metadata": {
        "id": "9OS71nhZr3HJ"
      },
      "execution_count": null,
      "outputs": []
    },
    {
      "cell_type": "code",
      "source": [
        "%cd FollowAnything/"
      ],
      "metadata": {
        "id": "95ilFq_Atrln"
      },
      "execution_count": null,
      "outputs": []
    },
    {
      "cell_type": "code",
      "source": [
        "!bash ./Segment-and-Track-Anything/script/install.sh"
      ],
      "metadata": {
        "id": "2m0_aPoztnGt"
      },
      "execution_count": null,
      "outputs": []
    },
    {
      "cell_type": "code",
      "source": [
        "%cd Segment-and-Track-Anything/"
      ],
      "metadata": {
        "id": "3BxrU-8MxuRo"
      },
      "execution_count": null,
      "outputs": []
    },
    {
      "cell_type": "code",
      "source": [
        "!pip install mavsdk"
      ],
      "metadata": {
        "id": "1_vGtGMAwKeu"
      },
      "execution_count": null,
      "outputs": []
    },
    {
      "cell_type": "code",
      "source": [
        "!pip install rtsp"
      ],
      "metadata": {
        "id": "BjNlKWIrwdM9"
      },
      "execution_count": null,
      "outputs": []
    },
    {
      "cell_type": "code",
      "source": [
        "!pip install open_clip_torch"
      ],
      "metadata": {
        "id": "sMaWCT21wmPC"
      },
      "execution_count": null,
      "outputs": []
    },
    {
      "cell_type": "code",
      "source": [
        "!pip install git+https://github.com/facebookresearch/segment-anything.git"
      ],
      "metadata": {
        "id": "y7Qi9QHkxkRJ"
      },
      "execution_count": null,
      "outputs": []
    },
    {
      "cell_type": "code",
      "source": [
        "!bash script/download_ckpt.sh"
      ],
      "metadata": {
        "id": "yWOu6m-Lx0Yn"
      },
      "execution_count": null,
      "outputs": []
    },
    {
      "cell_type": "code",
      "source": [
        "%cd FollowAnything/"
      ],
      "metadata": {
        "id": "SNXaQSvY9L7f"
      },
      "execution_count": null,
      "outputs": []
    },
    {
      "cell_type": "code",
      "source": [
        "!python follow_anything.py --desired_height 240 --desired_width 320 --path_to_video /content/47_06_052021.mp4 --save_images_to outputs_47/ --detect dino --redetect_by tracker --use_sam --tracker aot --queries_dir queries/toy_car_following --desired_feature 0"
      ],
      "metadata": {
        "id": "l_SSj1P7v_Fj"
      },
      "execution_count": null,
      "outputs": []
    }
  ],
  "metadata": {
    "colab": {
      "provenance": [],
      "gpuType": "T4"
    },
    "kernelspec": {
      "display_name": "Python 3",
      "name": "python3"
    },
    "accelerator": "GPU"
  },
  "nbformat": 4,
  "nbformat_minor": 0
}