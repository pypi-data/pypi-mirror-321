{
  "nbformat": 4,
  "nbformat_minor": 0,
  "metadata": {
    "kernelspec": {
      "name": "python3",
      "display_name": "Python 3"
    },
    "colab": {
      "name": "Annolid_post_processinng_masks_ious_and_areas.ipynb",
      "provenance": []
    },
    "language_info": {
      "name": "python"
    }
  },
  "cells": [
    {
      "cell_type": "markdown",
      "source": [
        "<a href=\"https://colab.research.google.com/github/healthonrails/annolid/blob/main/docs/tutorials/Annolid_post_processinng_masks_ious_and_areas.ipynb\" target=\"_blank\"><img src=\"https://colab.research.google.com/assets/colab-badge.svg\" alt=\"Open In Colab\"/></a>"
      ],
      "metadata": {
        "id": "VpAkyDs324lM"
      }
    },
    {
      "cell_type": "markdown",
      "source": [
        "# Post-processsing of masks based on mask area and IOUs"
      ],
      "metadata": {
        "id": "_AhSS0Mh24lX"
      }
    },
    {
      "cell_type": "code",
      "execution_count": null,
      "source": [
        "import pandas as pd\n",
        "import numpy as np\n",
        "import cv2\n",
        "from pycocotools import mask as mask_util\n",
        "import ast\n",
        "import plotly.express as px\n",
        "import plotly.graph_objects as go\n",
        "import warnings\n",
        "warnings.filterwarnings('ignore')\n",
        "%matplotlib inline"
      ],
      "outputs": [],
      "metadata": {
        "id": "weYGY3SM24lZ"
      }
    },
    {
      "cell_type": "code",
      "execution_count": null,
      "source": [
        "TRACKING_CSV_FILE = \"mask_rcnn_tracking_results_with_segmenation.csv\" "
      ],
      "outputs": [],
      "metadata": {
        "id": "ewWK9hAB24lb"
      }
    },
    {
      "cell_type": "code",
      "execution_count": null,
      "source": [
        "df = pd.read_csv(TRACKING_CSV_FILE)"
      ],
      "outputs": [],
      "metadata": {
        "id": "p6UIFGVN24lc"
      }
    },
    {
      "cell_type": "code",
      "execution_count": null,
      "source": [
        "df.head()"
      ],
      "outputs": [],
      "metadata": {
        "id": "hu5KHZ9a24lc"
      }
    },
    {
      "cell_type": "code",
      "execution_count": null,
      "source": [
        "# remove predictions with class score less than or equal to 0.5\n",
        "df = df[df.class_score > 0.5]"
      ],
      "outputs": [],
      "metadata": {
        "id": "Dk6y-io0MWQg"
      }
    },
    {
      "cell_type": "code",
      "execution_count": null,
      "source": [
        "video_height, video_width = ast.literal_eval(df.iloc[0].segmentation)['size']"
      ],
      "outputs": [],
      "metadata": {
        "id": "xIgKjQU624ld"
      }
    },
    {
      "cell_type": "code",
      "execution_count": null,
      "source": [
        "cx = (df.x1 + df.x2)/2\n",
        "cy = (df.y1 + df.y2)/2\n",
        "df['cx'] = cx\n",
        "df['cy'] = cy"
      ],
      "outputs": [],
      "metadata": {
        "id": "rBwJlkyk24le"
      }
    },
    {
      "cell_type": "code",
      "execution_count": null,
      "source": [
        "def mask_perimeter(mask):\n",
        "    \"\"\"calculate perimeter for a given binary mask\n",
        "    \"\"\"\n",
        "    try:\n",
        "        mask = mask_util.decode(mask)\n",
        "    except TypeError:\n",
        "        mask = ast.literal_eval(mask)\n",
        "        rle = [mask]\n",
        "        mask = mask_util.decode(rle)\n",
        "    contours, hierarchy = cv2.findContours(mask, cv2.RETR_CCOMP,\n",
        "                           cv2.CHAIN_APPROX_SIMPLE)\n",
        "    cnt = contours[0]\n",
        "    perimeter = cv2.arcLength(cnt, True)\n",
        "    return perimeter"
      ],
      "outputs": [],
      "metadata": {
        "id": "tawKnTY624lg"
      }
    },
    {
      "cell_type": "code",
      "execution_count": null,
      "source": [
        "df['mask_perimeter'] = df.segmentation.apply(mask_perimeter)"
      ],
      "outputs": [],
      "metadata": {
        "id": "-4RgOc5924lm"
      }
    },
    {
      "cell_type": "code",
      "execution_count": null,
      "source": [
        "def mask_iou(this_mask, other_mask):\n",
        "    \"\"\"\n",
        "    Calculate intersection over union between two masks.\n",
        "    \"\"\"\n",
        "    try:\n",
        "        _iou = mask_util.iou([this_mask],[other_mask],[False,False])\n",
        "    except Exception:\n",
        "        this_mask = ast.literal_eval(this_mask)\n",
        "        other_mask = ast.literal_eval(other_mask)\n",
        "        _iou = mask_util.iou([this_mask],[other_mask],[False,False])\n",
        "    return _iou.flatten()[0]"
      ],
      "outputs": [],
      "metadata": {
        "id": "nKSou4aH24lo"
      }
    },
    {
      "cell_type": "code",
      "execution_count": null,
      "source": [
        "def mask_area(mask):\n",
        "    \"\"\"Calulate the area of a RLE mask.\n",
        "    \"\"\"\n",
        "    try:\n",
        "        area = mask_util.area(mask)\n",
        "    except TypeError:\n",
        "        mask = ast.literal_eval(mask)\n",
        "        area = mask_util.area(mask)\n",
        "    return area"
      ],
      "outputs": [],
      "metadata": {
        "id": "bXeHisvG24lp"
      }
    },
    {
      "cell_type": "code",
      "execution_count": null,
      "source": [
        "df['mask_area'] = df.segmentation.apply(mask_area)"
      ],
      "outputs": [],
      "metadata": {
        "id": "Mn65aK_i24ls"
      }
    },
    {
      "cell_type": "markdown",
      "source": [
        "# The following sections are optional example filter based on mask area of mask perimeter. \n",
        "Note: Please uncomment and run the cells if you want to filter predictions."
      ],
      "metadata": {
        "id": "NA9v02nC2jtl"
      }
    },
    {
      "cell_type": "code",
      "execution_count": null,
      "source": [
        "#mask_perimeter_threshold=df[df.instance_name=='P6_Lone'].mask_perimeter.mean()"
      ],
      "outputs": [],
      "metadata": {
        "id": "jVzeWgWX24lt"
      }
    },
    {
      "cell_type": "code",
      "execution_count": null,
      "source": [
        "#mask_perimeter_threshold"
      ],
      "outputs": [],
      "metadata": {
        "id": "6C8w1PoX24lw"
      }
    },
    {
      "cell_type": "code",
      "execution_count": null,
      "source": [
        "# remove P6_Lone instances with perimeter of 1 /2 size of average P6_Lone mask perimeter\n",
        "#df = df[~(df.mask_perimeter <= (mask_perimeter_threshold /2))]"
      ],
      "outputs": [],
      "metadata": {
        "id": "7eYJdQm924lw"
      }
    },
    {
      "cell_type": "code",
      "execution_count": null,
      "source": [
        "# remove P6_Huddle instances with mask perimeter less than 1.1 times of the avarge perimeter of P6_Lone\n",
        "#df = df[~((df.mask_perimeter <= 1.1 * mask_perimeter_threshold) & (df.instance_name == 'P6_Huddle'))]"
      ],
      "outputs": [],
      "metadata": {
        "id": "qfxrq7le24lx"
      }
    },
    {
      "cell_type": "code",
      "execution_count": null,
      "source": [
        "# remove P6_Lone instances with mask perimeter greater than 1.3 the average perimeter of the P6_Lone\n",
        "#df = df[~((df.instance_name == 'P6_Lone') & (df.mask_perimeter > 1.3 * mask_perimeter_threshold))]"
      ],
      "outputs": [],
      "metadata": {
        "id": "V5Hs82EE24lx"
      }
    },
    {
      "cell_type": "markdown",
      "source": [
        "#Overlapping masks ---IOU based Mask merging and removing"
      ],
      "metadata": {
        "id": "5vjLgjCu3f-p"
      }
    },
    {
      "cell_type": "code",
      "execution_count": null,
      "source": [
        "def iou_values(row):\n",
        "    frame_number = row.frame_number\n",
        "    df_cur = df[df[\"frame_number\"]==frame_number].sort_values(by=['Unnamed: 0'])\n",
        "    masks = df_cur['segmentation'].values\n",
        "    masks = [ast.literal_eval(mask) for mask in masks]\n",
        "    ious = mask_util.iou(masks, masks, [False]*len(masks))\n",
        "    ious[np.diag_indices_from(ious)] = 0\n",
        "    return ious"
      ],
      "outputs": [],
      "metadata": {
        "id": "8l_SMq1924ly"
      }
    },
    {
      "cell_type": "code",
      "execution_count": null,
      "source": [
        "df['iou_values'] = df.apply(lambda row: iou_values(row),axis=1)"
      ],
      "outputs": [],
      "metadata": {
        "id": "-xeFu1Sv24l0"
      }
    },
    {
      "cell_type": "code",
      "execution_count": null,
      "source": [
        "df['overlap_indxs'] = df.iou_values.apply(lambda iou: np.argwhere(np.tril(iou)>0))"
      ],
      "outputs": [],
      "metadata": {
        "id": "Bg2PIsnD24l1"
      }
    },
    {
      "cell_type": "code",
      "execution_count": null,
      "source": [
        "df['ious'] = df.iou_values.apply(lambda iou_arr: np.sum(np.nonzero(np.tril(iou_arr))))"
      ],
      "outputs": [],
      "metadata": {
        "id": "FRkX7zVL24l6"
      }
    },
    {
      "cell_type": "code",
      "execution_count": null,
      "source": [
        "df_no_overlap =df[df.ious <= 0]"
      ],
      "outputs": [],
      "metadata": {
        "id": "VbHNvegv24l6"
      }
    },
    {
      "cell_type": "markdown",
      "source": [
        "## Keep all the no overlapping masks"
      ],
      "metadata": {
        "id": "DdqQDw-hxWsx"
      }
    },
    {
      "cell_type": "code",
      "execution_count": null,
      "source": [
        "df_no_overlap['is_removed'] = False"
      ],
      "outputs": [],
      "metadata": {
        "id": "QoLZN_JvwrWP"
      }
    },
    {
      "cell_type": "markdown",
      "source": [
        "## Merge overlapping masks "
      ],
      "metadata": {
        "id": "yb-Xmu9byV1F"
      }
    },
    {
      "cell_type": "code",
      "execution_count": null,
      "source": [
        "df_overlap = df[df.ious > 0]"
      ],
      "outputs": [],
      "metadata": {
        "id": "5EXqPcjG24l7"
      }
    },
    {
      "cell_type": "code",
      "execution_count": null,
      "source": [
        "# Assumpution instance name P6_Huddle, P4_Lone, P4_Huddle, etc\n",
        "# get the instance anme prefix like P4, P6\n",
        "#or you can replace it with the following line \n",
        "# instance_name_prefix = 'P5'\n",
        "instance_name_prefix = df_overlap.instance_name.unique()[0].split('_')[0]\n",
        "\n",
        "####\n",
        "def merge_overlapped_masks(row):\n",
        "    frame_number = row.frame_number\n",
        "    df_cur_ = df_overlap[df_overlap.frame_number == frame_number]\n",
        "    df_cur_.reset_index(inplace=True)\n",
        "    overlapped_pairs = df_cur_.iou_values.apply(lambda mx: np.nonzero(np.tril(mx)))\n",
        "    unique_overlapped_masks = []\n",
        "    for pair in overlapped_pairs:\n",
        "        om = tuple(set(list(pair[0]) + list(pair[1])))\n",
        "        unique_overlapped_masks.append(om)\n",
        "    oms = set(unique_overlapped_masks)\n",
        "    if len(oms) > 0:\n",
        "        mask_idxs = list(oms)[0]\n",
        "        df_cur_ = df_cur_.iloc[list(mask_idxs)]\n",
        "        masks = df_cur_['segmentation'].values\n",
        "        masks = [ast.literal_eval(mask) for mask in masks]\n",
        "        merged_mask = mask_util.merge(masks)\n",
        "        _instance_name = f'{instance_name_prefix}_Huddle'\n",
        "        if _instance_name in df_cur_.instance_name.unique():\n",
        "            merged_idx = df_cur_[df_cur_.instance_name==_instance_name]['Unnamed: 0'].values[0]\n",
        "            df_overlap.loc[merged_idx, 'segmentation'] = str(merged_mask)\n",
        "            remove_idx = set(df_cur_['Unnamed: 0'].to_list()) - set([merged_idx])\n",
        "            if row['Unnamed: 0'] in remove_idx:\n",
        "                return True\n",
        "        else:\n",
        "            merged_idx = df_cur_[df_cur_.instance_name==f'{instance_name_prefix}_Lone']['Unnamed: 0'].values[0]\n",
        "            df_overlap.loc[merged_idx, 'segmentation'] = str(merged_mask)\n",
        "            df_overlap.loc[merged_idx, 'instance_name'] = _instance_name\n",
        "            remove_idx = set(df_cur_['Unnamed: 0'].to_list()) - set([merged_idx])\n",
        "            if row['Unnamed: 0'] in remove_idx:\n",
        "                return True\n",
        "    return False\n"
      ],
      "outputs": [],
      "metadata": {
        "id": "eUqCpZky24l7"
      }
    },
    {
      "cell_type": "code",
      "execution_count": null,
      "source": [
        "df_overlap['is_removed'] = df_overlap.apply(lambda row: merge_overlapped_masks(row),axis=1)\n"
      ],
      "outputs": [],
      "metadata": {
        "id": "CyP6RqaN24l7"
      }
    },
    {
      "cell_type": "code",
      "execution_count": null,
      "source": [
        "frames = [df_no_overlap, df_overlap]\n",
        "df_final = pd.concat(frames)"
      ],
      "outputs": [],
      "metadata": {
        "id": "jM3xRJ2424l7"
      }
    },
    {
      "cell_type": "code",
      "execution_count": null,
      "source": [
        "df_final = df_final.drop(df_final[df_final.is_removed==True].index)\n",
        "df_final.dropna(inplace=True)"
      ],
      "outputs": [],
      "metadata": {
        "id": "0vGHgH6P24l9"
      }
    },
    {
      "cell_type": "code",
      "execution_count": null,
      "source": [
        "print(f\"Removed {len(df)-len(df_final)} overlapping predictions\")"
      ],
      "outputs": [],
      "metadata": {
        "id": "oUVSXtaa24l-"
      }
    },
    {
      "cell_type": "markdown",
      "source": [
        "# Save the the tracking results with overlapped masks merged and removed."
      ],
      "metadata": {
        "id": "O3c2u4Je3ynM"
      }
    },
    {
      "cell_type": "code",
      "execution_count": null,
      "source": [
        "df_final.to_csv(TRACKING_CSV_FILE.replace('.csv','_remove_overlapped.csv'))"
      ],
      "outputs": [],
      "metadata": {
        "id": "pE4wkzQS24l-"
      }
    },
    {
      "cell_type": "markdown",
      "source": [
        "# Data visualization"
      ],
      "metadata": {
        "id": "p9lpa4AQ4ECs"
      }
    },
    {
      "cell_type": "code",
      "execution_count": null,
      "source": [
        "fig = px.scatter(df_final, \n",
        "                 x=\"cx\",\n",
        "                 y=\"cy\", \n",
        "                 range_x=[0,video_width],\n",
        "                 range_y=[0,video_height],\n",
        "                 color=\"instance_name\",\n",
        "                 hover_data=['frame_number','cx','cy'])\n",
        "fig.show()"
      ],
      "outputs": [],
      "metadata": {
        "id": "yC_xzHTw24l_"
      }
    },
    {
      "cell_type": "code",
      "execution_count": null,
      "source": [
        "fig2 = px.violin(df_final, \n",
        "                 x='instance_name',\n",
        "                 y=\"mask_area\",\n",
        "                 box=True,\n",
        "                 color=\"instance_name\",\n",
        "                 points=\"outliers\",\n",
        "                 hover_data=['frame_number','cx','cy','mask_perimeter']\n",
        "               )\n",
        "fig2.show()"
      ],
      "outputs": [],
      "metadata": {
        "id": "AJoiJ1Q_24l_"
      }
    },
    {
      "cell_type": "code",
      "execution_count": null,
      "source": [
        "FPS = 30"
      ],
      "outputs": [],
      "metadata": {
        "id": "hvlQGW9m24mA"
      }
    },
    {
      "cell_type": "code",
      "execution_count": null,
      "source": [
        "df_final['time_in_seconds'] = df_final.frame_number / FPS"
      ],
      "outputs": [],
      "metadata": {
        "id": "fkp1c-_824mA"
      }
    },
    {
      "cell_type": "code",
      "execution_count": null,
      "source": [
        "df_final_sec = df_final.groupby(['instance_name'])['frame_number'].count() / FPS "
      ],
      "outputs": [],
      "metadata": {
        "id": "fXmuyTLW24mA"
      }
    },
    {
      "cell_type": "code",
      "execution_count": null,
      "source": [
        "df_final_sec.plot.bar(ylabel='Time in seconds')"
      ],
      "outputs": [],
      "metadata": {
        "id": "IVFWPrMV24mA"
      }
    },
    {
      "cell_type": "code",
      "execution_count": null,
      "source": [
        "fig3 = px.violin(df_final, \n",
        "                 x='instance_name',\n",
        "                 y=\"time_in_seconds\",\n",
        "                 box=True,\n",
        "                 color=\"instance_name\",\n",
        "                 points=\"outliers\",\n",
        "                 hover_data=['frame_number','cx','cy','mask_perimeter']\n",
        "               )\n",
        "fig3.show()"
      ],
      "outputs": [],
      "metadata": {
        "id": "1ddqlLCV24mB"
      }
    }
  ]
}