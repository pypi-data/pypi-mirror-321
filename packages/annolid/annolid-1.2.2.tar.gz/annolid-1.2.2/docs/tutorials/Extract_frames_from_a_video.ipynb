{
  "nbformat": 4,
  "nbformat_minor": 0,
  "metadata": {
    "colab": {
      "name": "Extract frames from a video.ipynb",
      "provenance": [],
      "collapsed_sections": []
    },
    "kernelspec": {
      "name": "python3",
      "display_name": "Python 3"
    }
  },
  "cells": [
    {
      "cell_type": "markdown",
      "source": [
        "<a href=\"http://colab.research.google.com/github/healthonrails/annolid/blob/main/docs/tutorials/Extract_frames_from_a_video.ipynb\" target=\"_blank\">\n",
        "  <img src=\"https://colab.research.google.com/assets/colab-badge.svg\" alt=\"Open In Colab\"/>\n",
        "</a>"
      ],
      "metadata": {
        "id": "TxAFRwRkk824"
      }
    },
    {
      "cell_type": "markdown",
      "source": [
        "## Upload a video file"
      ],
      "metadata": {
        "id": "MxEUxKFQgXH2"
      }
    },
    {
      "cell_type": "code",
      "execution_count": null,
      "source": [
        "from google.colab import files\n",
        "my_vidoe = files.upload()"
      ],
      "outputs": [],
      "metadata": {
        "id": "of1otpd8gher"
      }
    },
    {
      "cell_type": "markdown",
      "source": [
        "## Clone and Install Annolid"
      ],
      "metadata": {
        "id": "dkf44S4phXT1"
      }
    },
    {
      "cell_type": "code",
      "execution_count": null,
      "source": [
        "# The root folder\n",
        "%cd /content\n",
        "# Clone the repo\n",
        "!git clone --recurse-submodules https://github.com/healthonrails/annolid.git\n"
      ],
      "outputs": [],
      "metadata": {
        "id": "Ukc8U43Kgq7X"
      }
    },
    {
      "cell_type": "code",
      "execution_count": null,
      "source": [
        "# install annolid\n",
        "%cd /content/annolid/\n",
        "!pip install -e ."
      ],
      "outputs": [],
      "metadata": {
        "id": "SNmoUKrDh0ix"
      }
    },
    {
      "cell_type": "markdown",
      "source": [
        "# Extract frames from a video"
      ],
      "metadata": {
        "id": "MXqnKffAid95"
      }
    },
    {
      "cell_type": "code",
      "source": [
        "import glob\n",
        "from annolid.data.videos import extract_frames"
      ],
      "metadata": {
        "id": "FtfBslDJih5I"
      },
      "execution_count": null,
      "outputs": []
    },
    {
      "cell_type": "code",
      "execution_count": null,
      "source": [
        "# You can upload a video or use gdown to download video from Google drive\n",
        "# Please change the absolute video path e.g. /content/wbc.mp4\n",
        "video_file = \"/content/out.mp4\" #@param\n",
        "frames = extract_frames(video_file=video_file,num_frames=100,algo=\"random\")\n",
        "for frame in frames:\n",
        "    print(frame)"
      ],
      "outputs": [],
      "metadata": {
        "id": "CkYQTznQih67"
      }
    },
    {
      "cell_type": "markdown",
      "source": [
        "##Extract frames from a folder contains a list videos"
      ],
      "metadata": {
        "id": "3xTKahdfj-ir"
      }
    },
    {
      "cell_type": "code",
      "source": [
        "video_dir = '/content/myvideo' #@param\n",
        "num_frames= 100 #@param\n",
        "for video in glob.glob(video_dir + '/*mp4'):\n",
        "    frames = extract_frames(video_file=video,\n",
        "                            num_frames=num_frames,\n",
        "                            algo=\"random\")\n",
        "    for frame in frames:\n",
        "        print(frame)\n"
      ],
      "metadata": {
        "id": "IbV4YktAK6NA"
      },
      "execution_count": null,
      "outputs": []
    },
    {
      "cell_type": "markdown",
      "source": [
        "# Zip and Download the extracted frames"
      ],
      "metadata": {
        "id": "x17arPW4zMez"
      }
    },
    {
      "cell_type": "code",
      "execution_count": null,
      "source": [
        "# please input the correct absolute folder path for the extracted frames\n",
        "# e.g. /content/wbc\n",
        "!zip -r -D my_extracted_video_frames.zip /content/my_video\n",
        "files.download('my_extracted_video_frames.zip')"
      ],
      "outputs": [],
      "metadata": {
        "id": "EhVkv7P5zRWy"
      }
    }
  ]
}