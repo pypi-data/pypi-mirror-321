{
  "nbformat": 4,
  "nbformat_minor": 0,
  "metadata": {
    "colab": {
      "name": "Train_custom_YOLOv7Detection.ipynb",
      "provenance": [],
      "collapsed_sections": []
    },
    "kernelspec": {
      "name": "python3",
      "display_name": "Python 3"
    },
    "language_info": {
      "name": "python"
    },
    "accelerator": "GPU",
    "gpuClass": "standard"
  },
  "cells": [
    {
      "cell_type": "code",
      "source": [
        "import sys\n",
        "import torch\n",
        "print(f\"Python version: {sys.version}, {sys.version_info} \")\n",
        "print(f\"Pytorch version: {torch.__version__} \")"
      ],
      "metadata": {
        "id": "msS1ksMCbcOZ"
      },
      "execution_count": null,
      "outputs": []
    },
    {
      "cell_type": "code",
      "source": [
        "!nvidia-smi"
      ],
      "metadata": {
        "id": "yCnuiIXjbcLq"
      },
      "execution_count": null,
      "outputs": []
    },
    {
      "cell_type": "markdown",
      "source": [
        "## YOLOV7 instance segmentation"
      ],
      "metadata": {
        "id": "KNUBJurqowlM"
      }
    },
    {
      "cell_type": "code",
      "source": [
        "!git clone https://github.com/RizwanMunawar/yolov7-segmentation.git"
      ],
      "metadata": {
        "id": "0W1SOJxG2nvB"
      },
      "execution_count": null,
      "outputs": []
    },
    {
      "cell_type": "code",
      "source": [
        "%cd /content/yolov7-segmentation/"
      ],
      "metadata": {
        "id": "ZPlKdI3Z2u-j"
      },
      "execution_count": null,
      "outputs": []
    },
    {
      "cell_type": "code",
      "source": [
        "!pip install -r requirements.txt"
      ],
      "metadata": {
        "id": "Gv3n5Ty327h-"
      },
      "execution_count": null,
      "outputs": []
    },
    {
      "cell_type": "markdown",
      "source": [
        "#Upload and prepare the dataset"
      ],
      "metadata": {
        "id": "ry406FyGpBJy"
      }
    },
    {
      "cell_type": "code",
      "source": [
        "# e.g.\n",
        "#!unzip /content/899_52522_video_yolov7_dataset.zip"
      ],
      "metadata": {
        "id": "uA6Ob0jx3eHL"
      },
      "execution_count": null,
      "outputs": []
    },
    {
      "cell_type": "markdown",
      "source": [
        "#Download the pretrained weight"
      ],
      "metadata": {
        "id": "ufcImiwXpTG8"
      }
    },
    {
      "cell_type": "code",
      "source": [
        "!wget https://github.com/RizwanMunawar/yolov7-segmentation/releases/download/yolov7-segmentation/yolov7-seg.pt"
      ],
      "metadata": {
        "id": "ezlvkh3m_h99"
      },
      "execution_count": null,
      "outputs": []
    },
    {
      "cell_type": "markdown",
      "source": [
        "#Train YOLOV7 instance segmentation model"
      ],
      "metadata": {
        "id": "RTWTFd7qpW5j"
      }
    },
    {
      "cell_type": "code",
      "source": [
        "!python segment/train.py --data /content/yolov7-segmentation/899_52522_video_yolov7_dataset/data.yaml --batch 2 --weights yolov7-seg.pt --cfg yolov7-seg.yaml --epochs 100 --name yolov7-seg --img 640 --hyp hyp.scratch-high.yaml\n"
      ],
      "metadata": {
        "id": "uX_ag5tr32gS"
      },
      "execution_count": null,
      "outputs": []
    },
    {
      "cell_type": "markdown",
      "source": [
        "#Inference on a video"
      ],
      "metadata": {
        "id": "TlykLWurpiTQ"
      }
    },
    {
      "cell_type": "code",
      "source": [
        "#!python segment/predict.py --weights \"runs/train-seg/yolov7-seg9/weights/best.pt\" --source /content/899_52522_video_top4.mp4 \n",
        "!python segment/predict.py --weights yolov7-seg.pt --source football1.mp4 \n"
      ],
      "metadata": {
        "id": "vY74sSSa7JnU"
      },
      "execution_count": null,
      "outputs": []
    },
    {
      "cell_type": "markdown",
      "source": [
        "#YOLOV7 Detection"
      ],
      "metadata": {
        "id": "zRpZkAM7pnvU"
      }
    },
    {
      "cell_type": "code",
      "source": [
        "!# Download YOLOv7 code\n",
        "!git clone https://github.com/WongKinYiu/yolov7\n",
        "%cd yolov7\n",
        "!ls"
      ],
      "metadata": {
        "id": "utxvpmuibcI7"
      },
      "execution_count": null,
      "outputs": []
    },
    {
      "cell_type": "code",
      "source": [
        "!# Download trained weights\n",
        "!wget https://github.com/WongKinYiu/yolov7/releases/download/v0.1/yolov7.pt"
      ],
      "metadata": {
        "id": "KhApWfeKbcFG"
      },
      "execution_count": null,
      "outputs": []
    },
    {
      "cell_type": "code",
      "source": [
        "!# Detection\n",
        "!python detect.py --weights yolov7.pt --conf 0.25 --img-size 640 --source inference/images/horses.jpg"
      ],
      "metadata": {
        "id": "xI5DiyI2bcAK"
      },
      "execution_count": null,
      "outputs": []
    },
    {
      "cell_type": "code",
      "source": [
        "# define helper functions to show images\n",
        "def imShow(path):\n",
        "  import cv2\n",
        "  import matplotlib.pyplot as plt\n",
        "  %matplotlib inline\n",
        "\n",
        "  image = cv2.imread(path)\n",
        "  height, width = image.shape[:2]\n",
        "  resized_image = cv2.resize(image,(3*width, 3*height), interpolation = cv2.INTER_CUBIC)\n",
        "\n",
        "  fig = plt.gcf()\n",
        "  fig.set_size_inches(18, 10)\n",
        "  plt.axis(\"off\")\n",
        "  plt.imshow(cv2.cvtColor(resized_image, cv2.COLOR_BGR2RGB))\n",
        "  plt.show()"
      ],
      "metadata": {
        "id": "bp7rVA0nbn-O"
      },
      "execution_count": null,
      "outputs": []
    },
    {
      "cell_type": "code",
      "source": [
        "imShow(\"runs/detect/exp/horses.jpg\")"
      ],
      "metadata": {
        "id": "aId1iLXtb7KA"
      },
      "execution_count": null,
      "outputs": []
    },
    {
      "cell_type": "code",
      "source": [
        "!unzip /content/899_52522_video_top4_yolo.zip"
      ],
      "metadata": {
        "id": "5gvpATdHqg6H"
      },
      "execution_count": null,
      "outputs": []
    },
    {
      "cell_type": "code",
      "source": [
        "!wget https://github.com/WongKinYiu/yolov7/releases/download/v0.1/yolov7_training.pt"
      ],
      "metadata": {
        "id": "XBOzRllSqiIe"
      },
      "execution_count": null,
      "outputs": []
    },
    {
      "cell_type": "code",
      "source": [
        "!python train.py --workers 8 --device 0 --batch-size 32 --data /content/yolov7/899_52522_video_top4_yolo/data.yaml --img 640 640 --cfg cfg/training/yolov7.yaml --weights 'yolov7_training.pt' --name yolov7-custom --hyp data/hyp.scratch.custom.yaml\n"
      ],
      "metadata": {
        "id": "iqXysuKUql85"
      },
      "execution_count": null,
      "outputs": []
    },
    {
      "cell_type": "code",
      "source": [
        "!python detect.py --weights runs/train/yolov7-custom/weights/last.pt --conf 0.25 --img-size 640 --source /content/yolov7/899_52522_video_top4_yolo/images/valid/899_52522_video_top4_000000282.jpg"
      ],
      "metadata": {
        "id": "UVlFksreqooZ"
      },
      "execution_count": null,
      "outputs": []
    }
  ]
}