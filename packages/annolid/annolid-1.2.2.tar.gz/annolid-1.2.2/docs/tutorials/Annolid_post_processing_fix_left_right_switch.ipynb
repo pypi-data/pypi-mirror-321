{
  "nbformat": 4,
  "nbformat_minor": 0,
  "metadata": {
    "colab": {
      "name": "Annolid_post_processing_fix_left_right_switch.ipynb",
      "provenance": []
    },
    "kernelspec": {
      "name": "python3",
      "display_name": "Python 3"
    },
    "language_info": {
      "name": "python"
    }
  },
  "cells": [
    {
      "cell_type": "markdown",
      "source": [
        "<a href=\"https://colab.research.google.com/github/healthonrails/annolid/blob/main/docs/tutorials/Annolid_post_processing_fix_left_right_switch.ipynb\" target=\"_blank\"><img src=\"https://colab.research.google.com/assets/colab-badge.svg\" alt=\"Open In Colab\"/></a>"
      ],
      "metadata": {
        "id": "ly1dZ78l0cvE"
      }
    },
    {
      "cell_type": "markdown",
      "source": [
        "# Post-processsing of left right switch issues\n"
      ],
      "metadata": {
        "id": "x-b4fr13xSxk"
      }
    },
    {
      "cell_type": "code",
      "execution_count": null,
      "source": [
        "import pandas as pd\n",
        "import numpy as np\n",
        "import cv2\n",
        "from pycocotools import mask as mask_util\n",
        "import ast\n",
        "import plotly.express as px\n",
        "import plotly.graph_objects as go\n",
        "import warnings\n",
        "from google.colab import files\n",
        "from pathlib import  Path\n",
        "warnings.filterwarnings('ignore')\n",
        "%matplotlib inline"
      ],
      "outputs": [],
      "metadata": {
        "id": "wbOv4oCCz6Jg"
      }
    },
    {
      "cell_type": "code",
      "execution_count": null,
      "source": [
        "TRACKING_CSV_FILE = \"/content/mask_rcnn_tracking_results_with_segmentation.csv\"\n",
        "df = pd.read_csv(TRACKING_CSV_FILE)"
      ],
      "outputs": [],
      "metadata": {
        "id": "2Z2DABbX0_Bj"
      }
    },
    {
      "cell_type": "code",
      "execution_count": null,
      "source": [
        "df.head()"
      ],
      "outputs": [],
      "metadata": {
        "id": "xit393rZ1Hp5"
      }
    },
    {
      "cell_type": "code",
      "execution_count": null,
      "source": [
        "height, width = ast.literal_eval(df.iloc[0].segmentation)['size']"
      ],
      "outputs": [],
      "metadata": {
        "id": "jsCMxNe-0GJB"
      }
    },
    {
      "cell_type": "markdown",
      "source": [
        "# Calculate the bbox center point x, y locations"
      ],
      "metadata": {
        "id": "2VTO96xKzX6o"
      }
    },
    {
      "cell_type": "code",
      "execution_count": null,
      "source": [
        "cx = (df.x1 + df.x2)/2\n",
        "cy = (df.y1 + df.y2)/2\n",
        "df['cx'] = cx\n",
        "df['cy'] = cy"
      ],
      "outputs": [],
      "metadata": {
        "id": "c3VcLn2F1Ka1"
      }
    },
    {
      "cell_type": "markdown",
      "source": [
        "## Fix the left right switch by checking the middle point of the video width. It works best for non-moving or objects not cross the middle.\n",
        "### We assume your labels have Left and Right in it e.g. LeftZone, RightZone, LeftTeaball, or RightTeaball. "
      ],
      "metadata": {
        "id": "QQFc_nrLzrhE"
      }
    },
    {
      "cell_type": "code",
      "execution_count": null,
      "source": [
        "def switch_left_right(row,width=800):\n",
        "    instance_name = row['instance_name']\n",
        "    if 'cx' in row:\n",
        "        x_val = row['cx']\n",
        "    else:\n",
        "        x_val = row['x1']\n",
        "    if 'Left' in instance_name and x_val >= width / 2:\n",
        "        return instance_name.replace('Left','Right')\n",
        "    elif 'Right' in instance_name and x_val < width / 2:\n",
        "        return instance_name.replace('Right','Left')\n",
        "    return instance_name "
      ],
      "outputs": [],
      "metadata": {
        "id": "SCIKwPKOzqsl"
      }
    },
    {
      "cell_type": "code",
      "execution_count": null,
      "source": [
        "df['instance_name'] = df.apply(lambda row: switch_left_right(row,width),axis=1)"
      ],
      "outputs": [],
      "metadata": {
        "id": "BPUa0VrdzzhO"
      }
    },
    {
      "cell_type": "code",
      "execution_count": null,
      "source": [
        "df.tail()"
      ],
      "outputs": [],
      "metadata": {
        "id": "E8LqvNmCz3Cf"
      }
    },
    {
      "cell_type": "markdown",
      "source": [
        "## Fill the left zone and right zone with mode "
      ],
      "metadata": {
        "id": "r1zzbK3H0VSv"
      }
    },
    {
      "cell_type": "code",
      "execution_count": null,
      "source": [
        "df_leftzone = df[df.instance_name == 'LeftZone'].mode().iloc[0]\n",
        "df_rightzone = df[df.instance_name == 'RightZone'].mode().iloc[0]\n",
        "#Fill missing LeftZone\n",
        "instance_name = 'LeftZone'\n",
        "fill_value = df_leftzone\n",
        "for frame_number in df.frame_number:\n",
        "    instance_names = df[df.frame_number == frame_number].instance_name.to_list()\n",
        "    if instance_name not in instance_names:\n",
        "        fill_value.frame_number = frame_number\n",
        "        df = df.append(fill_value, ignore_index=True)\n",
        "\n",
        "#Fill missing RightZone\n",
        "instance_name = 'RightZone'\n",
        "fill_value = df_rightzone\n",
        "for frame_number in df.frame_number:\n",
        "    instance_names = df[df.frame_number == frame_number].instance_name.to_list()\n",
        "    if instance_name not in instance_names:\n",
        "        fill_value.frame_number = frame_number\n",
        "        df = df.append(fill_value, ignore_index=True)"
      ],
      "outputs": [],
      "metadata": {
        "id": "AdPWOHXI0Q1_"
      }
    },
    {
      "cell_type": "code",
      "source": [
        "def get_missing_instances_names(frame_number,\n",
        "                                    expected_instance_names=None):\n",
        "        \"\"\"Find the missing instance names in the current frame not in the expected list\n",
        "        Args:\n",
        "            frame_number (int): current video frame number\n",
        "            expected_instance_names (list): a list of expected instances e.g.[mouse_1,mouse_2]\n",
        "        \"\"\"\n",
        "        instance_names = df[df.frame_number ==\n",
        "                                 frame_number].instance_name\n",
        "        unique_names_in_current_frame = set(instance_names.to_list())\n",
        "        return set(expected_instance_names) - unique_names_in_current_frame"
      ],
      "metadata": {
        "id": "fyagEUudyqkU"
      },
      "execution_count": null,
      "outputs": []
    },
    {
      "cell_type": "code",
      "source": [
        "def instance_center_distances(old_instances, cur_instances):\n",
        "        \"\"\"calculate the center distance between instances in the previous and current frames.\n",
        "\n",
        "        Args:\n",
        "            old_instances (pd.DataFrame): instances in the previous frame\n",
        "            cur_instances (pd.DataFrame): instances in  the current frame\n",
        "\n",
        "        Returns:\n",
        "            dict: key: (prev frame_number, prev int(center_x), prev int(center_y),\n",
        "                        current frame_number, current int(center_x),curent int(center_y)\n",
        "                  val: (dist, old instance name, current instance name)\n",
        "        \"\"\"\n",
        "        dists = {}\n",
        "        for cidx, ci in cur_instances.iterrows():\n",
        "            for oidx, oi in old_instances.iterrows():\n",
        "                if (ci['frame_number'] == oi['frame_number']\n",
        "                            and int(ci['cx']) == int(oi['cx'])\n",
        "                            and int(ci['cy']) == int(oi['cy'])\n",
        "                        ):\n",
        "                    continue\n",
        "                dist = np.sqrt((ci['cx'] - oi['cx'])**2 +\n",
        "                               (ci['cy']-oi['cy']) ** 2)\n",
        "                key = (oi['frame_number'], int(oi['cx']), int(oi['cy']),\n",
        "                       ci['frame_number'], int(ci['cx']), int(ci['cy'])\n",
        "                       )\n",
        "                dists[key] = (dist, oi['instance_name'], ci['instance_name'])\n",
        "        return dists"
      ],
      "metadata": {
        "id": "H2VGpo8WHDdV"
      },
      "execution_count": null,
      "outputs": []
    },
    {
      "cell_type": "code",
      "source": [
        "def find_last_show_position( instance_name='Female_52',\n",
        "                                frame_number=0,\n",
        "                                frames_backward=30\n",
        "                                ):\n",
        "        \"\"\"Find the last detection location and mask info the given instance and frame number\n",
        "\n",
        "        Args:\n",
        "            instance_name (str, optional): Instance name. Defaults to 'Female_52'.\n",
        "            frame_number (int, optional): frame number. Defaults to 0.\n",
        "            frames_backword (int, optional): number of frames back. Defaults to 30.\n",
        "\n",
        "        Returns:\n",
        "            pd.DataFrame: dataframe row\n",
        "        \"\"\"\n",
        "        return df[(df.instance_name == instance_name) &\n",
        "                       (df.frame_number < frame_number) &\n",
        "                       (df.frame_number > frame_number - frames_backward)\n",
        "                       ].sort_values(by=['frame_number','class_score'],\n",
        "                                     ascending=False).head(1)"
      ],
      "metadata": {
        "id": "vAG1HelG08cf"
      },
      "execution_count": null,
      "outputs": []
    },
    {
      "cell_type": "code",
      "source": [
        "def find_future_show_position(instance_name='Female_52',\n",
        "                                  frame_number=0,\n",
        "                                  frames_forward=30\n",
        "                                  ):\n",
        "        \"\"\"Find the next detection location and mask info the given instance and frame number\n",
        "\n",
        "        Args:\n",
        "            instance_name (str, optional): Instance name. Defaults to 'Female_52'.\n",
        "            frame_number (int, optional): frame number. Defaults to 0.\n",
        "            frames_forword (int, optional): number of frames forward. Defaults to 30.\n",
        "\n",
        "        Returns:\n",
        "            pd.DataFrame: dataframe row\n",
        "        \"\"\"\n",
        "        tmp_df = df[(df.instance_name == instance_name) &\n",
        "                       (df.frame_number > frame_number) &\n",
        "                       (df.frame_number <= frame_number + frames_forward)\n",
        "                       ].sort_values(by=['frame_number','class_score'],\n",
        "                                     ascending=True).head(1)\n",
        "        \n",
        "        return tmp_df\n"
      ],
      "metadata": {
        "id": "WA_3aFVM2BB_"
      },
      "execution_count": null,
      "outputs": []
    },
    {
      "cell_type": "code",
      "source": [
        "def get_missing_instance_frames(df, instance_name='mouse_1'):\n",
        "        \"\"\"Get the frame numbers that do not have a prediction for instance with the \n",
        "        provided instance name\n",
        "\n",
        "        Args:\n",
        "            instance_name (str, optional): instance name. Defaults to 'mouse_1'.\n",
        "\n",
        "        Returns:\n",
        "            set: frame numbers\n",
        "        \"\"\"\n",
        "\n",
        "        _df = df[df.instance_name == instance_name]\n",
        "        max_frame_number = max(_df.frame_number)\n",
        "        all_frames = set(range(0, max_frame_number+1))\n",
        "        frames_with_preds = set(_df.frame_number)\n",
        "        del _df\n",
        "        return all_frames - frames_with_preds"
      ],
      "metadata": {
        "id": "04OrCJ-zpE7J"
      },
      "execution_count": null,
      "outputs": []
    },
    {
      "cell_type": "code",
      "source": [
        "def fill_missing_instances(df, instance_name='mouse_2'):\n",
        "    fill_rows = []\n",
        "    missing_frames = list(get_missing_instance_frames(df,instance_name=instance_name))\n",
        "    for frame_number in sorted(missing_frames):\n",
        "        fp = find_future_show_position(instance_name,frame_number)\n",
        "        lp = find_last_show_position(instance_name,frame_number)\n",
        "        if frame_number - lp.frame_number.values[0] > fp.frame_number.values[0] - frame_number:\n",
        "            fp.frame_number = frame_number\n",
        "            fill_rows.append(fp)\n",
        "        else:\n",
        "            lp.frame_number = frame_number\n",
        "            fill_rows.append(lp)\n",
        "    df = df.append(fill_rows, ignore_index=True)\n",
        "    del fill_rows\n",
        "    return df"
      ],
      "metadata": {
        "id": "q7GqL0qNo-O4"
      },
      "execution_count": null,
      "outputs": []
    },
    {
      "cell_type": "code",
      "source": [
        "df = fill_missing_instances(df)"
      ],
      "metadata": {
        "id": "j6pBRMCupU6Y"
      },
      "execution_count": null,
      "outputs": []
    },
    {
      "cell_type": "code",
      "source": [
        "expected_instance_names = ['mouse_1','mouse_2']"
      ],
      "metadata": {
        "id": "COTTeeIEzPRF"
      },
      "execution_count": null,
      "outputs": []
    },
    {
      "cell_type": "code",
      "source": [
        "missing = 1\n",
        "missing_predictions = []\n",
        "for frame_number in df.frame_number:\n",
        "    missing_instance_name = get_missing_instances_names(frame_number,expected_instance_names)\n",
        "    if missing_instance_name:\n",
        "        for instance_name in missing_instance_name:\n",
        "            missing += 1\n",
        "            last_pos = find_last_show_position(instance_name,frame_number)\n",
        "            future_pos = find_future_show_position(instance_name,frame_number)\n",
        "            if len(future_pos) > 0 and len(last_pos) > 0:\n",
        "                if future_pos.frame_number.values[0] - frame_number <= frame_number - last_pos.frame_number.values[0]:\n",
        "                    future_pos.frame_number = frame_number\n",
        "                    missing_predictions.append(future_pos)\n",
        "            elif len(future_pos) > 0:\n",
        "                future_pos.frame_number = frame_number\n",
        "                missing_predictions.append(future_pos)\n",
        "            elif len(last_pos) > 0:\n",
        "                last_pos.frame_number = frame_number\n",
        "                missing_predictions.append(last_pos)\n",
        "print('total missing: ', missing)"
      ],
      "metadata": {
        "id": "JxU9mUBfzWG3"
      },
      "execution_count": null,
      "outputs": []
    },
    {
      "cell_type": "code",
      "source": [
        "df = df.append(missing_predictions, ignore_index=True)"
      ],
      "metadata": {
        "id": "j6MnqUMvKVpF"
      },
      "execution_count": null,
      "outputs": []
    },
    {
      "cell_type": "markdown",
      "source": [
        "### Fix missing predicted instances for each frame with in the given moving window."
      ],
      "metadata": {
        "id": "CGvZkqu501O9"
      }
    },
    {
      "cell_type": "code",
      "execution_count": null,
      "source": [
        "#disable false positive warning\n",
        "pd.options.mode.chained_assignment = None\n",
        "moving_window=5\n",
        "all_instance_names = set(df.instance_name.unique())\n",
        "count = 0\n",
        "excluded_instances = set(['Nose','Center','Tailbase','LeftInteract','RightInteract'])\n",
        "# do not fill body parts\n",
        "all_instance_names = all_instance_names - excluded_instances\n",
        "print(\"Fill the instane with name in the list: \", all_instance_names)\n",
        "missing_predictions = []\n",
        "max_frame_number = df.frame_number.max()\n",
        "for frame_number in df.frame_number:\n",
        "    pred_instance = set(\n",
        "        df[df.frame_number==frame_number].instance_name.unique()\n",
        "        )\n",
        "    missing_instance = all_instance_names - pred_instance\n",
        "    for instance_name in missing_instance:\n",
        "        frame_range_end=frame_number + moving_window\n",
        "        if frame_range_end > max_frame_number:\n",
        "            df_instance = df[(df.frame_number.between(max_frame_number-moving_window,\n",
        "                                                      max_frame_number)) &\n",
        "                             (df.instance_name == instance_name)\n",
        "                            ]\n",
        "           \n",
        "        else:\n",
        "            \n",
        "            df_instance = df[\n",
        "                            (df.frame_number.between(frame_number,\n",
        "                                                      frame_range_end))\n",
        "                            & (df.instance_name == instance_name)\n",
        "                            ]\n",
        "        if df_instance.shape[0] >= 1:\n",
        "            fill_value = df_instance.iloc[0]\n",
        "        else:\n",
        "            #(f\"No instances {instance_name} in this window\")\n",
        "            # move to the next frame\n",
        "            continue\n",
        "        fill_value.frame_number = frame_number\n",
        "        missing_predictions.append(fill_value)\n",
        "        count += 1\n",
        "        if count % 1000 == 0:\n",
        "            print(f'Filling {count} missing {instance_name}')\n",
        "df = df.append(missing_predictions, ignore_index=True)"
      ],
      "outputs": [],
      "metadata": {
        "id": "gck9z-DM0ZXm"
      }
    },
    {
      "cell_type": "markdown",
      "source": [
        "## Download the post-processed result CSV file to your local device"
      ],
      "metadata": {
        "id": "GGyaiH8q1NMb"
      }
    },
    {
      "cell_type": "code",
      "execution_count": null,
      "source": [
        "tracking_results_csv = f\"{Path(TRACKING_CSV_FILE).stem}_fixed_left_right_switches.csv\"\n",
        "df.to_csv(tracking_results_csv)\n",
        "files.download(tracking_results_csv)"
      ],
      "outputs": [],
      "metadata": {
        "id": "Ik_FP5Ts1mHf"
      }
    }
  ]
}