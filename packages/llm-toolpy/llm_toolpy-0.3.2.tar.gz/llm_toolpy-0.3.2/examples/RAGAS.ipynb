{
 "cells": [
  {
   "cell_type": "code",
   "execution_count": 1,
   "metadata": {},
   "outputs": [
    {
     "name": "stderr",
     "output_type": "stream",
     "text": [
      "C:\\Users\\Elton\\AppData\\Local\\Packages\\PythonSoftwareFoundation.Python.3.11_qbz5n2kfra8p0\\LocalCache\\local-packages\\Python311\\site-packages\\sentence_transformers\\cross_encoder\\CrossEncoder.py:11: TqdmWarning: IProgress not found. Please update jupyter and ipywidgets. See https://ipywidgets.readthedocs.io/en/stable/user_install.html\n",
      "  from tqdm.autonotebook import tqdm, trange\n"
     ]
    }
   ],
   "source": [
    "from typing import List, Optional, Dict, Tuple\n",
    "\n",
    "import sentence_transformers\n",
    "\n",
    "import toolpy as tp\n",
    "from toolpy.integrations import groq"
   ]
  },
  {
   "cell_type": "code",
   "execution_count": 2,
   "metadata": {},
   "outputs": [],
   "source": [
    "groq_interface = groq.GroqInterface(model=groq.GroqModel.LLAMA3_70B, n_retry=5)\n",
    "\n",
    "registry = tp.llm.LLMRegistry()\n",
    "registry.registry(model_name=\"llama3-70b\", interface=groq_interface, default=True)"
   ]
  },
  {
   "cell_type": "code",
   "execution_count": 3,
   "metadata": {},
   "outputs": [
    {
     "data": {
      "text/plain": [
       "'llama3-70b'"
      ]
     },
     "execution_count": 3,
     "metadata": {},
     "output_type": "execute_result"
    }
   ],
   "source": [
    "registry._default_model"
   ]
  },
  {
   "cell_type": "code",
   "execution_count": 4,
   "metadata": {},
   "outputs": [],
   "source": [
    "rag_sample = {'answer': 'sky and thunder god',\n",
    "            'question': 'What is Zeus know for in Greek mythology?',\n",
    "            'context': 'Palici: he Palici the sons of Zeus\\nPalici: in Greek mythology\\nZeus: Zeus (British English , North American English ; , Zeús ) is the sky and thunder god in ancient Greek religion\\n',\n",
    "            'context_sentence_count': '3'}\n",
    "\n",
    "rag_sample_description = {\"answer\":\"answer to the question\", \n",
    "                          \"question\":\"question beeing answered\", \n",
    "                          \"context\":\"context used to answer the question\", \n",
    "                          \"context_sentence_count\": \"number of sentences in the context\"}"
   ]
  },
  {
   "cell_type": "code",
   "execution_count": 5,
   "metadata": {},
   "outputs": [],
   "source": [
    "class QuestionGenerator(tp.BasicTool):\n",
    "    '''\n",
    "    Generates questions from a given answer\n",
    "    '''\n",
    "\n",
    "    _system_message = '''You are a question generator that outputs in JSON. \n",
    "The JSON object must use the schema: {'questions':['str', 'str', ...]}\n",
    "\n",
    "Please use a valid JSON format.'''\n",
    "\n",
    "    _base_prompt = '''Generate questions for the given answer:\n",
    "\n",
    "Answer: {answer}\n",
    "'''\n",
    "\n",
    "    _description = \"Generates questions from a given answer\"\n",
    "\n",
    "    _return_description = {\"questions\":\"generated questions from the answer\"}\n",
    "\n",
    "    _input_description = {\"answer\" : \"answer to generate questions from\"}\n",
    "\n",
    "    def __init__(self):\n",
    "        '''\n",
    "        QuestionGenerator constructor.\n",
    "\n",
    "        Args:\n",
    "            model (str, optional): model to use. Llama3 70B is used if None. Default is None\n",
    "            api_key (str, optional): Groq API key to use, if None will check the environment 'GROQ_API_KEY' variable. Default is None.\n",
    "        '''\n",
    "\n",
    "        super().__init__(self._description, self._input_description, self._base_prompt, \n",
    "                         self._return_description, QuestionGenerator._system_message, None,\n",
    "                         json_mode=True)"
   ]
  },
  {
   "cell_type": "code",
   "execution_count": 6,
   "metadata": {},
   "outputs": [],
   "source": [
    "question_generator = QuestionGenerator()\n",
    "\n",
    "questions, generation_return_description = question_generator(rag_sample)"
   ]
  },
  {
   "cell_type": "code",
   "execution_count": 7,
   "metadata": {},
   "outputs": [
    {
     "data": {
      "text/plain": [
       "{'questions': ['Which god is associated with the weather in Norse mythology?',\n",
       "  'Who is the Norse god of the sky and thunder?',\n",
       "  'What is the name of the Norse god often depicted with a hammer and controlling the weather?',\n",
       "  'Which Norse god is known for his ability to control the weather and is often associated with thunderstorms?',\n",
       "  'In Norse mythology, what is the name of the god who can control the weather and is often depicted carrying a hammer?']}"
      ]
     },
     "execution_count": 7,
     "metadata": {},
     "output_type": "execute_result"
    }
   ],
   "source": [
    "questions"
   ]
  },
  {
   "cell_type": "code",
   "execution_count": 8,
   "metadata": {},
   "outputs": [],
   "source": [
    "class QuestionComparator(tp.Tool):\n",
    "    '''\n",
    "    Comparates questions\n",
    "\n",
    "    '''\n",
    "\n",
    "    _description = \"Comparate questions, returning the similarity between a single query question and questions to compare.\"\n",
    "\n",
    "    _return_description = {\"score\":\"similarity score between the query question and the questions to compare\"}\n",
    "\n",
    "    _input_description = {\"query_question\" : \"single question to compare\", \"questions\":\"questions to compare with query\"}\n",
    "\n",
    "    def __init__(self, embedder_model:str=\"all-MiniLM-L6-v2\") -> None:\n",
    "        '''\n",
    "        QuestionComparator constructor.\n",
    "\n",
    "        Args:\n",
    "            embedder_model (str, optional): model to generate embeddings. Defaults to \"all-MiniLM-L6-v2\".\n",
    "        '''\n",
    "        super().__init__(self._description, self._input_description)\n",
    "\n",
    "        self._embedder = sentence_transformers.SentenceTransformer(embedder_model)\n",
    "\n",
    "    def _execute(self, query: Dict[str, str] | None, context: str | None) -> Dict[str, str | List[str] | Dict[str, tp.tool.TextLike]]:\n",
    "        '''\n",
    "        Calculates the similarity between one question and a list of questions.\n",
    "\n",
    "        Args:\n",
    "            query (Dict[str, str]): must contain keys \"query_question\" with \n",
    "                question to compare with list of questions in \"questions\" key. \n",
    "            context (Optional[str], optional): not used. Defaults to None.\n",
    "\n",
    "        Returns:\n",
    "            Dict[str, str]: result, have a single key \"score\" with the similarity score.\n",
    "        '''\n",
    "        query_question = query[\"query_question\"]\n",
    "        questions = query[\"questions\"]\n",
    "\n",
    "        q_embedding = self._embedder.encode(query_question, convert_to_tensor=True)\n",
    "        qi_embeddings = self._embedder.encode(questions, convert_to_tensor=True)\n",
    "            \n",
    "        cosine_scores = sentence_transformers.util.cos_sim(q_embedding, qi_embeddings)\n",
    "\n",
    "        score = cosine_scores.sum().item()\n",
    "        score /= len(qi_embeddings)\n",
    "\n",
    "        result = {\"score\":str(score)}\n",
    "\n",
    "        return result, self._return_description\n",
    "        \n"
   ]
  },
  {
   "cell_type": "code",
   "execution_count": 9,
   "metadata": {},
   "outputs": [
    {
     "data": {
      "text/plain": [
       "{'score': '0.3964371204376221'}"
      ]
     },
     "execution_count": 9,
     "metadata": {},
     "output_type": "execute_result"
    }
   ],
   "source": [
    "question_comparator = QuestionComparator()\n",
    "\n",
    "comparator_query = {\"query_question\":rag_sample[\"question\"], \"questions\":questions[\"questions\"]}\n",
    "comparator_result, _ = question_comparator(comparator_query)\n",
    "\n",
    "comparator_result"
   ]
  },
  {
   "cell_type": "code",
   "execution_count": 10,
   "metadata": {},
   "outputs": [],
   "source": [
    "class AnswerRelevanceEvaluator(tp.Tool):\n",
    "    '''\n",
    "    Evaluates the relevance of a answer.\n",
    "    '''\n",
    "\n",
    "    _description = \"Evaluates the relevance of a answer considering the question it answers.\"\n",
    "\n",
    "    _return_description = {\"score\": \"relevance of the answer considering the question\"}\n",
    "\n",
    "    _input_description = {\"answer\" : \"answer to evaluate the relevance\"}\n",
    "\n",
    "    def __init__(self, question_generator:QuestionGenerator=None, question_comparator:QuestionComparator=None) -> None:\n",
    "        '''\n",
    "        AnswerRelevanceEvaluator constructor\n",
    "\n",
    "        Args:\n",
    "            question_generator (QuestionGenerator, optional): generator to use, if None creates a new with default arguments. Defaults to None.\n",
    "            question_comparator (QuestionComparator, optional): comparator to use, if None creates a new with default arguments. Defaults to None.\n",
    "        '''\n",
    "        super().__init__(self._description, self._input_description)\n",
    "\n",
    "        if question_generator is None:\n",
    "            question_generator = QuestionGenerator()\n",
    "        if question_comparator is None:\n",
    "            question_comparator = QuestionComparator()\n",
    "\n",
    "        self._question_generator = question_generator\n",
    "        self._question_comparator = question_comparator\n",
    "    \n",
    "    def _execute(self, query: Dict[str, str], context: str=None) -> Tuple[Dict[str, str], Dict[str,str]]:\n",
    "        '''\n",
    "        Evaluates the relevance of a answer.\n",
    "\n",
    "        Args:\n",
    "            query (Dict[str, str]): must contain key \"answer\" with answer to evaluate.\n",
    "            context (str, optional): not used. Defaults to None.\n",
    "\n",
    "        Raises:\n",
    "            ValueError: if query does not contains \"answer\" key\n",
    "\n",
    "        Returns:\n",
    "            Dict[str, str]: result with key \"score\" with the score.\n",
    "        '''\n",
    "        \n",
    "        if \"answer\" not in query:\n",
    "            raise ValueError(\"Query must have the answer to evaluate (query not have key 'answer').\")\n",
    "\n",
    "        generator_result, _ = self._question_generator(query)\n",
    "\n",
    "        comparator_query = {\"query_question\":query[\"question\"], \"questions\":generator_result[\"questions\"]}\n",
    "        comparator_result, _ = self._question_comparator(comparator_query)\n",
    "\n",
    "        return comparator_result, self._return_description"
   ]
  },
  {
   "cell_type": "code",
   "execution_count": 11,
   "metadata": {},
   "outputs": [],
   "source": [
    "answer_relevance_evaluator = AnswerRelevanceEvaluator()"
   ]
  },
  {
   "cell_type": "code",
   "execution_count": 12,
   "metadata": {},
   "outputs": [
    {
     "data": {
      "text/plain": [
       "({'score': '0.5079158147176107'},\n",
       " {'score': 'relevance of the answer considering the question'})"
      ]
     },
     "execution_count": 12,
     "metadata": {},
     "output_type": "execute_result"
    }
   ],
   "source": [
    "answer_relevance_evaluator(rag_sample)"
   ]
  },
  {
   "cell_type": "markdown",
   "metadata": {},
   "source": [
    "# Adapter"
   ]
  },
  {
   "cell_type": "code",
   "execution_count": 13,
   "metadata": {},
   "outputs": [],
   "source": [
    "adapter = tp.tool.Adapter()"
   ]
  },
  {
   "cell_type": "code",
   "execution_count": 14,
   "metadata": {},
   "outputs": [],
   "source": [
    "next_query, next_context = adapter.map_tools(previous_tool=question_generator, \n",
    "                                             previous_output=questions, \n",
    "                                             previous_output_description=generation_return_description, \n",
    "                                             next_tool=question_comparator, \n",
    "                                             additional_inputs=rag_sample, \n",
    "                                             additional_inputs_description=rag_sample_description)"
   ]
  },
  {
   "cell_type": "code",
   "execution_count": 15,
   "metadata": {},
   "outputs": [],
   "source": [
    "comparator_result, _ = question_comparator(next_query, next_context)"
   ]
  },
  {
   "cell_type": "code",
   "execution_count": 16,
   "metadata": {},
   "outputs": [
    {
     "data": {
      "text/plain": [
       "{'score': '0.3964371204376221'}"
      ]
     },
     "execution_count": 16,
     "metadata": {},
     "output_type": "execute_result"
    }
   ],
   "source": [
    "comparator_result"
   ]
  },
  {
   "cell_type": "markdown",
   "metadata": {},
   "source": [
    "## Pipeline"
   ]
  },
  {
   "cell_type": "code",
   "execution_count": 17,
   "metadata": {},
   "outputs": [],
   "source": [
    "pipeline = tp.Pipeline([question_generator, question_comparator], global_memory=True)"
   ]
  },
  {
   "cell_type": "code",
   "execution_count": 18,
   "metadata": {},
   "outputs": [],
   "source": [
    "result, result_description = pipeline(rag_sample, rag_sample_description)"
   ]
  },
  {
   "cell_type": "code",
   "execution_count": 19,
   "metadata": {},
   "outputs": [
    {
     "data": {
      "text/plain": [
       "{'score': '0.45767029126485187'}"
      ]
     },
     "execution_count": 19,
     "metadata": {},
     "output_type": "execute_result"
    }
   ],
   "source": [
    "result"
   ]
  },
  {
   "cell_type": "code",
   "execution_count": null,
   "metadata": {},
   "outputs": [],
   "source": []
  }
 ],
 "metadata": {
  "kernelspec": {
   "display_name": "Python 3",
   "language": "python",
   "name": "python3"
  },
  "language_info": {
   "codemirror_mode": {
    "name": "ipython",
    "version": 3
   },
   "file_extension": ".py",
   "mimetype": "text/x-python",
   "name": "python",
   "nbconvert_exporter": "python",
   "pygments_lexer": "ipython3",
   "version": "3.11.9"
  }
 },
 "nbformat": 4,
 "nbformat_minor": 2
}
