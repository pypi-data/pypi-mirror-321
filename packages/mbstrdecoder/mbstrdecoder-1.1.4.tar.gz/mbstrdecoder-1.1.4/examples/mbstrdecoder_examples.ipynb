{
 "cells": [
  {
   "cell_type": "code",
   "execution_count": 1,
   "metadata": {},
   "outputs": [
    {
     "name": "stdout",
     "output_type": "stream",
     "text": [
      "b'\\xe3\\x83\\x9e\\xe3\\x83\\xab\\xe3\\x83\\x81\\xe3\\x83\\x90\\xe3\\x82\\xa4\\xe3\\x83\\x88\\xe6\\x96\\x87\\xe5\\xad\\x97'\n",
      "マルチバイト文字\n",
      "utf_8\n"
     ]
    }
   ],
   "source": [
    "from __future__ import print_function\n",
    "from mbstrdecoder import MultiByteStrDecoder\n",
    "\n",
    "encoded_multibyte_text = \"マルチバイト文字\".encode(\"utf-8\")\n",
    "decoder = MultiByteStrDecoder(encoded_multibyte_text)\n",
    "\n",
    "print(encoded_multibyte_text)\n",
    "print(decoder.unicode_str)\n",
    "print(decoder.codec)"
   ]
  },
  {
   "cell_type": "code",
   "execution_count": null,
   "metadata": {},
   "outputs": [],
   "source": []
  }
 ],
 "metadata": {
  "kernelspec": {
   "display_name": "Python 3",
   "language": "python",
   "name": "python3"
  },
  "language_info": {
   "codemirror_mode": {
    "name": "ipython",
    "version": 3
   },
   "file_extension": ".py",
   "mimetype": "text/x-python",
   "name": "python",
   "nbconvert_exporter": "python",
   "pygments_lexer": "ipython3",
   "version": "3.7.2"
  }
 },
 "nbformat": 4,
 "nbformat_minor": 2
}
