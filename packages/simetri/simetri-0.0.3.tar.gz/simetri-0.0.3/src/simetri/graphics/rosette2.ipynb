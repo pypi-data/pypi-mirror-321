{
 "cells": [
  {
   "cell_type": "code",
   "execution_count": 9,
   "metadata": {},
   "outputs": [
    {
     "name": "stdout",
     "output_type": "stream",
     "text": [
      "['Output written on rosettes.pdf (1 page).', 'Transcript written on rosettes.log.', '']\n"
     ]
    },
    {
     "data": {
      "image/svg+xml": [
       "<svg xmlns=\"http://www.w3.org/2000/svg\" xmlns:xlink=\"http://www.w3.org/1999/xlink\" xmlns:inkscape=\"http://www.inkscape.org/namespaces/inkscape\" version=\"1.1\" width=\"392.28\" height=\"211.98\" viewBox=\"0 0 392.28 211.98\">\n",
       "<path transform=\"matrix(1,0,0,-1,100.874,105.989)\" stroke-width=\"2.98883\" stroke-linecap=\"butt\" stroke-miterlimit=\"10\" stroke-linejoin=\"miter\" fill=\"none\" stroke=\"#000000\" d=\"M0 0H55.7915V55.7915H19.52702\"/>\n",
       "<path transform=\"matrix(1,0,0,-1,100.874,105.989)\" stroke-width=\"2.98883\" stroke-linecap=\"butt\" stroke-miterlimit=\"10\" stroke-linejoin=\"miter\" fill=\"none\" stroke=\"#000000\" d=\"M0 0 34.78499 43.61998-8.83398 78.40498-31.44447 50.05194\"/>\n",
       "<path transform=\"matrix(1,0,0,-1,100.874,105.989)\" stroke-width=\"2.98883\" stroke-linecap=\"butt\" stroke-miterlimit=\"10\" stroke-linejoin=\"miter\" fill=\"none\" stroke=\"#000000\" d=\"M0 0-12.4146 54.39272-66.80734 41.97812-58.73749 6.62225\"/>\n",
       "<path transform=\"matrix(1,0,0,-1,100.874,105.989)\" stroke-width=\"2.98883\" stroke-linecap=\"butt\" stroke-miterlimit=\"10\" stroke-linejoin=\"miter\" fill=\"none\" stroke=\"#000000\" d=\"M0 0-50.26614 24.20653-74.47368-26.0596-41.79977-41.79381\"/>\n",
       "<path transform=\"matrix(1,0,0,-1,100.874,105.989)\" stroke-width=\"2.98883\" stroke-linecap=\"butt\" stroke-miterlimit=\"10\" stroke-linejoin=\"miter\" fill=\"none\" stroke=\"#000000\" d=\"M0 0-50.26614-24.20653-26.0596-74.47368 6.61328-58.73848\"/>\n",
       "<path transform=\"matrix(1,0,0,-1,100.874,105.989)\" stroke-width=\"2.98883\" stroke-linecap=\"butt\" stroke-miterlimit=\"10\" stroke-linejoin=\"miter\" fill=\"none\" stroke=\"#000000\" d=\"M0 0-12.4146-54.39272 41.97812-66.80734 50.04796-31.45245\"/>\n",
       "<path transform=\"matrix(1,0,0,-1,100.874,105.989)\" stroke-width=\"2.98883\" stroke-linecap=\"butt\" stroke-miterlimit=\"10\" stroke-linejoin=\"miter\" fill=\"none\" stroke=\"#000000\" d=\"M0 0 34.78499-43.61998 78.40498-8.83398 55.7945 19.51904\"/>\n",
       "<path transform=\"matrix(1,0,0,-1,100.874,105.989)\" stroke-width=\"2.98883\" stroke-linecap=\"butt\" stroke-miterlimit=\"10\" stroke-linejoin=\"miter\" fill=\"none\" stroke=\"#000000\" d=\"M223.16602-23.71138 265.00965 0 223.16602 23.71138 181.32239 0Z\"/>\n",
       "<path transform=\"matrix(1,0,0,-1,100.874,105.989)\" stroke-width=\"2.98883\" stroke-linecap=\"butt\" stroke-miterlimit=\"10\" stroke-linejoin=\"miter\" fill=\"none\" stroke=\"#000000\" d=\"M216.80379 32.46866 207.18274 79.59157 171.70233 47.1229 181.32239 0Z\"/>\n",
       "<path transform=\"matrix(1,0,0,-1,100.874,105.989)\" stroke-width=\"2.98883\" stroke-linecap=\"butt\" stroke-miterlimit=\"10\" stroke-linejoin=\"miter\" fill=\"none\" stroke=\"#000000\" d=\"M161.4078 43.7784 113.6184 49.19016 133.53298 5.41177 181.32239 0Z\"/>\n",
       "<path transform=\"matrix(1,0,0,-1,100.874,105.989)\" stroke-width=\"2.98883\" stroke-linecap=\"butt\" stroke-miterlimit=\"10\" stroke-linejoin=\"miter\" fill=\"none\" stroke=\"#000000\" d=\"M133.53298-5.41177 113.6184-49.19016 161.4078-43.7784 181.32239 0Z\"/>\n",
       "<path transform=\"matrix(1,0,0,-1,100.874,105.989)\" stroke-width=\"2.98883\" stroke-linecap=\"butt\" stroke-miterlimit=\"10\" stroke-linejoin=\"miter\" fill=\"none\" stroke=\"#000000\" d=\"M171.70233-47.1229 207.18274-79.59157 216.80379-32.46866 181.32239 0Z\"/>\n",
       "</svg>"
      ],
      "text/plain": [
       "<IPython.core.display.SVG object>"
      ]
     },
     "metadata": {},
     "output_type": "display_data"
    }
   ],
   "source": [
    "import simetri.graphics as sg\n",
    "\n",
    "def rosette(n:int, kernel:sg.Shape|sg.Batch, axis=sg.axis_x,\n",
    "                                cyclic:bool=False, merge=True)->sg.Batch:\n",
    "    if cyclic:\n",
    "        petal = kernel\n",
    "    else:\n",
    "        petal = kernel.mirror(axis, reps = 1)\n",
    "        if merge:\n",
    "            petal = petal.merge_shapes()\n",
    "    petal = petal.rotate(2 * sg.pi/n, reps = n-1)\n",
    "\n",
    "    return petal\n",
    "\n",
    "canvas = sg.Canvas()\n",
    "# points = [(0, 0), (40, 0), (40, 40), (14, 40)]\n",
    "points = [(0, 0), (40, 0), (40, 40), (14, 40)]\n",
    "points2 = [(0, 0), (30, 17), (60, 0)]\n",
    "\n",
    "kernel_c7 = sg.Shape(points)\n",
    "kernel_d5 = sg.Shape(points2)\n",
    "canvas.draw(rosette(7, kernel_c7, cyclic=True).scale(1.4), line_width=3)\n",
    "canvas.draw(rosette(5, kernel_d5).translate(130, 0).scale(1.4), line_width=3, fill=False)\n",
    "canvas.save(\"c:/tmp/rosettes.pdf\", overwrite=True)\n",
    "canvas.display()"
   ]
  },
  {
   "cell_type": "code",
   "execution_count": 4,
   "metadata": {},
   "outputs": [
    {
     "data": {
      "image/svg+xml": [
       "<svg xmlns=\"http://www.w3.org/2000/svg\" xmlns:xlink=\"http://www.w3.org/1999/xlink\" xmlns:inkscape=\"http://www.inkscape.org/namespaces/inkscape\" version=\"1.1\" width=\"266.42\" height=\"255.84\" viewBox=\"0 0 266.42 255.84\">\n",
       "<path transform=\"matrix(1,0,0,-1,133.20999,127.91899)\" stroke-width=\".3985\" stroke-linecap=\"butt\" stroke-miterlimit=\"10\" stroke-linejoin=\"miter\" fill=\"none\" stroke=\"#000000\" d=\"M41.75694-13.56729 31.90079 0 41.75694 13.56729 25.80356 18.74992V35.51826L9.85316 30.33662 0 43.90392-9.85316 30.33662-25.80356 35.51826V18.74992L-41.75694 13.56729-31.90079 0-41.75694-13.56729-25.80356-18.74992V-35.51826L-9.85316-30.33662 0-43.90392 9.85316-30.33662 25.80356-35.51826V-18.74992Z\"/>\n",
       "<path transform=\"matrix(1,0,0,-1,133.20999,127.91899)\" stroke-width=\".3985\" stroke-linecap=\"butt\" stroke-miterlimit=\"10\" stroke-linejoin=\"miter\" fill=\"none\" stroke=\"#000000\" d=\"M62.98561 20.47249 60.43414 22.32655 57.87671 18.80573 62.00827 17.46472Z\"/>\n",
       "<path transform=\"matrix(1,0,0,-1,133.20999,127.91899)\" stroke-width=\".3985\" stroke-linecap=\"butt\" stroke-miterlimit=\"10\" stroke-linejoin=\"miter\" fill=\"none\" stroke=\"#000000\" d=\"M57.87671-18.80573 60.43414-22.32655 62.98561-20.47249 62.00827-17.46472Z\"/>\n",
       "<path transform=\"matrix(1,0,0,-1,133.20999,127.91899)\" stroke-width=\".3985\" stroke-linecap=\"butt\" stroke-miterlimit=\"10\" stroke-linejoin=\"miter\" fill=\"none\" stroke=\"#000000\" d=\"M38.92354 53.57976H35.76633V49.22902L39.90088 50.571Z\"/>\n",
       "<path transform=\"matrix(1,0,0,-1,133.20999,127.91899)\" stroke-width=\".3985\" stroke-linecap=\"butt\" stroke-miterlimit=\"10\" stroke-linejoin=\"miter\" fill=\"none\" stroke=\"#000000\" d=\"M0 66.23048-2.56042 64.36945 0 60.8466 2.56042 64.36945Z\"/>\n",
       "<path transform=\"matrix(1,0,0,-1,133.20999,127.91899)\" stroke-width=\".3985\" stroke-linecap=\"butt\" stroke-miterlimit=\"10\" stroke-linejoin=\"miter\" fill=\"none\" stroke=\"#000000\" d=\"M-38.92354 53.57976-39.90088 50.571-35.76633 49.22902V53.57976Z\"/>\n",
       "<path transform=\"matrix(1,0,0,-1,133.20999,127.91899)\" stroke-width=\".3985\" stroke-linecap=\"butt\" stroke-miterlimit=\"10\" stroke-linejoin=\"miter\" fill=\"none\" stroke=\"#000000\" d=\"M-62.98561 20.47249-62.00827 17.46472-57.87671 18.80573-60.43414 22.32655Z\"/>\n",
       "<path transform=\"matrix(1,0,0,-1,133.20999,127.91899)\" stroke-width=\".3985\" stroke-linecap=\"butt\" stroke-miterlimit=\"10\" stroke-linejoin=\"miter\" fill=\"none\" stroke=\"#000000\" d=\"M-62.98561-20.47249-60.43414-22.32655-57.87671-18.80573-62.00827-17.46472Z\"/>\n",
       "<path transform=\"matrix(1,0,0,-1,133.20999,127.91899)\" stroke-width=\".3985\" stroke-linecap=\"butt\" stroke-miterlimit=\"10\" stroke-linejoin=\"miter\" fill=\"none\" stroke=\"#000000\" d=\"M-38.92354-53.57976H-35.76633V-49.22902L-39.90088-50.571Z\"/>\n",
       "<path transform=\"matrix(1,0,0,-1,133.20999,127.91899)\" stroke-width=\".3985\" stroke-linecap=\"butt\" stroke-miterlimit=\"10\" stroke-linejoin=\"miter\" fill=\"none\" stroke=\"#000000\" d=\"M0-66.22949 2.56042-64.36945 0-60.8466-2.56042-64.36945Z\"/>\n",
       "<path transform=\"matrix(1,0,0,-1,133.20999,127.91899)\" stroke-width=\".3985\" stroke-linecap=\"butt\" stroke-miterlimit=\"10\" stroke-linejoin=\"miter\" fill=\"none\" stroke=\"#000000\" d=\"M38.92354-53.57976 39.90088-50.571 35.76633-49.22902V-53.57976Z\"/>\n",
       "<path transform=\"matrix(1,0,0,-1,133.20999,127.91899)\" stroke-width=\".3985\" stroke-linecap=\"butt\" stroke-miterlimit=\"10\" stroke-linejoin=\"miter\" fill=\"none\" stroke=\"#000000\" d=\"M66.21953 30.4253 73.74442 53.57976H49.39938L52.45396 44.17491 35.76633 38.75417V25.9829L47.91194 22.04062 58.22241 36.23457Z\"/>\n",
       "<path transform=\"matrix(1,0,0,-1,133.20999,127.91899)\" stroke-width=\".3985\" stroke-linecap=\"butt\" stroke-miterlimit=\"10\" stroke-linejoin=\"miter\" fill=\"none\" stroke=\"#000000\" d=\"M47.91194-22.04062 35.76633-25.9829V-38.75417L52.45396-44.17491 49.39938-53.57976H73.74442L66.21953-30.4253 58.22241-36.23457Z\"/>\n",
       "<path transform=\"matrix(1,0,0,-1,133.20999,127.91899)\" stroke-width=\".3985\" stroke-linecap=\"butt\" stroke-miterlimit=\"10\" stroke-linejoin=\"miter\" fill=\"none\" stroke=\"#000000\" d=\"M71.45894-14.3125 91.14937 0 71.45894 14.3125 68.40436 4.91164 51.71971 10.33138 44.21477 0 51.71971-10.33138 68.40436-4.91164Z\"/>\n",
       "<path transform=\"matrix(1,0,0,-1,133.20999,127.91899)\" stroke-width=\".3985\" stroke-linecap=\"butt\" stroke-miterlimit=\"10\" stroke-linejoin=\"miter\" fill=\"none\" stroke=\"#000000\" d=\"M35.68663 63.54253 28.16475 86.69601 8.47533 72.38847 16.46844 66.58118 6.15399 52.37825 13.65895 42.05284 25.80356 45.99512V63.54253Z\"/>\n",
       "<path transform=\"matrix(1,0,0,-1,133.20999,127.91899)\" stroke-width=\".3985\" stroke-linecap=\"butt\" stroke-miterlimit=\"10\" stroke-linejoin=\"miter\" fill=\"none\" stroke=\"#000000\" d=\"M-8.47533 72.38847-28.16475 86.69601-35.68663 63.54253H-25.80356V45.99512L-13.65895 42.05284-6.15399 52.37825-16.46844 66.58118Z\"/>\n",
       "<path transform=\"matrix(1,0,0,-1,133.20999,127.91899)\" stroke-width=\".3985\" stroke-linecap=\"butt\" stroke-miterlimit=\"10\" stroke-linejoin=\"miter\" fill=\"none\" stroke=\"#000000\" d=\"M-49.39938 53.57976H-73.74442L-66.21953 30.4253-58.22241 36.23457-47.91194 22.04062-35.76633 25.9829V38.75417L-52.45396 44.17491Z\"/>\n",
       "<path transform=\"matrix(1,0,0,-1,133.20999,127.91899)\" stroke-width=\".3985\" stroke-linecap=\"butt\" stroke-miterlimit=\"10\" stroke-linejoin=\"miter\" fill=\"none\" stroke=\"#000000\" d=\"M-71.45894 14.3125-91.14937 0-71.45894-14.3125-68.40436-4.91164-51.71971-10.33138-44.21477 0-51.71971 10.33138-68.40436 4.91164Z\"/>\n",
       "<path transform=\"matrix(1,0,0,-1,133.20999,127.91899)\" stroke-width=\".3985\" stroke-linecap=\"butt\" stroke-miterlimit=\"10\" stroke-linejoin=\"miter\" fill=\"none\" stroke=\"#000000\" d=\"M-66.21953-30.4253-73.74442-53.57976H-49.39938L-52.45396-44.17491-35.76633-38.75417V-25.9829L-47.91194-22.04062-58.22241-36.23457Z\"/>\n",
       "<path transform=\"matrix(1,0,0,-1,133.20999,127.91899)\" stroke-width=\".3985\" stroke-linecap=\"butt\" stroke-miterlimit=\"10\" stroke-linejoin=\"miter\" fill=\"none\" stroke=\"#000000\" d=\"M-35.68663-63.54253-28.16475-86.69601-8.47533-72.38847-16.46844-66.58118-6.15399-52.37825-13.65895-42.05284-25.80356-45.99512V-63.54253Z\"/>\n",
       "<path transform=\"matrix(1,0,0,-1,133.20999,127.91899)\" stroke-width=\".3985\" stroke-linecap=\"butt\" stroke-miterlimit=\"10\" stroke-linejoin=\"miter\" fill=\"none\" stroke=\"#000000\" d=\"M8.47533-72.38847 28.16475-86.69601 35.68663-63.54253H25.80356V-45.99512L13.65895-42.05284 6.15399-52.37825 16.46844-66.58118Z\"/>\n",
       "<path transform=\"matrix(1,0,0,-1,133.20999,127.91899)\" stroke-width=\".3985\" stroke-linecap=\"butt\" stroke-miterlimit=\"10\" stroke-linejoin=\"miter\" fill=\"none\" stroke=\"#000000\" d=\"M66.21953 30.4253 58.22241 36.23457 31.90079 0 41.75694-13.56729 51.71971-10.33138 44.21477 0 60.43414 22.32655 62.98561 20.47249Z\"/>\n",
       "<path transform=\"matrix(1,0,0,-1,133.20999,127.91899)\" stroke-width=\".3985\" stroke-linecap=\"butt\" stroke-miterlimit=\"10\" stroke-linejoin=\"miter\" fill=\"none\" stroke=\"#000000\" d=\"M108.10599 0 74.69386 24.27028 71.45894 14.3125 91.14937 0 60.43414-22.32655 57.87671-18.80573 47.91194-22.04062 58.22241-36.23457Z\"/>\n",
       "<path transform=\"matrix(1,0,0,-1,133.20999,127.91899)\" stroke-width=\".3985\" stroke-linecap=\"butt\" stroke-miterlimit=\"10\" stroke-linejoin=\"miter\" fill=\"none\" stroke=\"#000000\" d=\"M35.68663 63.54253H25.80356V18.74992L41.75694 13.56729 47.91194 22.04062 35.76633 25.9829V53.57976H38.92354Z\"/>\n",
       "<path transform=\"matrix(1,0,0,-1,133.20999,127.91899)\" stroke-width=\".3985\" stroke-linecap=\"butt\" stroke-miterlimit=\"10\" stroke-linejoin=\"miter\" fill=\"none\" stroke=\"#000000\" d=\"M87.45317 63.54253H46.16249L49.39938 53.57976H73.74442L62.00827 17.46472 57.87671 18.80573 51.71971 10.33138 68.40436 4.91164Z\"/>\n",
       "<path transform=\"matrix(1,0,0,-1,133.20999,127.91899)\" stroke-width=\".3985\" stroke-linecap=\"butt\" stroke-miterlimit=\"10\" stroke-linejoin=\"miter\" fill=\"none\" stroke=\"#000000\" d=\"M-8.47533 72.38847-16.46844 66.58118 9.85316 30.33662 25.80356 35.51826V45.99512L13.65895 42.05284-2.56042 64.36945 0 66.23048Z\"/>\n",
       "<path transform=\"matrix(1,0,0,-1,133.20999,127.91899)\" stroke-width=\".3985\" stroke-linecap=\"butt\" stroke-miterlimit=\"10\" stroke-linejoin=\"miter\" fill=\"none\" stroke=\"#000000\" d=\"M33.40515 102.81577 0 78.54646 8.47533 72.38847 28.16475 86.69601 39.90088 50.571 35.76633 49.22902V38.75417L52.45396 44.17491Z\"/>\n",
       "<path transform=\"matrix(1,0,0,-1,133.20999,127.91899)\" stroke-width=\".3985\" stroke-linecap=\"butt\" stroke-miterlimit=\"10\" stroke-linejoin=\"miter\" fill=\"none\" stroke=\"#000000\" d=\"M-49.39938 53.57976-52.45396 44.17491-9.85316 30.33662 0 43.90392-6.15399 52.37825-13.65895 42.05284-39.90088 50.571-38.92354 53.57976Z\"/>\n",
       "<path transform=\"matrix(1,0,0,-1,133.20999,127.91899)\" stroke-width=\".3985\" stroke-linecap=\"butt\" stroke-miterlimit=\"10\" stroke-linejoin=\"miter\" fill=\"none\" stroke=\"#000000\" d=\"M-33.40515 102.81577-46.16249 63.54253H-35.68663L-28.16475 86.69601 2.56042 64.36945 0 60.8466 6.15399 52.37825 16.46844 66.58118Z\"/>\n",
       "<path transform=\"matrix(1,0,0,-1,133.20999,127.91899)\" stroke-width=\".3985\" stroke-linecap=\"butt\" stroke-miterlimit=\"10\" stroke-linejoin=\"miter\" fill=\"none\" stroke=\"#000000\" d=\"M-71.45894 14.3125-68.40436 4.91164-25.80356 18.74992V35.51826L-35.76633 38.75417V25.9829L-62.00827 17.46472-62.98561 20.47249Z\"/>\n",
       "<path transform=\"matrix(1,0,0,-1,133.20999,127.91899)\" stroke-width=\".3985\" stroke-linecap=\"butt\" stroke-miterlimit=\"10\" stroke-linejoin=\"miter\" fill=\"none\" stroke=\"#000000\" d=\"M-87.45317 63.54253-74.69386 24.27028-66.21953 30.4253-73.74442 53.57976H-35.76633V49.22902L-25.80356 45.99512V63.54253Z\"/>\n",
       "<path transform=\"matrix(1,0,0,-1,133.20999,127.91899)\" stroke-width=\".3985\" stroke-linecap=\"butt\" stroke-miterlimit=\"10\" stroke-linejoin=\"miter\" fill=\"none\" stroke=\"#000000\" d=\"M-66.21953-30.4253-58.22241-36.23457-31.90079 0-41.75694 13.56729-51.71971 10.33138-44.21477 0-60.43414-22.32655-62.98561-20.47249Z\"/>\n",
       "<path transform=\"matrix(1,0,0,-1,133.20999,127.91899)\" stroke-width=\".3985\" stroke-linecap=\"butt\" stroke-miterlimit=\"10\" stroke-linejoin=\"miter\" fill=\"none\" stroke=\"#000000\" d=\"M-108.10599 0-74.69386-24.27028-71.45894-14.3125-91.14937 0-60.43414 22.32655-57.87671 18.80573-47.91194 22.04062-58.22241 36.23457Z\"/>\n",
       "<path transform=\"matrix(1,0,0,-1,133.20999,127.91899)\" stroke-width=\".3985\" stroke-linecap=\"butt\" stroke-miterlimit=\"10\" stroke-linejoin=\"miter\" fill=\"none\" stroke=\"#000000\" d=\"M-35.68663-63.54253H-25.80356V-18.74992L-41.75694-13.56729-47.91194-22.04062-35.76633-25.9829V-53.57976H-38.92354Z\"/>\n",
       "<path transform=\"matrix(1,0,0,-1,133.20999,127.91899)\" stroke-width=\".3985\" stroke-linecap=\"butt\" stroke-miterlimit=\"10\" stroke-linejoin=\"miter\" fill=\"none\" stroke=\"#000000\" d=\"M-87.45317-63.54253H-46.16249L-49.39938-53.57976H-73.74442L-62.00827-17.46472-57.87671-18.80573-51.71971-10.33138-68.40436-4.91164Z\"/>\n",
       "<path transform=\"matrix(1,0,0,-1,133.20999,127.91899)\" stroke-width=\".3985\" stroke-linecap=\"butt\" stroke-miterlimit=\"10\" stroke-linejoin=\"miter\" fill=\"none\" stroke=\"#000000\" d=\"M8.47533-72.38847 16.46844-66.58118-9.85316-30.33662-25.80356-35.51826V-45.99512L-13.65895-42.05284 2.56042-64.36945 0-66.22949Z\"/>\n",
       "<path transform=\"matrix(1,0,0,-1,133.20999,127.91899)\" stroke-width=\".3985\" stroke-linecap=\"butt\" stroke-miterlimit=\"10\" stroke-linejoin=\"miter\" fill=\"none\" stroke=\"#000000\" d=\"M-33.40515-102.81577 0-78.54646-8.47533-72.38847-28.16475-86.69601-39.90088-50.571-35.76633-49.22902V-38.75417L-52.45396-44.17491Z\"/>\n",
       "<path transform=\"matrix(1,0,0,-1,133.20999,127.91899)\" stroke-width=\".3985\" stroke-linecap=\"butt\" stroke-miterlimit=\"10\" stroke-linejoin=\"miter\" fill=\"none\" stroke=\"#000000\" d=\"M49.39938-53.57976 52.45396-44.17491 9.85316-30.33662 0-43.90392 6.15399-52.37825 13.65895-42.05284 39.90088-50.571 38.92354-53.57976Z\"/>\n",
       "<path transform=\"matrix(1,0,0,-1,133.20999,127.91899)\" stroke-width=\".3985\" stroke-linecap=\"butt\" stroke-miterlimit=\"10\" stroke-linejoin=\"miter\" fill=\"none\" stroke=\"#000000\" d=\"M33.40515-102.81577 46.16249-63.54253H35.68663L28.16475-86.69601-2.56042-64.36945 0-60.8466-6.15399-52.37825-16.46844-66.58118Z\"/>\n",
       "<path transform=\"matrix(1,0,0,-1,133.20999,127.91899)\" stroke-width=\".3985\" stroke-linecap=\"butt\" stroke-miterlimit=\"10\" stroke-linejoin=\"miter\" fill=\"none\" stroke=\"#000000\" d=\"M71.45894-14.3125 68.40436-4.91164 25.80356-18.74992V-35.51826L35.76633-38.75417V-25.9829L62.00827-17.46472 62.98561-20.47249Z\"/>\n",
       "<path transform=\"matrix(1,0,0,-1,133.20999,127.91899)\" stroke-width=\".3985\" stroke-linecap=\"butt\" stroke-miterlimit=\"10\" stroke-linejoin=\"miter\" fill=\"none\" stroke=\"#000000\" d=\"M87.45317-63.54253 74.69386-24.27028 66.21953-30.4253 73.74442-53.57976H35.76633V-49.22902L25.80356-45.99512V-63.54253Z\"/>\n",
       "</svg>"
      ],
      "text/plain": [
       "<IPython.core.display.SVG object>"
      ]
     },
     "metadata": {},
     "output_type": "display_data"
    }
   ],
   "source": [
    "import simetri.graphics as sg\n",
    "\n",
    "grid = sg.CircularGrid(n=20, radius=100)\n",
    "\n",
    "p1 = grid.intersect((0, 10), (2, 14))\n",
    "p2 = grid.intersect((0, 6), (2, 14))\n",
    "p3 = grid.points[0]\n",
    "\n",
    "kernel = sg.Shape([p1, p2, p3])\n",
    "star = sg.stars.rosette(n=10, kernel=kernel)\n",
    "lace = sg.Lace(star, offset=5)\n",
    "canvas = sg.Canvas()\n",
    "canvas.draw(lace, fill=False)\n",
    "\n",
    "canvas.display()"
   ]
  },
  {
   "cell_type": "code",
   "execution_count": null,
   "metadata": {},
   "outputs": [],
   "source": []
  }
 ],
 "metadata": {
  "kernelspec": {
   "display_name": "Python 3",
   "language": "python",
   "name": "python3"
  },
  "language_info": {
   "codemirror_mode": {
    "name": "ipython",
    "version": 3
   },
   "file_extension": ".py",
   "mimetype": "text/x-python",
   "name": "python",
   "nbconvert_exporter": "python",
   "pygments_lexer": "ipython3",
   "version": "3.13.0"
  }
 },
 "nbformat": 4,
 "nbformat_minor": 2
}
