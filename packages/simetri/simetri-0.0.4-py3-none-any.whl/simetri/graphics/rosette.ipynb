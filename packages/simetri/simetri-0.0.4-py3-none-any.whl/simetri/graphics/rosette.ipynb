{
 "cells": [
  {
   "cell_type": "code",
   "execution_count": 9,
   "metadata": {},
   "outputs": [
    {
     "name": "stdout",
     "output_type": "stream",
     "text": [
      "['Output written on rosettes.pdf (1 page).', 'Transcript written on rosettes.log.', '']\n"
     ]
    },
    {
     "data": {
      "image/svg+xml": [
       "<svg xmlns=\"http://www.w3.org/2000/svg\" xmlns:xlink=\"http://www.w3.org/1999/xlink\" xmlns:inkscape=\"http://www.inkscape.org/namespaces/inkscape\" version=\"1.1\" width=\"392.28\" height=\"211.98\" viewBox=\"0 0 392.28 211.98\">\n",
       "<path transform=\"matrix(1,0,0,-1,100.874,105.989)\" stroke-width=\"2.98883\" stroke-linecap=\"butt\" stroke-miterlimit=\"10\" stroke-linejoin=\"miter\" fill=\"none\" stroke=\"#000000\" d=\"M0 0H55.7915V55.7915H19.52702\"/>\n",
       "<path transform=\"matrix(1,0,0,-1,100.874,105.989)\" stroke-width=\"2.98883\" stroke-linecap=\"butt\" stroke-miterlimit=\"10\" stroke-linejoin=\"miter\" fill=\"none\" stroke=\"#000000\" d=\"M0 0 34.78499 43.61998-8.83398 78.40498-31.44447 50.05194\"/>\n",
       "<path transform=\"matrix(1,0,0,-1,100.874,105.989)\" stroke-width=\"2.98883\" stroke-linecap=\"butt\" stroke-miterlimit=\"10\" stroke-linejoin=\"miter\" fill=\"none\" stroke=\"#000000\" d=\"M0 0-12.4146 54.39272-66.80734 41.97812-58.73749 6.62225\"/>\n",
       "<path transform=\"matrix(1,0,0,-1,100.874,105.989)\" stroke-width=\"2.98883\" stroke-linecap=\"butt\" stroke-miterlimit=\"10\" stroke-linejoin=\"miter\" fill=\"none\" stroke=\"#000000\" d=\"M0 0-50.26614 24.20653-74.47368-26.0596-41.79977-41.79381\"/>\n",
       "<path transform=\"matrix(1,0,0,-1,100.874,105.989)\" stroke-width=\"2.98883\" stroke-linecap=\"butt\" stroke-miterlimit=\"10\" stroke-linejoin=\"miter\" fill=\"none\" stroke=\"#000000\" d=\"M0 0-50.26614-24.20653-26.0596-74.47368 6.61328-58.73848\"/>\n",
       "<path transform=\"matrix(1,0,0,-1,100.874,105.989)\" stroke-width=\"2.98883\" stroke-linecap=\"butt\" stroke-miterlimit=\"10\" stroke-linejoin=\"miter\" fill=\"none\" stroke=\"#000000\" d=\"M0 0-12.4146-54.39272 41.97812-66.80734 50.04796-31.45245\"/>\n",
       "<path transform=\"matrix(1,0,0,-1,100.874,105.989)\" stroke-width=\"2.98883\" stroke-linecap=\"butt\" stroke-miterlimit=\"10\" stroke-linejoin=\"miter\" fill=\"none\" stroke=\"#000000\" d=\"M0 0 34.78499-43.61998 78.40498-8.83398 55.7945 19.51904\"/>\n",
       "<path transform=\"matrix(1,0,0,-1,100.874,105.989)\" stroke-width=\"2.98883\" stroke-linecap=\"butt\" stroke-miterlimit=\"10\" stroke-linejoin=\"miter\" fill=\"none\" stroke=\"#000000\" d=\"M223.16602-23.71138 265.00965 0 223.16602 23.71138 181.32239 0Z\"/>\n",
       "<path transform=\"matrix(1,0,0,-1,100.874,105.989)\" stroke-width=\"2.98883\" stroke-linecap=\"butt\" stroke-miterlimit=\"10\" stroke-linejoin=\"miter\" fill=\"none\" stroke=\"#000000\" d=\"M216.80379 32.46866 207.18274 79.59157 171.70233 47.1229 181.32239 0Z\"/>\n",
       "<path transform=\"matrix(1,0,0,-1,100.874,105.989)\" stroke-width=\"2.98883\" stroke-linecap=\"butt\" stroke-miterlimit=\"10\" stroke-linejoin=\"miter\" fill=\"none\" stroke=\"#000000\" d=\"M161.4078 43.7784 113.6184 49.19016 133.53298 5.41177 181.32239 0Z\"/>\n",
       "<path transform=\"matrix(1,0,0,-1,100.874,105.989)\" stroke-width=\"2.98883\" stroke-linecap=\"butt\" stroke-miterlimit=\"10\" stroke-linejoin=\"miter\" fill=\"none\" stroke=\"#000000\" d=\"M133.53298-5.41177 113.6184-49.19016 161.4078-43.7784 181.32239 0Z\"/>\n",
       "<path transform=\"matrix(1,0,0,-1,100.874,105.989)\" stroke-width=\"2.98883\" stroke-linecap=\"butt\" stroke-miterlimit=\"10\" stroke-linejoin=\"miter\" fill=\"none\" stroke=\"#000000\" d=\"M171.70233-47.1229 207.18274-79.59157 216.80379-32.46866 181.32239 0Z\"/>\n",
       "</svg>"
      ],
      "text/plain": [
       "<IPython.core.display.SVG object>"
      ]
     },
     "metadata": {},
     "output_type": "display_data"
    }
   ],
   "source": [
    "import simetri.graphics as sg\n",
    "\n",
    "def rosette(n:int, kernel:sg.Shape|sg.Batch, axis=sg.axis_x,\n",
    "                                cyclic:bool=False, merge=True)->sg.Batch:\n",
    "    if cyclic:\n",
    "        petal = kernel\n",
    "    else:\n",
    "        petal = kernel.mirror(axis, reps = 1)\n",
    "        if merge:\n",
    "            petal = petal.merge_shapes()\n",
    "    petal = petal.rotate(2 * sg.pi/n, reps = n-1)\n",
    "\n",
    "    return petal\n",
    "\n",
    "canvas = sg.Canvas()\n",
    "# points = [(0, 0), (40, 0), (40, 40), (14, 40)]\n",
    "points = [(0, 0), (40, 0), (40, 40), (14, 40)]\n",
    "points2 = [(0, 0), (30, 17), (60, 0)]\n",
    "\n",
    "kernel_c7 = sg.Shape(points)\n",
    "kernel_d5 = sg.Shape(points2)\n",
    "canvas.draw(rosette(7, kernel_c7, cyclic=True).scale(1.4), line_width=3)\n",
    "canvas.draw(rosette(5, kernel_d5).translate(130, 0).scale(1.4), line_width=3, fill=False)\n",
    "canvas.save(\"c:/tmp/rosettes.pdf\", overwrite=True)\n",
    "canvas.display()"
   ]
  },
  {
   "cell_type": "code",
   "execution_count": null,
   "metadata": {},
   "outputs": [
    {
     "ename": "AttributeError",
     "evalue": "module 'simetri.graphics' has no attribute 'rosette'",
     "output_type": "error",
     "traceback": [
      "\u001b[1;31m---------------------------------------------------------------------------\u001b[0m",
      "\u001b[1;31mAttributeError\u001b[0m                            Traceback (most recent call last)",
      "Cell \u001b[1;32mIn[1], line 10\u001b[0m\n\u001b[0;32m      7\u001b[0m p3 \u001b[38;5;241m=\u001b[39m grid\u001b[38;5;241m.\u001b[39mpoints[\u001b[38;5;241m0\u001b[39m]\n\u001b[0;32m      9\u001b[0m kernel \u001b[38;5;241m=\u001b[39m sg\u001b[38;5;241m.\u001b[39mShape([p1, p2, p3])\n\u001b[1;32m---> 10\u001b[0m star \u001b[38;5;241m=\u001b[39m \u001b[43msg\u001b[49m\u001b[38;5;241;43m.\u001b[39;49m\u001b[43mrosette\u001b[49m(n\u001b[38;5;241m=\u001b[39m\u001b[38;5;241m10\u001b[39m, kernel\u001b[38;5;241m=\u001b[39mkernel)\n\u001b[0;32m     12\u001b[0m canvas \u001b[38;5;241m=\u001b[39m sg\u001b[38;5;241m.\u001b[39mCanvas()\n\u001b[0;32m     13\u001b[0m canvas\u001b[38;5;241m.\u001b[39mdraw(star, line_width\u001b[38;5;241m=\u001b[39m\u001b[38;5;241m3\u001b[39m)\n",
      "\u001b[1;31mAttributeError\u001b[0m: module 'simetri.graphics' has no attribute 'rosette'"
     ]
    }
   ],
   "source": [
    "import simetri.graphics as sg\n",
    "\n",
    "grid = sg.CircularGrid(n=20, radius=50)\n",
    "\n",
    "p1 = grid.intersect((0, 10), (2, 14))\n",
    "p2 = grid.intersect((0, 6), (2, 14))\n",
    "p3 = grid.points[0]\n",
    "\n",
    "kernel = sg.Shape([p1, p2, p3])\n",
    "star = sg.stars.rosette(n=10, kernel=kernel)\n",
    "\n",
    "canvas = sg.Canvas()\n",
    "canvas.draw(star, line_width=3)\n",
    "\n",
    "canvas.display()"
   ]
  },
  {
   "cell_type": "code",
   "execution_count": null,
   "metadata": {},
   "outputs": [],
   "source": []
  }
 ],
 "metadata": {
  "kernelspec": {
   "display_name": "Python 3",
   "language": "python",
   "name": "python3"
  },
  "language_info": {
   "codemirror_mode": {
    "name": "ipython",
    "version": 3
   },
   "file_extension": ".py",
   "mimetype": "text/x-python",
   "name": "python",
   "nbconvert_exporter": "python",
   "pygments_lexer": "ipython3",
   "version": "3.13.0"
  }
 },
 "nbformat": 4,
 "nbformat_minor": 2
}
