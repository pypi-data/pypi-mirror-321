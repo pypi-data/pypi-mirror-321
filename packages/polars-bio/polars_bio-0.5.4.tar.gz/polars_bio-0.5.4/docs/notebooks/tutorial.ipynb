{
 "cells": [
  {
   "cell_type": "markdown",
   "id": "947f441f13ced60a",
   "metadata": {},
   "source": "### Import dependencies"
  },
  {
   "cell_type": "code",
   "id": "7b173024d3e8f76",
   "metadata": {
    "ExecuteTime": {
     "end_time": "2024-12-20T19:12:04.948380Z",
     "start_time": "2024-12-20T19:12:04.544324Z"
    }
   },
   "source": [
    "import polars_bio as pb\n",
    "import pandas as pd\n",
    "from polars_bio.range_viz import visualize_intervals"
   ],
   "outputs": [],
   "execution_count": 1
  },
  {
   "cell_type": "markdown",
   "id": "d2bb8c193890f27f",
   "metadata": {},
   "source": "### Sample data"
  },
  {
   "cell_type": "code",
   "id": "86fe039c3780140e",
   "metadata": {
    "ExecuteTime": {
     "end_time": "2024-12-20T19:12:06.150356Z",
     "start_time": "2024-12-20T19:12:06.145095Z"
    }
   },
   "source": [
    "df1 = pd.DataFrame(\n",
    "    [[\"chr1\", 1, 5], [\"chr1\", 3, 8], [\"chr1\", 8, 10], [\"chr1\", 12, 14]],\n",
    "    columns=[\"chrom\", \"start\", \"end\"],\n",
    ")\n",
    "\n",
    "df2 = pd.DataFrame(\n",
    "    [[\"chr1\", 4, 8], [\"chr1\", 10, 11]], columns=[\"chrom\", \"start\", \"end\"]\n",
    ")"
   ],
   "outputs": [],
   "execution_count": 2
  },
  {
   "cell_type": "markdown",
   "id": "a884cd2960796fdb",
   "metadata": {},
   "source": "### Overlap"
  },
  {
   "cell_type": "code",
   "id": "304f3aa6fcdc9650",
   "metadata": {
    "ExecuteTime": {
     "end_time": "2024-12-20T19:12:08.303754Z",
     "start_time": "2024-12-20T19:12:08.294952Z"
    }
   },
   "source": [
    "overlapping_intervals = pb.overlap(df1, df2, output_type=\"pandas.DataFrame\")"
   ],
   "outputs": [
    {
     "name": "stderr",
     "output_type": "stream",
     "text": [
      "INFO:polars_bio:Running Overlap operation with algorithm Coitrees and 1 thread(s)...\n"
     ]
    }
   ],
   "execution_count": 3
  },
  {
   "cell_type": "code",
   "id": "61c9254622598622",
   "metadata": {
    "ExecuteTime": {
     "end_time": "2024-12-20T19:12:12.727046Z",
     "start_time": "2024-12-20T19:12:12.719803Z"
    }
   },
   "source": [
    "display(overlapping_intervals)"
   ],
   "outputs": [
    {
     "data": {
      "text/plain": [
       "  contig_1  pos_start_1  pos_end_1 contig_2  pos_start_2  pos_end_2\n",
       "0     chr1            1          5     chr1            4          8\n",
       "1     chr1            3          8     chr1            4          8"
      ],
      "text/html": [
       "<div>\n",
       "<style scoped>\n",
       "    .dataframe tbody tr th:only-of-type {\n",
       "        vertical-align: middle;\n",
       "    }\n",
       "\n",
       "    .dataframe tbody tr th {\n",
       "        vertical-align: top;\n",
       "    }\n",
       "\n",
       "    .dataframe thead th {\n",
       "        text-align: right;\n",
       "    }\n",
       "</style>\n",
       "<table border=\"1\" class=\"dataframe\">\n",
       "  <thead>\n",
       "    <tr style=\"text-align: right;\">\n",
       "      <th></th>\n",
       "      <th>contig_1</th>\n",
       "      <th>pos_start_1</th>\n",
       "      <th>pos_end_1</th>\n",
       "      <th>contig_2</th>\n",
       "      <th>pos_start_2</th>\n",
       "      <th>pos_end_2</th>\n",
       "    </tr>\n",
       "  </thead>\n",
       "  <tbody>\n",
       "    <tr>\n",
       "      <th>0</th>\n",
       "      <td>chr1</td>\n",
       "      <td>1</td>\n",
       "      <td>5</td>\n",
       "      <td>chr1</td>\n",
       "      <td>4</td>\n",
       "      <td>8</td>\n",
       "    </tr>\n",
       "    <tr>\n",
       "      <th>1</th>\n",
       "      <td>chr1</td>\n",
       "      <td>3</td>\n",
       "      <td>8</td>\n",
       "      <td>chr1</td>\n",
       "      <td>4</td>\n",
       "      <td>8</td>\n",
       "    </tr>\n",
       "  </tbody>\n",
       "</table>\n",
       "</div>"
      ]
     },
     "metadata": {},
     "output_type": "display_data"
    }
   ],
   "execution_count": 4
  },
  {
   "cell_type": "code",
   "id": "e640901ec6e6ce11",
   "metadata": {
    "ExecuteTime": {
     "end_time": "2024-12-20T19:12:14.857698Z",
     "start_time": "2024-12-20T19:12:14.791600Z"
    }
   },
   "source": [
    "visualize_intervals(overlapping_intervals)"
   ],
   "outputs": [
    {
     "data": {
      "text/plain": [
       "<Figure size 1000x200 with 1 Axes>"
      ],
      "image/png": "[encoded data removed]"
     },
     "metadata": {},
     "output_type": "display_data"
    },
    {
     "data": {
      "text/plain": [
       "<Figure size 1000x200 with 1 Axes>"
      ],
      "image/png": "[encoded data removed]"
     },
     "metadata": {},
     "output_type": "display_data"
    }
   ],
   "execution_count": 5
  },
  {
   "cell_type": "markdown",
   "id": "8e2509b9cb5237d8",
   "metadata": {},
   "source": "### Nearest"
  },
  {
   "cell_type": "code",
   "id": "bc0f8689c31221b3",
   "metadata": {},
   "source": [
    "nearest_intervals = pb.nearest(df1, df2, output_type=\"pandas.DataFrame\")"
   ],
   "outputs": [],
   "execution_count": null
  },
  {
   "cell_type": "code",
   "id": "aad83ab53e1294fc",
   "metadata": {},
   "source": [
    "display(nearest_intervals)"
   ],
   "outputs": [],
   "execution_count": null
  },
  {
   "cell_type": "code",
   "id": "5f69f700b50f58e2",
   "metadata": {},
   "source": [
    "visualize_intervals(nearest_intervals, \"nearest pair\")"
   ],
   "outputs": [],
   "execution_count": null
  }
 ],
 "metadata": {
  "kernelspec": {
   "display_name": "Python 3",
   "language": "python",
   "name": "python3"
  },
  "language_info": {
   "codemirror_mode": {
    "name": "ipython",
    "version": 2
   },
   "file_extension": ".py",
   "mimetype": "text/x-python",
   "name": "python",
   "nbconvert_exporter": "python",
   "pygments_lexer": "ipython2",
   "version": "2.7.6"
  }
 },
 "nbformat": 4,
 "nbformat_minor": 5
}
